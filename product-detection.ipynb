{
 "cells": [
  {
   "cell_type": "code",
   "execution_count": 2,
   "id": "6dec1fc0",
   "metadata": {},
   "outputs": [],
   "source": [
    "import os\n",
    "import glob\n",
    "import shutil\n",
    "import numpy as np\n",
    "from PIL import Image\n",
    "import matplotlib.pyplot as plt\n",
    "import matplotlib.patches as patches\n",
    "from pycocotools import mask as cocomask\n",
    "from pycocotools.coco import COCO\n",
    "from pycocotools.cocoeval import COCOeval\n",
    "from collections import defaultdict\n",
    "import torch\n",
    "from sam2.build_sam import build_sam2\n",
    "from sam2.automatic_mask_generator import SAM2AutomaticMaskGenerator\n",
    "from sam2.sam2_image_predictor import SAM2ImagePredictor\n",
    "from sam2.build_sam import build_sam2_video_predictor"
   ]
  },
  {
   "cell_type": "code",
   "execution_count": 3,
   "id": "ac55eeae",
   "metadata": {},
   "outputs": [],
   "source": [
    "# SAM2 model setup\n",
    "checkpoint = r\"C:\\Users\\dell\\Desktop\\Assignment\\sam2_hiera_tiny.pt\"\n",
    "model_cfg = r\"C:\\Users\\dell\\Desktop\\Assignment\\sam2\\configs\\sam2\\sam2_hiera_t.yaml\"\n",
    "\n",
    "\n",
    "# Initialize SAM2 components\n",
    "predictor_prompt = SAM2ImagePredictor(build_sam2(model_cfg, checkpoint, device='cpu'))\n",
    "sam2 = build_sam2(model_cfg, checkpoint, device='cpu', apply_postprocessing=False)\n",
    "mask_generator = SAM2AutomaticMaskGenerator(sam2)\n",
    "predictor_vid = build_sam2_video_predictor(model_cfg, checkpoint, device='cpu')"
   ]
  },
  {
   "cell_type": "code",
   "execution_count": 4,
   "id": "cb581280",
   "metadata": {},
   "outputs": [],
   "source": [
    "# Temporary directory for processing\n",
    "tempfolder = \"./tempdir\"\n",
    "\n",
    "def create_if_not_exists(dirname):\n",
    "    if not os.path.exists(dirname):\n",
    "        os.mkdir(dirname)\n",
    "\n",
    "def cleardir(tempfolder):\n",
    "    filepaths = glob.glob(tempfolder+\"/*\")\n",
    "    for filepath in filepaths:\n",
    "        os.unlink(filepath)"
   ]
  },
  {
   "cell_type": "code",
   "execution_count": 5,
   "id": "12624927",
   "metadata": {},
   "outputs": [],
   "source": [
    "def show_mask(mask, ax, obj_id=None, random_color=False):\n",
    "    if random_color:\n",
    "        color = np.concatenate([np.random.random(3), np.array([0.6])], axis=0)\n",
    "    else:\n",
    "        cmap = plt.get_cmap(\"tab10\")\n",
    "        cmap_idx = 0 if obj_id is None else obj_id\n",
    "        color = np.array([*cmap(cmap_idx)[:3], 0.6])\n",
    "    h, w = mask.shape[-2:]\n",
    "    mask_image = mask.reshape(h, w, 1) * color.reshape(1, 1, -1)\n",
    "    ax.imshow(mask_image)"
   ]
  },
  {
   "cell_type": "code",
   "execution_count": 6,
   "id": "ac5f9cb2",
   "metadata": {},
   "outputs": [],
   "source": [
    "def track_item_boxes(imgpath1, imgpath2, img1boxclasslist, visualize=True):\n",
    "    \"\"\"Track objects between two images using SAM2\"\"\"\n",
    "    create_if_not_exists(tempfolder)\n",
    "    cleardir(tempfolder)\n",
    "    shutil.copy(imgpath1, os.path.join(tempfolder, \"00000.jpg\"))\n",
    "    shutil.copy(imgpath2, os.path.join(tempfolder, \"00001.jpg\"))\n",
    "    \n",
    "    inference_state = predictor_vid.init_state(video_path=\"./tempdir\")\n",
    "    predictor_vid.reset_state(inference_state)\n",
    "    ann_frame_idx = 0\n",
    "    \n",
    "    for img1boxclass in img1boxclasslist:\n",
    "        ([xmin, xmax, ymin, ymax], objectnumint) = img1boxclass\n",
    "        box = np.array([xmin, ymin, xmax, ymax], dtype=np.float32)\n",
    "        _, out_obj_ids, out_mask_logits = predictor_vid.add_new_points_or_box(\n",
    "            inference_state=inference_state,\n",
    "            frame_idx=ann_frame_idx,\n",
    "            obj_id=objectnumint,\n",
    "            box=box,\n",
    "        )\n",
    "    \n",
    "    video_segments = {}\n",
    "    for out_frame_idx, out_obj_ids, out_mask_logits in predictor_vid.propagate_in_video(inference_state):\n",
    "        print(f\"\\nDebug: Frame {out_frame_idx} has {len(out_obj_ids)} objects\")  # Debug print\n",
    "        print(f\"Object IDs: {out_obj_ids}\")  # Debug print\n",
    "        \n",
    "        video_segments[out_frame_idx] = {\n",
    "            out_obj_id: (out_mask_logits[i] > 0.0).cpu().numpy()\n",
    "            for i, out_obj_id in enumerate(out_obj_ids)\n",
    "        }\n",
    "    \n",
    "    if visualize:\n",
    "        fig, ax = plt.subplots()\n",
    "        plt.title(f\"original image object ::\")\n",
    "        ax.imshow(Image.open(os.path.join(tempfolder, \"00000.jpg\")))\n",
    "        rect = patches.Rectangle((xmin, ymin), xmax-xmin, ymax-ymin, \n",
    "                               linewidth=1, edgecolor='r', facecolor='none')\n",
    "        ax.add_patch(rect)\n",
    "        plt.show()\n",
    "        \n",
    "        out_frame_idx = 1\n",
    "        plt.figure(figsize=(6, 4))\n",
    "        plt.title(f\"detected object in test image ::\")\n",
    "        plt.imshow(Image.open(os.path.join(tempfolder, \"00001.jpg\")))\n",
    "        for out_obj_id, out_mask in video_segments[out_frame_idx].items():\n",
    "            show_mask(out_mask, plt.gca(), obj_id=out_obj_id)\n",
    "        plt.show()\n",
    "    \n",
    "    return video_segments"
   ]
  },
  {
   "cell_type": "code",
   "execution_count": 7,
   "id": "dd95f494",
   "metadata": {},
   "outputs": [],
   "source": [
    "def extract_category_from_filename(filename):\n",
    "    \"\"\"Extract category name from filename\"\"\"\n",
    "    return '_'.join(os.path.basename(filename).split('_')[:-1])\n",
    "\n",
    "def group_files_by_category(data_dir):\n",
    "    \"\"\"Group image and mask files by their product category\"\"\"\n",
    "    image_files = glob.glob(os.path.join(data_dir, \"*.jpg\"))\n",
    "    mask_files = glob.glob(os.path.join(data_dir, \"*_gt.png\"))\n",
    "    \n",
    "    category_dict = defaultdict(lambda: {'images': [], 'masks': []})\n",
    "    \n",
    "    for img in image_files:\n",
    "        category = extract_category_from_filename(img)\n",
    "        category_dict[category]['images'].append(img)\n",
    "    \n",
    "    for mask in mask_files:\n",
    "        base_name = '_'.join(os.path.basename(mask).split('_')[:-2])\n",
    "        category = extract_category_from_filename(base_name + '.jpg')\n",
    "        \n",
    "        matching_images = [img for img in category_dict[category]['images'] \n",
    "                         if base_name in img]\n",
    "        \n",
    "        for img in matching_images:\n",
    "            category_dict[category]['masks'].append((img, mask))\n",
    "    \n",
    "    return category_dict"
   ]
  },
  {
   "cell_type": "code",
   "execution_count": 8,
   "id": "78bff9bc",
   "metadata": {},
   "outputs": [],
   "source": [
    "def process_img_png_mask(img_path, mask_path, visualize=False):\n",
    "    \"\"\"Extract bounding box coordinates from mask\"\"\"\n",
    "    try:\n",
    "        img = Image.open(img_path)\n",
    "        mask = Image.open(mask_path)\n",
    "        mask_array = np.array(mask)\n",
    "        \n",
    "        if mask_array.size == 0:\n",
    "            print(f\"Warning: Empty mask in {mask_path}\")\n",
    "            return 0, 0, 0, 0\n",
    "            \n",
    "        rows = np.any(mask_array, axis=1)\n",
    "        cols = np.any(mask_array, axis=0)\n",
    "        \n",
    "        ymin, ymax = np.where(rows)[0][[0, -1]]\n",
    "        xmin, xmax = np.where(cols)[0][[0, -1]]\n",
    "        \n",
    "        if visualize:\n",
    "            fig, ax = plt.subplots(1, 2, figsize=(10, 5))\n",
    "            ax[0].imshow(img)\n",
    "            ax[0].set_title(\"Original Image\")\n",
    "            ax[1].imshow(mask_array)\n",
    "            rect = plt.Rectangle((xmin, ymin), xmax-xmin, ymax-ymin, \n",
    "                               linewidth=1, edgecolor='r', facecolor='none')\n",
    "            ax[1].add_patch(rect)\n",
    "            ax[1].set_title(\"Mask with Bounding Box\")\n",
    "            plt.show()\n",
    "        \n",
    "        return xmin, xmax, ymin, ymax\n",
    "        \n",
    "    except Exception as e:\n",
    "        print(f\"Error processing {img_path}: {str(e)}\")\n",
    "        return 0, 0, 0, 0"
   ]
  },
  {
   "cell_type": "code",
   "execution_count": 9,
   "id": "cdc16fd0",
   "metadata": {},
   "outputs": [],
   "source": [
    "def mask_to_bbox(mask):\n",
    "    \"\"\"Convert binary mask to COCO-style bounding box [x,y,width,height]\"\"\"\n",
    "    # Handle 3D mask by taking first channel if needed\n",
    "    if len(mask.shape) == 3:\n",
    "        mask = mask[0] if mask.shape[0] == 1 else mask\n",
    "    \n",
    "    rows = np.any(mask, axis=1)\n",
    "    cols = np.any(mask, axis=0)\n",
    "    \n",
    "    if not np.any(rows) or not np.any(cols):\n",
    "        return [0, 0, 0, 0]  # Return empty bbox if no True values\n",
    "    \n",
    "    ymin, ymax = np.where(rows)[0][[0, -1]]\n",
    "    xmin, xmax = np.where(cols)[0][[0, -1]]\n",
    "    \n",
    "    return [int(xmin), int(ymin), int(xmax-xmin), int(ymax-ymin)]"
   ]
  },
  {
   "cell_type": "code",
   "execution_count": 10,
   "id": "2351ca1a",
   "metadata": {},
   "outputs": [],
   "source": [
    "def evaluate_product_category(category_name, image_mask_pairs):\n",
    "    \"\"\"Evaluate SAM2 performance on one product category\"\"\"\n",
    "    print(f\"\\nEvaluating {category_name}...\")\n",
    "    \n",
    "    if not image_mask_pairs or len(image_mask_pairs) < 2:\n",
    "        print(\"Error: Need at least 2 image-mask pairs for evaluation\")\n",
    "        return None\n",
    "    \n",
    "    # Use first image-mask pair as reference\n",
    "    first_img, first_mask = image_mask_pairs[0]\n",
    "    print(f\"Using reference image: {os.path.basename(first_img)}\")\n",
    "    print(f\"Using reference mask: {os.path.basename(first_mask)}\")\n",
    "    \n",
    "    xmin, xmax, ymin, ymax = process_img_png_mask(first_img, first_mask)\n",
    "    print(f\"Reference bounding box: x=[{xmin},{xmax}], y=[{ymin},{ymax}]\")\n",
    "    \n",
    "    coco_gt = {\"images\": [], \"annotations\": [], \"categories\": [{\"id\": 1, \"name\": \"product\"}]}\n",
    "    coco_dt = []\n",
    "    \n",
    "    for i, (img_path, mask_path) in enumerate(image_mask_pairs[1:]):\n",
    "        print(f\"\\nProcessing image {i+1}/{len(image_mask_pairs)-1}: {os.path.basename(img_path)}\")\n",
    "        \n",
    "        try:\n",
    "            # Process ground truth\n",
    "            gt_mask = np.array(Image.open(mask_path))\n",
    "            gt_bbox = mask_to_bbox(gt_mask)\n",
    "            print(f\"Ground truth bbox: {gt_bbox}\")\n",
    "            \n",
    "            # Add to COCO ground truth\n",
    "            image_id = i+1\n",
    "            coco_gt[\"images\"].append({\"id\": image_id, \"file_name\": img_path})\n",
    "            \n",
    "            rle = cocomask.encode(np.asfortranarray(gt_mask))\n",
    "            rle['counts'] = rle['counts'].decode('ascii')\n",
    "            \n",
    "            coco_gt[\"annotations\"].append({\n",
    "                \"id\": image_id,\n",
    "                \"image_id\": image_id,\n",
    "                \"category_id\": 1,\n",
    "                \"bbox\": gt_bbox,\n",
    "                \"area\": int(gt_bbox[2] * gt_bbox[3]),\n",
    "                \"iscrowd\": 0,\n",
    "                \"segmentation\": rle\n",
    "            })\n",
    "            \n",
    "            # Get SAM2 prediction\n",
    "            video_segments = track_item_boxes(first_img, img_path, [([xmin, xmax, ymin, ymax], 1)], False)\n",
    "            \n",
    "            if not video_segments or 1 not in video_segments:\n",
    "                print(\"Warning: No valid segments found in frame 1\")\n",
    "                continue\n",
    "                \n",
    "            # Get the prediction mask\n",
    "            pred_mask = video_segments[1][1]  # Frame 1, Object ID 1\n",
    "            \n",
    "            # Convert mask to correct format if needed\n",
    "            if len(pred_mask.shape) == 3:\n",
    "                pred_mask = pred_mask[0] if pred_mask.shape[0] == 1 else pred_mask\n",
    "            \n",
    "            pred_bbox = mask_to_bbox(pred_mask)\n",
    "            print(f\"Predicted bbox: {pred_bbox}\")\n",
    "            \n",
    "            # Skip if prediction is empty\n",
    "            if pred_bbox == [0, 0, 0, 0]:\n",
    "                print(\"Warning: Empty prediction - skipping\")\n",
    "                continue\n",
    "                \n",
    "            # Convert prediction to COCO format\n",
    "            pred_rle = cocomask.encode(np.asfortranarray(pred_mask.astype(np.uint8)))\n",
    "            pred_rle['counts'] = pred_rle['counts'].decode('ascii')\n",
    "            \n",
    "            coco_dt.append({\n",
    "                \"image_id\": image_id,\n",
    "                \"category_id\": 1,\n",
    "                \"bbox\": pred_bbox,\n",
    "                \"score\": 1.0,\n",
    "                \"segmentation\": pred_rle\n",
    "            })\n",
    "            \n",
    "        except Exception as e:\n",
    "            print(f\"Error processing {img_path}: {str(e)}\")\n",
    "            continue\n",
    "    \n",
    "    if not coco_dt:\n",
    "        print(\"Error: No valid predictions generated!\")\n",
    "        return None\n",
    "    \n",
    "    try:\n",
    "        coco_gt_obj = COCO()\n",
    "        coco_gt_obj.dataset = coco_gt\n",
    "        coco_gt_obj.createIndex()\n",
    "        \n",
    "        coco_dt_obj = coco_gt_obj.loadRes(coco_dt)\n",
    "        coco_eval = COCOeval(coco_gt_obj, coco_dt_obj, 'bbox')\n",
    "        coco_eval.evaluate()\n",
    "        coco_eval.accumulate()\n",
    "        coco_eval.summarize()\n",
    "        \n",
    "        return coco_eval.stats\n",
    "        \n",
    "    except Exception as e:\n",
    "        print(f\"Error in COCO evaluation: {str(e)}\")\n",
    "        return None"
   ]
  },
  {
   "cell_type": "code",
   "execution_count": 11,
   "id": "90bab7f2",
   "metadata": {},
   "outputs": [
    {
     "name": "stdout",
     "output_type": "stream",
     "text": [
      "\n",
      "Evaluating can_chowder...\n",
      "Using reference image: can_chowder_000001.jpg\n",
      "Using reference mask: can_chowder_000001_1_gt.png\n",
      "Reference bounding box: x=[371,464], y=[150,290]\n",
      "\n",
      "Processing image 1/49: can_chowder_000002.jpg\n",
      "Ground truth bbox: [249, 148, 87, 130]\n"
     ]
    },
    {
     "name": "stderr",
     "output_type": "stream",
     "text": [
      "frame loading (JPEG): 100%|██████████| 2/2 [00:00<00:00,  9.73it/s]\n",
      "c:\\Users\\dell\\Desktop\\Assignment\\sam2\\sam2_video_predictor.py:786: UserWarning: cannot import name '_C' from 'sam2' (c:\\Users\\dell\\Desktop\\Assignment\\sam2\\__init__.py)\n",
      "\n",
      "Skipping the post-processing step due to the error above. You can still use SAM 2 and it's OK to ignore the error above, although some post-processing functionality may be limited (which doesn't affect the results in most cases; see https://github.com/facebookresearch/sam2/blob/main/INSTALL.md).\n",
      "  pred_masks_gpu = fill_holes_in_mask_scores(\n",
      "propagate in video:   0%|          | 0/2 [00:00<?, ?it/s]"
     ]
    },
    {
     "name": "stdout",
     "output_type": "stream",
     "text": [
      "\n",
      "Debug: Frame 0 has 1 objects\n",
      "Object IDs: [1]\n"
     ]
    },
    {
     "name": "stderr",
     "output_type": "stream",
     "text": [
      "propagate in video: 100%|██████████| 2/2 [00:05<00:00,  2.66s/it]\n"
     ]
    },
    {
     "name": "stdout",
     "output_type": "stream",
     "text": [
      "\n",
      "Debug: Frame 1 has 1 objects\n",
      "Object IDs: [1]\n",
      "Predicted bbox: [249, 150, 82, 128]\n",
      "\n",
      "Processing image 2/49: can_chowder_000003.jpg\n",
      "Ground truth bbox: [398, 92, 105, 146]\n"
     ]
    },
    {
     "name": "stderr",
     "output_type": "stream",
     "text": [
      "frame loading (JPEG): 100%|██████████| 2/2 [00:00<00:00, 15.43it/s]\n",
      "propagate in video:   0%|          | 0/2 [00:00<?, ?it/s]"
     ]
    },
    {
     "name": "stdout",
     "output_type": "stream",
     "text": [
      "\n",
      "Debug: Frame 0 has 1 objects\n",
      "Object IDs: [1]\n"
     ]
    },
    {
     "name": "stderr",
     "output_type": "stream",
     "text": [
      "propagate in video: 100%|██████████| 2/2 [00:05<00:00,  2.68s/it]\n"
     ]
    },
    {
     "name": "stdout",
     "output_type": "stream",
     "text": [
      "\n",
      "Debug: Frame 1 has 1 objects\n",
      "Object IDs: [1]\n",
      "Predicted bbox: [404, 93, 97, 145]\n",
      "\n",
      "Processing image 3/49: can_chowder_000004.jpg\n",
      "Ground truth bbox: [397, 96, 100, 125]\n"
     ]
    },
    {
     "name": "stderr",
     "output_type": "stream",
     "text": [
      "frame loading (JPEG): 100%|██████████| 2/2 [00:00<00:00, 15.12it/s]\n",
      "propagate in video:   0%|          | 0/2 [00:00<?, ?it/s]"
     ]
    },
    {
     "name": "stdout",
     "output_type": "stream",
     "text": [
      "\n",
      "Debug: Frame 0 has 1 objects\n",
      "Object IDs: [1]\n"
     ]
    },
    {
     "name": "stderr",
     "output_type": "stream",
     "text": [
      "propagate in video: 100%|██████████| 2/2 [00:05<00:00,  2.74s/it]\n"
     ]
    },
    {
     "name": "stdout",
     "output_type": "stream",
     "text": [
      "\n",
      "Debug: Frame 1 has 1 objects\n",
      "Object IDs: [1]\n",
      "Predicted bbox: [0, 0, 0, 0]\n",
      "Warning: Empty prediction - skipping\n",
      "\n",
      "Processing image 4/49: can_chowder_000005.jpg\n",
      "Ground truth bbox: [87, 108, 129, 166]\n"
     ]
    },
    {
     "name": "stderr",
     "output_type": "stream",
     "text": [
      "frame loading (JPEG): 100%|██████████| 2/2 [00:00<00:00, 12.29it/s]\n",
      "propagate in video:   0%|          | 0/2 [00:00<?, ?it/s]"
     ]
    },
    {
     "name": "stdout",
     "output_type": "stream",
     "text": [
      "\n",
      "Debug: Frame 0 has 1 objects\n",
      "Object IDs: [1]\n"
     ]
    },
    {
     "name": "stderr",
     "output_type": "stream",
     "text": [
      "propagate in video: 100%|██████████| 2/2 [00:05<00:00,  2.81s/it]\n"
     ]
    },
    {
     "name": "stdout",
     "output_type": "stream",
     "text": [
      "\n",
      "Debug: Frame 1 has 1 objects\n",
      "Object IDs: [1]\n",
      "Predicted bbox: [451, 98, 118, 158]\n",
      "\n",
      "Processing image 5/49: can_chowder_000006.jpg\n",
      "Ground truth bbox: [175, 189, 103, 143]\n"
     ]
    },
    {
     "name": "stderr",
     "output_type": "stream",
     "text": [
      "frame loading (JPEG): 100%|██████████| 2/2 [00:00<00:00, 10.52it/s]\n",
      "propagate in video:   0%|          | 0/2 [00:00<?, ?it/s]"
     ]
    },
    {
     "name": "stdout",
     "output_type": "stream",
     "text": [
      "\n",
      "Debug: Frame 0 has 1 objects\n",
      "Object IDs: [1]\n"
     ]
    },
    {
     "name": "stderr",
     "output_type": "stream",
     "text": [
      "propagate in video: 100%|██████████| 2/2 [00:05<00:00,  2.76s/it]\n"
     ]
    },
    {
     "name": "stdout",
     "output_type": "stream",
     "text": [
      "\n",
      "Debug: Frame 1 has 1 objects\n",
      "Object IDs: [1]\n",
      "Predicted bbox: [439, 132, 94, 120]\n",
      "\n",
      "Processing image 6/49: can_chowder_000007.jpg\n",
      "Ground truth bbox: [415, 9, 116, 152]\n"
     ]
    },
    {
     "name": "stderr",
     "output_type": "stream",
     "text": [
      "frame loading (JPEG): 100%|██████████| 2/2 [00:00<00:00, 11.08it/s]\n",
      "propagate in video:   0%|          | 0/2 [00:00<?, ?it/s]"
     ]
    },
    {
     "name": "stdout",
     "output_type": "stream",
     "text": [
      "\n",
      "Debug: Frame 0 has 1 objects\n",
      "Object IDs: [1]\n"
     ]
    },
    {
     "name": "stderr",
     "output_type": "stream",
     "text": [
      "propagate in video: 100%|██████████| 2/2 [00:04<00:00,  2.33s/it]\n"
     ]
    },
    {
     "name": "stdout",
     "output_type": "stream",
     "text": [
      "\n",
      "Debug: Frame 1 has 1 objects\n",
      "Object IDs: [1]\n",
      "Predicted bbox: [299, 213, 70, 110]\n",
      "\n",
      "Processing image 7/49: can_chowder_000008.jpg\n",
      "Ground truth bbox: [365, 217, 80, 132]\n"
     ]
    },
    {
     "name": "stderr",
     "output_type": "stream",
     "text": [
      "frame loading (JPEG): 100%|██████████| 2/2 [00:00<00:00, 14.80it/s]\n",
      "propagate in video:   0%|          | 0/2 [00:00<?, ?it/s]"
     ]
    },
    {
     "name": "stdout",
     "output_type": "stream",
     "text": [
      "\n",
      "Debug: Frame 0 has 1 objects\n",
      "Object IDs: [1]\n"
     ]
    },
    {
     "name": "stderr",
     "output_type": "stream",
     "text": [
      "propagate in video: 100%|██████████| 2/2 [00:04<00:00,  2.40s/it]\n"
     ]
    },
    {
     "name": "stdout",
     "output_type": "stream",
     "text": [
      "\n",
      "Debug: Frame 1 has 1 objects\n",
      "Object IDs: [1]\n",
      "Predicted bbox: [333, 200, 146, 145]\n",
      "\n",
      "Processing image 8/49: can_chowder_000009.jpg\n",
      "Ground truth bbox: [383, 107, 78, 100]\n"
     ]
    },
    {
     "name": "stderr",
     "output_type": "stream",
     "text": [
      "frame loading (JPEG): 100%|██████████| 2/2 [00:00<00:00, 14.50it/s]\n",
      "propagate in video:   0%|          | 0/2 [00:00<?, ?it/s]"
     ]
    },
    {
     "name": "stdout",
     "output_type": "stream",
     "text": [
      "\n",
      "Debug: Frame 0 has 1 objects\n",
      "Object IDs: [1]\n"
     ]
    },
    {
     "name": "stderr",
     "output_type": "stream",
     "text": [
      "propagate in video: 100%|██████████| 2/2 [00:04<00:00,  2.36s/it]\n"
     ]
    },
    {
     "name": "stdout",
     "output_type": "stream",
     "text": [
      "\n",
      "Debug: Frame 1 has 1 objects\n",
      "Object IDs: [1]\n",
      "Predicted bbox: [385, 106, 76, 101]\n",
      "\n",
      "Processing image 9/49: can_chowder_000010.jpg\n",
      "Ground truth bbox: [473, 65, 102, 127]\n"
     ]
    },
    {
     "name": "stderr",
     "output_type": "stream",
     "text": [
      "frame loading (JPEG): 100%|██████████| 2/2 [00:00<00:00, 14.17it/s]\n",
      "propagate in video:   0%|          | 0/2 [00:00<?, ?it/s]"
     ]
    },
    {
     "name": "stdout",
     "output_type": "stream",
     "text": [
      "\n",
      "Debug: Frame 0 has 1 objects\n",
      "Object IDs: [1]\n"
     ]
    },
    {
     "name": "stderr",
     "output_type": "stream",
     "text": [
      "propagate in video: 100%|██████████| 2/2 [00:04<00:00,  2.35s/it]\n"
     ]
    },
    {
     "name": "stdout",
     "output_type": "stream",
     "text": [
      "\n",
      "Debug: Frame 1 has 1 objects\n",
      "Object IDs: [1]\n",
      "Predicted bbox: [477, 65, 95, 125]\n",
      "\n",
      "Processing image 10/49: can_chowder_000011.jpg\n",
      "Ground truth bbox: [212, 186, 149, 130]\n"
     ]
    },
    {
     "name": "stderr",
     "output_type": "stream",
     "text": [
      "frame loading (JPEG): 100%|██████████| 2/2 [00:00<00:00, 15.89it/s]\n",
      "propagate in video:   0%|          | 0/2 [00:00<?, ?it/s]"
     ]
    },
    {
     "name": "stdout",
     "output_type": "stream",
     "text": [
      "\n",
      "Debug: Frame 0 has 1 objects\n",
      "Object IDs: [1]\n"
     ]
    },
    {
     "name": "stderr",
     "output_type": "stream",
     "text": [
      "propagate in video: 100%|██████████| 2/2 [00:04<00:00,  2.30s/it]\n"
     ]
    },
    {
     "name": "stdout",
     "output_type": "stream",
     "text": [
      "\n",
      "Debug: Frame 1 has 1 objects\n",
      "Object IDs: [1]\n",
      "Predicted bbox: [471, 115, 94, 128]\n",
      "\n",
      "Processing image 11/49: can_chowder_000012.jpg\n",
      "Ground truth bbox: [85, 46, 172, 138]\n"
     ]
    },
    {
     "name": "stderr",
     "output_type": "stream",
     "text": [
      "frame loading (JPEG): 100%|██████████| 2/2 [00:00<00:00, 15.79it/s]\n",
      "propagate in video:   0%|          | 0/2 [00:00<?, ?it/s]"
     ]
    },
    {
     "name": "stdout",
     "output_type": "stream",
     "text": [
      "\n",
      "Debug: Frame 0 has 1 objects\n",
      "Object IDs: [1]\n"
     ]
    },
    {
     "name": "stderr",
     "output_type": "stream",
     "text": [
      "propagate in video: 100%|██████████| 2/2 [00:04<00:00,  2.30s/it]\n"
     ]
    },
    {
     "name": "stdout",
     "output_type": "stream",
     "text": [
      "\n",
      "Debug: Frame 1 has 1 objects\n",
      "Object IDs: [1]\n",
      "Predicted bbox: [0, 0, 0, 0]\n",
      "Warning: Empty prediction - skipping\n",
      "\n",
      "Processing image 12/49: can_chowder_000013.jpg\n",
      "Ground truth bbox: [392, 152, 111, 162]\n"
     ]
    },
    {
     "name": "stderr",
     "output_type": "stream",
     "text": [
      "frame loading (JPEG): 100%|██████████| 2/2 [00:00<00:00, 13.89it/s]\n",
      "propagate in video:   0%|          | 0/2 [00:00<?, ?it/s]"
     ]
    },
    {
     "name": "stdout",
     "output_type": "stream",
     "text": [
      "\n",
      "Debug: Frame 0 has 1 objects\n",
      "Object IDs: [1]\n"
     ]
    },
    {
     "name": "stderr",
     "output_type": "stream",
     "text": [
      "propagate in video: 100%|██████████| 2/2 [00:04<00:00,  2.32s/it]\n"
     ]
    },
    {
     "name": "stdout",
     "output_type": "stream",
     "text": [
      "\n",
      "Debug: Frame 1 has 1 objects\n",
      "Object IDs: [1]\n",
      "Predicted bbox: [0, 0, 0, 0]\n",
      "Warning: Empty prediction - skipping\n",
      "\n",
      "Processing image 13/49: can_chowder_000014.jpg\n",
      "Ground truth bbox: [191, 169, 70, 110]\n"
     ]
    },
    {
     "name": "stderr",
     "output_type": "stream",
     "text": [
      "frame loading (JPEG): 100%|██████████| 2/2 [00:00<00:00, 14.75it/s]\n",
      "propagate in video:   0%|          | 0/2 [00:00<?, ?it/s]"
     ]
    },
    {
     "name": "stdout",
     "output_type": "stream",
     "text": [
      "\n",
      "Debug: Frame 0 has 1 objects\n",
      "Object IDs: [1]\n"
     ]
    },
    {
     "name": "stderr",
     "output_type": "stream",
     "text": [
      "propagate in video: 100%|██████████| 2/2 [00:04<00:00,  2.33s/it]\n"
     ]
    },
    {
     "name": "stdout",
     "output_type": "stream",
     "text": [
      "\n",
      "Debug: Frame 1 has 1 objects\n",
      "Object IDs: [1]\n",
      "Predicted bbox: [189, 167, 74, 110]\n",
      "\n",
      "Processing image 14/49: can_chowder_000015.jpg\n",
      "Ground truth bbox: [138, 121, 72, 96]\n"
     ]
    },
    {
     "name": "stderr",
     "output_type": "stream",
     "text": [
      "frame loading (JPEG): 100%|██████████| 2/2 [00:00<00:00, 13.95it/s]\n",
      "propagate in video:   0%|          | 0/2 [00:00<?, ?it/s]"
     ]
    },
    {
     "name": "stdout",
     "output_type": "stream",
     "text": [
      "\n",
      "Debug: Frame 0 has 1 objects\n",
      "Object IDs: [1]\n"
     ]
    },
    {
     "name": "stderr",
     "output_type": "stream",
     "text": [
      "propagate in video: 100%|██████████| 2/2 [00:04<00:00,  2.32s/it]\n"
     ]
    },
    {
     "name": "stdout",
     "output_type": "stream",
     "text": [
      "\n",
      "Debug: Frame 1 has 1 objects\n",
      "Object IDs: [1]\n",
      "Predicted bbox: [0, 0, 0, 0]\n",
      "Warning: Empty prediction - skipping\n",
      "\n",
      "Processing image 15/49: can_chowder_000016.jpg\n",
      "Ground truth bbox: [245, 172, 91, 107]\n"
     ]
    },
    {
     "name": "stderr",
     "output_type": "stream",
     "text": [
      "frame loading (JPEG): 100%|██████████| 2/2 [00:00<00:00, 14.07it/s]\n",
      "propagate in video:   0%|          | 0/2 [00:00<?, ?it/s]"
     ]
    },
    {
     "name": "stdout",
     "output_type": "stream",
     "text": [
      "\n",
      "Debug: Frame 0 has 1 objects\n",
      "Object IDs: [1]\n"
     ]
    },
    {
     "name": "stderr",
     "output_type": "stream",
     "text": [
      "propagate in video: 100%|██████████| 2/2 [00:04<00:00,  2.29s/it]\n"
     ]
    },
    {
     "name": "stdout",
     "output_type": "stream",
     "text": [
      "\n",
      "Debug: Frame 1 has 1 objects\n",
      "Object IDs: [1]\n",
      "Predicted bbox: [0, 0, 0, 0]\n",
      "Warning: Empty prediction - skipping\n",
      "\n",
      "Processing image 16/49: can_chowder_000017.jpg\n",
      "Ground truth bbox: [306, 203, 195, 269]\n"
     ]
    },
    {
     "name": "stderr",
     "output_type": "stream",
     "text": [
      "frame loading (JPEG): 100%|██████████| 2/2 [00:00<00:00, 14.86it/s]\n",
      "propagate in video:   0%|          | 0/2 [00:00<?, ?it/s]"
     ]
    },
    {
     "name": "stdout",
     "output_type": "stream",
     "text": [
      "\n",
      "Debug: Frame 0 has 1 objects\n",
      "Object IDs: [1]\n"
     ]
    },
    {
     "name": "stderr",
     "output_type": "stream",
     "text": [
      "propagate in video: 100%|██████████| 2/2 [00:04<00:00,  2.27s/it]\n"
     ]
    },
    {
     "name": "stdout",
     "output_type": "stream",
     "text": [
      "\n",
      "Debug: Frame 1 has 1 objects\n",
      "Object IDs: [1]\n",
      "Predicted bbox: [310, 201, 189, 270]\n",
      "\n",
      "Processing image 17/49: can_chowder_000018.jpg\n",
      "Ground truth bbox: [109, 94, 108, 146]\n"
     ]
    },
    {
     "name": "stderr",
     "output_type": "stream",
     "text": [
      "frame loading (JPEG): 100%|██████████| 2/2 [00:00<00:00, 16.72it/s]\n",
      "propagate in video:   0%|          | 0/2 [00:00<?, ?it/s]"
     ]
    },
    {
     "name": "stdout",
     "output_type": "stream",
     "text": [
      "\n",
      "Debug: Frame 0 has 1 objects\n",
      "Object IDs: [1]\n"
     ]
    },
    {
     "name": "stderr",
     "output_type": "stream",
     "text": [
      "propagate in video: 100%|██████████| 2/2 [00:04<00:00,  2.34s/it]\n"
     ]
    },
    {
     "name": "stdout",
     "output_type": "stream",
     "text": [
      "\n",
      "Debug: Frame 1 has 1 objects\n",
      "Object IDs: [1]\n",
      "Predicted bbox: [0, 0, 0, 0]\n",
      "Warning: Empty prediction - skipping\n",
      "\n",
      "Processing image 18/49: can_chowder_000019.jpg\n",
      "Ground truth bbox: [226, 149, 102, 115]\n"
     ]
    },
    {
     "name": "stderr",
     "output_type": "stream",
     "text": [
      "frame loading (JPEG): 100%|██████████| 2/2 [00:00<00:00, 15.73it/s]\n",
      "propagate in video:   0%|          | 0/2 [00:00<?, ?it/s]"
     ]
    },
    {
     "name": "stdout",
     "output_type": "stream",
     "text": [
      "\n",
      "Debug: Frame 0 has 1 objects\n",
      "Object IDs: [1]\n"
     ]
    },
    {
     "name": "stderr",
     "output_type": "stream",
     "text": [
      "propagate in video: 100%|██████████| 2/2 [00:04<00:00,  2.31s/it]\n"
     ]
    },
    {
     "name": "stdout",
     "output_type": "stream",
     "text": [
      "\n",
      "Debug: Frame 1 has 1 objects\n",
      "Object IDs: [1]\n",
      "Predicted bbox: [0, 0, 0, 0]\n",
      "Warning: Empty prediction - skipping\n",
      "\n",
      "Processing image 19/49: can_chowder_000020.jpg\n",
      "Ground truth bbox: [143, 49, 73, 115]\n"
     ]
    },
    {
     "name": "stderr",
     "output_type": "stream",
     "text": [
      "frame loading (JPEG): 100%|██████████| 2/2 [00:00<00:00, 15.97it/s]\n",
      "propagate in video:   0%|          | 0/2 [00:00<?, ?it/s]"
     ]
    },
    {
     "name": "stdout",
     "output_type": "stream",
     "text": [
      "\n",
      "Debug: Frame 0 has 1 objects\n",
      "Object IDs: [1]\n"
     ]
    },
    {
     "name": "stderr",
     "output_type": "stream",
     "text": [
      "propagate in video: 100%|██████████| 2/2 [00:04<00:00,  2.36s/it]\n"
     ]
    },
    {
     "name": "stdout",
     "output_type": "stream",
     "text": [
      "\n",
      "Debug: Frame 1 has 1 objects\n",
      "Object IDs: [1]\n",
      "Predicted bbox: [0, 0, 0, 0]\n",
      "Warning: Empty prediction - skipping\n",
      "\n",
      "Processing image 20/49: can_chowder_000021.jpg\n",
      "Ground truth bbox: [135, 130, 102, 142]\n"
     ]
    },
    {
     "name": "stderr",
     "output_type": "stream",
     "text": [
      "frame loading (JPEG): 100%|██████████| 2/2 [00:00<00:00, 13.41it/s]\n",
      "propagate in video:   0%|          | 0/2 [00:00<?, ?it/s]"
     ]
    },
    {
     "name": "stdout",
     "output_type": "stream",
     "text": [
      "\n",
      "Debug: Frame 0 has 1 objects\n",
      "Object IDs: [1]\n"
     ]
    },
    {
     "name": "stderr",
     "output_type": "stream",
     "text": [
      "propagate in video: 100%|██████████| 2/2 [00:04<00:00,  2.29s/it]\n"
     ]
    },
    {
     "name": "stdout",
     "output_type": "stream",
     "text": [
      "\n",
      "Debug: Frame 1 has 1 objects\n",
      "Object IDs: [1]\n",
      "Predicted bbox: [250, 131, 166, 149]\n",
      "\n",
      "Processing image 21/49: can_chowder_000022.jpg\n",
      "Ground truth bbox: [151, 229, 98, 134]\n"
     ]
    },
    {
     "name": "stderr",
     "output_type": "stream",
     "text": [
      "frame loading (JPEG): 100%|██████████| 2/2 [00:00<00:00, 16.36it/s]\n",
      "propagate in video:   0%|          | 0/2 [00:00<?, ?it/s]"
     ]
    },
    {
     "name": "stdout",
     "output_type": "stream",
     "text": [
      "\n",
      "Debug: Frame 0 has 1 objects\n",
      "Object IDs: [1]\n"
     ]
    },
    {
     "name": "stderr",
     "output_type": "stream",
     "text": [
      "propagate in video: 100%|██████████| 2/2 [00:04<00:00,  2.31s/it]\n"
     ]
    },
    {
     "name": "stdout",
     "output_type": "stream",
     "text": [
      "\n",
      "Debug: Frame 1 has 1 objects\n",
      "Object IDs: [1]\n",
      "Predicted bbox: [150, 193, 143, 170]\n",
      "\n",
      "Processing image 22/49: can_chowder_000023.jpg\n",
      "Ground truth bbox: [219, 149, 121, 175]\n"
     ]
    },
    {
     "name": "stderr",
     "output_type": "stream",
     "text": [
      "frame loading (JPEG): 100%|██████████| 2/2 [00:00<00:00, 16.56it/s]\n",
      "propagate in video:   0%|          | 0/2 [00:00<?, ?it/s]"
     ]
    },
    {
     "name": "stdout",
     "output_type": "stream",
     "text": [
      "\n",
      "Debug: Frame 0 has 1 objects\n",
      "Object IDs: [1]\n"
     ]
    },
    {
     "name": "stderr",
     "output_type": "stream",
     "text": [
      "propagate in video: 100%|██████████| 2/2 [00:04<00:00,  2.32s/it]\n"
     ]
    },
    {
     "name": "stdout",
     "output_type": "stream",
     "text": [
      "\n",
      "Debug: Frame 1 has 1 objects\n",
      "Object IDs: [1]\n",
      "Predicted bbox: [0, 0, 0, 0]\n",
      "Warning: Empty prediction - skipping\n",
      "\n",
      "Processing image 23/49: can_chowder_000024.jpg\n",
      "Ground truth bbox: [197, 184, 93, 136]\n"
     ]
    },
    {
     "name": "stderr",
     "output_type": "stream",
     "text": [
      "frame loading (JPEG): 100%|██████████| 2/2 [00:00<00:00, 16.29it/s]\n",
      "propagate in video:   0%|          | 0/2 [00:00<?, ?it/s]"
     ]
    },
    {
     "name": "stdout",
     "output_type": "stream",
     "text": [
      "\n",
      "Debug: Frame 0 has 1 objects\n",
      "Object IDs: [1]\n"
     ]
    },
    {
     "name": "stderr",
     "output_type": "stream",
     "text": [
      "propagate in video: 100%|██████████| 2/2 [00:04<00:00,  2.35s/it]\n"
     ]
    },
    {
     "name": "stdout",
     "output_type": "stream",
     "text": [
      "\n",
      "Debug: Frame 1 has 1 objects\n",
      "Object IDs: [1]\n",
      "Predicted bbox: [0, 0, 0, 0]\n",
      "Warning: Empty prediction - skipping\n",
      "\n",
      "Processing image 24/49: can_chowder_000025.jpg\n",
      "Ground truth bbox: [190, 116, 106, 151]\n"
     ]
    },
    {
     "name": "stderr",
     "output_type": "stream",
     "text": [
      "frame loading (JPEG): 100%|██████████| 2/2 [00:00<00:00, 16.29it/s]\n",
      "propagate in video:   0%|          | 0/2 [00:00<?, ?it/s]"
     ]
    },
    {
     "name": "stdout",
     "output_type": "stream",
     "text": [
      "\n",
      "Debug: Frame 0 has 1 objects\n",
      "Object IDs: [1]\n"
     ]
    },
    {
     "name": "stderr",
     "output_type": "stream",
     "text": [
      "propagate in video: 100%|██████████| 2/2 [00:04<00:00,  2.33s/it]\n"
     ]
    },
    {
     "name": "stdout",
     "output_type": "stream",
     "text": [
      "\n",
      "Debug: Frame 1 has 1 objects\n",
      "Object IDs: [1]\n",
      "Predicted bbox: [0, 0, 0, 0]\n",
      "Warning: Empty prediction - skipping\n",
      "\n",
      "Processing image 25/49: can_chowder_000026.jpg\n",
      "Ground truth bbox: [210, 160, 111, 159]\n"
     ]
    },
    {
     "name": "stderr",
     "output_type": "stream",
     "text": [
      "frame loading (JPEG): 100%|██████████| 2/2 [00:00<00:00, 15.49it/s]\n",
      "propagate in video:   0%|          | 0/2 [00:00<?, ?it/s]"
     ]
    },
    {
     "name": "stdout",
     "output_type": "stream",
     "text": [
      "\n",
      "Debug: Frame 0 has 1 objects\n",
      "Object IDs: [1]\n"
     ]
    },
    {
     "name": "stderr",
     "output_type": "stream",
     "text": [
      "propagate in video: 100%|██████████| 2/2 [00:04<00:00,  2.30s/it]\n"
     ]
    },
    {
     "name": "stdout",
     "output_type": "stream",
     "text": [
      "\n",
      "Debug: Frame 1 has 1 objects\n",
      "Object IDs: [1]\n",
      "Predicted bbox: [419, 104, 97, 137]\n",
      "\n",
      "Processing image 26/49: can_chowder_000027.jpg\n",
      "Ground truth bbox: [101, 117, 129, 198]\n"
     ]
    },
    {
     "name": "stderr",
     "output_type": "stream",
     "text": [
      "frame loading (JPEG): 100%|██████████| 2/2 [00:00<00:00, 13.73it/s]\n",
      "propagate in video:   0%|          | 0/2 [00:00<?, ?it/s]"
     ]
    },
    {
     "name": "stdout",
     "output_type": "stream",
     "text": [
      "\n",
      "Debug: Frame 0 has 1 objects\n",
      "Object IDs: [1]\n"
     ]
    },
    {
     "name": "stderr",
     "output_type": "stream",
     "text": [
      "propagate in video: 100%|██████████| 2/2 [00:05<00:00,  2.70s/it]\n"
     ]
    },
    {
     "name": "stdout",
     "output_type": "stream",
     "text": [
      "\n",
      "Debug: Frame 1 has 1 objects\n",
      "Object IDs: [1]\n",
      "Predicted bbox: [0, 120, 219, 190]\n",
      "\n",
      "Processing image 27/49: can_chowder_000028.jpg\n",
      "Ground truth bbox: [250, 122, 130, 188]\n"
     ]
    },
    {
     "name": "stderr",
     "output_type": "stream",
     "text": [
      "frame loading (JPEG): 100%|██████████| 2/2 [00:00<00:00, 10.21it/s]\n",
      "propagate in video:   0%|          | 0/2 [00:00<?, ?it/s]"
     ]
    },
    {
     "name": "stdout",
     "output_type": "stream",
     "text": [
      "\n",
      "Debug: Frame 0 has 1 objects\n",
      "Object IDs: [1]\n"
     ]
    },
    {
     "name": "stderr",
     "output_type": "stream",
     "text": [
      "propagate in video: 100%|██████████| 2/2 [00:04<00:00,  2.49s/it]\n"
     ]
    },
    {
     "name": "stdout",
     "output_type": "stream",
     "text": [
      "\n",
      "Debug: Frame 1 has 1 objects\n",
      "Object IDs: [1]\n",
      "Predicted bbox: [0, 0, 0, 0]\n",
      "Warning: Empty prediction - skipping\n",
      "\n",
      "Processing image 28/49: can_chowder_000029.jpg\n",
      "Ground truth bbox: [312, 44, 111, 169]\n"
     ]
    },
    {
     "name": "stderr",
     "output_type": "stream",
     "text": [
      "frame loading (JPEG): 100%|██████████| 2/2 [00:00<00:00, 13.78it/s]\n",
      "propagate in video:   0%|          | 0/2 [00:00<?, ?it/s]"
     ]
    },
    {
     "name": "stdout",
     "output_type": "stream",
     "text": [
      "\n",
      "Debug: Frame 0 has 1 objects\n",
      "Object IDs: [1]\n"
     ]
    },
    {
     "name": "stderr",
     "output_type": "stream",
     "text": [
      "propagate in video: 100%|██████████| 2/2 [00:04<00:00,  2.39s/it]\n"
     ]
    },
    {
     "name": "stdout",
     "output_type": "stream",
     "text": [
      "\n",
      "Debug: Frame 1 has 1 objects\n",
      "Object IDs: [1]\n",
      "Predicted bbox: [0, 0, 0, 0]\n",
      "Warning: Empty prediction - skipping\n",
      "\n",
      "Processing image 29/49: can_chowder_000030.jpg\n",
      "Ground truth bbox: [182, 122, 95, 144]\n"
     ]
    },
    {
     "name": "stderr",
     "output_type": "stream",
     "text": [
      "frame loading (JPEG): 100%|██████████| 2/2 [00:00<00:00, 15.63it/s]\n",
      "propagate in video:   0%|          | 0/2 [00:00<?, ?it/s]"
     ]
    },
    {
     "name": "stdout",
     "output_type": "stream",
     "text": [
      "\n",
      "Debug: Frame 0 has 1 objects\n",
      "Object IDs: [1]\n"
     ]
    },
    {
     "name": "stderr",
     "output_type": "stream",
     "text": [
      "propagate in video: 100%|██████████| 2/2 [00:04<00:00,  2.37s/it]\n"
     ]
    },
    {
     "name": "stdout",
     "output_type": "stream",
     "text": [
      "\n",
      "Debug: Frame 1 has 1 objects\n",
      "Object IDs: [1]\n",
      "Predicted bbox: [0, 0, 0, 0]\n",
      "Warning: Empty prediction - skipping\n",
      "\n",
      "Processing image 30/49: can_chowder_000031.jpg\n",
      "Ground truth bbox: [82, 136, 169, 218]\n"
     ]
    },
    {
     "name": "stderr",
     "output_type": "stream",
     "text": [
      "frame loading (JPEG): 100%|██████████| 2/2 [00:00<00:00, 14.13it/s]\n",
      "propagate in video:   0%|          | 0/2 [00:00<?, ?it/s]"
     ]
    },
    {
     "name": "stdout",
     "output_type": "stream",
     "text": [
      "\n",
      "Debug: Frame 0 has 1 objects\n",
      "Object IDs: [1]\n"
     ]
    },
    {
     "name": "stderr",
     "output_type": "stream",
     "text": [
      "propagate in video: 100%|██████████| 2/2 [00:04<00:00,  2.37s/it]\n"
     ]
    },
    {
     "name": "stdout",
     "output_type": "stream",
     "text": [
      "\n",
      "Debug: Frame 1 has 1 objects\n",
      "Object IDs: [1]\n",
      "Predicted bbox: [81, 134, 284, 223]\n",
      "\n",
      "Processing image 31/49: can_chowder_000032.jpg\n",
      "Ground truth bbox: [70, 119, 178, 117]\n"
     ]
    },
    {
     "name": "stderr",
     "output_type": "stream",
     "text": [
      "frame loading (JPEG): 100%|██████████| 2/2 [00:00<00:00, 15.67it/s]\n",
      "propagate in video:   0%|          | 0/2 [00:00<?, ?it/s]"
     ]
    },
    {
     "name": "stdout",
     "output_type": "stream",
     "text": [
      "\n",
      "Debug: Frame 0 has 1 objects\n",
      "Object IDs: [1]\n"
     ]
    },
    {
     "name": "stderr",
     "output_type": "stream",
     "text": [
      "propagate in video: 100%|██████████| 2/2 [00:04<00:00,  2.37s/it]\n"
     ]
    },
    {
     "name": "stdout",
     "output_type": "stream",
     "text": [
      "\n",
      "Debug: Frame 1 has 1 objects\n",
      "Object IDs: [1]\n",
      "Predicted bbox: [206, 270, 265, 209]\n",
      "\n",
      "Processing image 32/49: can_chowder_000033.jpg\n",
      "Ground truth bbox: [124, 138, 135, 165]\n"
     ]
    },
    {
     "name": "stderr",
     "output_type": "stream",
     "text": [
      "frame loading (JPEG): 100%|██████████| 2/2 [00:00<00:00, 10.58it/s]\n",
      "propagate in video:   0%|          | 0/2 [00:00<?, ?it/s]"
     ]
    },
    {
     "name": "stdout",
     "output_type": "stream",
     "text": [
      "\n",
      "Debug: Frame 0 has 1 objects\n",
      "Object IDs: [1]\n"
     ]
    },
    {
     "name": "stderr",
     "output_type": "stream",
     "text": [
      "propagate in video: 100%|██████████| 2/2 [00:04<00:00,  2.40s/it]\n"
     ]
    },
    {
     "name": "stdout",
     "output_type": "stream",
     "text": [
      "\n",
      "Debug: Frame 1 has 1 objects\n",
      "Object IDs: [1]\n",
      "Predicted bbox: [28, 64, 517, 415]\n",
      "\n",
      "Processing image 33/49: can_chowder_000034.jpg\n",
      "Ground truth bbox: [178, 36, 114, 179]\n"
     ]
    },
    {
     "name": "stderr",
     "output_type": "stream",
     "text": [
      "frame loading (JPEG): 100%|██████████| 2/2 [00:00<00:00, 15.14it/s]\n",
      "propagate in video:   0%|          | 0/2 [00:00<?, ?it/s]"
     ]
    },
    {
     "name": "stdout",
     "output_type": "stream",
     "text": [
      "\n",
      "Debug: Frame 0 has 1 objects\n",
      "Object IDs: [1]\n"
     ]
    },
    {
     "name": "stderr",
     "output_type": "stream",
     "text": [
      "propagate in video: 100%|██████████| 2/2 [00:04<00:00,  2.48s/it]\n"
     ]
    },
    {
     "name": "stdout",
     "output_type": "stream",
     "text": [
      "\n",
      "Debug: Frame 1 has 1 objects\n",
      "Object IDs: [1]\n",
      "Predicted bbox: [0, 20, 381, 204]\n",
      "\n",
      "Processing image 34/49: can_chowder_000035.jpg\n",
      "Ground truth bbox: [268, 109, 98, 137]\n"
     ]
    },
    {
     "name": "stderr",
     "output_type": "stream",
     "text": [
      "frame loading (JPEG): 100%|██████████| 2/2 [00:00<00:00, 13.07it/s]\n",
      "propagate in video:   0%|          | 0/2 [00:00<?, ?it/s]"
     ]
    },
    {
     "name": "stdout",
     "output_type": "stream",
     "text": [
      "\n",
      "Debug: Frame 0 has 1 objects\n",
      "Object IDs: [1]\n"
     ]
    },
    {
     "name": "stderr",
     "output_type": "stream",
     "text": [
      "propagate in video: 100%|██████████| 2/2 [00:04<00:00,  2.43s/it]\n"
     ]
    },
    {
     "name": "stdout",
     "output_type": "stream",
     "text": [
      "\n",
      "Debug: Frame 1 has 1 objects\n",
      "Object IDs: [1]\n",
      "Predicted bbox: [0, 0, 0, 0]\n",
      "Warning: Empty prediction - skipping\n",
      "\n",
      "Processing image 35/49: can_chowder_000036.jpg\n",
      "Ground truth bbox: [182, 98, 117, 148]\n"
     ]
    },
    {
     "name": "stderr",
     "output_type": "stream",
     "text": [
      "frame loading (JPEG): 100%|██████████| 2/2 [00:00<00:00, 13.78it/s]\n",
      "propagate in video:   0%|          | 0/2 [00:00<?, ?it/s]"
     ]
    },
    {
     "name": "stdout",
     "output_type": "stream",
     "text": [
      "\n",
      "Debug: Frame 0 has 1 objects\n",
      "Object IDs: [1]\n"
     ]
    },
    {
     "name": "stderr",
     "output_type": "stream",
     "text": [
      "propagate in video: 100%|██████████| 2/2 [00:04<00:00,  2.40s/it]\n"
     ]
    },
    {
     "name": "stdout",
     "output_type": "stream",
     "text": [
      "\n",
      "Debug: Frame 1 has 1 objects\n",
      "Object IDs: [1]\n",
      "Predicted bbox: [0, 0, 0, 0]\n",
      "Warning: Empty prediction - skipping\n",
      "\n",
      "Processing image 36/49: can_chowder_000037.jpg\n",
      "Ground truth bbox: [191, 80, 120, 182]\n"
     ]
    },
    {
     "name": "stderr",
     "output_type": "stream",
     "text": [
      "frame loading (JPEG): 100%|██████████| 2/2 [00:00<00:00, 15.26it/s]\n",
      "propagate in video:   0%|          | 0/2 [00:00<?, ?it/s]"
     ]
    },
    {
     "name": "stdout",
     "output_type": "stream",
     "text": [
      "\n",
      "Debug: Frame 0 has 1 objects\n",
      "Object IDs: [1]\n"
     ]
    },
    {
     "name": "stderr",
     "output_type": "stream",
     "text": [
      "propagate in video: 100%|██████████| 2/2 [00:04<00:00,  2.43s/it]\n"
     ]
    },
    {
     "name": "stdout",
     "output_type": "stream",
     "text": [
      "\n",
      "Debug: Frame 1 has 1 objects\n",
      "Object IDs: [1]\n",
      "Predicted bbox: [0, 0, 0, 0]\n",
      "Warning: Empty prediction - skipping\n",
      "\n",
      "Processing image 37/49: can_chowder_000038.jpg\n",
      "Ground truth bbox: [198, 64, 124, 172]\n"
     ]
    },
    {
     "name": "stderr",
     "output_type": "stream",
     "text": [
      "frame loading (JPEG): 100%|██████████| 2/2 [00:00<00:00, 14.11it/s]\n",
      "propagate in video:   0%|          | 0/2 [00:00<?, ?it/s]"
     ]
    },
    {
     "name": "stdout",
     "output_type": "stream",
     "text": [
      "\n",
      "Debug: Frame 0 has 1 objects\n",
      "Object IDs: [1]\n"
     ]
    },
    {
     "name": "stderr",
     "output_type": "stream",
     "text": [
      "propagate in video: 100%|██████████| 2/2 [00:04<00:00,  2.42s/it]\n"
     ]
    },
    {
     "name": "stdout",
     "output_type": "stream",
     "text": [
      "\n",
      "Debug: Frame 1 has 1 objects\n",
      "Object IDs: [1]\n",
      "Predicted bbox: [0, 0, 0, 0]\n",
      "Warning: Empty prediction - skipping\n",
      "\n",
      "Processing image 38/49: can_chowder_000039.jpg\n",
      "Ground truth bbox: [137, 136, 131, 183]\n"
     ]
    },
    {
     "name": "stderr",
     "output_type": "stream",
     "text": [
      "frame loading (JPEG): 100%|██████████| 2/2 [00:00<00:00, 14.45it/s]\n",
      "propagate in video:   0%|          | 0/2 [00:00<?, ?it/s]"
     ]
    },
    {
     "name": "stdout",
     "output_type": "stream",
     "text": [
      "\n",
      "Debug: Frame 0 has 1 objects\n",
      "Object IDs: [1]\n"
     ]
    },
    {
     "name": "stderr",
     "output_type": "stream",
     "text": [
      "propagate in video: 100%|██████████| 2/2 [00:04<00:00,  2.41s/it]\n"
     ]
    },
    {
     "name": "stdout",
     "output_type": "stream",
     "text": [
      "\n",
      "Debug: Frame 1 has 1 objects\n",
      "Object IDs: [1]\n",
      "Predicted bbox: [0, 0, 0, 0]\n",
      "Warning: Empty prediction - skipping\n",
      "\n",
      "Processing image 39/49: can_chowder_000040.jpg\n",
      "Ground truth bbox: [173, 139, 111, 165]\n"
     ]
    },
    {
     "name": "stderr",
     "output_type": "stream",
     "text": [
      "frame loading (JPEG): 100%|██████████| 2/2 [00:00<00:00, 15.57it/s]\n",
      "propagate in video:   0%|          | 0/2 [00:00<?, ?it/s]"
     ]
    },
    {
     "name": "stdout",
     "output_type": "stream",
     "text": [
      "\n",
      "Debug: Frame 0 has 1 objects\n",
      "Object IDs: [1]\n"
     ]
    },
    {
     "name": "stderr",
     "output_type": "stream",
     "text": [
      "propagate in video: 100%|██████████| 2/2 [00:04<00:00,  2.39s/it]\n"
     ]
    },
    {
     "name": "stdout",
     "output_type": "stream",
     "text": [
      "\n",
      "Debug: Frame 1 has 1 objects\n",
      "Object IDs: [1]\n",
      "Predicted bbox: [0, 0, 0, 0]\n",
      "Warning: Empty prediction - skipping\n",
      "\n",
      "Processing image 40/49: can_chowder_000041.jpg\n",
      "Ground truth bbox: [229, 161, 117, 168]\n"
     ]
    },
    {
     "name": "stderr",
     "output_type": "stream",
     "text": [
      "frame loading (JPEG): 100%|██████████| 2/2 [00:00<00:00, 13.52it/s]\n",
      "propagate in video:   0%|          | 0/2 [00:00<?, ?it/s]"
     ]
    },
    {
     "name": "stdout",
     "output_type": "stream",
     "text": [
      "\n",
      "Debug: Frame 0 has 1 objects\n",
      "Object IDs: [1]\n"
     ]
    },
    {
     "name": "stderr",
     "output_type": "stream",
     "text": [
      "propagate in video: 100%|██████████| 2/2 [00:05<00:00,  2.51s/it]\n"
     ]
    },
    {
     "name": "stdout",
     "output_type": "stream",
     "text": [
      "\n",
      "Debug: Frame 1 has 1 objects\n",
      "Object IDs: [1]\n",
      "Predicted bbox: [229, 167, 84, 131]\n",
      "\n",
      "Processing image 41/49: can_chowder_000042.jpg\n",
      "Ground truth bbox: [217, 113, 92, 137]\n"
     ]
    },
    {
     "name": "stderr",
     "output_type": "stream",
     "text": [
      "frame loading (JPEG): 100%|██████████| 2/2 [00:00<00:00, 11.92it/s]\n",
      "propagate in video:   0%|          | 0/2 [00:00<?, ?it/s]"
     ]
    },
    {
     "name": "stdout",
     "output_type": "stream",
     "text": [
      "\n",
      "Debug: Frame 0 has 1 objects\n",
      "Object IDs: [1]\n"
     ]
    },
    {
     "name": "stderr",
     "output_type": "stream",
     "text": [
      "propagate in video: 100%|██████████| 2/2 [00:04<00:00,  2.48s/it]\n"
     ]
    },
    {
     "name": "stdout",
     "output_type": "stream",
     "text": [
      "\n",
      "Debug: Frame 1 has 1 objects\n",
      "Object IDs: [1]\n",
      "Predicted bbox: [0, 0, 0, 0]\n",
      "Warning: Empty prediction - skipping\n",
      "\n",
      "Processing image 42/49: can_chowder_000043.jpg\n",
      "Ground truth bbox: [365, 108, 128, 176]\n"
     ]
    },
    {
     "name": "stderr",
     "output_type": "stream",
     "text": [
      "frame loading (JPEG): 100%|██████████| 2/2 [00:00<00:00, 13.80it/s]\n",
      "propagate in video:   0%|          | 0/2 [00:00<?, ?it/s]"
     ]
    },
    {
     "name": "stdout",
     "output_type": "stream",
     "text": [
      "\n",
      "Debug: Frame 0 has 1 objects\n",
      "Object IDs: [1]\n"
     ]
    },
    {
     "name": "stderr",
     "output_type": "stream",
     "text": [
      "propagate in video: 100%|██████████| 2/2 [00:04<00:00,  2.45s/it]\n"
     ]
    },
    {
     "name": "stdout",
     "output_type": "stream",
     "text": [
      "\n",
      "Debug: Frame 1 has 1 objects\n",
      "Object IDs: [1]\n",
      "Predicted bbox: [367, 108, 121, 178]\n",
      "\n",
      "Processing image 43/49: can_chowder_000044.jpg\n",
      "Ground truth bbox: [167, 144, 72, 109]\n"
     ]
    },
    {
     "name": "stderr",
     "output_type": "stream",
     "text": [
      "frame loading (JPEG): 100%|██████████| 2/2 [00:00<00:00, 13.96it/s]\n",
      "propagate in video:   0%|          | 0/2 [00:00<?, ?it/s]"
     ]
    },
    {
     "name": "stdout",
     "output_type": "stream",
     "text": [
      "\n",
      "Debug: Frame 0 has 1 objects\n",
      "Object IDs: [1]\n"
     ]
    },
    {
     "name": "stderr",
     "output_type": "stream",
     "text": [
      "propagate in video: 100%|██████████| 2/2 [00:05<00:00,  2.55s/it]\n"
     ]
    },
    {
     "name": "stdout",
     "output_type": "stream",
     "text": [
      "\n",
      "Debug: Frame 1 has 1 objects\n",
      "Object IDs: [1]\n",
      "Predicted bbox: [0, 0, 0, 0]\n",
      "Warning: Empty prediction - skipping\n",
      "\n",
      "Processing image 44/49: can_chowder_000045.jpg\n",
      "Ground truth bbox: [159, 182, 112, 149]\n"
     ]
    },
    {
     "name": "stderr",
     "output_type": "stream",
     "text": [
      "frame loading (JPEG): 100%|██████████| 2/2 [00:00<00:00, 13.91it/s]\n",
      "propagate in video:   0%|          | 0/2 [00:00<?, ?it/s]"
     ]
    },
    {
     "name": "stdout",
     "output_type": "stream",
     "text": [
      "\n",
      "Debug: Frame 0 has 1 objects\n",
      "Object IDs: [1]\n"
     ]
    },
    {
     "name": "stderr",
     "output_type": "stream",
     "text": [
      "propagate in video: 100%|██████████| 2/2 [00:04<00:00,  2.43s/it]\n"
     ]
    },
    {
     "name": "stdout",
     "output_type": "stream",
     "text": [
      "\n",
      "Debug: Frame 1 has 1 objects\n",
      "Object IDs: [1]\n",
      "Predicted bbox: [0, 0, 0, 0]\n",
      "Warning: Empty prediction - skipping\n",
      "\n",
      "Processing image 45/49: can_chowder_000046.jpg\n",
      "Ground truth bbox: [206, 75, 121, 149]\n"
     ]
    },
    {
     "name": "stderr",
     "output_type": "stream",
     "text": [
      "frame loading (JPEG): 100%|██████████| 2/2 [00:00<00:00, 14.73it/s]\n",
      "propagate in video:   0%|          | 0/2 [00:00<?, ?it/s]"
     ]
    },
    {
     "name": "stdout",
     "output_type": "stream",
     "text": [
      "\n",
      "Debug: Frame 0 has 1 objects\n",
      "Object IDs: [1]\n"
     ]
    },
    {
     "name": "stderr",
     "output_type": "stream",
     "text": [
      "propagate in video: 100%|██████████| 2/2 [00:04<00:00,  2.41s/it]\n"
     ]
    },
    {
     "name": "stdout",
     "output_type": "stream",
     "text": [
      "\n",
      "Debug: Frame 1 has 1 objects\n",
      "Object IDs: [1]\n",
      "Predicted bbox: [0, 0, 0, 0]\n",
      "Warning: Empty prediction - skipping\n",
      "\n",
      "Processing image 46/49: can_chowder_000047.jpg\n",
      "Ground truth bbox: [167, 275, 114, 163]\n"
     ]
    },
    {
     "name": "stderr",
     "output_type": "stream",
     "text": [
      "frame loading (JPEG): 100%|██████████| 2/2 [00:00<00:00, 13.25it/s]\n",
      "propagate in video:   0%|          | 0/2 [00:00<?, ?it/s]"
     ]
    },
    {
     "name": "stdout",
     "output_type": "stream",
     "text": [
      "\n",
      "Debug: Frame 0 has 1 objects\n",
      "Object IDs: [1]\n"
     ]
    },
    {
     "name": "stderr",
     "output_type": "stream",
     "text": [
      "propagate in video: 100%|██████████| 2/2 [00:04<00:00,  2.46s/it]\n"
     ]
    },
    {
     "name": "stdout",
     "output_type": "stream",
     "text": [
      "\n",
      "Debug: Frame 1 has 1 objects\n",
      "Object IDs: [1]\n",
      "Predicted bbox: [0, 0, 0, 0]\n",
      "Warning: Empty prediction - skipping\n",
      "\n",
      "Processing image 47/49: can_chowder_000048.jpg\n",
      "Ground truth bbox: [97, 235, 120, 167]\n"
     ]
    },
    {
     "name": "stderr",
     "output_type": "stream",
     "text": [
      "frame loading (JPEG): 100%|██████████| 2/2 [00:00<00:00, 13.38it/s]\n",
      "propagate in video:   0%|          | 0/2 [00:00<?, ?it/s]"
     ]
    },
    {
     "name": "stdout",
     "output_type": "stream",
     "text": [
      "\n",
      "Debug: Frame 0 has 1 objects\n",
      "Object IDs: [1]\n"
     ]
    },
    {
     "name": "stderr",
     "output_type": "stream",
     "text": [
      "propagate in video: 100%|██████████| 2/2 [00:04<00:00,  2.47s/it]\n"
     ]
    },
    {
     "name": "stdout",
     "output_type": "stream",
     "text": [
      "\n",
      "Debug: Frame 1 has 1 objects\n",
      "Object IDs: [1]\n",
      "Predicted bbox: [0, 0, 0, 0]\n",
      "Warning: Empty prediction - skipping\n",
      "\n",
      "Processing image 48/49: can_chowder_000049.jpg\n",
      "Ground truth bbox: [134, 81, 84, 124]\n"
     ]
    },
    {
     "name": "stderr",
     "output_type": "stream",
     "text": [
      "frame loading (JPEG): 100%|██████████| 2/2 [00:00<00:00, 13.94it/s]\n",
      "propagate in video:   0%|          | 0/2 [00:00<?, ?it/s]"
     ]
    },
    {
     "name": "stdout",
     "output_type": "stream",
     "text": [
      "\n",
      "Debug: Frame 0 has 1 objects\n",
      "Object IDs: [1]\n"
     ]
    },
    {
     "name": "stderr",
     "output_type": "stream",
     "text": [
      "propagate in video: 100%|██████████| 2/2 [00:04<00:00,  2.46s/it]\n"
     ]
    },
    {
     "name": "stdout",
     "output_type": "stream",
     "text": [
      "\n",
      "Debug: Frame 1 has 1 objects\n",
      "Object IDs: [1]\n",
      "Predicted bbox: [35, 53, 326, 150]\n",
      "\n",
      "Processing image 49/49: can_chowder_000050.jpg\n",
      "Ground truth bbox: [207, 123, 74, 94]\n"
     ]
    },
    {
     "name": "stderr",
     "output_type": "stream",
     "text": [
      "frame loading (JPEG): 100%|██████████| 2/2 [00:00<00:00, 13.38it/s]\n",
      "propagate in video:   0%|          | 0/2 [00:00<?, ?it/s]"
     ]
    },
    {
     "name": "stdout",
     "output_type": "stream",
     "text": [
      "\n",
      "Debug: Frame 0 has 1 objects\n",
      "Object IDs: [1]\n"
     ]
    },
    {
     "name": "stderr",
     "output_type": "stream",
     "text": [
      "propagate in video: 100%|██████████| 2/2 [00:04<00:00,  2.44s/it]\n"
     ]
    },
    {
     "name": "stdout",
     "output_type": "stream",
     "text": [
      "\n",
      "Debug: Frame 1 has 1 objects\n",
      "Object IDs: [1]\n",
      "Predicted bbox: [176, 322, 95, 109]\n",
      "creating index...\n",
      "index created!\n",
      "Error in COCO evaluation: 'info'\n",
      "\n",
      "Evaluating can_soymilk...\n",
      "Using reference image: can_soymilk_000001.jpg\n",
      "Using reference mask: can_soymilk_000001_1_gt.png\n",
      "Reference bounding box: x=[432,508], y=[101,229]\n",
      "\n",
      "Processing image 1/49: can_soymilk_000002.jpg\n",
      "Ground truth bbox: [426, 174, 91, 133]\n"
     ]
    },
    {
     "name": "stderr",
     "output_type": "stream",
     "text": [
      "frame loading (JPEG): 100%|██████████| 2/2 [00:00<00:00, 14.12it/s]\n",
      "propagate in video:   0%|          | 0/2 [00:00<?, ?it/s]"
     ]
    },
    {
     "name": "stdout",
     "output_type": "stream",
     "text": [
      "\n",
      "Debug: Frame 0 has 1 objects\n",
      "Object IDs: [1]\n"
     ]
    },
    {
     "name": "stderr",
     "output_type": "stream",
     "text": [
      "propagate in video: 100%|██████████| 2/2 [00:04<00:00,  2.42s/it]\n"
     ]
    },
    {
     "name": "stdout",
     "output_type": "stream",
     "text": [
      "\n",
      "Debug: Frame 1 has 1 objects\n",
      "Object IDs: [1]\n",
      "Predicted bbox: [427, 178, 84, 128]\n",
      "\n",
      "Processing image 2/49: can_soymilk_000003.jpg\n",
      "Ground truth bbox: [75, 34, 92, 144]\n"
     ]
    },
    {
     "name": "stderr",
     "output_type": "stream",
     "text": [
      "frame loading (JPEG): 100%|██████████| 2/2 [00:00<00:00, 15.07it/s]\n",
      "propagate in video:   0%|          | 0/2 [00:00<?, ?it/s]"
     ]
    },
    {
     "name": "stdout",
     "output_type": "stream",
     "text": [
      "\n",
      "Debug: Frame 0 has 1 objects\n",
      "Object IDs: [1]\n"
     ]
    },
    {
     "name": "stderr",
     "output_type": "stream",
     "text": [
      "propagate in video: 100%|██████████| 2/2 [00:04<00:00,  2.46s/it]\n"
     ]
    },
    {
     "name": "stdout",
     "output_type": "stream",
     "text": [
      "\n",
      "Debug: Frame 1 has 1 objects\n",
      "Object IDs: [1]\n",
      "Predicted bbox: [0, 0, 0, 0]\n",
      "Warning: Empty prediction - skipping\n",
      "\n",
      "Processing image 3/49: can_soymilk_000004.jpg\n",
      "Ground truth bbox: [204, 25, 80, 127]\n"
     ]
    },
    {
     "name": "stderr",
     "output_type": "stream",
     "text": [
      "frame loading (JPEG): 100%|██████████| 2/2 [00:00<00:00, 14.05it/s]\n",
      "propagate in video:   0%|          | 0/2 [00:00<?, ?it/s]"
     ]
    },
    {
     "name": "stdout",
     "output_type": "stream",
     "text": [
      "\n",
      "Debug: Frame 0 has 1 objects\n",
      "Object IDs: [1]\n"
     ]
    },
    {
     "name": "stderr",
     "output_type": "stream",
     "text": [
      "propagate in video: 100%|██████████| 2/2 [00:04<00:00,  2.42s/it]\n"
     ]
    },
    {
     "name": "stdout",
     "output_type": "stream",
     "text": [
      "\n",
      "Debug: Frame 1 has 1 objects\n",
      "Object IDs: [1]\n",
      "Predicted bbox: [0, 0, 0, 0]\n",
      "Warning: Empty prediction - skipping\n",
      "\n",
      "Processing image 4/49: can_soymilk_000005.jpg\n",
      "Ground truth bbox: [44, 288, 73, 115]\n"
     ]
    },
    {
     "name": "stderr",
     "output_type": "stream",
     "text": [
      "frame loading (JPEG): 100%|██████████| 2/2 [00:00<00:00, 14.24it/s]\n",
      "propagate in video:   0%|          | 0/2 [00:00<?, ?it/s]"
     ]
    },
    {
     "name": "stdout",
     "output_type": "stream",
     "text": [
      "\n",
      "Debug: Frame 0 has 1 objects\n",
      "Object IDs: [1]\n"
     ]
    },
    {
     "name": "stderr",
     "output_type": "stream",
     "text": [
      "propagate in video: 100%|██████████| 2/2 [00:04<00:00,  2.42s/it]\n"
     ]
    },
    {
     "name": "stdout",
     "output_type": "stream",
     "text": [
      "\n",
      "Debug: Frame 1 has 1 objects\n",
      "Object IDs: [1]\n",
      "Predicted bbox: [500, 243, 103, 153]\n",
      "\n",
      "Processing image 5/49: can_soymilk_000006.jpg\n",
      "Ground truth bbox: [365, 168, 59, 109]\n"
     ]
    },
    {
     "name": "stderr",
     "output_type": "stream",
     "text": [
      "frame loading (JPEG): 100%|██████████| 2/2 [00:00<00:00, 13.68it/s]\n",
      "propagate in video:   0%|          | 0/2 [00:00<?, ?it/s]"
     ]
    },
    {
     "name": "stdout",
     "output_type": "stream",
     "text": [
      "\n",
      "Debug: Frame 0 has 1 objects\n",
      "Object IDs: [1]\n"
     ]
    },
    {
     "name": "stderr",
     "output_type": "stream",
     "text": [
      "propagate in video: 100%|██████████| 2/2 [00:04<00:00,  2.50s/it]\n"
     ]
    },
    {
     "name": "stdout",
     "output_type": "stream",
     "text": [
      "\n",
      "Debug: Frame 1 has 1 objects\n",
      "Object IDs: [1]\n",
      "Predicted bbox: [0, 0, 0, 0]\n",
      "Warning: Empty prediction - skipping\n",
      "\n",
      "Processing image 6/49: can_soymilk_000007.jpg\n",
      "Ground truth bbox: [208, 195, 65, 102]\n"
     ]
    },
    {
     "name": "stderr",
     "output_type": "stream",
     "text": [
      "frame loading (JPEG): 100%|██████████| 2/2 [00:00<00:00, 12.57it/s]\n",
      "propagate in video:   0%|          | 0/2 [00:00<?, ?it/s]"
     ]
    },
    {
     "name": "stdout",
     "output_type": "stream",
     "text": [
      "\n",
      "Debug: Frame 0 has 1 objects\n",
      "Object IDs: [1]\n"
     ]
    },
    {
     "name": "stderr",
     "output_type": "stream",
     "text": [
      "propagate in video: 100%|██████████| 2/2 [00:05<00:00,  2.59s/it]\n"
     ]
    },
    {
     "name": "stdout",
     "output_type": "stream",
     "text": [
      "\n",
      "Debug: Frame 1 has 1 objects\n",
      "Object IDs: [1]\n",
      "Predicted bbox: [0, 0, 0, 0]\n",
      "Warning: Empty prediction - skipping\n",
      "\n",
      "Processing image 7/49: can_soymilk_000008.jpg\n",
      "Ground truth bbox: [382, 162, 61, 127]\n"
     ]
    },
    {
     "name": "stderr",
     "output_type": "stream",
     "text": [
      "frame loading (JPEG): 100%|██████████| 2/2 [00:00<00:00, 12.87it/s]\n",
      "propagate in video:   0%|          | 0/2 [00:00<?, ?it/s]"
     ]
    },
    {
     "name": "stdout",
     "output_type": "stream",
     "text": [
      "\n",
      "Debug: Frame 0 has 1 objects\n",
      "Object IDs: [1]\n"
     ]
    },
    {
     "name": "stderr",
     "output_type": "stream",
     "text": [
      "propagate in video: 100%|██████████| 2/2 [00:05<00:00,  2.67s/it]\n"
     ]
    },
    {
     "name": "stdout",
     "output_type": "stream",
     "text": [
      "\n",
      "Debug: Frame 1 has 1 objects\n",
      "Object IDs: [1]\n",
      "Predicted bbox: [434, 153, 57, 115]\n",
      "\n",
      "Processing image 8/49: can_soymilk_000009.jpg\n",
      "Ground truth bbox: [464, 131, 61, 117]\n"
     ]
    },
    {
     "name": "stderr",
     "output_type": "stream",
     "text": [
      "frame loading (JPEG): 100%|██████████| 2/2 [00:00<00:00, 11.55it/s]\n",
      "propagate in video:   0%|          | 0/2 [00:00<?, ?it/s]"
     ]
    },
    {
     "name": "stdout",
     "output_type": "stream",
     "text": [
      "\n",
      "Debug: Frame 0 has 1 objects\n",
      "Object IDs: [1]\n"
     ]
    },
    {
     "name": "stderr",
     "output_type": "stream",
     "text": [
      "propagate in video: 100%|██████████| 2/2 [00:06<00:00,  3.15s/it]\n"
     ]
    },
    {
     "name": "stdout",
     "output_type": "stream",
     "text": [
      "\n",
      "Debug: Frame 1 has 1 objects\n",
      "Object IDs: [1]\n",
      "Predicted bbox: [524, 127, 58, 113]\n",
      "\n",
      "Processing image 9/49: can_soymilk_000010.jpg\n",
      "Ground truth bbox: [444, 290, 67, 116]\n"
     ]
    },
    {
     "name": "stderr",
     "output_type": "stream",
     "text": [
      "frame loading (JPEG): 100%|██████████| 2/2 [00:00<00:00,  9.72it/s]\n",
      "propagate in video:   0%|          | 0/2 [00:00<?, ?it/s]"
     ]
    },
    {
     "name": "stdout",
     "output_type": "stream",
     "text": [
      "\n",
      "Debug: Frame 0 has 1 objects\n",
      "Object IDs: [1]\n"
     ]
    },
    {
     "name": "stderr",
     "output_type": "stream",
     "text": [
      "propagate in video: 100%|██████████| 2/2 [00:05<00:00,  2.96s/it]\n"
     ]
    },
    {
     "name": "stdout",
     "output_type": "stream",
     "text": [
      "\n",
      "Debug: Frame 1 has 1 objects\n",
      "Object IDs: [1]\n",
      "Predicted bbox: [458, 278, 108, 124]\n",
      "\n",
      "Processing image 10/49: can_soymilk_000011.jpg\n",
      "Ground truth bbox: [45, 116, 76, 121]\n"
     ]
    },
    {
     "name": "stderr",
     "output_type": "stream",
     "text": [
      "frame loading (JPEG): 100%|██████████| 2/2 [00:00<00:00, 10.21it/s]\n",
      "propagate in video:   0%|          | 0/2 [00:00<?, ?it/s]"
     ]
    },
    {
     "name": "stdout",
     "output_type": "stream",
     "text": [
      "\n",
      "Debug: Frame 0 has 1 objects\n",
      "Object IDs: [1]\n"
     ]
    },
    {
     "name": "stderr",
     "output_type": "stream",
     "text": [
      "propagate in video: 100%|██████████| 2/2 [00:06<00:00,  3.07s/it]\n"
     ]
    },
    {
     "name": "stdout",
     "output_type": "stream",
     "text": [
      "\n",
      "Debug: Frame 1 has 1 objects\n",
      "Object IDs: [1]\n",
      "Predicted bbox: [198, 216, 116, 187]\n",
      "\n",
      "Processing image 11/49: can_soymilk_000012.jpg\n",
      "Ground truth bbox: [80, 180, 71, 117]\n"
     ]
    },
    {
     "name": "stderr",
     "output_type": "stream",
     "text": [
      "frame loading (JPEG): 100%|██████████| 2/2 [00:00<00:00,  7.95it/s]\n",
      "propagate in video:   0%|          | 0/2 [00:00<?, ?it/s]"
     ]
    },
    {
     "name": "stdout",
     "output_type": "stream",
     "text": [
      "\n",
      "Debug: Frame 0 has 1 objects\n",
      "Object IDs: [1]\n"
     ]
    },
    {
     "name": "stderr",
     "output_type": "stream",
     "text": [
      "propagate in video: 100%|██████████| 2/2 [00:06<00:00,  3.03s/it]\n"
     ]
    },
    {
     "name": "stdout",
     "output_type": "stream",
     "text": [
      "\n",
      "Debug: Frame 1 has 1 objects\n",
      "Object IDs: [1]\n",
      "Predicted bbox: [78, 162, 343, 231]\n",
      "\n",
      "Processing image 12/49: can_soymilk_000013.jpg\n",
      "Ground truth bbox: [161, 102, 55, 103]\n"
     ]
    },
    {
     "name": "stderr",
     "output_type": "stream",
     "text": [
      "frame loading (JPEG): 100%|██████████| 2/2 [00:00<00:00, 10.10it/s]\n",
      "propagate in video:   0%|          | 0/2 [00:00<?, ?it/s]"
     ]
    },
    {
     "name": "stdout",
     "output_type": "stream",
     "text": [
      "\n",
      "Debug: Frame 0 has 1 objects\n",
      "Object IDs: [1]\n"
     ]
    },
    {
     "name": "stderr",
     "output_type": "stream",
     "text": [
      "propagate in video: 100%|██████████| 2/2 [00:05<00:00,  2.90s/it]\n"
     ]
    },
    {
     "name": "stdout",
     "output_type": "stream",
     "text": [
      "\n",
      "Debug: Frame 1 has 1 objects\n",
      "Object IDs: [1]\n",
      "Predicted bbox: [338, 233, 54, 102]\n",
      "\n",
      "Processing image 13/49: can_soymilk_000014.jpg\n",
      "Ground truth bbox: [271, 81, 69, 126]\n"
     ]
    },
    {
     "name": "stderr",
     "output_type": "stream",
     "text": [
      "frame loading (JPEG): 100%|██████████| 2/2 [00:00<00:00, 11.58it/s]\n",
      "propagate in video:   0%|          | 0/2 [00:00<?, ?it/s]"
     ]
    },
    {
     "name": "stdout",
     "output_type": "stream",
     "text": [
      "\n",
      "Debug: Frame 0 has 1 objects\n",
      "Object IDs: [1]\n"
     ]
    },
    {
     "name": "stderr",
     "output_type": "stream",
     "text": [
      "propagate in video: 100%|██████████| 2/2 [00:05<00:00,  2.65s/it]\n"
     ]
    },
    {
     "name": "stdout",
     "output_type": "stream",
     "text": [
      "\n",
      "Debug: Frame 1 has 1 objects\n",
      "Object IDs: [1]\n",
      "Predicted bbox: [148, 85, 307, 150]\n",
      "\n",
      "Processing image 14/49: can_soymilk_000015.jpg\n",
      "Ground truth bbox: [261, 40, 72, 114]\n"
     ]
    },
    {
     "name": "stderr",
     "output_type": "stream",
     "text": [
      "frame loading (JPEG): 100%|██████████| 2/2 [00:00<00:00, 12.58it/s]\n",
      "propagate in video:   0%|          | 0/2 [00:00<?, ?it/s]"
     ]
    },
    {
     "name": "stdout",
     "output_type": "stream",
     "text": [
      "\n",
      "Debug: Frame 0 has 1 objects\n",
      "Object IDs: [1]\n"
     ]
    },
    {
     "name": "stderr",
     "output_type": "stream",
     "text": [
      "propagate in video: 100%|██████████| 2/2 [00:05<00:00,  2.57s/it]\n"
     ]
    },
    {
     "name": "stdout",
     "output_type": "stream",
     "text": [
      "\n",
      "Debug: Frame 1 has 1 objects\n",
      "Object IDs: [1]\n",
      "Predicted bbox: [482, 210, 53, 132]\n",
      "\n",
      "Processing image 15/49: can_soymilk_000016.jpg\n",
      "Ground truth bbox: [251, 89, 61, 113]\n"
     ]
    },
    {
     "name": "stderr",
     "output_type": "stream",
     "text": [
      "frame loading (JPEG): 100%|██████████| 2/2 [00:00<00:00, 11.48it/s]\n",
      "propagate in video:   0%|          | 0/2 [00:00<?, ?it/s]"
     ]
    },
    {
     "name": "stdout",
     "output_type": "stream",
     "text": [
      "\n",
      "Debug: Frame 0 has 1 objects\n",
      "Object IDs: [1]\n"
     ]
    },
    {
     "name": "stderr",
     "output_type": "stream",
     "text": [
      "propagate in video: 100%|██████████| 2/2 [00:05<00:00,  2.56s/it]\n"
     ]
    },
    {
     "name": "stdout",
     "output_type": "stream",
     "text": [
      "\n",
      "Debug: Frame 1 has 1 objects\n",
      "Object IDs: [1]\n",
      "Predicted bbox: [0, 0, 0, 0]\n",
      "Warning: Empty prediction - skipping\n",
      "\n",
      "Processing image 16/49: can_soymilk_000017.jpg\n",
      "Ground truth bbox: [441, 204, 79, 131]\n"
     ]
    },
    {
     "name": "stderr",
     "output_type": "stream",
     "text": [
      "frame loading (JPEG): 100%|██████████| 2/2 [00:00<00:00, 12.28it/s]\n",
      "propagate in video:   0%|          | 0/2 [00:00<?, ?it/s]"
     ]
    },
    {
     "name": "stdout",
     "output_type": "stream",
     "text": [
      "\n",
      "Debug: Frame 0 has 1 objects\n",
      "Object IDs: [1]\n"
     ]
    },
    {
     "name": "stderr",
     "output_type": "stream",
     "text": [
      "propagate in video: 100%|██████████| 2/2 [00:05<00:00,  2.59s/it]\n"
     ]
    },
    {
     "name": "stdout",
     "output_type": "stream",
     "text": [
      "\n",
      "Debug: Frame 1 has 1 objects\n",
      "Object IDs: [1]\n",
      "Predicted bbox: [448, 282, 170, 145]\n",
      "\n",
      "Processing image 17/49: can_soymilk_000018.jpg\n",
      "Ground truth bbox: [254, 71, 55, 94]\n"
     ]
    },
    {
     "name": "stderr",
     "output_type": "stream",
     "text": [
      "frame loading (JPEG): 100%|██████████| 2/2 [00:00<00:00, 12.14it/s]\n",
      "propagate in video:   0%|          | 0/2 [00:00<?, ?it/s]"
     ]
    },
    {
     "name": "stdout",
     "output_type": "stream",
     "text": [
      "\n",
      "Debug: Frame 0 has 1 objects\n",
      "Object IDs: [1]\n"
     ]
    },
    {
     "name": "stderr",
     "output_type": "stream",
     "text": [
      "propagate in video: 100%|██████████| 2/2 [00:05<00:00,  2.56s/it]\n"
     ]
    },
    {
     "name": "stdout",
     "output_type": "stream",
     "text": [
      "\n",
      "Debug: Frame 1 has 1 objects\n",
      "Object IDs: [1]\n",
      "Predicted bbox: [0, 0, 0, 0]\n",
      "Warning: Empty prediction - skipping\n",
      "\n",
      "Processing image 18/49: can_soymilk_000019.jpg\n",
      "Ground truth bbox: [118, 165, 69, 114]\n"
     ]
    },
    {
     "name": "stderr",
     "output_type": "stream",
     "text": [
      "frame loading (JPEG): 100%|██████████| 2/2 [00:00<00:00, 12.54it/s]\n",
      "propagate in video:   0%|          | 0/2 [00:00<?, ?it/s]"
     ]
    },
    {
     "name": "stdout",
     "output_type": "stream",
     "text": [
      "\n",
      "Debug: Frame 0 has 1 objects\n",
      "Object IDs: [1]\n"
     ]
    },
    {
     "name": "stderr",
     "output_type": "stream",
     "text": [
      "propagate in video: 100%|██████████| 2/2 [00:05<00:00,  2.74s/it]\n"
     ]
    },
    {
     "name": "stdout",
     "output_type": "stream",
     "text": [
      "\n",
      "Debug: Frame 1 has 1 objects\n",
      "Object IDs: [1]\n",
      "Predicted bbox: [0, 0, 0, 0]\n",
      "Warning: Empty prediction - skipping\n",
      "\n",
      "Processing image 19/49: can_soymilk_000020.jpg\n",
      "Ground truth bbox: [341, 125, 49, 89]\n"
     ]
    },
    {
     "name": "stderr",
     "output_type": "stream",
     "text": [
      "frame loading (JPEG): 100%|██████████| 2/2 [00:00<00:00, 11.43it/s]\n",
      "propagate in video:   0%|          | 0/2 [00:00<?, ?it/s]"
     ]
    },
    {
     "name": "stdout",
     "output_type": "stream",
     "text": [
      "\n",
      "Debug: Frame 0 has 1 objects\n",
      "Object IDs: [1]\n"
     ]
    },
    {
     "name": "stderr",
     "output_type": "stream",
     "text": [
      "propagate in video: 100%|██████████| 2/2 [00:05<00:00,  2.68s/it]\n"
     ]
    },
    {
     "name": "stdout",
     "output_type": "stream",
     "text": [
      "\n",
      "Debug: Frame 1 has 1 objects\n",
      "Object IDs: [1]\n",
      "Predicted bbox: [348, 124, 137, 103]\n",
      "\n",
      "Processing image 20/49: can_soymilk_000021.jpg\n",
      "Ground truth bbox: [282, 253, 53, 102]\n"
     ]
    },
    {
     "name": "stderr",
     "output_type": "stream",
     "text": [
      "frame loading (JPEG): 100%|██████████| 2/2 [00:00<00:00, 13.37it/s]\n",
      "propagate in video:   0%|          | 0/2 [00:00<?, ?it/s]"
     ]
    },
    {
     "name": "stdout",
     "output_type": "stream",
     "text": [
      "\n",
      "Debug: Frame 0 has 1 objects\n",
      "Object IDs: [1]\n"
     ]
    },
    {
     "name": "stderr",
     "output_type": "stream",
     "text": [
      "propagate in video: 100%|██████████| 2/2 [00:05<00:00,  2.54s/it]\n"
     ]
    },
    {
     "name": "stdout",
     "output_type": "stream",
     "text": [
      "\n",
      "Debug: Frame 1 has 1 objects\n",
      "Object IDs: [1]\n",
      "Predicted bbox: [382, 254, 56, 100]\n",
      "\n",
      "Processing image 21/49: can_soymilk_000022.jpg\n",
      "Ground truth bbox: [412, 110, 128, 76]\n"
     ]
    },
    {
     "name": "stderr",
     "output_type": "stream",
     "text": [
      "frame loading (JPEG): 100%|██████████| 2/2 [00:00<00:00, 13.76it/s]\n",
      "propagate in video:   0%|          | 0/2 [00:00<?, ?it/s]"
     ]
    },
    {
     "name": "stdout",
     "output_type": "stream",
     "text": [
      "\n",
      "Debug: Frame 0 has 1 objects\n",
      "Object IDs: [1]\n"
     ]
    },
    {
     "name": "stderr",
     "output_type": "stream",
     "text": [
      "propagate in video: 100%|██████████| 2/2 [00:05<00:00,  2.51s/it]\n"
     ]
    },
    {
     "name": "stdout",
     "output_type": "stream",
     "text": [
      "\n",
      "Debug: Frame 1 has 1 objects\n",
      "Object IDs: [1]\n",
      "Predicted bbox: [516, 64, 123, 131]\n",
      "\n",
      "Processing image 22/49: can_soymilk_000023.jpg\n",
      "Ground truth bbox: [231, 197, 101, 173]\n"
     ]
    },
    {
     "name": "stderr",
     "output_type": "stream",
     "text": [
      "frame loading (JPEG): 100%|██████████| 2/2 [00:00<00:00, 15.23it/s]\n",
      "propagate in video:   0%|          | 0/2 [00:00<?, ?it/s]"
     ]
    },
    {
     "name": "stdout",
     "output_type": "stream",
     "text": [
      "\n",
      "Debug: Frame 0 has 1 objects\n",
      "Object IDs: [1]\n"
     ]
    },
    {
     "name": "stderr",
     "output_type": "stream",
     "text": [
      "propagate in video: 100%|██████████| 2/2 [00:04<00:00,  2.47s/it]\n"
     ]
    },
    {
     "name": "stdout",
     "output_type": "stream",
     "text": [
      "\n",
      "Debug: Frame 1 has 1 objects\n",
      "Object IDs: [1]\n",
      "Predicted bbox: [0, 0, 0, 0]\n",
      "Warning: Empty prediction - skipping\n",
      "\n",
      "Processing image 23/49: can_soymilk_000024.jpg\n",
      "Ground truth bbox: [349, 213, 104, 179]\n"
     ]
    },
    {
     "name": "stderr",
     "output_type": "stream",
     "text": [
      "frame loading (JPEG): 100%|██████████| 2/2 [00:00<00:00, 15.34it/s]\n",
      "propagate in video:   0%|          | 0/2 [00:00<?, ?it/s]"
     ]
    },
    {
     "name": "stdout",
     "output_type": "stream",
     "text": [
      "\n",
      "Debug: Frame 0 has 1 objects\n",
      "Object IDs: [1]\n"
     ]
    },
    {
     "name": "stderr",
     "output_type": "stream",
     "text": [
      "propagate in video: 100%|██████████| 2/2 [00:04<00:00,  2.46s/it]\n"
     ]
    },
    {
     "name": "stdout",
     "output_type": "stream",
     "text": [
      "\n",
      "Debug: Frame 1 has 1 objects\n",
      "Object IDs: [1]\n",
      "Predicted bbox: [352, 217, 102, 155]\n",
      "\n",
      "Processing image 24/49: can_soymilk_000025.jpg\n",
      "Ground truth bbox: [183, 166, 96, 166]\n"
     ]
    },
    {
     "name": "stderr",
     "output_type": "stream",
     "text": [
      "frame loading (JPEG): 100%|██████████| 2/2 [00:00<00:00, 14.19it/s]\n",
      "propagate in video:   0%|          | 0/2 [00:00<?, ?it/s]"
     ]
    },
    {
     "name": "stdout",
     "output_type": "stream",
     "text": [
      "\n",
      "Debug: Frame 0 has 1 objects\n",
      "Object IDs: [1]\n"
     ]
    },
    {
     "name": "stderr",
     "output_type": "stream",
     "text": [
      "propagate in video: 100%|██████████| 2/2 [00:04<00:00,  2.49s/it]\n"
     ]
    },
    {
     "name": "stdout",
     "output_type": "stream",
     "text": [
      "\n",
      "Debug: Frame 1 has 1 objects\n",
      "Object IDs: [1]\n",
      "Predicted bbox: [0, 0, 0, 0]\n",
      "Warning: Empty prediction - skipping\n",
      "\n",
      "Processing image 25/49: can_soymilk_000026.jpg\n",
      "Ground truth bbox: [170, 160, 114, 206]\n"
     ]
    },
    {
     "name": "stderr",
     "output_type": "stream",
     "text": [
      "frame loading (JPEG): 100%|██████████| 2/2 [00:00<00:00, 14.38it/s]\n",
      "propagate in video:   0%|          | 0/2 [00:00<?, ?it/s]"
     ]
    },
    {
     "name": "stdout",
     "output_type": "stream",
     "text": [
      "\n",
      "Debug: Frame 0 has 1 objects\n",
      "Object IDs: [1]\n"
     ]
    },
    {
     "name": "stderr",
     "output_type": "stream",
     "text": [
      "propagate in video: 100%|██████████| 2/2 [00:04<00:00,  2.46s/it]\n"
     ]
    },
    {
     "name": "stdout",
     "output_type": "stream",
     "text": [
      "\n",
      "Debug: Frame 1 has 1 objects\n",
      "Object IDs: [1]\n",
      "Predicted bbox: [479, 34, 114, 295]\n",
      "\n",
      "Processing image 26/49: can_soymilk_000027.jpg\n",
      "Ground truth bbox: [282, 136, 82, 144]\n"
     ]
    },
    {
     "name": "stderr",
     "output_type": "stream",
     "text": [
      "frame loading (JPEG): 100%|██████████| 2/2 [00:00<00:00, 14.42it/s]\n",
      "propagate in video:   0%|          | 0/2 [00:00<?, ?it/s]"
     ]
    },
    {
     "name": "stdout",
     "output_type": "stream",
     "text": [
      "\n",
      "Debug: Frame 0 has 1 objects\n",
      "Object IDs: [1]\n"
     ]
    },
    {
     "name": "stderr",
     "output_type": "stream",
     "text": [
      "propagate in video: 100%|██████████| 2/2 [00:04<00:00,  2.42s/it]\n"
     ]
    },
    {
     "name": "stdout",
     "output_type": "stream",
     "text": [
      "\n",
      "Debug: Frame 1 has 1 objects\n",
      "Object IDs: [1]\n",
      "Predicted bbox: [280, 134, 128, 145]\n",
      "\n",
      "Processing image 27/49: can_soymilk_000028.jpg\n",
      "Ground truth bbox: [171, 172, 92, 149]\n"
     ]
    },
    {
     "name": "stderr",
     "output_type": "stream",
     "text": [
      "frame loading (JPEG): 100%|██████████| 2/2 [00:00<00:00, 10.81it/s]\n",
      "propagate in video:   0%|          | 0/2 [00:00<?, ?it/s]"
     ]
    },
    {
     "name": "stdout",
     "output_type": "stream",
     "text": [
      "\n",
      "Debug: Frame 0 has 1 objects\n",
      "Object IDs: [1]\n"
     ]
    },
    {
     "name": "stderr",
     "output_type": "stream",
     "text": [
      "propagate in video: 100%|██████████| 2/2 [00:04<00:00,  2.45s/it]\n"
     ]
    },
    {
     "name": "stdout",
     "output_type": "stream",
     "text": [
      "\n",
      "Debug: Frame 1 has 1 objects\n",
      "Object IDs: [1]\n",
      "Predicted bbox: [0, 0, 0, 0]\n",
      "Warning: Empty prediction - skipping\n",
      "\n",
      "Processing image 28/49: can_soymilk_000029.jpg\n",
      "Ground truth bbox: [304, 175, 114, 179]\n"
     ]
    },
    {
     "name": "stderr",
     "output_type": "stream",
     "text": [
      "frame loading (JPEG): 100%|██████████| 2/2 [00:00<00:00, 12.85it/s]\n",
      "propagate in video:   0%|          | 0/2 [00:00<?, ?it/s]"
     ]
    },
    {
     "name": "stdout",
     "output_type": "stream",
     "text": [
      "\n",
      "Debug: Frame 0 has 1 objects\n",
      "Object IDs: [1]\n"
     ]
    },
    {
     "name": "stderr",
     "output_type": "stream",
     "text": [
      "propagate in video: 100%|██████████| 2/2 [00:04<00:00,  2.44s/it]\n"
     ]
    },
    {
     "name": "stdout",
     "output_type": "stream",
     "text": [
      "\n",
      "Debug: Frame 1 has 1 objects\n",
      "Object IDs: [1]\n",
      "Predicted bbox: [307, 175, 112, 167]\n",
      "\n",
      "Processing image 29/49: can_soymilk_000030.jpg\n",
      "Ground truth bbox: [228, 166, 104, 187]\n"
     ]
    },
    {
     "name": "stderr",
     "output_type": "stream",
     "text": [
      "frame loading (JPEG): 100%|██████████| 2/2 [00:00<00:00, 14.59it/s]\n",
      "propagate in video:   0%|          | 0/2 [00:00<?, ?it/s]"
     ]
    },
    {
     "name": "stdout",
     "output_type": "stream",
     "text": [
      "\n",
      "Debug: Frame 0 has 1 objects\n",
      "Object IDs: [1]\n"
     ]
    },
    {
     "name": "stderr",
     "output_type": "stream",
     "text": [
      "propagate in video: 100%|██████████| 2/2 [00:04<00:00,  2.47s/it]\n"
     ]
    },
    {
     "name": "stdout",
     "output_type": "stream",
     "text": [
      "\n",
      "Debug: Frame 1 has 1 objects\n",
      "Object IDs: [1]\n",
      "Predicted bbox: [230, 168, 237, 187]\n",
      "\n",
      "Processing image 30/49: can_soymilk_000031.jpg\n",
      "Ground truth bbox: [175, 169, 100, 169]\n"
     ]
    },
    {
     "name": "stderr",
     "output_type": "stream",
     "text": [
      "frame loading (JPEG): 100%|██████████| 2/2 [00:00<00:00, 12.05it/s]\n",
      "propagate in video:   0%|          | 0/2 [00:00<?, ?it/s]"
     ]
    },
    {
     "name": "stdout",
     "output_type": "stream",
     "text": [
      "\n",
      "Debug: Frame 0 has 1 objects\n",
      "Object IDs: [1]\n"
     ]
    },
    {
     "name": "stderr",
     "output_type": "stream",
     "text": [
      "propagate in video: 100%|██████████| 2/2 [00:04<00:00,  2.43s/it]\n"
     ]
    },
    {
     "name": "stdout",
     "output_type": "stream",
     "text": [
      "\n",
      "Debug: Frame 1 has 1 objects\n",
      "Object IDs: [1]\n",
      "Predicted bbox: [180, 132, 311, 208]\n",
      "\n",
      "Processing image 31/49: can_soymilk_000032.jpg\n",
      "Ground truth bbox: [191, 168, 115, 169]\n"
     ]
    },
    {
     "name": "stderr",
     "output_type": "stream",
     "text": [
      "frame loading (JPEG): 100%|██████████| 2/2 [00:00<00:00, 13.71it/s]\n",
      "propagate in video:   0%|          | 0/2 [00:00<?, ?it/s]"
     ]
    },
    {
     "name": "stdout",
     "output_type": "stream",
     "text": [
      "\n",
      "Debug: Frame 0 has 1 objects\n",
      "Object IDs: [1]\n"
     ]
    },
    {
     "name": "stderr",
     "output_type": "stream",
     "text": [
      "propagate in video: 100%|██████████| 2/2 [00:04<00:00,  2.38s/it]\n"
     ]
    },
    {
     "name": "stdout",
     "output_type": "stream",
     "text": [
      "\n",
      "Debug: Frame 1 has 1 objects\n",
      "Object IDs: [1]\n",
      "Predicted bbox: [0, 0, 0, 0]\n",
      "Warning: Empty prediction - skipping\n",
      "\n",
      "Processing image 32/49: can_soymilk_000033.jpg\n",
      "Ground truth bbox: [305, 124, 84, 150]\n"
     ]
    },
    {
     "name": "stderr",
     "output_type": "stream",
     "text": [
      "frame loading (JPEG): 100%|██████████| 2/2 [00:00<00:00, 14.06it/s]\n",
      "propagate in video:   0%|          | 0/2 [00:00<?, ?it/s]"
     ]
    },
    {
     "name": "stdout",
     "output_type": "stream",
     "text": [
      "\n",
      "Debug: Frame 0 has 1 objects\n",
      "Object IDs: [1]\n"
     ]
    },
    {
     "name": "stderr",
     "output_type": "stream",
     "text": [
      "propagate in video: 100%|██████████| 2/2 [00:05<00:00,  2.52s/it]\n"
     ]
    },
    {
     "name": "stdout",
     "output_type": "stream",
     "text": [
      "\n",
      "Debug: Frame 1 has 1 objects\n",
      "Object IDs: [1]\n",
      "Predicted bbox: [305, 128, 187, 146]\n",
      "\n",
      "Processing image 33/49: can_soymilk_000034.jpg\n",
      "Ground truth bbox: [246, 115, 89, 151]\n"
     ]
    },
    {
     "name": "stderr",
     "output_type": "stream",
     "text": [
      "frame loading (JPEG): 100%|██████████| 2/2 [00:00<00:00, 13.72it/s]\n",
      "propagate in video:   0%|          | 0/2 [00:00<?, ?it/s]"
     ]
    },
    {
     "name": "stdout",
     "output_type": "stream",
     "text": [
      "\n",
      "Debug: Frame 0 has 1 objects\n",
      "Object IDs: [1]\n"
     ]
    },
    {
     "name": "stderr",
     "output_type": "stream",
     "text": [
      "propagate in video: 100%|██████████| 2/2 [00:04<00:00,  2.43s/it]\n"
     ]
    },
    {
     "name": "stdout",
     "output_type": "stream",
     "text": [
      "\n",
      "Debug: Frame 1 has 1 objects\n",
      "Object IDs: [1]\n",
      "Predicted bbox: [249, 116, 217, 160]\n",
      "\n",
      "Processing image 34/49: can_soymilk_000035.jpg\n",
      "Ground truth bbox: [450, 241, 96, 174]\n"
     ]
    },
    {
     "name": "stderr",
     "output_type": "stream",
     "text": [
      "frame loading (JPEG): 100%|██████████| 2/2 [00:00<00:00, 13.89it/s]\n",
      "propagate in video:   0%|          | 0/2 [00:00<?, ?it/s]"
     ]
    },
    {
     "name": "stdout",
     "output_type": "stream",
     "text": [
      "\n",
      "Debug: Frame 0 has 1 objects\n",
      "Object IDs: [1]\n"
     ]
    },
    {
     "name": "stderr",
     "output_type": "stream",
     "text": [
      "propagate in video: 100%|██████████| 2/2 [00:04<00:00,  2.48s/it]\n"
     ]
    },
    {
     "name": "stdout",
     "output_type": "stream",
     "text": [
      "\n",
      "Debug: Frame 1 has 1 objects\n",
      "Object IDs: [1]\n",
      "Predicted bbox: [449, 247, 97, 167]\n",
      "\n",
      "Processing image 35/49: can_soymilk_000036.jpg\n",
      "Ground truth bbox: [285, 108, 91, 165]\n"
     ]
    },
    {
     "name": "stderr",
     "output_type": "stream",
     "text": [
      "frame loading (JPEG): 100%|██████████| 2/2 [00:00<00:00, 14.46it/s]\n",
      "propagate in video:   0%|          | 0/2 [00:00<?, ?it/s]"
     ]
    },
    {
     "name": "stdout",
     "output_type": "stream",
     "text": [
      "\n",
      "Debug: Frame 0 has 1 objects\n",
      "Object IDs: [1]\n"
     ]
    },
    {
     "name": "stderr",
     "output_type": "stream",
     "text": [
      "propagate in video: 100%|██████████| 2/2 [00:05<00:00,  2.51s/it]\n"
     ]
    },
    {
     "name": "stdout",
     "output_type": "stream",
     "text": [
      "\n",
      "Debug: Frame 1 has 1 objects\n",
      "Object IDs: [1]\n",
      "Predicted bbox: [455, 67, 176, 179]\n",
      "\n",
      "Processing image 36/49: can_soymilk_000037.jpg\n",
      "Ground truth bbox: [117, 137, 108, 155]\n"
     ]
    },
    {
     "name": "stderr",
     "output_type": "stream",
     "text": [
      "frame loading (JPEG): 100%|██████████| 2/2 [00:00<00:00, 13.94it/s]\n",
      "propagate in video:   0%|          | 0/2 [00:00<?, ?it/s]"
     ]
    },
    {
     "name": "stdout",
     "output_type": "stream",
     "text": [
      "\n",
      "Debug: Frame 0 has 1 objects\n",
      "Object IDs: [1]\n"
     ]
    },
    {
     "name": "stderr",
     "output_type": "stream",
     "text": [
      "propagate in video: 100%|██████████| 2/2 [00:04<00:00,  2.44s/it]\n"
     ]
    },
    {
     "name": "stdout",
     "output_type": "stream",
     "text": [
      "\n",
      "Debug: Frame 1 has 1 objects\n",
      "Object IDs: [1]\n",
      "Predicted bbox: [433, 84, 97, 143]\n",
      "\n",
      "Processing image 37/49: can_soymilk_000038.jpg\n",
      "Ground truth bbox: [182, 156, 93, 141]\n"
     ]
    },
    {
     "name": "stderr",
     "output_type": "stream",
     "text": [
      "frame loading (JPEG): 100%|██████████| 2/2 [00:00<00:00, 14.57it/s]\n",
      "propagate in video:   0%|          | 0/2 [00:00<?, ?it/s]"
     ]
    },
    {
     "name": "stdout",
     "output_type": "stream",
     "text": [
      "\n",
      "Debug: Frame 0 has 1 objects\n",
      "Object IDs: [1]\n"
     ]
    },
    {
     "name": "stderr",
     "output_type": "stream",
     "text": [
      "propagate in video: 100%|██████████| 2/2 [00:04<00:00,  2.49s/it]\n"
     ]
    },
    {
     "name": "stdout",
     "output_type": "stream",
     "text": [
      "\n",
      "Debug: Frame 1 has 1 objects\n",
      "Object IDs: [1]\n",
      "Predicted bbox: [439, 191, 192, 205]\n",
      "\n",
      "Processing image 38/49: can_soymilk_000039.jpg\n",
      "Ground truth bbox: [217, 138, 105, 179]\n"
     ]
    },
    {
     "name": "stderr",
     "output_type": "stream",
     "text": [
      "frame loading (JPEG): 100%|██████████| 2/2 [00:00<00:00, 14.67it/s]\n",
      "propagate in video:   0%|          | 0/2 [00:00<?, ?it/s]"
     ]
    },
    {
     "name": "stdout",
     "output_type": "stream",
     "text": [
      "\n",
      "Debug: Frame 0 has 1 objects\n",
      "Object IDs: [1]\n"
     ]
    },
    {
     "name": "stderr",
     "output_type": "stream",
     "text": [
      "propagate in video: 100%|██████████| 2/2 [00:05<00:00,  2.51s/it]\n"
     ]
    },
    {
     "name": "stdout",
     "output_type": "stream",
     "text": [
      "\n",
      "Debug: Frame 1 has 1 objects\n",
      "Object IDs: [1]\n",
      "Predicted bbox: [220, 142, 98, 172]\n",
      "\n",
      "Processing image 39/49: can_soymilk_000040.jpg\n",
      "Ground truth bbox: [245, 152, 95, 157]\n"
     ]
    },
    {
     "name": "stderr",
     "output_type": "stream",
     "text": [
      "frame loading (JPEG): 100%|██████████| 2/2 [00:00<00:00, 14.52it/s]\n",
      "propagate in video:   0%|          | 0/2 [00:00<?, ?it/s]"
     ]
    },
    {
     "name": "stdout",
     "output_type": "stream",
     "text": [
      "\n",
      "Debug: Frame 0 has 1 objects\n",
      "Object IDs: [1]\n"
     ]
    },
    {
     "name": "stderr",
     "output_type": "stream",
     "text": [
      "propagate in video: 100%|██████████| 2/2 [00:04<00:00,  2.49s/it]\n"
     ]
    },
    {
     "name": "stdout",
     "output_type": "stream",
     "text": [
      "\n",
      "Debug: Frame 1 has 1 objects\n",
      "Object IDs: [1]\n",
      "Predicted bbox: [244, 55, 137, 252]\n",
      "\n",
      "Processing image 40/49: can_soymilk_000041.jpg\n",
      "Ground truth bbox: [273, 158, 99, 163]\n"
     ]
    },
    {
     "name": "stderr",
     "output_type": "stream",
     "text": [
      "frame loading (JPEG): 100%|██████████| 2/2 [00:00<00:00, 15.04it/s]\n",
      "propagate in video:   0%|          | 0/2 [00:00<?, ?it/s]"
     ]
    },
    {
     "name": "stdout",
     "output_type": "stream",
     "text": [
      "\n",
      "Debug: Frame 0 has 1 objects\n",
      "Object IDs: [1]\n"
     ]
    },
    {
     "name": "stderr",
     "output_type": "stream",
     "text": [
      "propagate in video: 100%|██████████| 2/2 [00:04<00:00,  2.45s/it]\n"
     ]
    },
    {
     "name": "stdout",
     "output_type": "stream",
     "text": [
      "\n",
      "Debug: Frame 1 has 1 objects\n",
      "Object IDs: [1]\n",
      "Predicted bbox: [0, 0, 0, 0]\n",
      "Warning: Empty prediction - skipping\n",
      "\n",
      "Processing image 41/49: can_soymilk_000042.jpg\n",
      "Ground truth bbox: [117, 157, 112, 160]\n"
     ]
    },
    {
     "name": "stderr",
     "output_type": "stream",
     "text": [
      "frame loading (JPEG): 100%|██████████| 2/2 [00:00<00:00, 14.16it/s]\n",
      "propagate in video:   0%|          | 0/2 [00:00<?, ?it/s]"
     ]
    },
    {
     "name": "stdout",
     "output_type": "stream",
     "text": [
      "\n",
      "Debug: Frame 0 has 1 objects\n",
      "Object IDs: [1]\n"
     ]
    },
    {
     "name": "stderr",
     "output_type": "stream",
     "text": [
      "propagate in video: 100%|██████████| 2/2 [00:05<00:00,  2.52s/it]\n"
     ]
    },
    {
     "name": "stdout",
     "output_type": "stream",
     "text": [
      "\n",
      "Debug: Frame 1 has 1 objects\n",
      "Object IDs: [1]\n",
      "Predicted bbox: [534, 196, 105, 157]\n",
      "\n",
      "Processing image 42/49: can_soymilk_000043.jpg\n",
      "Ground truth bbox: [139, 125, 189, 130]\n"
     ]
    },
    {
     "name": "stderr",
     "output_type": "stream",
     "text": [
      "frame loading (JPEG): 100%|██████████| 2/2 [00:00<00:00, 14.31it/s]\n",
      "propagate in video:   0%|          | 0/2 [00:00<?, ?it/s]"
     ]
    },
    {
     "name": "stdout",
     "output_type": "stream",
     "text": [
      "\n",
      "Debug: Frame 0 has 1 objects\n",
      "Object IDs: [1]\n"
     ]
    },
    {
     "name": "stderr",
     "output_type": "stream",
     "text": [
      "propagate in video: 100%|██████████| 2/2 [00:04<00:00,  2.48s/it]\n"
     ]
    },
    {
     "name": "stdout",
     "output_type": "stream",
     "text": [
      "\n",
      "Debug: Frame 1 has 1 objects\n",
      "Object IDs: [1]\n",
      "Predicted bbox: [0, 0, 0, 0]\n",
      "Warning: Empty prediction - skipping\n",
      "\n",
      "Processing image 43/49: can_soymilk_000044.jpg\n",
      "Ground truth bbox: [276, 136, 91, 169]\n"
     ]
    },
    {
     "name": "stderr",
     "output_type": "stream",
     "text": [
      "frame loading (JPEG): 100%|██████████| 2/2 [00:00<00:00, 12.93it/s]\n",
      "propagate in video:   0%|          | 0/2 [00:00<?, ?it/s]"
     ]
    },
    {
     "name": "stdout",
     "output_type": "stream",
     "text": [
      "\n",
      "Debug: Frame 0 has 1 objects\n",
      "Object IDs: [1]\n"
     ]
    },
    {
     "name": "stderr",
     "output_type": "stream",
     "text": [
      "propagate in video: 100%|██████████| 2/2 [00:04<00:00,  2.47s/it]\n"
     ]
    },
    {
     "name": "stdout",
     "output_type": "stream",
     "text": [
      "\n",
      "Debug: Frame 1 has 1 objects\n",
      "Object IDs: [1]\n",
      "Predicted bbox: [276, 135, 93, 171]\n",
      "\n",
      "Processing image 44/49: can_soymilk_000045.jpg\n",
      "Ground truth bbox: [283, 194, 87, 144]\n"
     ]
    },
    {
     "name": "stderr",
     "output_type": "stream",
     "text": [
      "frame loading (JPEG): 100%|██████████| 2/2 [00:00<00:00, 14.16it/s]\n",
      "propagate in video:   0%|          | 0/2 [00:00<?, ?it/s]"
     ]
    },
    {
     "name": "stdout",
     "output_type": "stream",
     "text": [
      "\n",
      "Debug: Frame 0 has 1 objects\n",
      "Object IDs: [1]\n"
     ]
    },
    {
     "name": "stderr",
     "output_type": "stream",
     "text": [
      "propagate in video: 100%|██████████| 2/2 [00:04<00:00,  2.48s/it]\n"
     ]
    },
    {
     "name": "stdout",
     "output_type": "stream",
     "text": [
      "\n",
      "Debug: Frame 1 has 1 objects\n",
      "Object IDs: [1]\n",
      "Predicted bbox: [287, 194, 83, 144]\n",
      "\n",
      "Processing image 45/49: can_soymilk_000046.jpg\n",
      "Ground truth bbox: [249, 106, 97, 154]\n"
     ]
    },
    {
     "name": "stderr",
     "output_type": "stream",
     "text": [
      "frame loading (JPEG): 100%|██████████| 2/2 [00:00<00:00, 13.39it/s]\n",
      "propagate in video:   0%|          | 0/2 [00:00<?, ?it/s]"
     ]
    },
    {
     "name": "stdout",
     "output_type": "stream",
     "text": [
      "\n",
      "Debug: Frame 0 has 1 objects\n",
      "Object IDs: [1]\n"
     ]
    },
    {
     "name": "stderr",
     "output_type": "stream",
     "text": [
      "propagate in video: 100%|██████████| 2/2 [00:04<00:00,  2.49s/it]\n"
     ]
    },
    {
     "name": "stdout",
     "output_type": "stream",
     "text": [
      "\n",
      "Debug: Frame 1 has 1 objects\n",
      "Object IDs: [1]\n",
      "Predicted bbox: [98, 97, 363, 154]\n",
      "\n",
      "Processing image 46/49: can_soymilk_000047.jpg\n",
      "Ground truth bbox: [306, 168, 59, 133]\n"
     ]
    },
    {
     "name": "stderr",
     "output_type": "stream",
     "text": [
      "frame loading (JPEG): 100%|██████████| 2/2 [00:00<00:00, 12.62it/s]\n",
      "propagate in video:   0%|          | 0/2 [00:00<?, ?it/s]"
     ]
    },
    {
     "name": "stdout",
     "output_type": "stream",
     "text": [
      "\n",
      "Debug: Frame 0 has 1 objects\n",
      "Object IDs: [1]\n"
     ]
    },
    {
     "name": "stderr",
     "output_type": "stream",
     "text": [
      "propagate in video: 100%|██████████| 2/2 [00:04<00:00,  2.50s/it]\n"
     ]
    },
    {
     "name": "stdout",
     "output_type": "stream",
     "text": [
      "\n",
      "Debug: Frame 1 has 1 objects\n",
      "Object IDs: [1]\n",
      "Predicted bbox: [0, 0, 0, 0]\n",
      "Warning: Empty prediction - skipping\n",
      "\n",
      "Processing image 47/49: can_soymilk_000048.jpg\n",
      "Ground truth bbox: [275, 102, 89, 164]\n"
     ]
    },
    {
     "name": "stderr",
     "output_type": "stream",
     "text": [
      "frame loading (JPEG): 100%|██████████| 2/2 [00:00<00:00, 12.82it/s]\n",
      "propagate in video:   0%|          | 0/2 [00:00<?, ?it/s]"
     ]
    },
    {
     "name": "stdout",
     "output_type": "stream",
     "text": [
      "\n",
      "Debug: Frame 0 has 1 objects\n",
      "Object IDs: [1]\n"
     ]
    },
    {
     "name": "stderr",
     "output_type": "stream",
     "text": [
      "propagate in video: 100%|██████████| 2/2 [00:04<00:00,  2.47s/it]\n"
     ]
    },
    {
     "name": "stdout",
     "output_type": "stream",
     "text": [
      "\n",
      "Debug: Frame 1 has 1 objects\n",
      "Object IDs: [1]\n",
      "Predicted bbox: [278, 103, 86, 159]\n",
      "\n",
      "Processing image 48/49: can_soymilk_000049.jpg\n",
      "Ground truth bbox: [182, 149, 124, 206]\n"
     ]
    },
    {
     "name": "stderr",
     "output_type": "stream",
     "text": [
      "frame loading (JPEG): 100%|██████████| 2/2 [00:00<00:00,  9.88it/s]\n",
      "propagate in video:   0%|          | 0/2 [00:00<?, ?it/s]"
     ]
    },
    {
     "name": "stdout",
     "output_type": "stream",
     "text": [
      "\n",
      "Debug: Frame 0 has 1 objects\n",
      "Object IDs: [1]\n"
     ]
    },
    {
     "name": "stderr",
     "output_type": "stream",
     "text": [
      "propagate in video: 100%|██████████| 2/2 [00:04<00:00,  2.44s/it]\n"
     ]
    },
    {
     "name": "stdout",
     "output_type": "stream",
     "text": [
      "\n",
      "Debug: Frame 1 has 1 objects\n",
      "Object IDs: [1]\n",
      "Predicted bbox: [0, 0, 0, 0]\n",
      "Warning: Empty prediction - skipping\n",
      "\n",
      "Processing image 49/49: can_soymilk_000050.jpg\n",
      "Ground truth bbox: [83, 113, 76, 141]\n"
     ]
    },
    {
     "name": "stderr",
     "output_type": "stream",
     "text": [
      "frame loading (JPEG): 100%|██████████| 2/2 [00:00<00:00, 13.80it/s]\n",
      "propagate in video:   0%|          | 0/2 [00:00<?, ?it/s]"
     ]
    },
    {
     "name": "stdout",
     "output_type": "stream",
     "text": [
      "\n",
      "Debug: Frame 0 has 1 objects\n",
      "Object IDs: [1]\n"
     ]
    },
    {
     "name": "stderr",
     "output_type": "stream",
     "text": [
      "propagate in video: 100%|██████████| 2/2 [00:04<00:00,  2.42s/it]\n"
     ]
    },
    {
     "name": "stdout",
     "output_type": "stream",
     "text": [
      "\n",
      "Debug: Frame 1 has 1 objects\n",
      "Object IDs: [1]\n",
      "Predicted bbox: [507, 176, 103, 158]\n",
      "creating index...\n",
      "index created!\n",
      "Error in COCO evaluation: 'info'\n",
      "\n",
      "Evaluating can_tomatosoup...\n",
      "Using reference image: can_tomatosoup_000001.jpg\n",
      "Using reference mask: can_tomatosoup_000001_1_gt.png\n",
      "Reference bounding box: x=[127,202], y=[135,239]\n",
      "\n",
      "Processing image 1/49: can_tomatosoup_000002.jpg\n",
      "Ground truth bbox: [171, 133, 61, 88]\n"
     ]
    },
    {
     "name": "stderr",
     "output_type": "stream",
     "text": [
      "frame loading (JPEG): 100%|██████████| 2/2 [00:00<00:00, 14.45it/s]\n",
      "propagate in video:   0%|          | 0/2 [00:00<?, ?it/s]"
     ]
    },
    {
     "name": "stdout",
     "output_type": "stream",
     "text": [
      "\n",
      "Debug: Frame 0 has 1 objects\n",
      "Object IDs: [1]\n"
     ]
    },
    {
     "name": "stderr",
     "output_type": "stream",
     "text": [
      "propagate in video: 100%|██████████| 2/2 [00:05<00:00,  2.52s/it]\n"
     ]
    },
    {
     "name": "stdout",
     "output_type": "stream",
     "text": [
      "\n",
      "Debug: Frame 1 has 1 objects\n",
      "Object IDs: [1]\n",
      "Predicted bbox: [169, 131, 63, 93]\n",
      "\n",
      "Processing image 2/49: can_tomatosoup_000003.jpg\n",
      "Ground truth bbox: [400, 168, 60, 99]\n"
     ]
    },
    {
     "name": "stderr",
     "output_type": "stream",
     "text": [
      "frame loading (JPEG): 100%|██████████| 2/2 [00:00<00:00, 11.29it/s]\n",
      "propagate in video:   0%|          | 0/2 [00:00<?, ?it/s]"
     ]
    },
    {
     "name": "stdout",
     "output_type": "stream",
     "text": [
      "\n",
      "Debug: Frame 0 has 1 objects\n",
      "Object IDs: [1]\n"
     ]
    },
    {
     "name": "stderr",
     "output_type": "stream",
     "text": [
      "propagate in video: 100%|██████████| 2/2 [00:04<00:00,  2.42s/it]\n"
     ]
    },
    {
     "name": "stdout",
     "output_type": "stream",
     "text": [
      "\n",
      "Debug: Frame 1 has 1 objects\n",
      "Object IDs: [1]\n",
      "Predicted bbox: [405, 172, 133, 117]\n",
      "\n",
      "Processing image 3/49: can_tomatosoup_000004.jpg\n",
      "Ground truth bbox: [385, 106, 64, 105]\n"
     ]
    },
    {
     "name": "stderr",
     "output_type": "stream",
     "text": [
      "frame loading (JPEG): 100%|██████████| 2/2 [00:00<00:00, 12.93it/s]\n",
      "propagate in video:   0%|          | 0/2 [00:00<?, ?it/s]"
     ]
    },
    {
     "name": "stdout",
     "output_type": "stream",
     "text": [
      "\n",
      "Debug: Frame 0 has 1 objects\n",
      "Object IDs: [1]\n"
     ]
    },
    {
     "name": "stderr",
     "output_type": "stream",
     "text": [
      "propagate in video: 100%|██████████| 2/2 [00:04<00:00,  2.44s/it]\n"
     ]
    },
    {
     "name": "stdout",
     "output_type": "stream",
     "text": [
      "\n",
      "Debug: Frame 1 has 1 objects\n",
      "Object IDs: [1]\n",
      "Predicted bbox: [313, 105, 186, 139]\n",
      "\n",
      "Processing image 4/49: can_tomatosoup_000005.jpg\n",
      "Ground truth bbox: [374, 62, 86, 140]\n"
     ]
    },
    {
     "name": "stderr",
     "output_type": "stream",
     "text": [
      "frame loading (JPEG): 100%|██████████| 2/2 [00:00<00:00, 13.98it/s]\n",
      "propagate in video:   0%|          | 0/2 [00:00<?, ?it/s]"
     ]
    },
    {
     "name": "stdout",
     "output_type": "stream",
     "text": [
      "\n",
      "Debug: Frame 0 has 1 objects\n",
      "Object IDs: [1]\n"
     ]
    },
    {
     "name": "stderr",
     "output_type": "stream",
     "text": [
      "propagate in video: 100%|██████████| 2/2 [00:04<00:00,  2.48s/it]\n"
     ]
    },
    {
     "name": "stdout",
     "output_type": "stream",
     "text": [
      "\n",
      "Debug: Frame 1 has 1 objects\n",
      "Object IDs: [1]\n",
      "Predicted bbox: [0, 0, 0, 0]\n",
      "Warning: Empty prediction - skipping\n",
      "\n",
      "Processing image 5/49: can_tomatosoup_000006.jpg\n",
      "Ground truth bbox: [438, 22, 73, 114]\n"
     ]
    },
    {
     "name": "stderr",
     "output_type": "stream",
     "text": [
      "frame loading (JPEG): 100%|██████████| 2/2 [00:00<00:00, 13.93it/s]\n",
      "propagate in video:   0%|          | 0/2 [00:00<?, ?it/s]"
     ]
    },
    {
     "name": "stdout",
     "output_type": "stream",
     "text": [
      "\n",
      "Debug: Frame 0 has 1 objects\n",
      "Object IDs: [1]\n"
     ]
    },
    {
     "name": "stderr",
     "output_type": "stream",
     "text": [
      "propagate in video: 100%|██████████| 2/2 [00:04<00:00,  2.48s/it]\n"
     ]
    },
    {
     "name": "stdout",
     "output_type": "stream",
     "text": [
      "\n",
      "Debug: Frame 1 has 1 objects\n",
      "Object IDs: [1]\n",
      "Predicted bbox: [136, 268, 190, 192]\n",
      "\n",
      "Processing image 6/49: can_tomatosoup_000007.jpg\n",
      "Ground truth bbox: [369, 7, 72, 114]\n"
     ]
    },
    {
     "name": "stderr",
     "output_type": "stream",
     "text": [
      "frame loading (JPEG): 100%|██████████| 2/2 [00:00<00:00, 14.29it/s]\n",
      "propagate in video:   0%|          | 0/2 [00:00<?, ?it/s]"
     ]
    },
    {
     "name": "stdout",
     "output_type": "stream",
     "text": [
      "\n",
      "Debug: Frame 0 has 1 objects\n",
      "Object IDs: [1]\n"
     ]
    },
    {
     "name": "stderr",
     "output_type": "stream",
     "text": [
      "propagate in video: 100%|██████████| 2/2 [00:05<00:00,  2.54s/it]\n"
     ]
    },
    {
     "name": "stdout",
     "output_type": "stream",
     "text": [
      "\n",
      "Debug: Frame 1 has 1 objects\n",
      "Object IDs: [1]\n",
      "Predicted bbox: [0, 0, 0, 0]\n",
      "Warning: Empty prediction - skipping\n",
      "\n",
      "Processing image 7/49: can_tomatosoup_000008.jpg\n",
      "Ground truth bbox: [398, 61, 60, 90]\n"
     ]
    },
    {
     "name": "stderr",
     "output_type": "stream",
     "text": [
      "frame loading (JPEG): 100%|██████████| 2/2 [00:00<00:00, 13.54it/s]\n",
      "propagate in video:   0%|          | 0/2 [00:00<?, ?it/s]"
     ]
    },
    {
     "name": "stdout",
     "output_type": "stream",
     "text": [
      "\n",
      "Debug: Frame 0 has 1 objects\n",
      "Object IDs: [1]\n"
     ]
    },
    {
     "name": "stderr",
     "output_type": "stream",
     "text": [
      "propagate in video: 100%|██████████| 2/2 [00:04<00:00,  2.42s/it]\n"
     ]
    },
    {
     "name": "stdout",
     "output_type": "stream",
     "text": [
      "\n",
      "Debug: Frame 1 has 1 objects\n",
      "Object IDs: [1]\n",
      "Predicted bbox: [142, 274, 156, 169]\n",
      "\n",
      "Processing image 8/49: can_tomatosoup_000009.jpg\n",
      "Ground truth bbox: [340, 145, 67, 120]\n"
     ]
    },
    {
     "name": "stderr",
     "output_type": "stream",
     "text": [
      "frame loading (JPEG): 100%|██████████| 2/2 [00:00<00:00, 14.29it/s]\n",
      "propagate in video:   0%|          | 0/2 [00:00<?, ?it/s]"
     ]
    },
    {
     "name": "stdout",
     "output_type": "stream",
     "text": [
      "\n",
      "Debug: Frame 0 has 1 objects\n",
      "Object IDs: [1]\n"
     ]
    },
    {
     "name": "stderr",
     "output_type": "stream",
     "text": [
      "propagate in video: 100%|██████████| 2/2 [00:05<00:00,  2.54s/it]\n"
     ]
    },
    {
     "name": "stdout",
     "output_type": "stream",
     "text": [
      "\n",
      "Debug: Frame 1 has 1 objects\n",
      "Object IDs: [1]\n",
      "Predicted bbox: [0, 0, 0, 0]\n",
      "Warning: Empty prediction - skipping\n",
      "\n",
      "Processing image 9/49: can_tomatosoup_000010.jpg\n",
      "Ground truth bbox: [371, 99, 90, 142]\n"
     ]
    },
    {
     "name": "stderr",
     "output_type": "stream",
     "text": [
      "frame loading (JPEG): 100%|██████████| 2/2 [00:00<00:00, 14.37it/s]\n",
      "propagate in video:   0%|          | 0/2 [00:00<?, ?it/s]"
     ]
    },
    {
     "name": "stdout",
     "output_type": "stream",
     "text": [
      "\n",
      "Debug: Frame 0 has 1 objects\n",
      "Object IDs: [1]\n"
     ]
    },
    {
     "name": "stderr",
     "output_type": "stream",
     "text": [
      "propagate in video: 100%|██████████| 2/2 [00:05<00:00,  2.52s/it]\n"
     ]
    },
    {
     "name": "stdout",
     "output_type": "stream",
     "text": [
      "\n",
      "Debug: Frame 1 has 1 objects\n",
      "Object IDs: [1]\n",
      "Predicted bbox: [0, 0, 0, 0]\n",
      "Warning: Empty prediction - skipping\n",
      "\n",
      "Processing image 10/49: can_tomatosoup_000011.jpg\n",
      "Ground truth bbox: [49, 14, 120, 155]\n"
     ]
    },
    {
     "name": "stderr",
     "output_type": "stream",
     "text": [
      "frame loading (JPEG): 100%|██████████| 2/2 [00:00<00:00, 14.31it/s]\n",
      "propagate in video:   0%|          | 0/2 [00:00<?, ?it/s]"
     ]
    },
    {
     "name": "stdout",
     "output_type": "stream",
     "text": [
      "\n",
      "Debug: Frame 0 has 1 objects\n",
      "Object IDs: [1]\n"
     ]
    },
    {
     "name": "stderr",
     "output_type": "stream",
     "text": [
      "propagate in video: 100%|██████████| 2/2 [00:04<00:00,  2.46s/it]\n"
     ]
    },
    {
     "name": "stdout",
     "output_type": "stream",
     "text": [
      "\n",
      "Debug: Frame 1 has 1 objects\n",
      "Object IDs: [1]\n",
      "Predicted bbox: [48, 2, 120, 166]\n",
      "\n",
      "Processing image 11/49: can_tomatosoup_000012.jpg\n",
      "Ground truth bbox: [109, 43, 80, 110]\n"
     ]
    },
    {
     "name": "stderr",
     "output_type": "stream",
     "text": [
      "frame loading (JPEG): 100%|██████████| 2/2 [00:00<00:00, 14.54it/s]\n",
      "propagate in video:   0%|          | 0/2 [00:00<?, ?it/s]"
     ]
    },
    {
     "name": "stdout",
     "output_type": "stream",
     "text": [
      "\n",
      "Debug: Frame 0 has 1 objects\n",
      "Object IDs: [1]\n"
     ]
    },
    {
     "name": "stderr",
     "output_type": "stream",
     "text": [
      "propagate in video: 100%|██████████| 2/2 [00:04<00:00,  2.40s/it]\n"
     ]
    },
    {
     "name": "stdout",
     "output_type": "stream",
     "text": [
      "\n",
      "Debug: Frame 1 has 1 objects\n",
      "Object IDs: [1]\n",
      "Predicted bbox: [111, 0, 80, 151]\n",
      "\n",
      "Processing image 12/49: can_tomatosoup_000013.jpg\n",
      "Ground truth bbox: [327, 90, 77, 125]\n"
     ]
    },
    {
     "name": "stderr",
     "output_type": "stream",
     "text": [
      "frame loading (JPEG): 100%|██████████| 2/2 [00:00<00:00, 13.86it/s]\n",
      "propagate in video:   0%|          | 0/2 [00:00<?, ?it/s]"
     ]
    },
    {
     "name": "stdout",
     "output_type": "stream",
     "text": [
      "\n",
      "Debug: Frame 0 has 1 objects\n",
      "Object IDs: [1]\n"
     ]
    },
    {
     "name": "stderr",
     "output_type": "stream",
     "text": [
      "propagate in video: 100%|██████████| 2/2 [00:04<00:00,  2.49s/it]\n"
     ]
    },
    {
     "name": "stdout",
     "output_type": "stream",
     "text": [
      "\n",
      "Debug: Frame 1 has 1 objects\n",
      "Object IDs: [1]\n",
      "Predicted bbox: [0, 0, 0, 0]\n",
      "Warning: Empty prediction - skipping\n",
      "\n",
      "Processing image 13/49: can_tomatosoup_000014.jpg\n",
      "Ground truth bbox: [260, 81, 79, 126]\n"
     ]
    },
    {
     "name": "stderr",
     "output_type": "stream",
     "text": [
      "frame loading (JPEG): 100%|██████████| 2/2 [00:00<00:00, 13.98it/s]\n",
      "propagate in video:   0%|          | 0/2 [00:00<?, ?it/s]"
     ]
    },
    {
     "name": "stdout",
     "output_type": "stream",
     "text": [
      "\n",
      "Debug: Frame 0 has 1 objects\n",
      "Object IDs: [1]\n"
     ]
    },
    {
     "name": "stderr",
     "output_type": "stream",
     "text": [
      "propagate in video: 100%|██████████| 2/2 [00:05<00:00,  2.56s/it]\n"
     ]
    },
    {
     "name": "stdout",
     "output_type": "stream",
     "text": [
      "\n",
      "Debug: Frame 1 has 1 objects\n",
      "Object IDs: [1]\n",
      "Predicted bbox: [0, 0, 0, 0]\n",
      "Warning: Empty prediction - skipping\n",
      "\n",
      "Processing image 14/49: can_tomatosoup_000015.jpg\n",
      "Ground truth bbox: [227, 142, 79, 108]\n"
     ]
    },
    {
     "name": "stderr",
     "output_type": "stream",
     "text": [
      "frame loading (JPEG): 100%|██████████| 2/2 [00:00<00:00, 14.31it/s]\n",
      "propagate in video:   0%|          | 0/2 [00:00<?, ?it/s]"
     ]
    },
    {
     "name": "stdout",
     "output_type": "stream",
     "text": [
      "\n",
      "Debug: Frame 0 has 1 objects\n",
      "Object IDs: [1]\n"
     ]
    },
    {
     "name": "stderr",
     "output_type": "stream",
     "text": [
      "propagate in video: 100%|██████████| 2/2 [00:05<00:00,  2.52s/it]\n"
     ]
    },
    {
     "name": "stdout",
     "output_type": "stream",
     "text": [
      "\n",
      "Debug: Frame 1 has 1 objects\n",
      "Object IDs: [1]\n",
      "Predicted bbox: [0, 0, 0, 0]\n",
      "Warning: Empty prediction - skipping\n",
      "\n",
      "Processing image 15/49: can_tomatosoup_000016.jpg\n",
      "Ground truth bbox: [283, 188, 79, 128]\n"
     ]
    },
    {
     "name": "stderr",
     "output_type": "stream",
     "text": [
      "frame loading (JPEG): 100%|██████████| 2/2 [00:00<00:00, 13.72it/s]\n",
      "propagate in video:   0%|          | 0/2 [00:00<?, ?it/s]"
     ]
    },
    {
     "name": "stdout",
     "output_type": "stream",
     "text": [
      "\n",
      "Debug: Frame 0 has 1 objects\n",
      "Object IDs: [1]\n"
     ]
    },
    {
     "name": "stderr",
     "output_type": "stream",
     "text": [
      "propagate in video: 100%|██████████| 2/2 [00:04<00:00,  2.49s/it]\n"
     ]
    },
    {
     "name": "stdout",
     "output_type": "stream",
     "text": [
      "\n",
      "Debug: Frame 1 has 1 objects\n",
      "Object IDs: [1]\n",
      "Predicted bbox: [0, 0, 0, 0]\n",
      "Warning: Empty prediction - skipping\n",
      "\n",
      "Processing image 16/49: can_tomatosoup_000017.jpg\n",
      "Ground truth bbox: [238, 53, 90, 130]\n"
     ]
    },
    {
     "name": "stderr",
     "output_type": "stream",
     "text": [
      "frame loading (JPEG): 100%|██████████| 2/2 [00:00<00:00, 12.86it/s]\n",
      "propagate in video:   0%|          | 0/2 [00:00<?, ?it/s]"
     ]
    },
    {
     "name": "stdout",
     "output_type": "stream",
     "text": [
      "\n",
      "Debug: Frame 0 has 1 objects\n",
      "Object IDs: [1]\n"
     ]
    },
    {
     "name": "stderr",
     "output_type": "stream",
     "text": [
      "propagate in video: 100%|██████████| 2/2 [00:05<00:00,  2.52s/it]\n"
     ]
    },
    {
     "name": "stdout",
     "output_type": "stream",
     "text": [
      "\n",
      "Debug: Frame 1 has 1 objects\n",
      "Object IDs: [1]\n",
      "Predicted bbox: [0, 0, 0, 0]\n",
      "Warning: Empty prediction - skipping\n",
      "\n",
      "Processing image 17/49: can_tomatosoup_000018.jpg\n",
      "Ground truth bbox: [193, 167, 88, 144]\n"
     ]
    },
    {
     "name": "stderr",
     "output_type": "stream",
     "text": [
      "frame loading (JPEG): 100%|██████████| 2/2 [00:00<00:00, 13.23it/s]\n",
      "propagate in video:   0%|          | 0/2 [00:00<?, ?it/s]"
     ]
    },
    {
     "name": "stdout",
     "output_type": "stream",
     "text": [
      "\n",
      "Debug: Frame 0 has 1 objects\n",
      "Object IDs: [1]\n"
     ]
    },
    {
     "name": "stderr",
     "output_type": "stream",
     "text": [
      "propagate in video: 100%|██████████| 2/2 [00:04<00:00,  2.46s/it]\n"
     ]
    },
    {
     "name": "stdout",
     "output_type": "stream",
     "text": [
      "\n",
      "Debug: Frame 1 has 1 objects\n",
      "Object IDs: [1]\n",
      "Predicted bbox: [0, 0, 0, 0]\n",
      "Warning: Empty prediction - skipping\n",
      "\n",
      "Processing image 18/49: can_tomatosoup_000019.jpg\n",
      "Ground truth bbox: [279, 255, 75, 132]\n"
     ]
    },
    {
     "name": "stderr",
     "output_type": "stream",
     "text": [
      "frame loading (JPEG): 100%|██████████| 2/2 [00:00<00:00, 14.03it/s]\n",
      "propagate in video:   0%|          | 0/2 [00:00<?, ?it/s]"
     ]
    },
    {
     "name": "stdout",
     "output_type": "stream",
     "text": [
      "\n",
      "Debug: Frame 0 has 1 objects\n",
      "Object IDs: [1]\n"
     ]
    },
    {
     "name": "stderr",
     "output_type": "stream",
     "text": [
      "propagate in video: 100%|██████████| 2/2 [00:04<00:00,  2.46s/it]\n"
     ]
    },
    {
     "name": "stdout",
     "output_type": "stream",
     "text": [
      "\n",
      "Debug: Frame 1 has 1 objects\n",
      "Object IDs: [1]\n",
      "Predicted bbox: [230, 216, 227, 169]\n",
      "\n",
      "Processing image 19/49: can_tomatosoup_000020.jpg\n",
      "Ground truth bbox: [394, 209, 51, 90]\n"
     ]
    },
    {
     "name": "stderr",
     "output_type": "stream",
     "text": [
      "frame loading (JPEG): 100%|██████████| 2/2 [00:00<00:00, 14.42it/s]\n",
      "propagate in video:   0%|          | 0/2 [00:00<?, ?it/s]"
     ]
    },
    {
     "name": "stdout",
     "output_type": "stream",
     "text": [
      "\n",
      "Debug: Frame 0 has 1 objects\n",
      "Object IDs: [1]\n"
     ]
    },
    {
     "name": "stderr",
     "output_type": "stream",
     "text": [
      "propagate in video: 100%|██████████| 2/2 [00:05<00:00,  2.54s/it]\n"
     ]
    },
    {
     "name": "stdout",
     "output_type": "stream",
     "text": [
      "\n",
      "Debug: Frame 1 has 1 objects\n",
      "Object IDs: [1]\n",
      "Predicted bbox: [0, 0, 0, 0]\n",
      "Warning: Empty prediction - skipping\n",
      "\n",
      "Processing image 20/49: can_tomatosoup_000021.jpg\n",
      "Ground truth bbox: [198, 112, 81, 116]\n"
     ]
    },
    {
     "name": "stderr",
     "output_type": "stream",
     "text": [
      "frame loading (JPEG): 100%|██████████| 2/2 [00:00<00:00, 14.00it/s]\n",
      "propagate in video:   0%|          | 0/2 [00:00<?, ?it/s]"
     ]
    },
    {
     "name": "stdout",
     "output_type": "stream",
     "text": [
      "\n",
      "Debug: Frame 0 has 1 objects\n",
      "Object IDs: [1]\n"
     ]
    },
    {
     "name": "stderr",
     "output_type": "stream",
     "text": [
      "propagate in video: 100%|██████████| 2/2 [00:04<00:00,  2.43s/it]\n"
     ]
    },
    {
     "name": "stdout",
     "output_type": "stream",
     "text": [
      "\n",
      "Debug: Frame 1 has 1 objects\n",
      "Object IDs: [1]\n",
      "Predicted bbox: [0, 0, 0, 0]\n",
      "Warning: Empty prediction - skipping\n",
      "\n",
      "Processing image 21/49: can_tomatosoup_000022.jpg\n",
      "Ground truth bbox: [251, 127, 86, 153]\n"
     ]
    },
    {
     "name": "stderr",
     "output_type": "stream",
     "text": [
      "frame loading (JPEG): 100%|██████████| 2/2 [00:00<00:00,  8.85it/s]\n",
      "propagate in video:   0%|          | 0/2 [00:00<?, ?it/s]"
     ]
    },
    {
     "name": "stdout",
     "output_type": "stream",
     "text": [
      "\n",
      "Debug: Frame 0 has 1 objects\n",
      "Object IDs: [1]\n"
     ]
    },
    {
     "name": "stderr",
     "output_type": "stream",
     "text": [
      "propagate in video: 100%|██████████| 2/2 [00:04<00:00,  2.48s/it]\n"
     ]
    },
    {
     "name": "stdout",
     "output_type": "stream",
     "text": [
      "\n",
      "Debug: Frame 1 has 1 objects\n",
      "Object IDs: [1]\n",
      "Predicted bbox: [0, 0, 0, 0]\n",
      "Warning: Empty prediction - skipping\n",
      "\n",
      "Processing image 22/49: can_tomatosoup_000023.jpg\n",
      "Ground truth bbox: [407, 99, 92, 161]\n"
     ]
    },
    {
     "name": "stderr",
     "output_type": "stream",
     "text": [
      "frame loading (JPEG): 100%|██████████| 2/2 [00:00<00:00, 13.54it/s]\n",
      "propagate in video:   0%|          | 0/2 [00:00<?, ?it/s]"
     ]
    },
    {
     "name": "stdout",
     "output_type": "stream",
     "text": [
      "\n",
      "Debug: Frame 0 has 1 objects\n",
      "Object IDs: [1]\n"
     ]
    },
    {
     "name": "stderr",
     "output_type": "stream",
     "text": [
      "propagate in video: 100%|██████████| 2/2 [00:04<00:00,  2.49s/it]\n"
     ]
    },
    {
     "name": "stdout",
     "output_type": "stream",
     "text": [
      "\n",
      "Debug: Frame 1 has 1 objects\n",
      "Object IDs: [1]\n",
      "Predicted bbox: [0, 0, 0, 0]\n",
      "Warning: Empty prediction - skipping\n",
      "\n",
      "Processing image 23/49: can_tomatosoup_000024.jpg\n",
      "Ground truth bbox: [237, 81, 75, 126]\n"
     ]
    },
    {
     "name": "stderr",
     "output_type": "stream",
     "text": [
      "frame loading (JPEG): 100%|██████████| 2/2 [00:00<00:00, 13.22it/s]\n",
      "propagate in video:   0%|          | 0/2 [00:00<?, ?it/s]"
     ]
    },
    {
     "name": "stdout",
     "output_type": "stream",
     "text": [
      "\n",
      "Debug: Frame 0 has 1 objects\n",
      "Object IDs: [1]\n"
     ]
    },
    {
     "name": "stderr",
     "output_type": "stream",
     "text": [
      "propagate in video: 100%|██████████| 2/2 [00:05<00:00,  2.51s/it]\n"
     ]
    },
    {
     "name": "stdout",
     "output_type": "stream",
     "text": [
      "\n",
      "Debug: Frame 1 has 1 objects\n",
      "Object IDs: [1]\n",
      "Predicted bbox: [316, 169, 232, 210]\n",
      "\n",
      "Processing image 24/49: can_tomatosoup_000025.jpg\n",
      "Ground truth bbox: [236, 219, 78, 126]\n"
     ]
    },
    {
     "name": "stderr",
     "output_type": "stream",
     "text": [
      "frame loading (JPEG): 100%|██████████| 2/2 [00:00<00:00, 13.03it/s]\n",
      "propagate in video:   0%|          | 0/2 [00:00<?, ?it/s]"
     ]
    },
    {
     "name": "stdout",
     "output_type": "stream",
     "text": [
      "\n",
      "Debug: Frame 0 has 1 objects\n",
      "Object IDs: [1]\n"
     ]
    },
    {
     "name": "stderr",
     "output_type": "stream",
     "text": [
      "propagate in video: 100%|██████████| 2/2 [00:04<00:00,  2.44s/it]\n"
     ]
    },
    {
     "name": "stdout",
     "output_type": "stream",
     "text": [
      "\n",
      "Debug: Frame 1 has 1 objects\n",
      "Object IDs: [1]\n",
      "Predicted bbox: [150, 197, 219, 148]\n",
      "\n",
      "Processing image 25/49: can_tomatosoup_000026.jpg\n",
      "Ground truth bbox: [277, 137, 71, 120]\n"
     ]
    },
    {
     "name": "stderr",
     "output_type": "stream",
     "text": [
      "frame loading (JPEG): 100%|██████████| 2/2 [00:00<00:00, 13.52it/s]\n",
      "propagate in video:   0%|          | 0/2 [00:00<?, ?it/s]"
     ]
    },
    {
     "name": "stdout",
     "output_type": "stream",
     "text": [
      "\n",
      "Debug: Frame 0 has 1 objects\n",
      "Object IDs: [1]\n"
     ]
    },
    {
     "name": "stderr",
     "output_type": "stream",
     "text": [
      "propagate in video: 100%|██████████| 2/2 [00:05<00:00,  2.56s/it]\n"
     ]
    },
    {
     "name": "stdout",
     "output_type": "stream",
     "text": [
      "\n",
      "Debug: Frame 1 has 1 objects\n",
      "Object IDs: [1]\n",
      "Predicted bbox: [0, 0, 0, 0]\n",
      "Warning: Empty prediction - skipping\n",
      "\n",
      "Processing image 26/49: can_tomatosoup_000027.jpg\n",
      "Ground truth bbox: [324, 152, 80, 133]\n"
     ]
    },
    {
     "name": "stderr",
     "output_type": "stream",
     "text": [
      "frame loading (JPEG): 100%|██████████| 2/2 [00:00<00:00, 10.38it/s]\n",
      "propagate in video:   0%|          | 0/2 [00:00<?, ?it/s]"
     ]
    },
    {
     "name": "stdout",
     "output_type": "stream",
     "text": [
      "\n",
      "Debug: Frame 0 has 1 objects\n",
      "Object IDs: [1]\n"
     ]
    },
    {
     "name": "stderr",
     "output_type": "stream",
     "text": [
      "propagate in video: 100%|██████████| 2/2 [00:04<00:00,  2.42s/it]\n"
     ]
    },
    {
     "name": "stdout",
     "output_type": "stream",
     "text": [
      "\n",
      "Debug: Frame 1 has 1 objects\n",
      "Object IDs: [1]\n",
      "Predicted bbox: [0, 0, 0, 0]\n",
      "Warning: Empty prediction - skipping\n",
      "\n",
      "Processing image 27/49: can_tomatosoup_000028.jpg\n",
      "Ground truth bbox: [289, 237, 70, 121]\n"
     ]
    },
    {
     "name": "stderr",
     "output_type": "stream",
     "text": [
      "frame loading (JPEG): 100%|██████████| 2/2 [00:00<00:00, 12.48it/s]\n",
      "propagate in video:   0%|          | 0/2 [00:00<?, ?it/s]"
     ]
    },
    {
     "name": "stdout",
     "output_type": "stream",
     "text": [
      "\n",
      "Debug: Frame 0 has 1 objects\n",
      "Object IDs: [1]\n"
     ]
    },
    {
     "name": "stderr",
     "output_type": "stream",
     "text": [
      "propagate in video: 100%|██████████| 2/2 [00:04<00:00,  2.49s/it]\n"
     ]
    },
    {
     "name": "stdout",
     "output_type": "stream",
     "text": [
      "\n",
      "Debug: Frame 1 has 1 objects\n",
      "Object IDs: [1]\n",
      "Predicted bbox: [0, 0, 0, 0]\n",
      "Warning: Empty prediction - skipping\n",
      "\n",
      "Processing image 28/49: can_tomatosoup_000029.jpg\n",
      "Ground truth bbox: [438, 180, 67, 95]\n"
     ]
    },
    {
     "name": "stderr",
     "output_type": "stream",
     "text": [
      "frame loading (JPEG): 100%|██████████| 2/2 [00:00<00:00, 14.65it/s]\n",
      "propagate in video:   0%|          | 0/2 [00:00<?, ?it/s]"
     ]
    },
    {
     "name": "stdout",
     "output_type": "stream",
     "text": [
      "\n",
      "Debug: Frame 0 has 1 objects\n",
      "Object IDs: [1]\n"
     ]
    },
    {
     "name": "stderr",
     "output_type": "stream",
     "text": [
      "propagate in video: 100%|██████████| 2/2 [00:04<00:00,  2.47s/it]\n"
     ]
    },
    {
     "name": "stdout",
     "output_type": "stream",
     "text": [
      "\n",
      "Debug: Frame 1 has 1 objects\n",
      "Object IDs: [1]\n",
      "Predicted bbox: [0, 0, 0, 0]\n",
      "Warning: Empty prediction - skipping\n",
      "\n",
      "Processing image 29/49: can_tomatosoup_000030.jpg\n",
      "Ground truth bbox: [314, 265, 89, 126]\n"
     ]
    },
    {
     "name": "stderr",
     "output_type": "stream",
     "text": [
      "frame loading (JPEG): 100%|██████████| 2/2 [00:00<00:00, 17.28it/s]\n",
      "propagate in video:   0%|          | 0/2 [00:00<?, ?it/s]"
     ]
    },
    {
     "name": "stdout",
     "output_type": "stream",
     "text": [
      "\n",
      "Debug: Frame 0 has 1 objects\n",
      "Object IDs: [1]\n"
     ]
    },
    {
     "name": "stderr",
     "output_type": "stream",
     "text": [
      "propagate in video: 100%|██████████| 2/2 [00:04<00:00,  2.44s/it]\n"
     ]
    },
    {
     "name": "stdout",
     "output_type": "stream",
     "text": [
      "\n",
      "Debug: Frame 1 has 1 objects\n",
      "Object IDs: [1]\n",
      "Predicted bbox: [0, 0, 0, 0]\n",
      "Warning: Empty prediction - skipping\n",
      "\n",
      "Processing image 30/49: can_tomatosoup_000031.jpg\n",
      "Ground truth bbox: [256, 221, 75, 131]\n"
     ]
    },
    {
     "name": "stderr",
     "output_type": "stream",
     "text": [
      "frame loading (JPEG): 100%|██████████| 2/2 [00:00<00:00, 17.08it/s]\n",
      "propagate in video:   0%|          | 0/2 [00:00<?, ?it/s]"
     ]
    },
    {
     "name": "stdout",
     "output_type": "stream",
     "text": [
      "\n",
      "Debug: Frame 0 has 1 objects\n",
      "Object IDs: [1]\n"
     ]
    },
    {
     "name": "stderr",
     "output_type": "stream",
     "text": [
      "propagate in video: 100%|██████████| 2/2 [00:04<00:00,  2.45s/it]\n"
     ]
    },
    {
     "name": "stdout",
     "output_type": "stream",
     "text": [
      "\n",
      "Debug: Frame 1 has 1 objects\n",
      "Object IDs: [1]\n",
      "Predicted bbox: [0, 0, 0, 0]\n",
      "Warning: Empty prediction - skipping\n",
      "\n",
      "Processing image 31/49: can_tomatosoup_000032.jpg\n",
      "Ground truth bbox: [254, 169, 108, 170]\n"
     ]
    },
    {
     "name": "stderr",
     "output_type": "stream",
     "text": [
      "frame loading (JPEG): 100%|██████████| 2/2 [00:00<00:00, 17.54it/s]\n",
      "propagate in video:   0%|          | 0/2 [00:00<?, ?it/s]"
     ]
    },
    {
     "name": "stdout",
     "output_type": "stream",
     "text": [
      "\n",
      "Debug: Frame 0 has 1 objects\n",
      "Object IDs: [1]\n"
     ]
    },
    {
     "name": "stderr",
     "output_type": "stream",
     "text": [
      "propagate in video: 100%|██████████| 2/2 [00:04<00:00,  2.50s/it]\n"
     ]
    },
    {
     "name": "stdout",
     "output_type": "stream",
     "text": [
      "\n",
      "Debug: Frame 1 has 1 objects\n",
      "Object IDs: [1]\n",
      "Predicted bbox: [0, 0, 0, 0]\n",
      "Warning: Empty prediction - skipping\n",
      "\n",
      "Processing image 32/49: can_tomatosoup_000033.jpg\n",
      "Ground truth bbox: [427, 156, 116, 155]\n"
     ]
    },
    {
     "name": "stderr",
     "output_type": "stream",
     "text": [
      "frame loading (JPEG): 100%|██████████| 2/2 [00:00<00:00, 16.21it/s]\n",
      "propagate in video:   0%|          | 0/2 [00:00<?, ?it/s]"
     ]
    },
    {
     "name": "stdout",
     "output_type": "stream",
     "text": [
      "\n",
      "Debug: Frame 0 has 1 objects\n",
      "Object IDs: [1]\n"
     ]
    },
    {
     "name": "stderr",
     "output_type": "stream",
     "text": [
      "propagate in video: 100%|██████████| 2/2 [00:04<00:00,  2.46s/it]\n"
     ]
    },
    {
     "name": "stdout",
     "output_type": "stream",
     "text": [
      "\n",
      "Debug: Frame 1 has 1 objects\n",
      "Object IDs: [1]\n",
      "Predicted bbox: [0, 0, 0, 0]\n",
      "Warning: Empty prediction - skipping\n",
      "\n",
      "Processing image 33/49: can_tomatosoup_000034.jpg\n",
      "Ground truth bbox: [199, 161, 99, 164]\n"
     ]
    },
    {
     "name": "stderr",
     "output_type": "stream",
     "text": [
      "frame loading (JPEG): 100%|██████████| 2/2 [00:00<00:00, 16.20it/s]\n",
      "propagate in video:   0%|          | 0/2 [00:00<?, ?it/s]"
     ]
    },
    {
     "name": "stdout",
     "output_type": "stream",
     "text": [
      "\n",
      "Debug: Frame 0 has 1 objects\n",
      "Object IDs: [1]\n"
     ]
    },
    {
     "name": "stderr",
     "output_type": "stream",
     "text": [
      "propagate in video: 100%|██████████| 2/2 [00:04<00:00,  2.48s/it]\n"
     ]
    },
    {
     "name": "stdout",
     "output_type": "stream",
     "text": [
      "\n",
      "Debug: Frame 1 has 1 objects\n",
      "Object IDs: [1]\n",
      "Predicted bbox: [0, 0, 0, 0]\n",
      "Warning: Empty prediction - skipping\n",
      "\n",
      "Processing image 34/49: can_tomatosoup_000035.jpg\n",
      "Ground truth bbox: [232, 168, 93, 148]\n"
     ]
    },
    {
     "name": "stderr",
     "output_type": "stream",
     "text": [
      "frame loading (JPEG): 100%|██████████| 2/2 [00:00<00:00, 16.88it/s]\n",
      "propagate in video:   0%|          | 0/2 [00:00<?, ?it/s]"
     ]
    },
    {
     "name": "stdout",
     "output_type": "stream",
     "text": [
      "\n",
      "Debug: Frame 0 has 1 objects\n",
      "Object IDs: [1]\n"
     ]
    },
    {
     "name": "stderr",
     "output_type": "stream",
     "text": [
      "propagate in video: 100%|██████████| 2/2 [00:04<00:00,  2.42s/it]\n"
     ]
    },
    {
     "name": "stdout",
     "output_type": "stream",
     "text": [
      "\n",
      "Debug: Frame 1 has 1 objects\n",
      "Object IDs: [1]\n",
      "Predicted bbox: [0, 0, 0, 0]\n",
      "Warning: Empty prediction - skipping\n",
      "\n",
      "Processing image 35/49: can_tomatosoup_000036.jpg\n",
      "Ground truth bbox: [234, 87, 103, 165]\n"
     ]
    },
    {
     "name": "stderr",
     "output_type": "stream",
     "text": [
      "frame loading (JPEG): 100%|██████████| 2/2 [00:00<00:00, 16.41it/s]\n",
      "propagate in video:   0%|          | 0/2 [00:00<?, ?it/s]"
     ]
    },
    {
     "name": "stdout",
     "output_type": "stream",
     "text": [
      "\n",
      "Debug: Frame 0 has 1 objects\n",
      "Object IDs: [1]\n"
     ]
    },
    {
     "name": "stderr",
     "output_type": "stream",
     "text": [
      "propagate in video: 100%|██████████| 2/2 [00:05<00:00,  2.53s/it]\n"
     ]
    },
    {
     "name": "stdout",
     "output_type": "stream",
     "text": [
      "\n",
      "Debug: Frame 1 has 1 objects\n",
      "Object IDs: [1]\n",
      "Predicted bbox: [0, 0, 0, 0]\n",
      "Warning: Empty prediction - skipping\n",
      "\n",
      "Processing image 36/49: can_tomatosoup_000037.jpg\n",
      "Ground truth bbox: [166, 53, 81, 122]\n"
     ]
    },
    {
     "name": "stderr",
     "output_type": "stream",
     "text": [
      "frame loading (JPEG): 100%|██████████| 2/2 [00:00<00:00, 16.90it/s]\n",
      "propagate in video:   0%|          | 0/2 [00:00<?, ?it/s]"
     ]
    },
    {
     "name": "stdout",
     "output_type": "stream",
     "text": [
      "\n",
      "Debug: Frame 0 has 1 objects\n",
      "Object IDs: [1]\n"
     ]
    },
    {
     "name": "stderr",
     "output_type": "stream",
     "text": [
      "propagate in video: 100%|██████████| 2/2 [00:04<00:00,  2.48s/it]\n"
     ]
    },
    {
     "name": "stdout",
     "output_type": "stream",
     "text": [
      "\n",
      "Debug: Frame 1 has 1 objects\n",
      "Object IDs: [1]\n",
      "Predicted bbox: [0, 0, 0, 0]\n",
      "Warning: Empty prediction - skipping\n",
      "\n",
      "Processing image 37/49: can_tomatosoup_000038.jpg\n",
      "Ground truth bbox: [221, 177, 71, 120]\n"
     ]
    },
    {
     "name": "stderr",
     "output_type": "stream",
     "text": [
      "frame loading (JPEG): 100%|██████████| 2/2 [00:00<00:00, 16.65it/s]\n",
      "propagate in video:   0%|          | 0/2 [00:00<?, ?it/s]"
     ]
    },
    {
     "name": "stdout",
     "output_type": "stream",
     "text": [
      "\n",
      "Debug: Frame 0 has 1 objects\n",
      "Object IDs: [1]\n"
     ]
    },
    {
     "name": "stderr",
     "output_type": "stream",
     "text": [
      "propagate in video: 100%|██████████| 2/2 [00:04<00:00,  2.43s/it]\n"
     ]
    },
    {
     "name": "stdout",
     "output_type": "stream",
     "text": [
      "\n",
      "Debug: Frame 1 has 1 objects\n",
      "Object IDs: [1]\n",
      "Predicted bbox: [220, 152, 111, 145]\n",
      "\n",
      "Processing image 38/49: can_tomatosoup_000039.jpg\n",
      "Ground truth bbox: [174, 91, 76, 113]\n"
     ]
    },
    {
     "name": "stderr",
     "output_type": "stream",
     "text": [
      "frame loading (JPEG): 100%|██████████| 2/2 [00:00<00:00, 18.13it/s]\n",
      "propagate in video:   0%|          | 0/2 [00:00<?, ?it/s]"
     ]
    },
    {
     "name": "stdout",
     "output_type": "stream",
     "text": [
      "\n",
      "Debug: Frame 0 has 1 objects\n",
      "Object IDs: [1]\n"
     ]
    },
    {
     "name": "stderr",
     "output_type": "stream",
     "text": [
      "propagate in video: 100%|██████████| 2/2 [00:04<00:00,  2.47s/it]\n"
     ]
    },
    {
     "name": "stdout",
     "output_type": "stream",
     "text": [
      "\n",
      "Debug: Frame 1 has 1 objects\n",
      "Object IDs: [1]\n",
      "Predicted bbox: [0, 0, 0, 0]\n",
      "Warning: Empty prediction - skipping\n",
      "\n",
      "Processing image 39/49: can_tomatosoup_000040.jpg\n",
      "Ground truth bbox: [179, 112, 97, 159]\n"
     ]
    },
    {
     "name": "stderr",
     "output_type": "stream",
     "text": [
      "frame loading (JPEG): 100%|██████████| 2/2 [00:00<00:00, 17.91it/s]\n",
      "propagate in video:   0%|          | 0/2 [00:00<?, ?it/s]"
     ]
    },
    {
     "name": "stdout",
     "output_type": "stream",
     "text": [
      "\n",
      "Debug: Frame 0 has 1 objects\n",
      "Object IDs: [1]\n"
     ]
    },
    {
     "name": "stderr",
     "output_type": "stream",
     "text": [
      "propagate in video: 100%|██████████| 2/2 [00:04<00:00,  2.48s/it]\n"
     ]
    },
    {
     "name": "stdout",
     "output_type": "stream",
     "text": [
      "\n",
      "Debug: Frame 1 has 1 objects\n",
      "Object IDs: [1]\n",
      "Predicted bbox: [0, 0, 0, 0]\n",
      "Warning: Empty prediction - skipping\n",
      "\n",
      "Processing image 40/49: can_tomatosoup_000041.jpg\n",
      "Ground truth bbox: [135, 98, 126, 155]\n"
     ]
    },
    {
     "name": "stderr",
     "output_type": "stream",
     "text": [
      "frame loading (JPEG): 100%|██████████| 2/2 [00:00<00:00, 16.55it/s]\n",
      "propagate in video:   0%|          | 0/2 [00:00<?, ?it/s]"
     ]
    },
    {
     "name": "stdout",
     "output_type": "stream",
     "text": [
      "\n",
      "Debug: Frame 0 has 1 objects\n",
      "Object IDs: [1]\n"
     ]
    },
    {
     "name": "stderr",
     "output_type": "stream",
     "text": [
      "propagate in video: 100%|██████████| 2/2 [00:05<00:00,  2.51s/it]\n"
     ]
    },
    {
     "name": "stdout",
     "output_type": "stream",
     "text": [
      "\n",
      "Debug: Frame 1 has 1 objects\n",
      "Object IDs: [1]\n",
      "Predicted bbox: [0, 0, 0, 0]\n",
      "Warning: Empty prediction - skipping\n",
      "\n",
      "Processing image 41/49: can_tomatosoup_000042.jpg\n",
      "Ground truth bbox: [94, 123, 111, 176]\n"
     ]
    },
    {
     "name": "stderr",
     "output_type": "stream",
     "text": [
      "frame loading (JPEG): 100%|██████████| 2/2 [00:00<00:00, 17.17it/s]\n",
      "propagate in video:   0%|          | 0/2 [00:00<?, ?it/s]"
     ]
    },
    {
     "name": "stdout",
     "output_type": "stream",
     "text": [
      "\n",
      "Debug: Frame 0 has 1 objects\n",
      "Object IDs: [1]\n"
     ]
    },
    {
     "name": "stderr",
     "output_type": "stream",
     "text": [
      "propagate in video: 100%|██████████| 2/2 [00:04<00:00,  2.44s/it]\n"
     ]
    },
    {
     "name": "stdout",
     "output_type": "stream",
     "text": [
      "\n",
      "Debug: Frame 1 has 1 objects\n",
      "Object IDs: [1]\n",
      "Predicted bbox: [101, 145, 538, 242]\n",
      "\n",
      "Processing image 42/49: can_tomatosoup_000043.jpg\n",
      "Ground truth bbox: [97, 144, 119, 160]\n"
     ]
    },
    {
     "name": "stderr",
     "output_type": "stream",
     "text": [
      "frame loading (JPEG): 100%|██████████| 2/2 [00:00<00:00, 17.67it/s]\n",
      "propagate in video:   0%|          | 0/2 [00:00<?, ?it/s]"
     ]
    },
    {
     "name": "stdout",
     "output_type": "stream",
     "text": [
      "\n",
      "Debug: Frame 0 has 1 objects\n",
      "Object IDs: [1]\n"
     ]
    },
    {
     "name": "stderr",
     "output_type": "stream",
     "text": [
      "propagate in video: 100%|██████████| 2/2 [00:04<00:00,  2.45s/it]\n"
     ]
    },
    {
     "name": "stdout",
     "output_type": "stream",
     "text": [
      "\n",
      "Debug: Frame 1 has 1 objects\n",
      "Object IDs: [1]\n",
      "Predicted bbox: [0, 0, 0, 0]\n",
      "Warning: Empty prediction - skipping\n",
      "\n",
      "Processing image 43/49: can_tomatosoup_000044.jpg\n",
      "Ground truth bbox: [111, 116, 92, 127]\n"
     ]
    },
    {
     "name": "stderr",
     "output_type": "stream",
     "text": [
      "frame loading (JPEG): 100%|██████████| 2/2 [00:00<00:00, 18.54it/s]\n",
      "propagate in video:   0%|          | 0/2 [00:00<?, ?it/s]"
     ]
    },
    {
     "name": "stdout",
     "output_type": "stream",
     "text": [
      "\n",
      "Debug: Frame 0 has 1 objects\n",
      "Object IDs: [1]\n"
     ]
    },
    {
     "name": "stderr",
     "output_type": "stream",
     "text": [
      "propagate in video: 100%|██████████| 2/2 [00:04<00:00,  2.39s/it]\n"
     ]
    },
    {
     "name": "stdout",
     "output_type": "stream",
     "text": [
      "\n",
      "Debug: Frame 1 has 1 objects\n",
      "Object IDs: [1]\n",
      "Predicted bbox: [220, 176, 311, 235]\n",
      "\n",
      "Processing image 44/49: can_tomatosoup_000045.jpg\n",
      "Ground truth bbox: [265, 159, 75, 127]\n"
     ]
    },
    {
     "name": "stderr",
     "output_type": "stream",
     "text": [
      "frame loading (JPEG): 100%|██████████| 2/2 [00:00<00:00, 18.03it/s]\n",
      "propagate in video:   0%|          | 0/2 [00:00<?, ?it/s]"
     ]
    },
    {
     "name": "stdout",
     "output_type": "stream",
     "text": [
      "\n",
      "Debug: Frame 0 has 1 objects\n",
      "Object IDs: [1]\n"
     ]
    },
    {
     "name": "stderr",
     "output_type": "stream",
     "text": [
      "propagate in video: 100%|██████████| 2/2 [00:05<00:00,  2.56s/it]\n"
     ]
    },
    {
     "name": "stdout",
     "output_type": "stream",
     "text": [
      "\n",
      "Debug: Frame 1 has 1 objects\n",
      "Object IDs: [1]\n",
      "Predicted bbox: [0, 0, 0, 0]\n",
      "Warning: Empty prediction - skipping\n",
      "\n",
      "Processing image 45/49: can_tomatosoup_000046.jpg\n",
      "Ground truth bbox: [287, 169, 66, 126]\n"
     ]
    },
    {
     "name": "stderr",
     "output_type": "stream",
     "text": [
      "frame loading (JPEG): 100%|██████████| 2/2 [00:00<00:00, 18.07it/s]\n",
      "propagate in video:   0%|          | 0/2 [00:00<?, ?it/s]"
     ]
    },
    {
     "name": "stdout",
     "output_type": "stream",
     "text": [
      "\n",
      "Debug: Frame 0 has 1 objects\n",
      "Object IDs: [1]\n"
     ]
    },
    {
     "name": "stderr",
     "output_type": "stream",
     "text": [
      "propagate in video: 100%|██████████| 2/2 [00:04<00:00,  2.50s/it]\n"
     ]
    },
    {
     "name": "stdout",
     "output_type": "stream",
     "text": [
      "\n",
      "Debug: Frame 1 has 1 objects\n",
      "Object IDs: [1]\n",
      "Predicted bbox: [186, 160, 432, 262]\n",
      "\n",
      "Processing image 46/49: can_tomatosoup_000047.jpg\n",
      "Ground truth bbox: [207, 125, 67, 109]\n"
     ]
    },
    {
     "name": "stderr",
     "output_type": "stream",
     "text": [
      "frame loading (JPEG): 100%|██████████| 2/2 [00:00<00:00, 17.64it/s]\n",
      "propagate in video:   0%|          | 0/2 [00:00<?, ?it/s]"
     ]
    },
    {
     "name": "stdout",
     "output_type": "stream",
     "text": [
      "\n",
      "Debug: Frame 0 has 1 objects\n",
      "Object IDs: [1]\n"
     ]
    },
    {
     "name": "stderr",
     "output_type": "stream",
     "text": [
      "propagate in video: 100%|██████████| 2/2 [00:05<00:00,  2.51s/it]\n"
     ]
    },
    {
     "name": "stdout",
     "output_type": "stream",
     "text": [
      "\n",
      "Debug: Frame 1 has 1 objects\n",
      "Object IDs: [1]\n",
      "Predicted bbox: [0, 0, 0, 0]\n",
      "Warning: Empty prediction - skipping\n",
      "\n",
      "Processing image 47/49: can_tomatosoup_000048.jpg\n",
      "Ground truth bbox: [327, 231, 93, 150]\n"
     ]
    },
    {
     "name": "stderr",
     "output_type": "stream",
     "text": [
      "frame loading (JPEG): 100%|██████████| 2/2 [00:00<00:00, 17.41it/s]\n",
      "propagate in video:   0%|          | 0/2 [00:00<?, ?it/s]"
     ]
    },
    {
     "name": "stdout",
     "output_type": "stream",
     "text": [
      "\n",
      "Debug: Frame 0 has 1 objects\n",
      "Object IDs: [1]\n"
     ]
    },
    {
     "name": "stderr",
     "output_type": "stream",
     "text": [
      "propagate in video: 100%|██████████| 2/2 [00:04<00:00,  2.50s/it]\n"
     ]
    },
    {
     "name": "stdout",
     "output_type": "stream",
     "text": [
      "\n",
      "Debug: Frame 1 has 1 objects\n",
      "Object IDs: [1]\n",
      "Predicted bbox: [0, 0, 0, 0]\n",
      "Warning: Empty prediction - skipping\n",
      "\n",
      "Processing image 48/49: can_tomatosoup_000049.jpg\n",
      "Ground truth bbox: [113, 190, 125, 190]\n"
     ]
    },
    {
     "name": "stderr",
     "output_type": "stream",
     "text": [
      "frame loading (JPEG): 100%|██████████| 2/2 [00:00<00:00, 15.97it/s]\n",
      "propagate in video:   0%|          | 0/2 [00:00<?, ?it/s]"
     ]
    },
    {
     "name": "stdout",
     "output_type": "stream",
     "text": [
      "\n",
      "Debug: Frame 0 has 1 objects\n",
      "Object IDs: [1]\n"
     ]
    },
    {
     "name": "stderr",
     "output_type": "stream",
     "text": [
      "propagate in video: 100%|██████████| 2/2 [00:04<00:00,  2.49s/it]\n"
     ]
    },
    {
     "name": "stdout",
     "output_type": "stream",
     "text": [
      "\n",
      "Debug: Frame 1 has 1 objects\n",
      "Object IDs: [1]\n",
      "Predicted bbox: [0, 0, 0, 0]\n",
      "Warning: Empty prediction - skipping\n",
      "\n",
      "Processing image 49/49: can_tomatosoup_000050.jpg\n",
      "Ground truth bbox: [139, 222, 98, 154]\n"
     ]
    },
    {
     "name": "stderr",
     "output_type": "stream",
     "text": [
      "frame loading (JPEG): 100%|██████████| 2/2 [00:00<00:00, 15.93it/s]\n",
      "propagate in video:   0%|          | 0/2 [00:00<?, ?it/s]"
     ]
    },
    {
     "name": "stdout",
     "output_type": "stream",
     "text": [
      "\n",
      "Debug: Frame 0 has 1 objects\n",
      "Object IDs: [1]\n"
     ]
    },
    {
     "name": "stderr",
     "output_type": "stream",
     "text": [
      "propagate in video: 100%|██████████| 2/2 [00:04<00:00,  2.47s/it]\n"
     ]
    },
    {
     "name": "stdout",
     "output_type": "stream",
     "text": [
      "\n",
      "Debug: Frame 1 has 1 objects\n",
      "Object IDs: [1]\n",
      "Predicted bbox: [138, 226, 95, 149]\n",
      "creating index...\n",
      "index created!\n",
      "Error in COCO evaluation: 'info'\n",
      "\n",
      "Evaluating carton_oj...\n",
      "Using reference image: carton_oj_000001.jpg\n",
      "Using reference mask: carton_oj_000001_1_gt.png\n",
      "Reference bounding box: x=[118,225], y=[80,270]\n",
      "\n",
      "Processing image 1/49: carton_oj_000002.jpg\n",
      "Ground truth bbox: [464, 97, 173, 218]\n"
     ]
    },
    {
     "name": "stderr",
     "output_type": "stream",
     "text": [
      "frame loading (JPEG): 100%|██████████| 2/2 [00:00<00:00, 17.88it/s]\n",
      "propagate in video:   0%|          | 0/2 [00:00<?, ?it/s]"
     ]
    },
    {
     "name": "stdout",
     "output_type": "stream",
     "text": [
      "\n",
      "Debug: Frame 0 has 1 objects\n",
      "Object IDs: [1]\n"
     ]
    },
    {
     "name": "stderr",
     "output_type": "stream",
     "text": [
      "propagate in video: 100%|██████████| 2/2 [00:04<00:00,  2.43s/it]\n"
     ]
    },
    {
     "name": "stdout",
     "output_type": "stream",
     "text": [
      "\n",
      "Debug: Frame 1 has 1 objects\n",
      "Object IDs: [1]\n",
      "Predicted bbox: [49, 134, 164, 193]\n",
      "\n",
      "Processing image 2/49: carton_oj_000003.jpg\n",
      "Ground truth bbox: [323, 11, 122, 224]\n"
     ]
    },
    {
     "name": "stderr",
     "output_type": "stream",
     "text": [
      "frame loading (JPEG): 100%|██████████| 2/2 [00:00<00:00, 16.60it/s]\n",
      "propagate in video:   0%|          | 0/2 [00:00<?, ?it/s]"
     ]
    },
    {
     "name": "stdout",
     "output_type": "stream",
     "text": [
      "\n",
      "Debug: Frame 0 has 1 objects\n",
      "Object IDs: [1]\n"
     ]
    },
    {
     "name": "stderr",
     "output_type": "stream",
     "text": [
      "propagate in video: 100%|██████████| 2/2 [00:04<00:00,  2.39s/it]\n"
     ]
    },
    {
     "name": "stdout",
     "output_type": "stream",
     "text": [
      "\n",
      "Debug: Frame 1 has 1 objects\n",
      "Object IDs: [1]\n",
      "Predicted bbox: [326, 14, 116, 221]\n",
      "\n",
      "Processing image 3/49: carton_oj_000004.jpg\n",
      "Ground truth bbox: [486, 213, 98, 169]\n"
     ]
    },
    {
     "name": "stderr",
     "output_type": "stream",
     "text": [
      "frame loading (JPEG): 100%|██████████| 2/2 [00:00<00:00, 16.90it/s]\n",
      "propagate in video:   0%|          | 0/2 [00:00<?, ?it/s]"
     ]
    },
    {
     "name": "stdout",
     "output_type": "stream",
     "text": [
      "\n",
      "Debug: Frame 0 has 1 objects\n",
      "Object IDs: [1]\n"
     ]
    },
    {
     "name": "stderr",
     "output_type": "stream",
     "text": [
      "propagate in video: 100%|██████████| 2/2 [00:05<00:00,  2.50s/it]\n"
     ]
    },
    {
     "name": "stdout",
     "output_type": "stream",
     "text": [
      "\n",
      "Debug: Frame 1 has 1 objects\n",
      "Object IDs: [1]\n",
      "Predicted bbox: [0, 0, 0, 0]\n",
      "Warning: Empty prediction - skipping\n",
      "\n",
      "Processing image 4/49: carton_oj_000005.jpg\n",
      "Ground truth bbox: [10, 121, 224, 186]\n"
     ]
    },
    {
     "name": "stderr",
     "output_type": "stream",
     "text": [
      "frame loading (JPEG): 100%|██████████| 2/2 [00:00<00:00, 18.13it/s]\n",
      "propagate in video:   0%|          | 0/2 [00:00<?, ?it/s]"
     ]
    },
    {
     "name": "stdout",
     "output_type": "stream",
     "text": [
      "\n",
      "Debug: Frame 0 has 1 objects\n",
      "Object IDs: [1]\n"
     ]
    },
    {
     "name": "stderr",
     "output_type": "stream",
     "text": [
      "propagate in video: 100%|██████████| 2/2 [00:04<00:00,  2.48s/it]\n"
     ]
    },
    {
     "name": "stdout",
     "output_type": "stream",
     "text": [
      "\n",
      "Debug: Frame 1 has 1 objects\n",
      "Object IDs: [1]\n",
      "Predicted bbox: [0, 0, 0, 0]\n",
      "Warning: Empty prediction - skipping\n",
      "\n",
      "Processing image 5/49: carton_oj_000006.jpg\n",
      "Ground truth bbox: [3, 240, 198, 174]\n"
     ]
    },
    {
     "name": "stderr",
     "output_type": "stream",
     "text": [
      "frame loading (JPEG): 100%|██████████| 2/2 [00:00<00:00, 15.80it/s]\n",
      "propagate in video:   0%|          | 0/2 [00:00<?, ?it/s]"
     ]
    },
    {
     "name": "stdout",
     "output_type": "stream",
     "text": [
      "\n",
      "Debug: Frame 0 has 1 objects\n",
      "Object IDs: [1]\n"
     ]
    },
    {
     "name": "stderr",
     "output_type": "stream",
     "text": [
      "propagate in video: 100%|██████████| 2/2 [00:04<00:00,  2.48s/it]\n"
     ]
    },
    {
     "name": "stdout",
     "output_type": "stream",
     "text": [
      "\n",
      "Debug: Frame 1 has 1 objects\n",
      "Object IDs: [1]\n",
      "Predicted bbox: [478, 0, 161, 240]\n",
      "\n",
      "Processing image 6/49: carton_oj_000007.jpg\n",
      "Ground truth bbox: [189, 236, 176, 186]\n"
     ]
    },
    {
     "name": "stderr",
     "output_type": "stream",
     "text": [
      "frame loading (JPEG): 100%|██████████| 2/2 [00:00<00:00, 15.65it/s]\n",
      "propagate in video:   0%|          | 0/2 [00:00<?, ?it/s]"
     ]
    },
    {
     "name": "stdout",
     "output_type": "stream",
     "text": [
      "\n",
      "Debug: Frame 0 has 1 objects\n",
      "Object IDs: [1]\n"
     ]
    },
    {
     "name": "stderr",
     "output_type": "stream",
     "text": [
      "propagate in video: 100%|██████████| 2/2 [00:04<00:00,  2.47s/it]\n"
     ]
    },
    {
     "name": "stdout",
     "output_type": "stream",
     "text": [
      "\n",
      "Debug: Frame 1 has 1 objects\n",
      "Object IDs: [1]\n",
      "Predicted bbox: [373, 16, 125, 241]\n",
      "\n",
      "Processing image 7/49: carton_oj_000008.jpg\n",
      "Ground truth bbox: [233, 259, 146, 116]\n"
     ]
    },
    {
     "name": "stderr",
     "output_type": "stream",
     "text": [
      "frame loading (JPEG): 100%|██████████| 2/2 [00:00<00:00, 16.23it/s]\n",
      "propagate in video:   0%|          | 0/2 [00:00<?, ?it/s]"
     ]
    },
    {
     "name": "stdout",
     "output_type": "stream",
     "text": [
      "\n",
      "Debug: Frame 0 has 1 objects\n",
      "Object IDs: [1]\n"
     ]
    },
    {
     "name": "stderr",
     "output_type": "stream",
     "text": [
      "propagate in video: 100%|██████████| 2/2 [00:04<00:00,  2.50s/it]\n"
     ]
    },
    {
     "name": "stdout",
     "output_type": "stream",
     "text": [
      "\n",
      "Debug: Frame 1 has 1 objects\n",
      "Object IDs: [1]\n",
      "Predicted bbox: [380, 65, 89, 176]\n",
      "\n",
      "Processing image 8/49: carton_oj_000009.jpg\n",
      "Ground truth bbox: [377, 121, 112, 203]\n"
     ]
    },
    {
     "name": "stderr",
     "output_type": "stream",
     "text": [
      "frame loading (JPEG): 100%|██████████| 2/2 [00:00<00:00, 16.17it/s]\n",
      "propagate in video:   0%|          | 0/2 [00:00<?, ?it/s]"
     ]
    },
    {
     "name": "stdout",
     "output_type": "stream",
     "text": [
      "\n",
      "Debug: Frame 0 has 1 objects\n",
      "Object IDs: [1]\n"
     ]
    },
    {
     "name": "stderr",
     "output_type": "stream",
     "text": [
      "propagate in video: 100%|██████████| 2/2 [00:04<00:00,  2.42s/it]\n"
     ]
    },
    {
     "name": "stdout",
     "output_type": "stream",
     "text": [
      "\n",
      "Debug: Frame 1 has 1 objects\n",
      "Object IDs: [1]\n",
      "Predicted bbox: [407, 111, 153, 190]\n",
      "\n",
      "Processing image 9/49: carton_oj_000010.jpg\n",
      "Ground truth bbox: [368, 113, 101, 201]\n"
     ]
    },
    {
     "name": "stderr",
     "output_type": "stream",
     "text": [
      "frame loading (JPEG): 100%|██████████| 2/2 [00:00<00:00, 13.98it/s]\n",
      "propagate in video:   0%|          | 0/2 [00:00<?, ?it/s]"
     ]
    },
    {
     "name": "stdout",
     "output_type": "stream",
     "text": [
      "\n",
      "Debug: Frame 0 has 1 objects\n",
      "Object IDs: [1]\n"
     ]
    },
    {
     "name": "stderr",
     "output_type": "stream",
     "text": [
      "propagate in video: 100%|██████████| 2/2 [00:04<00:00,  2.43s/it]\n"
     ]
    },
    {
     "name": "stdout",
     "output_type": "stream",
     "text": [
      "\n",
      "Debug: Frame 1 has 1 objects\n",
      "Object IDs: [1]\n",
      "Predicted bbox: [371, 105, 238, 211]\n",
      "\n",
      "Processing image 10/49: carton_oj_000011.jpg\n",
      "Ground truth bbox: [233, 267, 90, 167]\n"
     ]
    },
    {
     "name": "stderr",
     "output_type": "stream",
     "text": [
      "frame loading (JPEG): 100%|██████████| 2/2 [00:00<00:00, 17.16it/s]\n",
      "propagate in video:   0%|          | 0/2 [00:00<?, ?it/s]"
     ]
    },
    {
     "name": "stdout",
     "output_type": "stream",
     "text": [
      "\n",
      "Debug: Frame 0 has 1 objects\n",
      "Object IDs: [1]\n"
     ]
    },
    {
     "name": "stderr",
     "output_type": "stream",
     "text": [
      "propagate in video: 100%|██████████| 2/2 [00:04<00:00,  2.49s/it]\n"
     ]
    },
    {
     "name": "stdout",
     "output_type": "stream",
     "text": [
      "\n",
      "Debug: Frame 1 has 1 objects\n",
      "Object IDs: [1]\n",
      "Predicted bbox: [228, 229, 97, 201]\n",
      "\n",
      "Processing image 11/49: carton_oj_000012.jpg\n",
      "Ground truth bbox: [133, 12, 117, 212]\n"
     ]
    },
    {
     "name": "stderr",
     "output_type": "stream",
     "text": [
      "frame loading (JPEG): 100%|██████████| 2/2 [00:00<00:00, 15.97it/s]\n",
      "propagate in video:   0%|          | 0/2 [00:00<?, ?it/s]"
     ]
    },
    {
     "name": "stdout",
     "output_type": "stream",
     "text": [
      "\n",
      "Debug: Frame 0 has 1 objects\n",
      "Object IDs: [1]\n"
     ]
    },
    {
     "name": "stderr",
     "output_type": "stream",
     "text": [
      "propagate in video: 100%|██████████| 2/2 [00:04<00:00,  2.46s/it]\n"
     ]
    },
    {
     "name": "stdout",
     "output_type": "stream",
     "text": [
      "\n",
      "Debug: Frame 1 has 1 objects\n",
      "Object IDs: [1]\n",
      "Predicted bbox: [255, 52, 95, 166]\n",
      "\n",
      "Processing image 12/49: carton_oj_000013.jpg\n",
      "Ground truth bbox: [335, 57, 190, 114]\n"
     ]
    },
    {
     "name": "stderr",
     "output_type": "stream",
     "text": [
      "frame loading (JPEG): 100%|██████████| 2/2 [00:00<00:00, 16.25it/s]\n",
      "propagate in video:   0%|          | 0/2 [00:00<?, ?it/s]"
     ]
    },
    {
     "name": "stdout",
     "output_type": "stream",
     "text": [
      "\n",
      "Debug: Frame 0 has 1 objects\n",
      "Object IDs: [1]\n"
     ]
    },
    {
     "name": "stderr",
     "output_type": "stream",
     "text": [
      "propagate in video: 100%|██████████| 2/2 [00:04<00:00,  2.47s/it]\n"
     ]
    },
    {
     "name": "stdout",
     "output_type": "stream",
     "text": [
      "\n",
      "Debug: Frame 1 has 1 objects\n",
      "Object IDs: [1]\n",
      "Predicted bbox: [364, 221, 116, 214]\n",
      "\n",
      "Processing image 13/49: carton_oj_000014.jpg\n",
      "Ground truth bbox: [347, 114, 168, 95]\n"
     ]
    },
    {
     "name": "stderr",
     "output_type": "stream",
     "text": [
      "frame loading (JPEG): 100%|██████████| 2/2 [00:00<00:00, 14.66it/s]\n",
      "propagate in video:   0%|          | 0/2 [00:00<?, ?it/s]"
     ]
    },
    {
     "name": "stdout",
     "output_type": "stream",
     "text": [
      "\n",
      "Debug: Frame 0 has 1 objects\n",
      "Object IDs: [1]\n"
     ]
    },
    {
     "name": "stderr",
     "output_type": "stream",
     "text": [
      "propagate in video: 100%|██████████| 2/2 [00:04<00:00,  2.42s/it]\n"
     ]
    },
    {
     "name": "stdout",
     "output_type": "stream",
     "text": [
      "\n",
      "Debug: Frame 1 has 1 objects\n",
      "Object IDs: [1]\n",
      "Predicted bbox: [389, 245, 97, 181]\n",
      "\n",
      "Processing image 14/49: carton_oj_000015.jpg\n",
      "Ground truth bbox: [291, 83, 124, 239]\n"
     ]
    },
    {
     "name": "stderr",
     "output_type": "stream",
     "text": [
      "frame loading (JPEG): 100%|██████████| 2/2 [00:00<00:00, 15.41it/s]\n",
      "propagate in video:   0%|          | 0/2 [00:00<?, ?it/s]"
     ]
    },
    {
     "name": "stdout",
     "output_type": "stream",
     "text": [
      "\n",
      "Debug: Frame 0 has 1 objects\n",
      "Object IDs: [1]\n"
     ]
    },
    {
     "name": "stderr",
     "output_type": "stream",
     "text": [
      "propagate in video: 100%|██████████| 2/2 [00:04<00:00,  2.42s/it]\n"
     ]
    },
    {
     "name": "stdout",
     "output_type": "stream",
     "text": [
      "\n",
      "Debug: Frame 1 has 1 objects\n",
      "Object IDs: [1]\n",
      "Predicted bbox: [248, 88, 164, 229]\n",
      "\n",
      "Processing image 15/49: carton_oj_000016.jpg\n",
      "Ground truth bbox: [99, 183, 228, 133]\n"
     ]
    },
    {
     "name": "stderr",
     "output_type": "stream",
     "text": [
      "frame loading (JPEG): 100%|██████████| 2/2 [00:00<00:00, 16.57it/s]\n",
      "propagate in video:   0%|          | 0/2 [00:00<?, ?it/s]"
     ]
    },
    {
     "name": "stdout",
     "output_type": "stream",
     "text": [
      "\n",
      "Debug: Frame 0 has 1 objects\n",
      "Object IDs: [1]\n"
     ]
    },
    {
     "name": "stderr",
     "output_type": "stream",
     "text": [
      "propagate in video: 100%|██████████| 2/2 [00:05<00:00,  2.53s/it]\n"
     ]
    },
    {
     "name": "stdout",
     "output_type": "stream",
     "text": [
      "\n",
      "Debug: Frame 1 has 1 objects\n",
      "Object IDs: [1]\n",
      "Predicted bbox: [0, 0, 0, 0]\n",
      "Warning: Empty prediction - skipping\n",
      "\n",
      "Processing image 16/49: carton_oj_000017.jpg\n",
      "Ground truth bbox: [51, 175, 199, 91]\n"
     ]
    },
    {
     "name": "stderr",
     "output_type": "stream",
     "text": [
      "frame loading (JPEG): 100%|██████████| 2/2 [00:00<00:00, 17.00it/s]\n",
      "propagate in video:   0%|          | 0/2 [00:00<?, ?it/s]"
     ]
    },
    {
     "name": "stdout",
     "output_type": "stream",
     "text": [
      "\n",
      "Debug: Frame 0 has 1 objects\n",
      "Object IDs: [1]\n"
     ]
    },
    {
     "name": "stderr",
     "output_type": "stream",
     "text": [
      "propagate in video: 100%|██████████| 2/2 [00:04<00:00,  2.46s/it]\n"
     ]
    },
    {
     "name": "stdout",
     "output_type": "stream",
     "text": [
      "\n",
      "Debug: Frame 1 has 1 objects\n",
      "Object IDs: [1]\n",
      "Predicted bbox: [0, 0, 0, 0]\n",
      "Warning: Empty prediction - skipping\n",
      "\n",
      "Processing image 17/49: carton_oj_000018.jpg\n",
      "Ground truth bbox: [115, 83, 180, 96]\n"
     ]
    },
    {
     "name": "stderr",
     "output_type": "stream",
     "text": [
      "frame loading (JPEG): 100%|██████████| 2/2 [00:00<00:00, 16.99it/s]\n",
      "propagate in video:   0%|          | 0/2 [00:00<?, ?it/s]"
     ]
    },
    {
     "name": "stdout",
     "output_type": "stream",
     "text": [
      "\n",
      "Debug: Frame 0 has 1 objects\n",
      "Object IDs: [1]\n"
     ]
    },
    {
     "name": "stderr",
     "output_type": "stream",
     "text": [
      "propagate in video: 100%|██████████| 2/2 [00:04<00:00,  2.43s/it]\n"
     ]
    },
    {
     "name": "stdout",
     "output_type": "stream",
     "text": [
      "\n",
      "Debug: Frame 1 has 1 objects\n",
      "Object IDs: [1]\n",
      "Predicted bbox: [0, 0, 0, 0]\n",
      "Warning: Empty prediction - skipping\n",
      "\n",
      "Processing image 18/49: carton_oj_000019.jpg\n",
      "Ground truth bbox: [337, 112, 110, 184]\n"
     ]
    },
    {
     "name": "stderr",
     "output_type": "stream",
     "text": [
      "frame loading (JPEG): 100%|██████████| 2/2 [00:00<00:00, 15.60it/s]\n",
      "propagate in video:   0%|          | 0/2 [00:00<?, ?it/s]"
     ]
    },
    {
     "name": "stdout",
     "output_type": "stream",
     "text": [
      "\n",
      "Debug: Frame 0 has 1 objects\n",
      "Object IDs: [1]\n"
     ]
    },
    {
     "name": "stderr",
     "output_type": "stream",
     "text": [
      "propagate in video: 100%|██████████| 2/2 [00:04<00:00,  2.40s/it]\n"
     ]
    },
    {
     "name": "stdout",
     "output_type": "stream",
     "text": [
      "\n",
      "Debug: Frame 1 has 1 objects\n",
      "Object IDs: [1]\n",
      "Predicted bbox: [506, 121, 107, 193]\n",
      "\n",
      "Processing image 19/49: carton_oj_000020.jpg\n",
      "Ground truth bbox: [249, 137, 85, 168]\n"
     ]
    },
    {
     "name": "stderr",
     "output_type": "stream",
     "text": [
      "frame loading (JPEG): 100%|██████████| 2/2 [00:00<00:00, 16.55it/s]\n",
      "propagate in video:   0%|          | 0/2 [00:00<?, ?it/s]"
     ]
    },
    {
     "name": "stdout",
     "output_type": "stream",
     "text": [
      "\n",
      "Debug: Frame 0 has 1 objects\n",
      "Object IDs: [1]\n"
     ]
    },
    {
     "name": "stderr",
     "output_type": "stream",
     "text": [
      "propagate in video: 100%|██████████| 2/2 [00:05<00:00,  2.54s/it]\n"
     ]
    },
    {
     "name": "stdout",
     "output_type": "stream",
     "text": [
      "\n",
      "Debug: Frame 1 has 1 objects\n",
      "Object IDs: [1]\n",
      "Predicted bbox: [393, 167, 85, 180]\n",
      "\n",
      "Processing image 20/49: carton_oj_000021.jpg\n",
      "Ground truth bbox: [173, 118, 181, 286]\n"
     ]
    },
    {
     "name": "stderr",
     "output_type": "stream",
     "text": [
      "frame loading (JPEG): 100%|██████████| 2/2 [00:00<00:00, 17.06it/s]\n",
      "propagate in video:   0%|          | 0/2 [00:00<?, ?it/s]"
     ]
    },
    {
     "name": "stdout",
     "output_type": "stream",
     "text": [
      "\n",
      "Debug: Frame 0 has 1 objects\n",
      "Object IDs: [1]\n"
     ]
    },
    {
     "name": "stderr",
     "output_type": "stream",
     "text": [
      "propagate in video: 100%|██████████| 2/2 [00:04<00:00,  2.45s/it]\n"
     ]
    },
    {
     "name": "stdout",
     "output_type": "stream",
     "text": [
      "\n",
      "Debug: Frame 1 has 1 objects\n",
      "Object IDs: [1]\n",
      "Predicted bbox: [171, 117, 184, 256]\n",
      "\n",
      "Processing image 21/49: carton_oj_000022.jpg\n",
      "Ground truth bbox: [227, 199, 134, 198]\n"
     ]
    },
    {
     "name": "stderr",
     "output_type": "stream",
     "text": [
      "frame loading (JPEG): 100%|██████████| 2/2 [00:00<00:00, 16.43it/s]\n",
      "propagate in video:   0%|          | 0/2 [00:00<?, ?it/s]"
     ]
    },
    {
     "name": "stdout",
     "output_type": "stream",
     "text": [
      "\n",
      "Debug: Frame 0 has 1 objects\n",
      "Object IDs: [1]\n"
     ]
    },
    {
     "name": "stderr",
     "output_type": "stream",
     "text": [
      "propagate in video: 100%|██████████| 2/2 [00:04<00:00,  2.49s/it]\n"
     ]
    },
    {
     "name": "stdout",
     "output_type": "stream",
     "text": [
      "\n",
      "Debug: Frame 1 has 1 objects\n",
      "Object IDs: [1]\n",
      "Predicted bbox: [71, 61, 337, 408]\n",
      "\n",
      "Processing image 22/49: carton_oj_000023.jpg\n",
      "Ground truth bbox: [236, 131, 102, 234]\n"
     ]
    },
    {
     "name": "stderr",
     "output_type": "stream",
     "text": [
      "frame loading (JPEG): 100%|██████████| 2/2 [00:00<00:00, 13.14it/s]\n",
      "propagate in video:   0%|          | 0/2 [00:00<?, ?it/s]"
     ]
    },
    {
     "name": "stdout",
     "output_type": "stream",
     "text": [
      "\n",
      "Debug: Frame 0 has 1 objects\n",
      "Object IDs: [1]\n"
     ]
    },
    {
     "name": "stderr",
     "output_type": "stream",
     "text": [
      "propagate in video: 100%|██████████| 2/2 [00:04<00:00,  2.44s/it]\n"
     ]
    },
    {
     "name": "stdout",
     "output_type": "stream",
     "text": [
      "\n",
      "Debug: Frame 1 has 1 objects\n",
      "Object IDs: [1]\n",
      "Predicted bbox: [234, 142, 105, 223]\n",
      "\n",
      "Processing image 23/49: carton_oj_000024.jpg\n",
      "Ground truth bbox: [197, 110, 172, 301]\n"
     ]
    },
    {
     "name": "stderr",
     "output_type": "stream",
     "text": [
      "frame loading (JPEG): 100%|██████████| 2/2 [00:00<00:00, 16.75it/s]\n",
      "propagate in video:   0%|          | 0/2 [00:00<?, ?it/s]"
     ]
    },
    {
     "name": "stdout",
     "output_type": "stream",
     "text": [
      "\n",
      "Debug: Frame 0 has 1 objects\n",
      "Object IDs: [1]\n"
     ]
    },
    {
     "name": "stderr",
     "output_type": "stream",
     "text": [
      "propagate in video: 100%|██████████| 2/2 [00:04<00:00,  2.43s/it]\n"
     ]
    },
    {
     "name": "stdout",
     "output_type": "stream",
     "text": [
      "\n",
      "Debug: Frame 1 has 1 objects\n",
      "Object IDs: [1]\n",
      "Predicted bbox: [201, 105, 167, 307]\n",
      "\n",
      "Processing image 24/49: carton_oj_000025.jpg\n",
      "Ground truth bbox: [248, 73, 168, 293]\n"
     ]
    },
    {
     "name": "stderr",
     "output_type": "stream",
     "text": [
      "frame loading (JPEG): 100%|██████████| 2/2 [00:00<00:00, 14.68it/s]\n",
      "propagate in video:   0%|          | 0/2 [00:00<?, ?it/s]"
     ]
    },
    {
     "name": "stdout",
     "output_type": "stream",
     "text": [
      "\n",
      "Debug: Frame 0 has 1 objects\n",
      "Object IDs: [1]\n"
     ]
    },
    {
     "name": "stderr",
     "output_type": "stream",
     "text": [
      "propagate in video: 100%|██████████| 2/2 [00:04<00:00,  2.47s/it]\n"
     ]
    },
    {
     "name": "stdout",
     "output_type": "stream",
     "text": [
      "\n",
      "Debug: Frame 1 has 1 objects\n",
      "Object IDs: [1]\n",
      "Predicted bbox: [248, 78, 152, 283]\n",
      "\n",
      "Processing image 25/49: carton_oj_000026.jpg\n",
      "Ground truth bbox: [138, 71, 135, 262]\n"
     ]
    },
    {
     "name": "stderr",
     "output_type": "stream",
     "text": [
      "frame loading (JPEG): 100%|██████████| 2/2 [00:00<00:00, 16.61it/s]\n",
      "propagate in video:   0%|          | 0/2 [00:00<?, ?it/s]"
     ]
    },
    {
     "name": "stdout",
     "output_type": "stream",
     "text": [
      "\n",
      "Debug: Frame 0 has 1 objects\n",
      "Object IDs: [1]\n"
     ]
    },
    {
     "name": "stderr",
     "output_type": "stream",
     "text": [
      "propagate in video: 100%|██████████| 2/2 [00:04<00:00,  2.46s/it]\n"
     ]
    },
    {
     "name": "stdout",
     "output_type": "stream",
     "text": [
      "\n",
      "Debug: Frame 1 has 1 objects\n",
      "Object IDs: [1]\n",
      "Predicted bbox: [137, 72, 138, 261]\n",
      "\n",
      "Processing image 26/49: carton_oj_000027.jpg\n",
      "Ground truth bbox: [140, 66, 198, 375]\n"
     ]
    },
    {
     "name": "stderr",
     "output_type": "stream",
     "text": [
      "frame loading (JPEG): 100%|██████████| 2/2 [00:00<00:00, 16.49it/s]\n",
      "propagate in video:   0%|          | 0/2 [00:00<?, ?it/s]"
     ]
    },
    {
     "name": "stdout",
     "output_type": "stream",
     "text": [
      "\n",
      "Debug: Frame 0 has 1 objects\n",
      "Object IDs: [1]\n"
     ]
    },
    {
     "name": "stderr",
     "output_type": "stream",
     "text": [
      "propagate in video: 100%|██████████| 2/2 [00:04<00:00,  2.44s/it]\n"
     ]
    },
    {
     "name": "stdout",
     "output_type": "stream",
     "text": [
      "\n",
      "Debug: Frame 1 has 1 objects\n",
      "Object IDs: [1]\n",
      "Predicted bbox: [141, 75, 197, 404]\n",
      "\n",
      "Processing image 27/49: carton_oj_000028.jpg\n",
      "Ground truth bbox: [258, 62, 129, 230]\n"
     ]
    },
    {
     "name": "stderr",
     "output_type": "stream",
     "text": [
      "frame loading (JPEG): 100%|██████████| 2/2 [00:00<00:00, 17.82it/s]\n",
      "propagate in video:   0%|          | 0/2 [00:00<?, ?it/s]"
     ]
    },
    {
     "name": "stdout",
     "output_type": "stream",
     "text": [
      "\n",
      "Debug: Frame 0 has 1 objects\n",
      "Object IDs: [1]\n"
     ]
    },
    {
     "name": "stderr",
     "output_type": "stream",
     "text": [
      "propagate in video: 100%|██████████| 2/2 [00:04<00:00,  2.47s/it]\n"
     ]
    },
    {
     "name": "stdout",
     "output_type": "stream",
     "text": [
      "\n",
      "Debug: Frame 1 has 1 objects\n",
      "Object IDs: [1]\n",
      "Predicted bbox: [260, 66, 126, 225]\n",
      "\n",
      "Processing image 28/49: carton_oj_000029.jpg\n",
      "Ground truth bbox: [447, 72, 153, 280]\n"
     ]
    },
    {
     "name": "stderr",
     "output_type": "stream",
     "text": [
      "frame loading (JPEG): 100%|██████████| 2/2 [00:00<00:00, 14.11it/s]\n",
      "propagate in video:   0%|          | 0/2 [00:00<?, ?it/s]"
     ]
    },
    {
     "name": "stdout",
     "output_type": "stream",
     "text": [
      "\n",
      "Debug: Frame 0 has 1 objects\n",
      "Object IDs: [1]\n"
     ]
    },
    {
     "name": "stderr",
     "output_type": "stream",
     "text": [
      "propagate in video: 100%|██████████| 2/2 [00:04<00:00,  2.49s/it]\n"
     ]
    },
    {
     "name": "stdout",
     "output_type": "stream",
     "text": [
      "\n",
      "Debug: Frame 1 has 1 objects\n",
      "Object IDs: [1]\n",
      "Predicted bbox: [0, 0, 0, 0]\n",
      "Warning: Empty prediction - skipping\n",
      "\n",
      "Processing image 29/49: carton_oj_000030.jpg\n",
      "Ground truth bbox: [111, 103, 176, 295]\n"
     ]
    },
    {
     "name": "stderr",
     "output_type": "stream",
     "text": [
      "frame loading (JPEG): 100%|██████████| 2/2 [00:00<00:00, 15.75it/s]\n",
      "propagate in video:   0%|          | 0/2 [00:00<?, ?it/s]"
     ]
    },
    {
     "name": "stdout",
     "output_type": "stream",
     "text": [
      "\n",
      "Debug: Frame 0 has 1 objects\n",
      "Object IDs: [1]\n"
     ]
    },
    {
     "name": "stderr",
     "output_type": "stream",
     "text": [
      "propagate in video: 100%|██████████| 2/2 [00:04<00:00,  2.48s/it]\n"
     ]
    },
    {
     "name": "stdout",
     "output_type": "stream",
     "text": [
      "\n",
      "Debug: Frame 1 has 1 objects\n",
      "Object IDs: [1]\n",
      "Predicted bbox: [114, 104, 169, 291]\n",
      "\n",
      "Processing image 30/49: carton_oj_000031.jpg\n",
      "Ground truth bbox: [245, 144, 170, 250]\n"
     ]
    },
    {
     "name": "stderr",
     "output_type": "stream",
     "text": [
      "frame loading (JPEG): 100%|██████████| 2/2 [00:00<00:00, 17.13it/s]\n",
      "propagate in video:   0%|          | 0/2 [00:00<?, ?it/s]"
     ]
    },
    {
     "name": "stdout",
     "output_type": "stream",
     "text": [
      "\n",
      "Debug: Frame 0 has 1 objects\n",
      "Object IDs: [1]\n"
     ]
    },
    {
     "name": "stderr",
     "output_type": "stream",
     "text": [
      "propagate in video: 100%|██████████| 2/2 [00:04<00:00,  2.43s/it]\n"
     ]
    },
    {
     "name": "stdout",
     "output_type": "stream",
     "text": [
      "\n",
      "Debug: Frame 1 has 1 objects\n",
      "Object IDs: [1]\n",
      "Predicted bbox: [188, 146, 230, 233]\n",
      "\n",
      "Processing image 31/49: carton_oj_000032.jpg\n",
      "Ground truth bbox: [235, 78, 165, 309]\n"
     ]
    },
    {
     "name": "stderr",
     "output_type": "stream",
     "text": [
      "frame loading (JPEG): 100%|██████████| 2/2 [00:00<00:00, 17.07it/s]\n",
      "propagate in video:   0%|          | 0/2 [00:00<?, ?it/s]"
     ]
    },
    {
     "name": "stdout",
     "output_type": "stream",
     "text": [
      "\n",
      "Debug: Frame 0 has 1 objects\n",
      "Object IDs: [1]\n"
     ]
    },
    {
     "name": "stderr",
     "output_type": "stream",
     "text": [
      "propagate in video: 100%|██████████| 2/2 [00:04<00:00,  2.46s/it]\n"
     ]
    },
    {
     "name": "stdout",
     "output_type": "stream",
     "text": [
      "\n",
      "Debug: Frame 1 has 1 objects\n",
      "Object IDs: [1]\n",
      "Predicted bbox: [234, 79, 165, 241]\n",
      "\n",
      "Processing image 32/49: carton_oj_000033.jpg\n",
      "Ground truth bbox: [154, 169, 137, 233]\n"
     ]
    },
    {
     "name": "stderr",
     "output_type": "stream",
     "text": [
      "frame loading (JPEG): 100%|██████████| 2/2 [00:00<00:00, 16.08it/s]\n",
      "propagate in video:   0%|          | 0/2 [00:00<?, ?it/s]"
     ]
    },
    {
     "name": "stdout",
     "output_type": "stream",
     "text": [
      "\n",
      "Debug: Frame 0 has 1 objects\n",
      "Object IDs: [1]\n"
     ]
    },
    {
     "name": "stderr",
     "output_type": "stream",
     "text": [
      "propagate in video: 100%|██████████| 2/2 [00:04<00:00,  2.48s/it]\n"
     ]
    },
    {
     "name": "stdout",
     "output_type": "stream",
     "text": [
      "\n",
      "Debug: Frame 1 has 1 objects\n",
      "Object IDs: [1]\n",
      "Predicted bbox: [165, 142, 243, 214]\n",
      "\n",
      "Processing image 33/49: carton_oj_000034.jpg\n",
      "Ground truth bbox: [181, 43, 153, 268]\n"
     ]
    },
    {
     "name": "stderr",
     "output_type": "stream",
     "text": [
      "frame loading (JPEG): 100%|██████████| 2/2 [00:00<00:00, 15.31it/s]\n",
      "propagate in video:   0%|          | 0/2 [00:00<?, ?it/s]"
     ]
    },
    {
     "name": "stdout",
     "output_type": "stream",
     "text": [
      "\n",
      "Debug: Frame 0 has 1 objects\n",
      "Object IDs: [1]\n"
     ]
    },
    {
     "name": "stderr",
     "output_type": "stream",
     "text": [
      "propagate in video: 100%|██████████| 2/2 [00:04<00:00,  2.47s/it]\n"
     ]
    },
    {
     "name": "stdout",
     "output_type": "stream",
     "text": [
      "\n",
      "Debug: Frame 1 has 1 objects\n",
      "Object IDs: [1]\n",
      "Predicted bbox: [0, 0, 0, 0]\n",
      "Warning: Empty prediction - skipping\n",
      "\n",
      "Processing image 34/49: carton_oj_000035.jpg\n",
      "Ground truth bbox: [295, 31, 141, 274]\n"
     ]
    },
    {
     "name": "stderr",
     "output_type": "stream",
     "text": [
      "frame loading (JPEG): 100%|██████████| 2/2 [00:00<00:00, 16.68it/s]\n",
      "propagate in video:   0%|          | 0/2 [00:00<?, ?it/s]"
     ]
    },
    {
     "name": "stdout",
     "output_type": "stream",
     "text": [
      "\n",
      "Debug: Frame 0 has 1 objects\n",
      "Object IDs: [1]\n"
     ]
    },
    {
     "name": "stderr",
     "output_type": "stream",
     "text": [
      "propagate in video: 100%|██████████| 2/2 [00:04<00:00,  2.47s/it]\n"
     ]
    },
    {
     "name": "stdout",
     "output_type": "stream",
     "text": [
      "\n",
      "Debug: Frame 1 has 1 objects\n",
      "Object IDs: [1]\n",
      "Predicted bbox: [236, 31, 200, 272]\n",
      "\n",
      "Processing image 35/49: carton_oj_000036.jpg\n",
      "Ground truth bbox: [392, 78, 83, 190]\n"
     ]
    },
    {
     "name": "stderr",
     "output_type": "stream",
     "text": [
      "frame loading (JPEG): 100%|██████████| 2/2 [00:00<00:00, 14.90it/s]\n",
      "propagate in video:   0%|          | 0/2 [00:00<?, ?it/s]"
     ]
    },
    {
     "name": "stdout",
     "output_type": "stream",
     "text": [
      "\n",
      "Debug: Frame 0 has 1 objects\n",
      "Object IDs: [1]\n"
     ]
    },
    {
     "name": "stderr",
     "output_type": "stream",
     "text": [
      "propagate in video: 100%|██████████| 2/2 [00:04<00:00,  2.43s/it]\n"
     ]
    },
    {
     "name": "stdout",
     "output_type": "stream",
     "text": [
      "\n",
      "Debug: Frame 1 has 1 objects\n",
      "Object IDs: [1]\n",
      "Predicted bbox: [395, 81, 81, 184]\n",
      "\n",
      "Processing image 36/49: carton_oj_000037.jpg\n",
      "Ground truth bbox: [223, 165, 124, 233]\n"
     ]
    },
    {
     "name": "stderr",
     "output_type": "stream",
     "text": [
      "frame loading (JPEG): 100%|██████████| 2/2 [00:00<00:00, 17.35it/s]\n",
      "propagate in video:   0%|          | 0/2 [00:00<?, ?it/s]"
     ]
    },
    {
     "name": "stdout",
     "output_type": "stream",
     "text": [
      "\n",
      "Debug: Frame 0 has 1 objects\n",
      "Object IDs: [1]\n"
     ]
    },
    {
     "name": "stderr",
     "output_type": "stream",
     "text": [
      "propagate in video: 100%|██████████| 2/2 [00:04<00:00,  2.47s/it]\n"
     ]
    },
    {
     "name": "stdout",
     "output_type": "stream",
     "text": [
      "\n",
      "Debug: Frame 1 has 1 objects\n",
      "Object IDs: [1]\n",
      "Predicted bbox: [224, 166, 123, 230]\n",
      "\n",
      "Processing image 37/49: carton_oj_000038.jpg\n",
      "Ground truth bbox: [357, 68, 141, 203]\n"
     ]
    },
    {
     "name": "stderr",
     "output_type": "stream",
     "text": [
      "frame loading (JPEG): 100%|██████████| 2/2 [00:00<00:00, 17.47it/s]\n",
      "propagate in video:   0%|          | 0/2 [00:00<?, ?it/s]"
     ]
    },
    {
     "name": "stdout",
     "output_type": "stream",
     "text": [
      "\n",
      "Debug: Frame 0 has 1 objects\n",
      "Object IDs: [1]\n"
     ]
    },
    {
     "name": "stderr",
     "output_type": "stream",
     "text": [
      "propagate in video: 100%|██████████| 2/2 [00:04<00:00,  2.41s/it]\n"
     ]
    },
    {
     "name": "stdout",
     "output_type": "stream",
     "text": [
      "\n",
      "Debug: Frame 1 has 1 objects\n",
      "Object IDs: [1]\n",
      "Predicted bbox: [0, 0, 0, 0]\n",
      "Warning: Empty prediction - skipping\n",
      "\n",
      "Processing image 38/49: carton_oj_000039.jpg\n",
      "Ground truth bbox: [233, 97, 89, 190]\n"
     ]
    },
    {
     "name": "stderr",
     "output_type": "stream",
     "text": [
      "frame loading (JPEG): 100%|██████████| 2/2 [00:00<00:00, 14.26it/s]\n",
      "propagate in video:   0%|          | 0/2 [00:00<?, ?it/s]"
     ]
    },
    {
     "name": "stdout",
     "output_type": "stream",
     "text": [
      "\n",
      "Debug: Frame 0 has 1 objects\n",
      "Object IDs: [1]\n"
     ]
    },
    {
     "name": "stderr",
     "output_type": "stream",
     "text": [
      "propagate in video: 100%|██████████| 2/2 [00:04<00:00,  2.40s/it]\n"
     ]
    },
    {
     "name": "stdout",
     "output_type": "stream",
     "text": [
      "\n",
      "Debug: Frame 1 has 1 objects\n",
      "Object IDs: [1]\n",
      "Predicted bbox: [253, 113, 201, 172]\n",
      "\n",
      "Processing image 39/49: carton_oj_000040.jpg\n",
      "Ground truth bbox: [298, 122, 99, 174]\n"
     ]
    },
    {
     "name": "stderr",
     "output_type": "stream",
     "text": [
      "frame loading (JPEG): 100%|██████████| 2/2 [00:00<00:00, 12.95it/s]\n",
      "propagate in video:   0%|          | 0/2 [00:00<?, ?it/s]"
     ]
    },
    {
     "name": "stdout",
     "output_type": "stream",
     "text": [
      "\n",
      "Debug: Frame 0 has 1 objects\n",
      "Object IDs: [1]\n"
     ]
    },
    {
     "name": "stderr",
     "output_type": "stream",
     "text": [
      "propagate in video: 100%|██████████| 2/2 [00:04<00:00,  2.42s/it]\n"
     ]
    },
    {
     "name": "stdout",
     "output_type": "stream",
     "text": [
      "\n",
      "Debug: Frame 1 has 1 objects\n",
      "Object IDs: [1]\n",
      "Predicted bbox: [306, 154, 197, 144]\n",
      "\n",
      "Processing image 40/49: carton_oj_000041.jpg\n",
      "Ground truth bbox: [299, 80, 114, 233]\n"
     ]
    },
    {
     "name": "stderr",
     "output_type": "stream",
     "text": [
      "frame loading (JPEG): 100%|██████████| 2/2 [00:00<00:00, 17.11it/s]\n",
      "propagate in video:   0%|          | 0/2 [00:00<?, ?it/s]"
     ]
    },
    {
     "name": "stdout",
     "output_type": "stream",
     "text": [
      "\n",
      "Debug: Frame 0 has 1 objects\n",
      "Object IDs: [1]\n"
     ]
    },
    {
     "name": "stderr",
     "output_type": "stream",
     "text": [
      "propagate in video: 100%|██████████| 2/2 [00:04<00:00,  2.47s/it]\n"
     ]
    },
    {
     "name": "stdout",
     "output_type": "stream",
     "text": [
      "\n",
      "Debug: Frame 1 has 1 objects\n",
      "Object IDs: [1]\n",
      "Predicted bbox: [305, 84, 229, 229]\n",
      "\n",
      "Processing image 41/49: carton_oj_000042.jpg\n",
      "Ground truth bbox: [175, 56, 111, 220]\n"
     ]
    },
    {
     "name": "stderr",
     "output_type": "stream",
     "text": [
      "frame loading (JPEG): 100%|██████████| 2/2 [00:00<00:00, 16.19it/s]\n",
      "propagate in video:   0%|          | 0/2 [00:00<?, ?it/s]"
     ]
    },
    {
     "name": "stdout",
     "output_type": "stream",
     "text": [
      "\n",
      "Debug: Frame 0 has 1 objects\n",
      "Object IDs: [1]\n"
     ]
    },
    {
     "name": "stderr",
     "output_type": "stream",
     "text": [
      "propagate in video: 100%|██████████| 2/2 [00:04<00:00,  2.45s/it]\n"
     ]
    },
    {
     "name": "stdout",
     "output_type": "stream",
     "text": [
      "\n",
      "Debug: Frame 1 has 1 objects\n",
      "Object IDs: [1]\n",
      "Predicted bbox: [180, 61, 108, 201]\n",
      "\n",
      "Processing image 42/49: carton_oj_000043.jpg\n",
      "Ground truth bbox: [238, 100, 143, 228]\n"
     ]
    },
    {
     "name": "stderr",
     "output_type": "stream",
     "text": [
      "frame loading (JPEG): 100%|██████████| 2/2 [00:00<00:00, 16.58it/s]\n",
      "propagate in video:   0%|          | 0/2 [00:00<?, ?it/s]"
     ]
    },
    {
     "name": "stdout",
     "output_type": "stream",
     "text": [
      "\n",
      "Debug: Frame 0 has 1 objects\n",
      "Object IDs: [1]\n"
     ]
    },
    {
     "name": "stderr",
     "output_type": "stream",
     "text": [
      "propagate in video: 100%|██████████| 2/2 [00:04<00:00,  2.47s/it]\n"
     ]
    },
    {
     "name": "stdout",
     "output_type": "stream",
     "text": [
      "\n",
      "Debug: Frame 1 has 1 objects\n",
      "Object IDs: [1]\n",
      "Predicted bbox: [241, 100, 141, 232]\n",
      "\n",
      "Processing image 43/49: carton_oj_000044.jpg\n",
      "Ground truth bbox: [243, 84, 123, 215]\n"
     ]
    },
    {
     "name": "stderr",
     "output_type": "stream",
     "text": [
      "frame loading (JPEG): 100%|██████████| 2/2 [00:00<00:00, 17.06it/s]\n",
      "propagate in video:   0%|          | 0/2 [00:00<?, ?it/s]"
     ]
    },
    {
     "name": "stdout",
     "output_type": "stream",
     "text": [
      "\n",
      "Debug: Frame 0 has 1 objects\n",
      "Object IDs: [1]\n"
     ]
    },
    {
     "name": "stderr",
     "output_type": "stream",
     "text": [
      "propagate in video: 100%|██████████| 2/2 [00:04<00:00,  2.41s/it]\n"
     ]
    },
    {
     "name": "stdout",
     "output_type": "stream",
     "text": [
      "\n",
      "Debug: Frame 1 has 1 objects\n",
      "Object IDs: [1]\n",
      "Predicted bbox: [212, 61, 154, 236]\n",
      "\n",
      "Processing image 44/49: carton_oj_000045.jpg\n",
      "Ground truth bbox: [88, 129, 178, 301]\n"
     ]
    },
    {
     "name": "stderr",
     "output_type": "stream",
     "text": [
      "frame loading (JPEG): 100%|██████████| 2/2 [00:00<00:00, 14.63it/s]\n",
      "propagate in video:   0%|          | 0/2 [00:00<?, ?it/s]"
     ]
    },
    {
     "name": "stdout",
     "output_type": "stream",
     "text": [
      "\n",
      "Debug: Frame 0 has 1 objects\n",
      "Object IDs: [1]\n"
     ]
    },
    {
     "name": "stderr",
     "output_type": "stream",
     "text": [
      "propagate in video: 100%|██████████| 2/2 [00:05<00:00,  2.55s/it]\n"
     ]
    },
    {
     "name": "stdout",
     "output_type": "stream",
     "text": [
      "\n",
      "Debug: Frame 1 has 1 objects\n",
      "Object IDs: [1]\n",
      "Predicted bbox: [110, 133, 151, 251]\n",
      "\n",
      "Processing image 45/49: carton_oj_000046.jpg\n",
      "Ground truth bbox: [254, 118, 136, 267]\n"
     ]
    },
    {
     "name": "stderr",
     "output_type": "stream",
     "text": [
      "frame loading (JPEG): 100%|██████████| 2/2 [00:00<00:00, 15.35it/s]\n",
      "propagate in video:   0%|          | 0/2 [00:00<?, ?it/s]"
     ]
    },
    {
     "name": "stdout",
     "output_type": "stream",
     "text": [
      "\n",
      "Debug: Frame 0 has 1 objects\n",
      "Object IDs: [1]\n"
     ]
    },
    {
     "name": "stderr",
     "output_type": "stream",
     "text": [
      "propagate in video: 100%|██████████| 2/2 [00:04<00:00,  2.41s/it]\n"
     ]
    },
    {
     "name": "stdout",
     "output_type": "stream",
     "text": [
      "\n",
      "Debug: Frame 1 has 1 objects\n",
      "Object IDs: [1]\n",
      "Predicted bbox: [257, 123, 120, 263]\n",
      "\n",
      "Processing image 46/49: carton_oj_000047.jpg\n",
      "Ground truth bbox: [369, 103, 121, 201]\n"
     ]
    },
    {
     "name": "stderr",
     "output_type": "stream",
     "text": [
      "frame loading (JPEG): 100%|██████████| 2/2 [00:00<00:00, 16.04it/s]\n",
      "propagate in video:   0%|          | 0/2 [00:00<?, ?it/s]"
     ]
    },
    {
     "name": "stdout",
     "output_type": "stream",
     "text": [
      "\n",
      "Debug: Frame 0 has 1 objects\n",
      "Object IDs: [1]\n"
     ]
    },
    {
     "name": "stderr",
     "output_type": "stream",
     "text": [
      "propagate in video: 100%|██████████| 2/2 [00:04<00:00,  2.42s/it]\n"
     ]
    },
    {
     "name": "stdout",
     "output_type": "stream",
     "text": [
      "\n",
      "Debug: Frame 1 has 1 objects\n",
      "Object IDs: [1]\n",
      "Predicted bbox: [371, 107, 204, 200]\n",
      "\n",
      "Processing image 47/49: carton_oj_000048.jpg\n",
      "Ground truth bbox: [93, 320, 114, 158]\n"
     ]
    },
    {
     "name": "stderr",
     "output_type": "stream",
     "text": [
      "frame loading (JPEG): 100%|██████████| 2/2 [00:00<00:00, 16.46it/s]\n",
      "propagate in video:   0%|          | 0/2 [00:00<?, ?it/s]"
     ]
    },
    {
     "name": "stdout",
     "output_type": "stream",
     "text": [
      "\n",
      "Debug: Frame 0 has 1 objects\n",
      "Object IDs: [1]\n"
     ]
    },
    {
     "name": "stderr",
     "output_type": "stream",
     "text": [
      "propagate in video: 100%|██████████| 2/2 [00:05<00:00,  2.59s/it]\n"
     ]
    },
    {
     "name": "stdout",
     "output_type": "stream",
     "text": [
      "\n",
      "Debug: Frame 1 has 1 objects\n",
      "Object IDs: [1]\n",
      "Predicted bbox: [398, 0, 241, 171]\n",
      "\n",
      "Processing image 48/49: carton_oj_000049.jpg\n",
      "Ground truth bbox: [232, 109, 114, 173]\n"
     ]
    },
    {
     "name": "stderr",
     "output_type": "stream",
     "text": [
      "frame loading (JPEG): 100%|██████████| 2/2 [00:00<00:00, 13.51it/s]\n",
      "propagate in video:   0%|          | 0/2 [00:00<?, ?it/s]"
     ]
    },
    {
     "name": "stdout",
     "output_type": "stream",
     "text": [
      "\n",
      "Debug: Frame 0 has 1 objects\n",
      "Object IDs: [1]\n"
     ]
    },
    {
     "name": "stderr",
     "output_type": "stream",
     "text": [
      "propagate in video: 100%|██████████| 2/2 [00:05<00:00,  2.53s/it]\n"
     ]
    },
    {
     "name": "stdout",
     "output_type": "stream",
     "text": [
      "\n",
      "Debug: Frame 1 has 1 objects\n",
      "Object IDs: [1]\n",
      "Predicted bbox: [246, 66, 207, 183]\n",
      "\n",
      "Processing image 49/49: carton_oj_000050.jpg\n",
      "Ground truth bbox: [103, 102, 139, 205]\n"
     ]
    },
    {
     "name": "stderr",
     "output_type": "stream",
     "text": [
      "frame loading (JPEG): 100%|██████████| 2/2 [00:00<00:00, 13.04it/s]\n",
      "propagate in video:   0%|          | 0/2 [00:00<?, ?it/s]"
     ]
    },
    {
     "name": "stdout",
     "output_type": "stream",
     "text": [
      "\n",
      "Debug: Frame 0 has 1 objects\n",
      "Object IDs: [1]\n"
     ]
    },
    {
     "name": "stderr",
     "output_type": "stream",
     "text": [
      "propagate in video: 100%|██████████| 2/2 [00:05<00:00,  2.50s/it]\n"
     ]
    },
    {
     "name": "stdout",
     "output_type": "stream",
     "text": [
      "\n",
      "Debug: Frame 1 has 1 objects\n",
      "Object IDs: [1]\n",
      "Predicted bbox: [358, 156, 63, 172]\n",
      "creating index...\n",
      "index created!\n",
      "Error in COCO evaluation: 'info'\n",
      "\n",
      "Evaluating carton_soymilk...\n",
      "Using reference image: carton_soymilk_000001.jpg\n",
      "Using reference mask: carton_soymilk_000001_1_gt.png\n",
      "Reference bounding box: x=[355,439], y=[141,304]\n",
      "\n",
      "Processing image 1/49: carton_soymilk_000002.jpg\n",
      "Ground truth bbox: [182, 164, 121, 200]\n"
     ]
    },
    {
     "name": "stderr",
     "output_type": "stream",
     "text": [
      "frame loading (JPEG): 100%|██████████| 2/2 [00:00<00:00, 15.17it/s]\n",
      "propagate in video:   0%|          | 0/2 [00:00<?, ?it/s]"
     ]
    },
    {
     "name": "stdout",
     "output_type": "stream",
     "text": [
      "\n",
      "Debug: Frame 0 has 1 objects\n",
      "Object IDs: [1]\n"
     ]
    },
    {
     "name": "stderr",
     "output_type": "stream",
     "text": [
      "propagate in video: 100%|██████████| 2/2 [00:04<00:00,  2.47s/it]\n"
     ]
    },
    {
     "name": "stdout",
     "output_type": "stream",
     "text": [
      "\n",
      "Debug: Frame 1 has 1 objects\n",
      "Object IDs: [1]\n",
      "Predicted bbox: [186, 169, 110, 168]\n",
      "\n",
      "Processing image 2/49: carton_soymilk_000003.jpg\n",
      "Ground truth bbox: [146, 133, 134, 224]\n"
     ]
    },
    {
     "name": "stderr",
     "output_type": "stream",
     "text": [
      "frame loading (JPEG): 100%|██████████| 2/2 [00:00<00:00, 17.07it/s]\n",
      "propagate in video:   0%|          | 0/2 [00:00<?, ?it/s]"
     ]
    },
    {
     "name": "stdout",
     "output_type": "stream",
     "text": [
      "\n",
      "Debug: Frame 0 has 1 objects\n",
      "Object IDs: [1]\n"
     ]
    },
    {
     "name": "stderr",
     "output_type": "stream",
     "text": [
      "propagate in video: 100%|██████████| 2/2 [00:04<00:00,  2.48s/it]\n"
     ]
    },
    {
     "name": "stdout",
     "output_type": "stream",
     "text": [
      "\n",
      "Debug: Frame 1 has 1 objects\n",
      "Object IDs: [1]\n",
      "Predicted bbox: [0, 0, 0, 0]\n",
      "Warning: Empty prediction - skipping\n",
      "\n",
      "Processing image 3/49: carton_soymilk_000004.jpg\n",
      "Ground truth bbox: [455, 245, 129, 216]\n"
     ]
    },
    {
     "name": "stderr",
     "output_type": "stream",
     "text": [
      "frame loading (JPEG): 100%|██████████| 2/2 [00:00<00:00, 15.41it/s]\n",
      "propagate in video:   0%|          | 0/2 [00:00<?, ?it/s]"
     ]
    },
    {
     "name": "stdout",
     "output_type": "stream",
     "text": [
      "\n",
      "Debug: Frame 0 has 1 objects\n",
      "Object IDs: [1]\n"
     ]
    },
    {
     "name": "stderr",
     "output_type": "stream",
     "text": [
      "propagate in video: 100%|██████████| 2/2 [00:04<00:00,  2.50s/it]\n"
     ]
    },
    {
     "name": "stdout",
     "output_type": "stream",
     "text": [
      "\n",
      "Debug: Frame 1 has 1 objects\n",
      "Object IDs: [1]\n",
      "Predicted bbox: [465, 250, 121, 174]\n",
      "\n",
      "Processing image 4/49: carton_soymilk_000005.jpg\n",
      "Ground truth bbox: [309, 8, 260, 188]\n"
     ]
    },
    {
     "name": "stderr",
     "output_type": "stream",
     "text": [
      "frame loading (JPEG): 100%|██████████| 2/2 [00:00<00:00, 17.71it/s]\n",
      "propagate in video:   0%|          | 0/2 [00:00<?, ?it/s]"
     ]
    },
    {
     "name": "stdout",
     "output_type": "stream",
     "text": [
      "\n",
      "Debug: Frame 0 has 1 objects\n",
      "Object IDs: [1]\n"
     ]
    },
    {
     "name": "stderr",
     "output_type": "stream",
     "text": [
      "propagate in video: 100%|██████████| 2/2 [00:05<00:00,  2.54s/it]\n"
     ]
    },
    {
     "name": "stdout",
     "output_type": "stream",
     "text": [
      "\n",
      "Debug: Frame 1 has 1 objects\n",
      "Object IDs: [1]\n",
      "Predicted bbox: [331, 13, 287, 141]\n",
      "\n",
      "Processing image 5/49: carton_soymilk_000006.jpg\n",
      "Ground truth bbox: [388, 73, 87, 150]\n"
     ]
    },
    {
     "name": "stderr",
     "output_type": "stream",
     "text": [
      "frame loading (JPEG): 100%|██████████| 2/2 [00:00<00:00, 15.72it/s]\n",
      "propagate in video:   0%|          | 0/2 [00:00<?, ?it/s]"
     ]
    },
    {
     "name": "stdout",
     "output_type": "stream",
     "text": [
      "\n",
      "Debug: Frame 0 has 1 objects\n",
      "Object IDs: [1]\n"
     ]
    },
    {
     "name": "stderr",
     "output_type": "stream",
     "text": [
      "propagate in video: 100%|██████████| 2/2 [00:04<00:00,  2.44s/it]\n"
     ]
    },
    {
     "name": "stdout",
     "output_type": "stream",
     "text": [
      "\n",
      "Debug: Frame 1 has 1 objects\n",
      "Object IDs: [1]\n",
      "Predicted bbox: [392, 71, 83, 152]\n",
      "\n",
      "Processing image 6/49: carton_soymilk_000007.jpg\n",
      "Ground truth bbox: [390, 8, 133, 243]\n"
     ]
    },
    {
     "name": "stderr",
     "output_type": "stream",
     "text": [
      "frame loading (JPEG): 100%|██████████| 2/2 [00:00<00:00, 15.27it/s]\n",
      "propagate in video:   0%|          | 0/2 [00:00<?, ?it/s]"
     ]
    },
    {
     "name": "stdout",
     "output_type": "stream",
     "text": [
      "\n",
      "Debug: Frame 0 has 1 objects\n",
      "Object IDs: [1]\n"
     ]
    },
    {
     "name": "stderr",
     "output_type": "stream",
     "text": [
      "propagate in video: 100%|██████████| 2/2 [00:05<00:00,  2.57s/it]\n"
     ]
    },
    {
     "name": "stdout",
     "output_type": "stream",
     "text": [
      "\n",
      "Debug: Frame 1 has 1 objects\n",
      "Object IDs: [1]\n",
      "Predicted bbox: [397, 11, 180, 239]\n",
      "\n",
      "Processing image 7/49: carton_soymilk_000008.jpg\n",
      "Ground truth bbox: [375, 181, 131, 195]\n"
     ]
    },
    {
     "name": "stderr",
     "output_type": "stream",
     "text": [
      "frame loading (JPEG): 100%|██████████| 2/2 [00:00<00:00, 15.47it/s]\n",
      "propagate in video:   0%|          | 0/2 [00:00<?, ?it/s]"
     ]
    },
    {
     "name": "stdout",
     "output_type": "stream",
     "text": [
      "\n",
      "Debug: Frame 0 has 1 objects\n",
      "Object IDs: [1]\n"
     ]
    },
    {
     "name": "stderr",
     "output_type": "stream",
     "text": [
      "propagate in video: 100%|██████████| 2/2 [00:04<00:00,  2.44s/it]\n"
     ]
    },
    {
     "name": "stdout",
     "output_type": "stream",
     "text": [
      "\n",
      "Debug: Frame 1 has 1 objects\n",
      "Object IDs: [1]\n",
      "Predicted bbox: [378, 168, 184, 211]\n",
      "\n",
      "Processing image 8/49: carton_soymilk_000009.jpg\n",
      "Ground truth bbox: [371, 14, 94, 217]\n"
     ]
    },
    {
     "name": "stderr",
     "output_type": "stream",
     "text": [
      "frame loading (JPEG): 100%|██████████| 2/2 [00:00<00:00, 16.27it/s]\n",
      "propagate in video:   0%|          | 0/2 [00:00<?, ?it/s]"
     ]
    },
    {
     "name": "stdout",
     "output_type": "stream",
     "text": [
      "\n",
      "Debug: Frame 0 has 1 objects\n",
      "Object IDs: [1]\n"
     ]
    },
    {
     "name": "stderr",
     "output_type": "stream",
     "text": [
      "propagate in video: 100%|██████████| 2/2 [00:04<00:00,  2.49s/it]\n"
     ]
    },
    {
     "name": "stdout",
     "output_type": "stream",
     "text": [
      "\n",
      "Debug: Frame 1 has 1 objects\n",
      "Object IDs: [1]\n",
      "Predicted bbox: [507, 28, 94, 182]\n",
      "\n",
      "Processing image 9/49: carton_soymilk_000010.jpg\n",
      "Ground truth bbox: [345, 167, 123, 230]\n"
     ]
    },
    {
     "name": "stderr",
     "output_type": "stream",
     "text": [
      "frame loading (JPEG): 100%|██████████| 2/2 [00:00<00:00, 15.94it/s]\n",
      "propagate in video:   0%|          | 0/2 [00:00<?, ?it/s]"
     ]
    },
    {
     "name": "stdout",
     "output_type": "stream",
     "text": [
      "\n",
      "Debug: Frame 0 has 1 objects\n",
      "Object IDs: [1]\n"
     ]
    },
    {
     "name": "stderr",
     "output_type": "stream",
     "text": [
      "propagate in video: 100%|██████████| 2/2 [00:05<00:00,  2.52s/it]\n"
     ]
    },
    {
     "name": "stdout",
     "output_type": "stream",
     "text": [
      "\n",
      "Debug: Frame 1 has 1 objects\n",
      "Object IDs: [1]\n",
      "Predicted bbox: [419, 144, 91, 173]\n",
      "\n",
      "Processing image 10/49: carton_soymilk_000011.jpg\n",
      "Ground truth bbox: [277, 97, 70, 153]\n"
     ]
    },
    {
     "name": "stderr",
     "output_type": "stream",
     "text": [
      "frame loading (JPEG): 100%|██████████| 2/2 [00:00<00:00, 16.28it/s]\n",
      "propagate in video:   0%|          | 0/2 [00:00<?, ?it/s]"
     ]
    },
    {
     "name": "stdout",
     "output_type": "stream",
     "text": [
      "\n",
      "Debug: Frame 0 has 1 objects\n",
      "Object IDs: [1]\n"
     ]
    },
    {
     "name": "stderr",
     "output_type": "stream",
     "text": [
      "propagate in video: 100%|██████████| 2/2 [00:04<00:00,  2.50s/it]\n"
     ]
    },
    {
     "name": "stdout",
     "output_type": "stream",
     "text": [
      "\n",
      "Debug: Frame 1 has 1 objects\n",
      "Object IDs: [1]\n",
      "Predicted bbox: [371, 96, 62, 132]\n",
      "\n",
      "Processing image 11/49: carton_soymilk_000012.jpg\n",
      "Ground truth bbox: [339, 69, 179, 94]\n"
     ]
    },
    {
     "name": "stderr",
     "output_type": "stream",
     "text": [
      "frame loading (JPEG): 100%|██████████| 2/2 [00:00<00:00, 17.38it/s]\n",
      "propagate in video:   0%|          | 0/2 [00:00<?, ?it/s]"
     ]
    },
    {
     "name": "stdout",
     "output_type": "stream",
     "text": [
      "\n",
      "Debug: Frame 0 has 1 objects\n",
      "Object IDs: [1]\n"
     ]
    },
    {
     "name": "stderr",
     "output_type": "stream",
     "text": [
      "propagate in video: 100%|██████████| 2/2 [00:04<00:00,  2.48s/it]\n"
     ]
    },
    {
     "name": "stdout",
     "output_type": "stream",
     "text": [
      "\n",
      "Debug: Frame 1 has 1 objects\n",
      "Object IDs: [1]\n",
      "Predicted bbox: [502, 204, 85, 163]\n",
      "\n",
      "Processing image 12/49: carton_soymilk_000013.jpg\n",
      "Ground truth bbox: [337, 19, 215, 133]\n"
     ]
    },
    {
     "name": "stderr",
     "output_type": "stream",
     "text": [
      "frame loading (JPEG): 100%|██████████| 2/2 [00:00<00:00, 17.67it/s]\n",
      "propagate in video:   0%|          | 0/2 [00:00<?, ?it/s]"
     ]
    },
    {
     "name": "stdout",
     "output_type": "stream",
     "text": [
      "\n",
      "Debug: Frame 0 has 1 objects\n",
      "Object IDs: [1]\n"
     ]
    },
    {
     "name": "stderr",
     "output_type": "stream",
     "text": [
      "propagate in video: 100%|██████████| 2/2 [00:04<00:00,  2.46s/it]\n"
     ]
    },
    {
     "name": "stdout",
     "output_type": "stream",
     "text": [
      "\n",
      "Debug: Frame 1 has 1 objects\n",
      "Object IDs: [1]\n",
      "Predicted bbox: [467, 161, 95, 120]\n",
      "\n",
      "Processing image 13/49: carton_soymilk_000014.jpg\n",
      "Ground truth bbox: [464, 0, 153, 236]\n"
     ]
    },
    {
     "name": "stderr",
     "output_type": "stream",
     "text": [
      "frame loading (JPEG): 100%|██████████| 2/2 [00:00<00:00, 17.00it/s]\n",
      "propagate in video:   0%|          | 0/2 [00:00<?, ?it/s]"
     ]
    },
    {
     "name": "stdout",
     "output_type": "stream",
     "text": [
      "\n",
      "Debug: Frame 0 has 1 objects\n",
      "Object IDs: [1]\n"
     ]
    },
    {
     "name": "stderr",
     "output_type": "stream",
     "text": [
      "propagate in video: 100%|██████████| 2/2 [00:04<00:00,  2.44s/it]\n"
     ]
    },
    {
     "name": "stdout",
     "output_type": "stream",
     "text": [
      "\n",
      "Debug: Frame 1 has 1 objects\n",
      "Object IDs: [1]\n",
      "Predicted bbox: [469, 0, 147, 240]\n",
      "\n",
      "Processing image 14/49: carton_soymilk_000015.jpg\n",
      "Ground truth bbox: [374, 230, 179, 91]\n"
     ]
    },
    {
     "name": "stderr",
     "output_type": "stream",
     "text": [
      "frame loading (JPEG): 100%|██████████| 2/2 [00:00<00:00, 17.46it/s]\n",
      "propagate in video:   0%|          | 0/2 [00:00<?, ?it/s]"
     ]
    },
    {
     "name": "stdout",
     "output_type": "stream",
     "text": [
      "\n",
      "Debug: Frame 0 has 1 objects\n",
      "Object IDs: [1]\n"
     ]
    },
    {
     "name": "stderr",
     "output_type": "stream",
     "text": [
      "propagate in video: 100%|██████████| 2/2 [00:05<00:00,  2.50s/it]\n"
     ]
    },
    {
     "name": "stdout",
     "output_type": "stream",
     "text": [
      "\n",
      "Debug: Frame 1 has 1 objects\n",
      "Object IDs: [1]\n",
      "Predicted bbox: [511, 15, 104, 188]\n",
      "\n",
      "Processing image 15/49: carton_soymilk_000016.jpg\n",
      "Ground truth bbox: [101, 152, 166, 137]\n"
     ]
    },
    {
     "name": "stderr",
     "output_type": "stream",
     "text": [
      "frame loading (JPEG): 100%|██████████| 2/2 [00:00<00:00, 17.25it/s]\n",
      "propagate in video:   0%|          | 0/2 [00:00<?, ?it/s]"
     ]
    },
    {
     "name": "stdout",
     "output_type": "stream",
     "text": [
      "\n",
      "Debug: Frame 0 has 1 objects\n",
      "Object IDs: [1]\n"
     ]
    },
    {
     "name": "stderr",
     "output_type": "stream",
     "text": [
      "propagate in video: 100%|██████████| 2/2 [00:05<00:00,  2.52s/it]\n"
     ]
    },
    {
     "name": "stdout",
     "output_type": "stream",
     "text": [
      "\n",
      "Debug: Frame 1 has 1 objects\n",
      "Object IDs: [1]\n",
      "Predicted bbox: [392, 163, 179, 102]\n",
      "\n",
      "Processing image 16/49: carton_soymilk_000017.jpg\n",
      "Ground truth bbox: [43, 192, 175, 91]\n"
     ]
    },
    {
     "name": "stderr",
     "output_type": "stream",
     "text": [
      "frame loading (JPEG): 100%|██████████| 2/2 [00:00<00:00, 17.53it/s]\n",
      "propagate in video:   0%|          | 0/2 [00:00<?, ?it/s]"
     ]
    },
    {
     "name": "stdout",
     "output_type": "stream",
     "text": [
      "\n",
      "Debug: Frame 0 has 1 objects\n",
      "Object IDs: [1]\n"
     ]
    },
    {
     "name": "stderr",
     "output_type": "stream",
     "text": [
      "propagate in video: 100%|██████████| 2/2 [00:04<00:00,  2.43s/it]\n"
     ]
    },
    {
     "name": "stdout",
     "output_type": "stream",
     "text": [
      "\n",
      "Debug: Frame 1 has 1 objects\n",
      "Object IDs: [1]\n",
      "Predicted bbox: [41, 188, 297, 154]\n",
      "\n",
      "Processing image 17/49: carton_soymilk_000018.jpg\n",
      "Ground truth bbox: [11, 157, 269, 176]\n"
     ]
    },
    {
     "name": "stderr",
     "output_type": "stream",
     "text": [
      "frame loading (JPEG): 100%|██████████| 2/2 [00:00<00:00, 17.88it/s]\n",
      "propagate in video:   0%|          | 0/2 [00:00<?, ?it/s]"
     ]
    },
    {
     "name": "stdout",
     "output_type": "stream",
     "text": [
      "\n",
      "Debug: Frame 0 has 1 objects\n",
      "Object IDs: [1]\n"
     ]
    },
    {
     "name": "stderr",
     "output_type": "stream",
     "text": [
      "propagate in video: 100%|██████████| 2/2 [00:04<00:00,  2.44s/it]\n"
     ]
    },
    {
     "name": "stdout",
     "output_type": "stream",
     "text": [
      "\n",
      "Debug: Frame 1 has 1 objects\n",
      "Object IDs: [1]\n",
      "Predicted bbox: [0, 194, 483, 187]\n",
      "\n",
      "Processing image 18/49: carton_soymilk_000019.jpg\n",
      "Ground truth bbox: [58, 9, 189, 103]\n"
     ]
    },
    {
     "name": "stderr",
     "output_type": "stream",
     "text": [
      "frame loading (JPEG): 100%|██████████| 2/2 [00:00<00:00, 17.24it/s]\n",
      "propagate in video:   0%|          | 0/2 [00:00<?, ?it/s]"
     ]
    },
    {
     "name": "stdout",
     "output_type": "stream",
     "text": [
      "\n",
      "Debug: Frame 0 has 1 objects\n",
      "Object IDs: [1]\n"
     ]
    },
    {
     "name": "stderr",
     "output_type": "stream",
     "text": [
      "propagate in video: 100%|██████████| 2/2 [00:05<00:00,  2.50s/it]\n"
     ]
    },
    {
     "name": "stdout",
     "output_type": "stream",
     "text": [
      "\n",
      "Debug: Frame 1 has 1 objects\n",
      "Object IDs: [1]\n",
      "Predicted bbox: [81, 40, 318, 137]\n",
      "\n",
      "Processing image 19/49: carton_soymilk_000020.jpg\n",
      "Ground truth bbox: [180, 80, 57, 118]\n"
     ]
    },
    {
     "name": "stderr",
     "output_type": "stream",
     "text": [
      "frame loading (JPEG): 100%|██████████| 2/2 [00:00<00:00, 16.89it/s]\n",
      "propagate in video:   0%|          | 0/2 [00:00<?, ?it/s]"
     ]
    },
    {
     "name": "stdout",
     "output_type": "stream",
     "text": [
      "\n",
      "Debug: Frame 0 has 1 objects\n",
      "Object IDs: [1]\n"
     ]
    },
    {
     "name": "stderr",
     "output_type": "stream",
     "text": [
      "propagate in video: 100%|██████████| 2/2 [00:04<00:00,  2.47s/it]\n"
     ]
    },
    {
     "name": "stdout",
     "output_type": "stream",
     "text": [
      "\n",
      "Debug: Frame 1 has 1 objects\n",
      "Object IDs: [1]\n",
      "Predicted bbox: [296, 94, 60, 117]\n",
      "\n",
      "Processing image 20/49: carton_soymilk_000021.jpg\n",
      "Ground truth bbox: [299, 49, 98, 168]\n"
     ]
    },
    {
     "name": "stderr",
     "output_type": "stream",
     "text": [
      "frame loading (JPEG): 100%|██████████| 2/2 [00:00<00:00, 14.32it/s]\n",
      "propagate in video:   0%|          | 0/2 [00:00<?, ?it/s]"
     ]
    },
    {
     "name": "stdout",
     "output_type": "stream",
     "text": [
      "\n",
      "Debug: Frame 0 has 1 objects\n",
      "Object IDs: [1]\n"
     ]
    },
    {
     "name": "stderr",
     "output_type": "stream",
     "text": [
      "propagate in video: 100%|██████████| 2/2 [00:04<00:00,  2.45s/it]\n"
     ]
    },
    {
     "name": "stdout",
     "output_type": "stream",
     "text": [
      "\n",
      "Debug: Frame 1 has 1 objects\n",
      "Object IDs: [1]\n",
      "Predicted bbox: [468, 26, 116, 190]\n",
      "\n",
      "Processing image 21/49: carton_soymilk_000022.jpg\n",
      "Ground truth bbox: [206, 31, 162, 290]\n"
     ]
    },
    {
     "name": "stderr",
     "output_type": "stream",
     "text": [
      "frame loading (JPEG): 100%|██████████| 2/2 [00:00<00:00, 17.04it/s]\n",
      "propagate in video:   0%|          | 0/2 [00:00<?, ?it/s]"
     ]
    },
    {
     "name": "stdout",
     "output_type": "stream",
     "text": [
      "\n",
      "Debug: Frame 0 has 1 objects\n",
      "Object IDs: [1]\n"
     ]
    },
    {
     "name": "stderr",
     "output_type": "stream",
     "text": [
      "propagate in video: 100%|██████████| 2/2 [00:04<00:00,  2.46s/it]\n"
     ]
    },
    {
     "name": "stdout",
     "output_type": "stream",
     "text": [
      "\n",
      "Debug: Frame 1 has 1 objects\n",
      "Object IDs: [1]\n",
      "Predicted bbox: [210, 45, 194, 274]\n",
      "\n",
      "Processing image 22/49: carton_soymilk_000023.jpg\n",
      "Ground truth bbox: [234, 124, 150, 273]\n"
     ]
    },
    {
     "name": "stderr",
     "output_type": "stream",
     "text": [
      "frame loading (JPEG): 100%|██████████| 2/2 [00:00<00:00, 16.28it/s]\n",
      "propagate in video:   0%|          | 0/2 [00:00<?, ?it/s]"
     ]
    },
    {
     "name": "stdout",
     "output_type": "stream",
     "text": [
      "\n",
      "Debug: Frame 0 has 1 objects\n",
      "Object IDs: [1]\n"
     ]
    },
    {
     "name": "stderr",
     "output_type": "stream",
     "text": [
      "propagate in video: 100%|██████████| 2/2 [00:04<00:00,  2.50s/it]\n"
     ]
    },
    {
     "name": "stdout",
     "output_type": "stream",
     "text": [
      "\n",
      "Debug: Frame 1 has 1 objects\n",
      "Object IDs: [1]\n",
      "Predicted bbox: [0, 0, 0, 0]\n",
      "Warning: Empty prediction - skipping\n",
      "\n",
      "Processing image 23/49: carton_soymilk_000024.jpg\n",
      "Ground truth bbox: [270, 93, 153, 266]\n"
     ]
    },
    {
     "name": "stderr",
     "output_type": "stream",
     "text": [
      "frame loading (JPEG): 100%|██████████| 2/2 [00:00<00:00, 15.38it/s]\n",
      "propagate in video:   0%|          | 0/2 [00:00<?, ?it/s]"
     ]
    },
    {
     "name": "stdout",
     "output_type": "stream",
     "text": [
      "\n",
      "Debug: Frame 0 has 1 objects\n",
      "Object IDs: [1]\n"
     ]
    },
    {
     "name": "stderr",
     "output_type": "stream",
     "text": [
      "propagate in video: 100%|██████████| 2/2 [00:04<00:00,  2.41s/it]\n"
     ]
    },
    {
     "name": "stdout",
     "output_type": "stream",
     "text": [
      "\n",
      "Debug: Frame 1 has 1 objects\n",
      "Object IDs: [1]\n",
      "Predicted bbox: [0, 0, 0, 0]\n",
      "Warning: Empty prediction - skipping\n",
      "\n",
      "Processing image 24/49: carton_soymilk_000025.jpg\n",
      "Ground truth bbox: [208, 69, 145, 238]\n"
     ]
    },
    {
     "name": "stderr",
     "output_type": "stream",
     "text": [
      "frame loading (JPEG): 100%|██████████| 2/2 [00:00<00:00, 13.21it/s]\n",
      "propagate in video:   0%|          | 0/2 [00:00<?, ?it/s]"
     ]
    },
    {
     "name": "stdout",
     "output_type": "stream",
     "text": [
      "\n",
      "Debug: Frame 0 has 1 objects\n",
      "Object IDs: [1]\n"
     ]
    },
    {
     "name": "stderr",
     "output_type": "stream",
     "text": [
      "propagate in video: 100%|██████████| 2/2 [00:04<00:00,  2.44s/it]\n"
     ]
    },
    {
     "name": "stdout",
     "output_type": "stream",
     "text": [
      "\n",
      "Debug: Frame 1 has 1 objects\n",
      "Object IDs: [1]\n",
      "Predicted bbox: [0, 0, 0, 0]\n",
      "Warning: Empty prediction - skipping\n",
      "\n",
      "Processing image 25/49: carton_soymilk_000026.jpg\n",
      "Ground truth bbox: [189, 101, 121, 206]\n"
     ]
    },
    {
     "name": "stderr",
     "output_type": "stream",
     "text": [
      "frame loading (JPEG): 100%|██████████| 2/2 [00:00<00:00, 17.33it/s]\n",
      "propagate in video:   0%|          | 0/2 [00:00<?, ?it/s]"
     ]
    },
    {
     "name": "stdout",
     "output_type": "stream",
     "text": [
      "\n",
      "Debug: Frame 0 has 1 objects\n",
      "Object IDs: [1]\n"
     ]
    },
    {
     "name": "stderr",
     "output_type": "stream",
     "text": [
      "propagate in video: 100%|██████████| 2/2 [00:04<00:00,  2.45s/it]\n"
     ]
    },
    {
     "name": "stdout",
     "output_type": "stream",
     "text": [
      "\n",
      "Debug: Frame 1 has 1 objects\n",
      "Object IDs: [1]\n",
      "Predicted bbox: [176, 110, 160, 244]\n",
      "\n",
      "Processing image 26/49: carton_soymilk_000027.jpg\n",
      "Ground truth bbox: [197, 72, 163, 228]\n"
     ]
    },
    {
     "name": "stderr",
     "output_type": "stream",
     "text": [
      "frame loading (JPEG): 100%|██████████| 2/2 [00:00<00:00, 15.96it/s]\n",
      "propagate in video:   0%|          | 0/2 [00:00<?, ?it/s]"
     ]
    },
    {
     "name": "stdout",
     "output_type": "stream",
     "text": [
      "\n",
      "Debug: Frame 0 has 1 objects\n",
      "Object IDs: [1]\n"
     ]
    },
    {
     "name": "stderr",
     "output_type": "stream",
     "text": [
      "propagate in video: 100%|██████████| 2/2 [00:04<00:00,  2.43s/it]\n"
     ]
    },
    {
     "name": "stdout",
     "output_type": "stream",
     "text": [
      "\n",
      "Debug: Frame 1 has 1 objects\n",
      "Object IDs: [1]\n",
      "Predicted bbox: [206, 90, 152, 210]\n",
      "\n",
      "Processing image 27/49: carton_soymilk_000028.jpg\n",
      "Ground truth bbox: [222, 131, 146, 222]\n"
     ]
    },
    {
     "name": "stderr",
     "output_type": "stream",
     "text": [
      "frame loading (JPEG): 100%|██████████| 2/2 [00:00<00:00, 15.94it/s]\n",
      "propagate in video:   0%|          | 0/2 [00:00<?, ?it/s]"
     ]
    },
    {
     "name": "stdout",
     "output_type": "stream",
     "text": [
      "\n",
      "Debug: Frame 0 has 1 objects\n",
      "Object IDs: [1]\n"
     ]
    },
    {
     "name": "stderr",
     "output_type": "stream",
     "text": [
      "propagate in video: 100%|██████████| 2/2 [00:04<00:00,  2.40s/it]\n"
     ]
    },
    {
     "name": "stdout",
     "output_type": "stream",
     "text": [
      "\n",
      "Debug: Frame 1 has 1 objects\n",
      "Object IDs: [1]\n",
      "Predicted bbox: [232, 135, 138, 218]\n",
      "\n",
      "Processing image 28/49: carton_soymilk_000029.jpg\n",
      "Ground truth bbox: [161, 112, 122, 199]\n"
     ]
    },
    {
     "name": "stderr",
     "output_type": "stream",
     "text": [
      "frame loading (JPEG): 100%|██████████| 2/2 [00:00<00:00, 13.70it/s]\n",
      "propagate in video:   0%|          | 0/2 [00:00<?, ?it/s]"
     ]
    },
    {
     "name": "stdout",
     "output_type": "stream",
     "text": [
      "\n",
      "Debug: Frame 0 has 1 objects\n",
      "Object IDs: [1]\n"
     ]
    },
    {
     "name": "stderr",
     "output_type": "stream",
     "text": [
      "propagate in video: 100%|██████████| 2/2 [00:04<00:00,  2.46s/it]\n"
     ]
    },
    {
     "name": "stdout",
     "output_type": "stream",
     "text": [
      "\n",
      "Debug: Frame 1 has 1 objects\n",
      "Object IDs: [1]\n",
      "Predicted bbox: [156, 91, 277, 185]\n",
      "\n",
      "Processing image 29/49: carton_soymilk_000030.jpg\n",
      "Ground truth bbox: [191, 60, 210, 319]\n"
     ]
    },
    {
     "name": "stderr",
     "output_type": "stream",
     "text": [
      "frame loading (JPEG): 100%|██████████| 2/2 [00:00<00:00, 15.52it/s]\n",
      "propagate in video:   0%|          | 0/2 [00:00<?, ?it/s]"
     ]
    },
    {
     "name": "stdout",
     "output_type": "stream",
     "text": [
      "\n",
      "Debug: Frame 0 has 1 objects\n",
      "Object IDs: [1]\n"
     ]
    },
    {
     "name": "stderr",
     "output_type": "stream",
     "text": [
      "propagate in video: 100%|██████████| 2/2 [00:05<00:00,  2.53s/it]\n"
     ]
    },
    {
     "name": "stdout",
     "output_type": "stream",
     "text": [
      "\n",
      "Debug: Frame 1 has 1 objects\n",
      "Object IDs: [1]\n",
      "Predicted bbox: [195, 51, 253, 328]\n",
      "\n",
      "Processing image 30/49: carton_soymilk_000031.jpg\n",
      "Ground truth bbox: [237, 85, 153, 277]\n"
     ]
    },
    {
     "name": "stderr",
     "output_type": "stream",
     "text": [
      "frame loading (JPEG): 100%|██████████| 2/2 [00:00<00:00, 16.77it/s]\n",
      "propagate in video:   0%|          | 0/2 [00:00<?, ?it/s]"
     ]
    },
    {
     "name": "stdout",
     "output_type": "stream",
     "text": [
      "\n",
      "Debug: Frame 0 has 1 objects\n",
      "Object IDs: [1]\n"
     ]
    },
    {
     "name": "stderr",
     "output_type": "stream",
     "text": [
      "propagate in video: 100%|██████████| 2/2 [00:04<00:00,  2.48s/it]\n"
     ]
    },
    {
     "name": "stdout",
     "output_type": "stream",
     "text": [
      "\n",
      "Debug: Frame 1 has 1 objects\n",
      "Object IDs: [1]\n",
      "Predicted bbox: [235, 90, 176, 248]\n",
      "\n",
      "Processing image 31/49: carton_soymilk_000032.jpg\n",
      "Ground truth bbox: [254, 104, 154, 239]\n"
     ]
    },
    {
     "name": "stderr",
     "output_type": "stream",
     "text": [
      "frame loading (JPEG): 100%|██████████| 2/2 [00:00<00:00, 15.36it/s]\n",
      "propagate in video:   0%|          | 0/2 [00:00<?, ?it/s]"
     ]
    },
    {
     "name": "stdout",
     "output_type": "stream",
     "text": [
      "\n",
      "Debug: Frame 0 has 1 objects\n",
      "Object IDs: [1]\n"
     ]
    },
    {
     "name": "stderr",
     "output_type": "stream",
     "text": [
      "propagate in video: 100%|██████████| 2/2 [00:05<00:00,  2.55s/it]\n"
     ]
    },
    {
     "name": "stdout",
     "output_type": "stream",
     "text": [
      "\n",
      "Debug: Frame 1 has 1 objects\n",
      "Object IDs: [1]\n",
      "Predicted bbox: [0, 0, 0, 0]\n",
      "Warning: Empty prediction - skipping\n",
      "\n",
      "Processing image 32/49: carton_soymilk_000033.jpg\n",
      "Ground truth bbox: [234, 125, 138, 254]\n"
     ]
    },
    {
     "name": "stderr",
     "output_type": "stream",
     "text": [
      "frame loading (JPEG): 100%|██████████| 2/2 [00:00<00:00, 14.85it/s]\n",
      "propagate in video:   0%|          | 0/2 [00:00<?, ?it/s]"
     ]
    },
    {
     "name": "stdout",
     "output_type": "stream",
     "text": [
      "\n",
      "Debug: Frame 0 has 1 objects\n",
      "Object IDs: [1]\n"
     ]
    },
    {
     "name": "stderr",
     "output_type": "stream",
     "text": [
      "propagate in video: 100%|██████████| 2/2 [00:04<00:00,  2.47s/it]\n"
     ]
    },
    {
     "name": "stdout",
     "output_type": "stream",
     "text": [
      "\n",
      "Debug: Frame 1 has 1 objects\n",
      "Object IDs: [1]\n",
      "Predicted bbox: [208, 134, 233, 242]\n",
      "\n",
      "Processing image 33/49: carton_soymilk_000034.jpg\n",
      "Ground truth bbox: [268, 27, 126, 207]\n"
     ]
    },
    {
     "name": "stderr",
     "output_type": "stream",
     "text": [
      "frame loading (JPEG): 100%|██████████| 2/2 [00:00<00:00, 16.72it/s]\n",
      "propagate in video:   0%|          | 0/2 [00:00<?, ?it/s]"
     ]
    },
    {
     "name": "stdout",
     "output_type": "stream",
     "text": [
      "\n",
      "Debug: Frame 0 has 1 objects\n",
      "Object IDs: [1]\n"
     ]
    },
    {
     "name": "stderr",
     "output_type": "stream",
     "text": [
      "propagate in video: 100%|██████████| 2/2 [00:04<00:00,  2.48s/it]\n"
     ]
    },
    {
     "name": "stdout",
     "output_type": "stream",
     "text": [
      "\n",
      "Debug: Frame 1 has 1 objects\n",
      "Object IDs: [1]\n",
      "Predicted bbox: [238, 105, 185, 128]\n",
      "\n",
      "Processing image 34/49: carton_soymilk_000035.jpg\n",
      "Ground truth bbox: [369, 22, 174, 279]\n"
     ]
    },
    {
     "name": "stderr",
     "output_type": "stream",
     "text": [
      "frame loading (JPEG): 100%|██████████| 2/2 [00:00<00:00, 18.01it/s]\n",
      "propagate in video:   0%|          | 0/2 [00:00<?, ?it/s]"
     ]
    },
    {
     "name": "stdout",
     "output_type": "stream",
     "text": [
      "\n",
      "Debug: Frame 0 has 1 objects\n",
      "Object IDs: [1]\n"
     ]
    },
    {
     "name": "stderr",
     "output_type": "stream",
     "text": [
      "propagate in video: 100%|██████████| 2/2 [00:04<00:00,  2.47s/it]\n"
     ]
    },
    {
     "name": "stdout",
     "output_type": "stream",
     "text": [
      "\n",
      "Debug: Frame 1 has 1 objects\n",
      "Object IDs: [1]\n",
      "Predicted bbox: [376, 22, 177, 280]\n",
      "\n",
      "Processing image 35/49: carton_soymilk_000036.jpg\n",
      "Ground truth bbox: [432, 31, 171, 244]\n"
     ]
    },
    {
     "name": "stderr",
     "output_type": "stream",
     "text": [
      "frame loading (JPEG): 100%|██████████| 2/2 [00:00<00:00, 19.19it/s]\n",
      "propagate in video:   0%|          | 0/2 [00:00<?, ?it/s]"
     ]
    },
    {
     "name": "stdout",
     "output_type": "stream",
     "text": [
      "\n",
      "Debug: Frame 0 has 1 objects\n",
      "Object IDs: [1]\n"
     ]
    },
    {
     "name": "stderr",
     "output_type": "stream",
     "text": [
      "propagate in video: 100%|██████████| 2/2 [00:04<00:00,  2.44s/it]\n"
     ]
    },
    {
     "name": "stdout",
     "output_type": "stream",
     "text": [
      "\n",
      "Debug: Frame 1 has 1 objects\n",
      "Object IDs: [1]\n",
      "Predicted bbox: [413, 62, 53, 130]\n",
      "\n",
      "Processing image 36/49: carton_soymilk_000037.jpg\n",
      "Ground truth bbox: [144, 291, 90, 156]\n"
     ]
    },
    {
     "name": "stderr",
     "output_type": "stream",
     "text": [
      "frame loading (JPEG): 100%|██████████| 2/2 [00:00<00:00, 16.47it/s]\n",
      "propagate in video:   0%|          | 0/2 [00:00<?, ?it/s]"
     ]
    },
    {
     "name": "stdout",
     "output_type": "stream",
     "text": [
      "\n",
      "Debug: Frame 0 has 1 objects\n",
      "Object IDs: [1]\n"
     ]
    },
    {
     "name": "stderr",
     "output_type": "stream",
     "text": [
      "propagate in video: 100%|██████████| 2/2 [00:04<00:00,  2.48s/it]\n"
     ]
    },
    {
     "name": "stdout",
     "output_type": "stream",
     "text": [
      "\n",
      "Debug: Frame 1 has 1 objects\n",
      "Object IDs: [1]\n",
      "Predicted bbox: [455, 0, 167, 231]\n",
      "\n",
      "Processing image 37/49: carton_soymilk_000038.jpg\n",
      "Ground truth bbox: [441, 15, 101, 186]\n"
     ]
    },
    {
     "name": "stderr",
     "output_type": "stream",
     "text": [
      "frame loading (JPEG): 100%|██████████| 2/2 [00:00<00:00, 16.19it/s]\n",
      "propagate in video:   0%|          | 0/2 [00:00<?, ?it/s]"
     ]
    },
    {
     "name": "stdout",
     "output_type": "stream",
     "text": [
      "\n",
      "Debug: Frame 0 has 1 objects\n",
      "Object IDs: [1]\n"
     ]
    },
    {
     "name": "stderr",
     "output_type": "stream",
     "text": [
      "propagate in video: 100%|██████████| 2/2 [00:04<00:00,  2.47s/it]\n"
     ]
    },
    {
     "name": "stdout",
     "output_type": "stream",
     "text": [
      "\n",
      "Debug: Frame 1 has 1 objects\n",
      "Object IDs: [1]\n",
      "Predicted bbox: [0, 0, 0, 0]\n",
      "Warning: Empty prediction - skipping\n",
      "\n",
      "Processing image 38/49: carton_soymilk_000039.jpg\n",
      "Ground truth bbox: [124, 338, 115, 137]\n"
     ]
    },
    {
     "name": "stderr",
     "output_type": "stream",
     "text": [
      "frame loading (JPEG): 100%|██████████| 2/2 [00:00<00:00, 16.01it/s]\n",
      "propagate in video:   0%|          | 0/2 [00:00<?, ?it/s]"
     ]
    },
    {
     "name": "stdout",
     "output_type": "stream",
     "text": [
      "\n",
      "Debug: Frame 0 has 1 objects\n",
      "Object IDs: [1]\n"
     ]
    },
    {
     "name": "stderr",
     "output_type": "stream",
     "text": [
      "propagate in video: 100%|██████████| 2/2 [00:05<00:00,  2.51s/it]\n"
     ]
    },
    {
     "name": "stdout",
     "output_type": "stream",
     "text": [
      "\n",
      "Debug: Frame 1 has 1 objects\n",
      "Object IDs: [1]\n",
      "Predicted bbox: [498, 0, 141, 203]\n",
      "\n",
      "Processing image 39/49: carton_soymilk_000040.jpg\n",
      "Ground truth bbox: [210, 3, 142, 227]\n"
     ]
    },
    {
     "name": "stderr",
     "output_type": "stream",
     "text": [
      "frame loading (JPEG): 100%|██████████| 2/2 [00:00<00:00, 13.15it/s]\n",
      "propagate in video:   0%|          | 0/2 [00:00<?, ?it/s]"
     ]
    },
    {
     "name": "stdout",
     "output_type": "stream",
     "text": [
      "\n",
      "Debug: Frame 0 has 1 objects\n",
      "Object IDs: [1]\n"
     ]
    },
    {
     "name": "stderr",
     "output_type": "stream",
     "text": [
      "propagate in video: 100%|██████████| 2/2 [00:04<00:00,  2.46s/it]\n"
     ]
    },
    {
     "name": "stdout",
     "output_type": "stream",
     "text": [
      "\n",
      "Debug: Frame 1 has 1 objects\n",
      "Object IDs: [1]\n",
      "Predicted bbox: [217, 6, 134, 225]\n",
      "\n",
      "Processing image 40/49: carton_soymilk_000041.jpg\n",
      "Ground truth bbox: [323, 39, 131, 227]\n"
     ]
    },
    {
     "name": "stderr",
     "output_type": "stream",
     "text": [
      "frame loading (JPEG): 100%|██████████| 2/2 [00:00<00:00, 13.52it/s]\n",
      "propagate in video:   0%|          | 0/2 [00:00<?, ?it/s]"
     ]
    },
    {
     "name": "stdout",
     "output_type": "stream",
     "text": [
      "\n",
      "Debug: Frame 0 has 1 objects\n",
      "Object IDs: [1]\n"
     ]
    },
    {
     "name": "stderr",
     "output_type": "stream",
     "text": [
      "propagate in video: 100%|██████████| 2/2 [00:04<00:00,  2.49s/it]\n"
     ]
    },
    {
     "name": "stdout",
     "output_type": "stream",
     "text": [
      "\n",
      "Debug: Frame 1 has 1 objects\n",
      "Object IDs: [1]\n",
      "Predicted bbox: [0, 0, 0, 0]\n",
      "Warning: Empty prediction - skipping\n",
      "\n",
      "Processing image 41/49: carton_soymilk_000042.jpg\n",
      "Ground truth bbox: [276, 2, 177, 310]\n"
     ]
    },
    {
     "name": "stderr",
     "output_type": "stream",
     "text": [
      "frame loading (JPEG): 100%|██████████| 2/2 [00:00<00:00, 16.17it/s]\n",
      "propagate in video:   0%|          | 0/2 [00:00<?, ?it/s]"
     ]
    },
    {
     "name": "stdout",
     "output_type": "stream",
     "text": [
      "\n",
      "Debug: Frame 0 has 1 objects\n",
      "Object IDs: [1]\n"
     ]
    },
    {
     "name": "stderr",
     "output_type": "stream",
     "text": [
      "propagate in video: 100%|██████████| 2/2 [00:04<00:00,  2.48s/it]\n"
     ]
    },
    {
     "name": "stdout",
     "output_type": "stream",
     "text": [
      "\n",
      "Debug: Frame 1 has 1 objects\n",
      "Object IDs: [1]\n",
      "Predicted bbox: [0, 0, 0, 0]\n",
      "Warning: Empty prediction - skipping\n",
      "\n",
      "Processing image 42/49: carton_soymilk_000043.jpg\n",
      "Ground truth bbox: [85, 144, 174, 281]\n"
     ]
    },
    {
     "name": "stderr",
     "output_type": "stream",
     "text": [
      "frame loading (JPEG): 100%|██████████| 2/2 [00:00<00:00, 16.17it/s]\n",
      "propagate in video:   0%|          | 0/2 [00:00<?, ?it/s]"
     ]
    },
    {
     "name": "stdout",
     "output_type": "stream",
     "text": [
      "\n",
      "Debug: Frame 0 has 1 objects\n",
      "Object IDs: [1]\n"
     ]
    },
    {
     "name": "stderr",
     "output_type": "stream",
     "text": [
      "propagate in video: 100%|██████████| 2/2 [00:05<00:00,  2.54s/it]\n"
     ]
    },
    {
     "name": "stdout",
     "output_type": "stream",
     "text": [
      "\n",
      "Debug: Frame 1 has 1 objects\n",
      "Object IDs: [1]\n",
      "Predicted bbox: [11, 138, 389, 275]\n",
      "\n",
      "Processing image 43/49: carton_soymilk_000044.jpg\n",
      "Ground truth bbox: [208, 59, 159, 249]\n"
     ]
    },
    {
     "name": "stderr",
     "output_type": "stream",
     "text": [
      "frame loading (JPEG): 100%|██████████| 2/2 [00:00<00:00, 16.64it/s]\n",
      "propagate in video:   0%|          | 0/2 [00:00<?, ?it/s]"
     ]
    },
    {
     "name": "stdout",
     "output_type": "stream",
     "text": [
      "\n",
      "Debug: Frame 0 has 1 objects\n",
      "Object IDs: [1]\n"
     ]
    },
    {
     "name": "stderr",
     "output_type": "stream",
     "text": [
      "propagate in video: 100%|██████████| 2/2 [00:04<00:00,  2.47s/it]\n"
     ]
    },
    {
     "name": "stdout",
     "output_type": "stream",
     "text": [
      "\n",
      "Debug: Frame 1 has 1 objects\n",
      "Object IDs: [1]\n",
      "Predicted bbox: [366, 105, 152, 181]\n",
      "\n",
      "Processing image 44/49: carton_soymilk_000045.jpg\n",
      "Ground truth bbox: [190, 32, 110, 220]\n"
     ]
    },
    {
     "name": "stderr",
     "output_type": "stream",
     "text": [
      "frame loading (JPEG): 100%|██████████| 2/2 [00:00<00:00, 18.07it/s]\n",
      "propagate in video:   0%|          | 0/2 [00:00<?, ?it/s]"
     ]
    },
    {
     "name": "stdout",
     "output_type": "stream",
     "text": [
      "\n",
      "Debug: Frame 0 has 1 objects\n",
      "Object IDs: [1]\n"
     ]
    },
    {
     "name": "stderr",
     "output_type": "stream",
     "text": [
      "propagate in video: 100%|██████████| 2/2 [00:04<00:00,  2.45s/it]\n"
     ]
    },
    {
     "name": "stdout",
     "output_type": "stream",
     "text": [
      "\n",
      "Debug: Frame 1 has 1 objects\n",
      "Object IDs: [1]\n",
      "Predicted bbox: [126, 51, 267, 201]\n",
      "\n",
      "Processing image 45/49: carton_soymilk_000046.jpg\n",
      "Ground truth bbox: [247, 17, 117, 220]\n"
     ]
    },
    {
     "name": "stderr",
     "output_type": "stream",
     "text": [
      "frame loading (JPEG): 100%|██████████| 2/2 [00:00<00:00, 17.25it/s]\n",
      "propagate in video:   0%|          | 0/2 [00:00<?, ?it/s]"
     ]
    },
    {
     "name": "stdout",
     "output_type": "stream",
     "text": [
      "\n",
      "Debug: Frame 0 has 1 objects\n",
      "Object IDs: [1]\n"
     ]
    },
    {
     "name": "stderr",
     "output_type": "stream",
     "text": [
      "propagate in video: 100%|██████████| 2/2 [00:05<00:00,  2.51s/it]\n"
     ]
    },
    {
     "name": "stdout",
     "output_type": "stream",
     "text": [
      "\n",
      "Debug: Frame 1 has 1 objects\n",
      "Object IDs: [1]\n",
      "Predicted bbox: [251, 46, 192, 193]\n",
      "\n",
      "Processing image 46/49: carton_soymilk_000047.jpg\n",
      "Ground truth bbox: [206, 132, 109, 223]\n"
     ]
    },
    {
     "name": "stderr",
     "output_type": "stream",
     "text": [
      "frame loading (JPEG): 100%|██████████| 2/2 [00:00<00:00, 14.82it/s]\n",
      "propagate in video:   0%|          | 0/2 [00:00<?, ?it/s]"
     ]
    },
    {
     "name": "stdout",
     "output_type": "stream",
     "text": [
      "\n",
      "Debug: Frame 0 has 1 objects\n",
      "Object IDs: [1]\n"
     ]
    },
    {
     "name": "stderr",
     "output_type": "stream",
     "text": [
      "propagate in video: 100%|██████████| 2/2 [00:04<00:00,  2.47s/it]\n"
     ]
    },
    {
     "name": "stdout",
     "output_type": "stream",
     "text": [
      "\n",
      "Debug: Frame 1 has 1 objects\n",
      "Object IDs: [1]\n",
      "Predicted bbox: [150, 141, 211, 217]\n",
      "\n",
      "Processing image 47/49: carton_soymilk_000048.jpg\n",
      "Ground truth bbox: [127, 40, 127, 251]\n"
     ]
    },
    {
     "name": "stderr",
     "output_type": "stream",
     "text": [
      "frame loading (JPEG): 100%|██████████| 2/2 [00:00<00:00, 18.08it/s]\n",
      "propagate in video:   0%|          | 0/2 [00:00<?, ?it/s]"
     ]
    },
    {
     "name": "stdout",
     "output_type": "stream",
     "text": [
      "\n",
      "Debug: Frame 0 has 1 objects\n",
      "Object IDs: [1]\n"
     ]
    },
    {
     "name": "stderr",
     "output_type": "stream",
     "text": [
      "propagate in video: 100%|██████████| 2/2 [00:05<00:00,  2.52s/it]\n"
     ]
    },
    {
     "name": "stdout",
     "output_type": "stream",
     "text": [
      "\n",
      "Debug: Frame 1 has 1 objects\n",
      "Object IDs: [1]\n",
      "Predicted bbox: [127, 36, 226, 214]\n",
      "\n",
      "Processing image 48/49: carton_soymilk_000049.jpg\n",
      "Ground truth bbox: [263, 2, 229, 270]\n"
     ]
    },
    {
     "name": "stderr",
     "output_type": "stream",
     "text": [
      "frame loading (JPEG): 100%|██████████| 2/2 [00:00<00:00, 17.91it/s]\n",
      "propagate in video:   0%|          | 0/2 [00:00<?, ?it/s]"
     ]
    },
    {
     "name": "stdout",
     "output_type": "stream",
     "text": [
      "\n",
      "Debug: Frame 0 has 1 objects\n",
      "Object IDs: [1]\n"
     ]
    },
    {
     "name": "stderr",
     "output_type": "stream",
     "text": [
      "propagate in video: 100%|██████████| 2/2 [00:04<00:00,  2.44s/it]\n"
     ]
    },
    {
     "name": "stdout",
     "output_type": "stream",
     "text": [
      "\n",
      "Debug: Frame 1 has 1 objects\n",
      "Object IDs: [1]\n",
      "Predicted bbox: [183, 277, 123, 134]\n",
      "\n",
      "Processing image 49/49: carton_soymilk_000050.jpg\n",
      "Ground truth bbox: [203, 27, 111, 188]\n"
     ]
    },
    {
     "name": "stderr",
     "output_type": "stream",
     "text": [
      "frame loading (JPEG): 100%|██████████| 2/2 [00:00<00:00, 13.89it/s]\n",
      "propagate in video:   0%|          | 0/2 [00:00<?, ?it/s]"
     ]
    },
    {
     "name": "stdout",
     "output_type": "stream",
     "text": [
      "\n",
      "Debug: Frame 0 has 1 objects\n",
      "Object IDs: [1]\n"
     ]
    },
    {
     "name": "stderr",
     "output_type": "stream",
     "text": [
      "propagate in video: 100%|██████████| 2/2 [00:05<00:00,  2.56s/it]\n"
     ]
    },
    {
     "name": "stdout",
     "output_type": "stream",
     "text": [
      "\n",
      "Debug: Frame 1 has 1 objects\n",
      "Object IDs: [1]\n",
      "Predicted bbox: [0, 0, 0, 0]\n",
      "Warning: Empty prediction - skipping\n",
      "creating index...\n",
      "index created!\n",
      "Error in COCO evaluation: 'info'\n",
      "\n",
      "Evaluating diet_coke...\n",
      "Using reference image: diet_coke_000001.jpg\n",
      "Using reference mask: diet_coke_000001_1_gt.png\n",
      "Reference bounding box: x=[354,445], y=[104,277]\n",
      "\n",
      "Processing image 1/49: diet_coke_000002.jpg\n",
      "Ground truth bbox: [400, 139, 77, 142]\n"
     ]
    },
    {
     "name": "stderr",
     "output_type": "stream",
     "text": [
      "frame loading (JPEG): 100%|██████████| 2/2 [00:00<00:00, 15.16it/s]\n",
      "propagate in video:   0%|          | 0/2 [00:00<?, ?it/s]"
     ]
    },
    {
     "name": "stdout",
     "output_type": "stream",
     "text": [
      "\n",
      "Debug: Frame 0 has 1 objects\n",
      "Object IDs: [1]\n"
     ]
    },
    {
     "name": "stderr",
     "output_type": "stream",
     "text": [
      "propagate in video: 100%|██████████| 2/2 [00:04<00:00,  2.44s/it]\n"
     ]
    },
    {
     "name": "stdout",
     "output_type": "stream",
     "text": [
      "\n",
      "Debug: Frame 1 has 1 objects\n",
      "Object IDs: [1]\n",
      "Predicted bbox: [401, 141, 77, 139]\n",
      "\n",
      "Processing image 2/49: diet_coke_000003.jpg\n",
      "Ground truth bbox: [210, 65, 113, 209]\n"
     ]
    },
    {
     "name": "stderr",
     "output_type": "stream",
     "text": [
      "frame loading (JPEG): 100%|██████████| 2/2 [00:00<00:00, 16.86it/s]\n",
      "propagate in video:   0%|          | 0/2 [00:00<?, ?it/s]"
     ]
    },
    {
     "name": "stdout",
     "output_type": "stream",
     "text": [
      "\n",
      "Debug: Frame 0 has 1 objects\n",
      "Object IDs: [1]\n"
     ]
    },
    {
     "name": "stderr",
     "output_type": "stream",
     "text": [
      "propagate in video: 100%|██████████| 2/2 [00:05<00:00,  2.60s/it]\n"
     ]
    },
    {
     "name": "stdout",
     "output_type": "stream",
     "text": [
      "\n",
      "Debug: Frame 1 has 1 objects\n",
      "Object IDs: [1]\n",
      "Predicted bbox: [209, 65, 111, 206]\n",
      "\n",
      "Processing image 3/49: diet_coke_000004.jpg\n",
      "Ground truth bbox: [226, 207, 78, 134]\n"
     ]
    },
    {
     "name": "stderr",
     "output_type": "stream",
     "text": [
      "frame loading (JPEG): 100%|██████████| 2/2 [00:00<00:00, 14.83it/s]\n",
      "propagate in video:   0%|          | 0/2 [00:00<?, ?it/s]"
     ]
    },
    {
     "name": "stdout",
     "output_type": "stream",
     "text": [
      "\n",
      "Debug: Frame 0 has 1 objects\n",
      "Object IDs: [1]\n"
     ]
    },
    {
     "name": "stderr",
     "output_type": "stream",
     "text": [
      "propagate in video: 100%|██████████| 2/2 [00:04<00:00,  2.46s/it]\n"
     ]
    },
    {
     "name": "stdout",
     "output_type": "stream",
     "text": [
      "\n",
      "Debug: Frame 1 has 1 objects\n",
      "Object IDs: [1]\n",
      "Predicted bbox: [0, 0, 0, 0]\n",
      "Warning: Empty prediction - skipping\n",
      "\n",
      "Processing image 4/49: diet_coke_000005.jpg\n",
      "Ground truth bbox: [211, 91, 102, 185]\n"
     ]
    },
    {
     "name": "stderr",
     "output_type": "stream",
     "text": [
      "frame loading (JPEG): 100%|██████████| 2/2 [00:00<00:00, 11.61it/s]\n",
      "propagate in video:   0%|          | 0/2 [00:00<?, ?it/s]"
     ]
    },
    {
     "name": "stdout",
     "output_type": "stream",
     "text": [
      "\n",
      "Debug: Frame 0 has 1 objects\n",
      "Object IDs: [1]\n"
     ]
    },
    {
     "name": "stderr",
     "output_type": "stream",
     "text": [
      "propagate in video: 100%|██████████| 2/2 [00:05<00:00,  2.52s/it]\n"
     ]
    },
    {
     "name": "stdout",
     "output_type": "stream",
     "text": [
      "\n",
      "Debug: Frame 1 has 1 objects\n",
      "Object IDs: [1]\n",
      "Predicted bbox: [0, 0, 0, 0]\n",
      "Warning: Empty prediction - skipping\n",
      "\n",
      "Processing image 5/49: diet_coke_000006.jpg\n",
      "Ground truth bbox: [302, 94, 105, 219]\n"
     ]
    },
    {
     "name": "stderr",
     "output_type": "stream",
     "text": [
      "frame loading (JPEG): 100%|██████████| 2/2 [00:00<00:00, 18.46it/s]\n",
      "propagate in video:   0%|          | 0/2 [00:00<?, ?it/s]"
     ]
    },
    {
     "name": "stdout",
     "output_type": "stream",
     "text": [
      "\n",
      "Debug: Frame 0 has 1 objects\n",
      "Object IDs: [1]\n"
     ]
    },
    {
     "name": "stderr",
     "output_type": "stream",
     "text": [
      "propagate in video: 100%|██████████| 2/2 [00:05<00:00,  2.58s/it]\n"
     ]
    },
    {
     "name": "stdout",
     "output_type": "stream",
     "text": [
      "\n",
      "Debug: Frame 1 has 1 objects\n",
      "Object IDs: [1]\n",
      "Predicted bbox: [333, 99, 73, 187]\n",
      "\n",
      "Processing image 6/49: diet_coke_000007.jpg\n",
      "Ground truth bbox: [257, 85, 84, 161]\n"
     ]
    },
    {
     "name": "stderr",
     "output_type": "stream",
     "text": [
      "frame loading (JPEG): 100%|██████████| 2/2 [00:00<00:00, 14.41it/s]\n",
      "propagate in video:   0%|          | 0/2 [00:00<?, ?it/s]"
     ]
    },
    {
     "name": "stdout",
     "output_type": "stream",
     "text": [
      "\n",
      "Debug: Frame 0 has 1 objects\n",
      "Object IDs: [1]\n"
     ]
    },
    {
     "name": "stderr",
     "output_type": "stream",
     "text": [
      "propagate in video: 100%|██████████| 2/2 [00:04<00:00,  2.45s/it]\n"
     ]
    },
    {
     "name": "stdout",
     "output_type": "stream",
     "text": [
      "\n",
      "Debug: Frame 1 has 1 objects\n",
      "Object IDs: [1]\n",
      "Predicted bbox: [0, 0, 0, 0]\n",
      "Warning: Empty prediction - skipping\n",
      "\n",
      "Processing image 7/49: diet_coke_000008.jpg\n",
      "Ground truth bbox: [351, 118, 61, 112]\n"
     ]
    },
    {
     "name": "stderr",
     "output_type": "stream",
     "text": [
      "frame loading (JPEG): 100%|██████████| 2/2 [00:00<00:00, 15.87it/s]\n",
      "propagate in video:   0%|          | 0/2 [00:00<?, ?it/s]"
     ]
    },
    {
     "name": "stdout",
     "output_type": "stream",
     "text": [
      "\n",
      "Debug: Frame 0 has 1 objects\n",
      "Object IDs: [1]\n"
     ]
    },
    {
     "name": "stderr",
     "output_type": "stream",
     "text": [
      "propagate in video: 100%|██████████| 2/2 [00:04<00:00,  2.44s/it]\n"
     ]
    },
    {
     "name": "stdout",
     "output_type": "stream",
     "text": [
      "\n",
      "Debug: Frame 1 has 1 objects\n",
      "Object IDs: [1]\n",
      "Predicted bbox: [354, 117, 51, 115]\n",
      "\n",
      "Processing image 8/49: diet_coke_000009.jpg\n",
      "Ground truth bbox: [369, 115, 103, 177]\n"
     ]
    },
    {
     "name": "stderr",
     "output_type": "stream",
     "text": [
      "frame loading (JPEG): 100%|██████████| 2/2 [00:00<00:00, 14.37it/s]\n",
      "propagate in video:   0%|          | 0/2 [00:00<?, ?it/s]"
     ]
    },
    {
     "name": "stdout",
     "output_type": "stream",
     "text": [
      "\n",
      "Debug: Frame 0 has 1 objects\n",
      "Object IDs: [1]\n"
     ]
    },
    {
     "name": "stderr",
     "output_type": "stream",
     "text": [
      "propagate in video: 100%|██████████| 2/2 [00:04<00:00,  2.42s/it]\n"
     ]
    },
    {
     "name": "stdout",
     "output_type": "stream",
     "text": [
      "\n",
      "Debug: Frame 1 has 1 objects\n",
      "Object IDs: [1]\n",
      "Predicted bbox: [368, 115, 102, 177]\n",
      "\n",
      "Processing image 9/49: diet_coke_000010.jpg\n",
      "Ground truth bbox: [192, 102, 107, 180]\n"
     ]
    },
    {
     "name": "stderr",
     "output_type": "stream",
     "text": [
      "frame loading (JPEG): 100%|██████████| 2/2 [00:00<00:00, 10.05it/s]\n",
      "propagate in video:   0%|          | 0/2 [00:00<?, ?it/s]"
     ]
    },
    {
     "name": "stdout",
     "output_type": "stream",
     "text": [
      "\n",
      "Debug: Frame 0 has 1 objects\n",
      "Object IDs: [1]\n"
     ]
    },
    {
     "name": "stderr",
     "output_type": "stream",
     "text": [
      "propagate in video: 100%|██████████| 2/2 [00:04<00:00,  2.46s/it]\n"
     ]
    },
    {
     "name": "stdout",
     "output_type": "stream",
     "text": [
      "\n",
      "Debug: Frame 1 has 1 objects\n",
      "Object IDs: [1]\n",
      "Predicted bbox: [0, 0, 0, 0]\n",
      "Warning: Empty prediction - skipping\n",
      "\n",
      "Processing image 10/49: diet_coke_000011.jpg\n",
      "Ground truth bbox: [98, 120, 122, 194]\n"
     ]
    },
    {
     "name": "stderr",
     "output_type": "stream",
     "text": [
      "frame loading (JPEG): 100%|██████████| 2/2 [00:00<00:00, 15.68it/s]\n",
      "propagate in video:   0%|          | 0/2 [00:00<?, ?it/s]"
     ]
    },
    {
     "name": "stdout",
     "output_type": "stream",
     "text": [
      "\n",
      "Debug: Frame 0 has 1 objects\n",
      "Object IDs: [1]\n"
     ]
    },
    {
     "name": "stderr",
     "output_type": "stream",
     "text": [
      "propagate in video: 100%|██████████| 2/2 [00:05<00:00,  2.53s/it]\n"
     ]
    },
    {
     "name": "stdout",
     "output_type": "stream",
     "text": [
      "\n",
      "Debug: Frame 1 has 1 objects\n",
      "Object IDs: [1]\n",
      "Predicted bbox: [367, 137, 122, 220]\n",
      "\n",
      "Processing image 11/49: diet_coke_000012.jpg\n",
      "Ground truth bbox: [114, 102, 97, 138]\n"
     ]
    },
    {
     "name": "stderr",
     "output_type": "stream",
     "text": [
      "frame loading (JPEG): 100%|██████████| 2/2 [00:00<00:00, 15.00it/s]\n",
      "propagate in video:   0%|          | 0/2 [00:00<?, ?it/s]"
     ]
    },
    {
     "name": "stdout",
     "output_type": "stream",
     "text": [
      "\n",
      "Debug: Frame 0 has 1 objects\n",
      "Object IDs: [1]\n"
     ]
    },
    {
     "name": "stderr",
     "output_type": "stream",
     "text": [
      "propagate in video: 100%|██████████| 2/2 [00:04<00:00,  2.44s/it]\n"
     ]
    },
    {
     "name": "stdout",
     "output_type": "stream",
     "text": [
      "\n",
      "Debug: Frame 1 has 1 objects\n",
      "Object IDs: [1]\n",
      "Predicted bbox: [454, 105, 80, 150]\n",
      "\n",
      "Processing image 12/49: diet_coke_000013.jpg\n",
      "Ground truth bbox: [215, 23, 61, 108]\n"
     ]
    },
    {
     "name": "stderr",
     "output_type": "stream",
     "text": [
      "frame loading (JPEG): 100%|██████████| 2/2 [00:00<00:00, 16.08it/s]\n",
      "propagate in video:   0%|          | 0/2 [00:00<?, ?it/s]"
     ]
    },
    {
     "name": "stdout",
     "output_type": "stream",
     "text": [
      "\n",
      "Debug: Frame 0 has 1 objects\n",
      "Object IDs: [1]\n"
     ]
    },
    {
     "name": "stderr",
     "output_type": "stream",
     "text": [
      "propagate in video: 100%|██████████| 2/2 [00:04<00:00,  2.47s/it]\n"
     ]
    },
    {
     "name": "stdout",
     "output_type": "stream",
     "text": [
      "\n",
      "Debug: Frame 1 has 1 objects\n",
      "Object IDs: [1]\n",
      "Predicted bbox: [214, 22, 101, 104]\n",
      "\n",
      "Processing image 13/49: diet_coke_000014.jpg\n",
      "Ground truth bbox: [215, 227, 96, 174]\n"
     ]
    },
    {
     "name": "stderr",
     "output_type": "stream",
     "text": [
      "frame loading (JPEG): 100%|██████████| 2/2 [00:00<00:00, 14.38it/s]\n",
      "propagate in video:   0%|          | 0/2 [00:00<?, ?it/s]"
     ]
    },
    {
     "name": "stdout",
     "output_type": "stream",
     "text": [
      "\n",
      "Debug: Frame 0 has 1 objects\n",
      "Object IDs: [1]\n"
     ]
    },
    {
     "name": "stderr",
     "output_type": "stream",
     "text": [
      "propagate in video: 100%|██████████| 2/2 [00:05<00:00,  2.53s/it]\n"
     ]
    },
    {
     "name": "stdout",
     "output_type": "stream",
     "text": [
      "\n",
      "Debug: Frame 1 has 1 objects\n",
      "Object IDs: [1]\n",
      "Predicted bbox: [219, 190, 194, 210]\n",
      "\n",
      "Processing image 14/49: diet_coke_000015.jpg\n",
      "Ground truth bbox: [102, 129, 124, 181]\n"
     ]
    },
    {
     "name": "stderr",
     "output_type": "stream",
     "text": [
      "frame loading (JPEG): 100%|██████████| 2/2 [00:00<00:00, 11.62it/s]\n",
      "propagate in video:   0%|          | 0/2 [00:00<?, ?it/s]"
     ]
    },
    {
     "name": "stdout",
     "output_type": "stream",
     "text": [
      "\n",
      "Debug: Frame 0 has 1 objects\n",
      "Object IDs: [1]\n"
     ]
    },
    {
     "name": "stderr",
     "output_type": "stream",
     "text": [
      "propagate in video: 100%|██████████| 2/2 [00:05<00:00,  2.52s/it]\n"
     ]
    },
    {
     "name": "stdout",
     "output_type": "stream",
     "text": [
      "\n",
      "Debug: Frame 1 has 1 objects\n",
      "Object IDs: [1]\n",
      "Predicted bbox: [121, 105, 297, 180]\n",
      "\n",
      "Processing image 15/49: diet_coke_000016.jpg\n",
      "Ground truth bbox: [82, 162, 143, 199]\n"
     ]
    },
    {
     "name": "stderr",
     "output_type": "stream",
     "text": [
      "frame loading (JPEG): 100%|██████████| 2/2 [00:00<00:00, 17.18it/s]\n",
      "propagate in video:   0%|          | 0/2 [00:00<?, ?it/s]"
     ]
    },
    {
     "name": "stdout",
     "output_type": "stream",
     "text": [
      "\n",
      "Debug: Frame 0 has 1 objects\n",
      "Object IDs: [1]\n"
     ]
    },
    {
     "name": "stderr",
     "output_type": "stream",
     "text": [
      "propagate in video: 100%|██████████| 2/2 [00:04<00:00,  2.49s/it]\n"
     ]
    },
    {
     "name": "stdout",
     "output_type": "stream",
     "text": [
      "\n",
      "Debug: Frame 1 has 1 objects\n",
      "Object IDs: [1]\n",
      "Predicted bbox: [81, 161, 250, 201]\n",
      "\n",
      "Processing image 16/49: diet_coke_000017.jpg\n",
      "Ground truth bbox: [349, 195, 105, 178]\n"
     ]
    },
    {
     "name": "stderr",
     "output_type": "stream",
     "text": [
      "frame loading (JPEG): 100%|██████████| 2/2 [00:00<00:00, 16.08it/s]\n",
      "propagate in video:   0%|          | 0/2 [00:00<?, ?it/s]"
     ]
    },
    {
     "name": "stdout",
     "output_type": "stream",
     "text": [
      "\n",
      "Debug: Frame 0 has 1 objects\n",
      "Object IDs: [1]\n"
     ]
    },
    {
     "name": "stderr",
     "output_type": "stream",
     "text": [
      "propagate in video: 100%|██████████| 2/2 [00:05<00:00,  2.55s/it]\n"
     ]
    },
    {
     "name": "stdout",
     "output_type": "stream",
     "text": [
      "\n",
      "Debug: Frame 1 has 1 objects\n",
      "Object IDs: [1]\n",
      "Predicted bbox: [352, 200, 98, 174]\n",
      "\n",
      "Processing image 17/49: diet_coke_000018.jpg\n",
      "Ground truth bbox: [100, 174, 114, 175]\n"
     ]
    },
    {
     "name": "stderr",
     "output_type": "stream",
     "text": [
      "frame loading (JPEG): 100%|██████████| 2/2 [00:00<00:00, 17.68it/s]\n",
      "propagate in video:   0%|          | 0/2 [00:00<?, ?it/s]"
     ]
    },
    {
     "name": "stdout",
     "output_type": "stream",
     "text": [
      "\n",
      "Debug: Frame 0 has 1 objects\n",
      "Object IDs: [1]\n"
     ]
    },
    {
     "name": "stderr",
     "output_type": "stream",
     "text": [
      "propagate in video: 100%|██████████| 2/2 [00:05<00:00,  2.53s/it]\n"
     ]
    },
    {
     "name": "stdout",
     "output_type": "stream",
     "text": [
      "\n",
      "Debug: Frame 1 has 1 objects\n",
      "Object IDs: [1]\n",
      "Predicted bbox: [106, 173, 225, 179]\n",
      "\n",
      "Processing image 18/49: diet_coke_000019.jpg\n",
      "Ground truth bbox: [239, 112, 84, 166]\n"
     ]
    },
    {
     "name": "stderr",
     "output_type": "stream",
     "text": [
      "frame loading (JPEG): 100%|██████████| 2/2 [00:00<00:00, 14.95it/s]\n",
      "propagate in video:   0%|          | 0/2 [00:00<?, ?it/s]"
     ]
    },
    {
     "name": "stdout",
     "output_type": "stream",
     "text": [
      "\n",
      "Debug: Frame 0 has 1 objects\n",
      "Object IDs: [1]\n"
     ]
    },
    {
     "name": "stderr",
     "output_type": "stream",
     "text": [
      "propagate in video: 100%|██████████| 2/2 [00:05<00:00,  2.54s/it]\n"
     ]
    },
    {
     "name": "stdout",
     "output_type": "stream",
     "text": [
      "\n",
      "Debug: Frame 1 has 1 objects\n",
      "Object IDs: [1]\n",
      "Predicted bbox: [158, 12, 274, 326]\n",
      "\n",
      "Processing image 19/49: diet_coke_000020.jpg\n",
      "Ground truth bbox: [210, 125, 91, 155]\n"
     ]
    },
    {
     "name": "stderr",
     "output_type": "stream",
     "text": [
      "frame loading (JPEG): 100%|██████████| 2/2 [00:00<00:00, 13.97it/s]\n",
      "propagate in video:   0%|          | 0/2 [00:00<?, ?it/s]"
     ]
    },
    {
     "name": "stdout",
     "output_type": "stream",
     "text": [
      "\n",
      "Debug: Frame 0 has 1 objects\n",
      "Object IDs: [1]\n"
     ]
    },
    {
     "name": "stderr",
     "output_type": "stream",
     "text": [
      "propagate in video: 100%|██████████| 2/2 [00:04<00:00,  2.41s/it]\n"
     ]
    },
    {
     "name": "stdout",
     "output_type": "stream",
     "text": [
      "\n",
      "Debug: Frame 1 has 1 objects\n",
      "Object IDs: [1]\n",
      "Predicted bbox: [210, 128, 166, 177]\n",
      "\n",
      "Processing image 20/49: diet_coke_000021.jpg\n",
      "Ground truth bbox: [53, 197, 114, 142]\n"
     ]
    },
    {
     "name": "stderr",
     "output_type": "stream",
     "text": [
      "frame loading (JPEG): 100%|██████████| 2/2 [00:00<00:00, 17.76it/s]\n",
      "propagate in video:   0%|          | 0/2 [00:00<?, ?it/s]"
     ]
    },
    {
     "name": "stdout",
     "output_type": "stream",
     "text": [
      "\n",
      "Debug: Frame 0 has 1 objects\n",
      "Object IDs: [1]\n"
     ]
    },
    {
     "name": "stderr",
     "output_type": "stream",
     "text": [
      "propagate in video: 100%|██████████| 2/2 [00:05<00:00,  2.50s/it]\n"
     ]
    },
    {
     "name": "stdout",
     "output_type": "stream",
     "text": [
      "\n",
      "Debug: Frame 1 has 1 objects\n",
      "Object IDs: [1]\n",
      "Predicted bbox: [6, 165, 195, 172]\n",
      "\n",
      "Processing image 21/49: diet_coke_000022.jpg\n",
      "Ground truth bbox: [154, 121, 92, 172]\n"
     ]
    },
    {
     "name": "stderr",
     "output_type": "stream",
     "text": [
      "frame loading (JPEG): 100%|██████████| 2/2 [00:00<00:00, 13.27it/s]\n",
      "propagate in video:   0%|          | 0/2 [00:00<?, ?it/s]"
     ]
    },
    {
     "name": "stdout",
     "output_type": "stream",
     "text": [
      "\n",
      "Debug: Frame 0 has 1 objects\n",
      "Object IDs: [1]\n"
     ]
    },
    {
     "name": "stderr",
     "output_type": "stream",
     "text": [
      "propagate in video: 100%|██████████| 2/2 [00:04<00:00,  2.44s/it]\n"
     ]
    },
    {
     "name": "stdout",
     "output_type": "stream",
     "text": [
      "\n",
      "Debug: Frame 1 has 1 objects\n",
      "Object IDs: [1]\n",
      "Predicted bbox: [188, 126, 181, 256]\n",
      "\n",
      "Processing image 22/49: diet_coke_000023.jpg\n",
      "Ground truth bbox: [95, 131, 109, 173]\n"
     ]
    },
    {
     "name": "stderr",
     "output_type": "stream",
     "text": [
      "frame loading (JPEG): 100%|██████████| 2/2 [00:00<00:00, 17.34it/s]\n",
      "propagate in video:   0%|          | 0/2 [00:00<?, ?it/s]"
     ]
    },
    {
     "name": "stdout",
     "output_type": "stream",
     "text": [
      "\n",
      "Debug: Frame 0 has 1 objects\n",
      "Object IDs: [1]\n"
     ]
    },
    {
     "name": "stderr",
     "output_type": "stream",
     "text": [
      "propagate in video: 100%|██████████| 2/2 [00:04<00:00,  2.48s/it]\n"
     ]
    },
    {
     "name": "stdout",
     "output_type": "stream",
     "text": [
      "\n",
      "Debug: Frame 1 has 1 objects\n",
      "Object IDs: [1]\n",
      "Predicted bbox: [229, 12, 72, 176]\n",
      "\n",
      "Processing image 23/49: diet_coke_000024.jpg\n",
      "Ground truth bbox: [147, 71, 85, 158]\n"
     ]
    },
    {
     "name": "stderr",
     "output_type": "stream",
     "text": [
      "frame loading (JPEG): 100%|██████████| 2/2 [00:00<00:00, 17.44it/s]\n",
      "propagate in video:   0%|          | 0/2 [00:00<?, ?it/s]"
     ]
    },
    {
     "name": "stdout",
     "output_type": "stream",
     "text": [
      "\n",
      "Debug: Frame 0 has 1 objects\n",
      "Object IDs: [1]\n"
     ]
    },
    {
     "name": "stderr",
     "output_type": "stream",
     "text": [
      "propagate in video: 100%|██████████| 2/2 [00:04<00:00,  2.47s/it]\n"
     ]
    },
    {
     "name": "stdout",
     "output_type": "stream",
     "text": [
      "\n",
      "Debug: Frame 1 has 1 objects\n",
      "Object IDs: [1]\n",
      "Predicted bbox: [0, 0, 0, 0]\n",
      "Warning: Empty prediction - skipping\n",
      "\n",
      "Processing image 24/49: diet_coke_000025.jpg\n",
      "Ground truth bbox: [255, 95, 94, 171]\n"
     ]
    },
    {
     "name": "stderr",
     "output_type": "stream",
     "text": [
      "frame loading (JPEG): 100%|██████████| 2/2 [00:00<00:00, 16.49it/s]\n",
      "propagate in video:   0%|          | 0/2 [00:00<?, ?it/s]"
     ]
    },
    {
     "name": "stdout",
     "output_type": "stream",
     "text": [
      "\n",
      "Debug: Frame 0 has 1 objects\n",
      "Object IDs: [1]\n"
     ]
    },
    {
     "name": "stderr",
     "output_type": "stream",
     "text": [
      "propagate in video: 100%|██████████| 2/2 [00:04<00:00,  2.44s/it]\n"
     ]
    },
    {
     "name": "stdout",
     "output_type": "stream",
     "text": [
      "\n",
      "Debug: Frame 1 has 1 objects\n",
      "Object IDs: [1]\n",
      "Predicted bbox: [260, 94, 74, 166]\n",
      "\n",
      "Processing image 25/49: diet_coke_000026.jpg\n",
      "Ground truth bbox: [199, 124, 90, 165]\n"
     ]
    },
    {
     "name": "stderr",
     "output_type": "stream",
     "text": [
      "frame loading (JPEG): 100%|██████████| 2/2 [00:00<00:00, 13.70it/s]\n",
      "propagate in video:   0%|          | 0/2 [00:00<?, ?it/s]"
     ]
    },
    {
     "name": "stdout",
     "output_type": "stream",
     "text": [
      "\n",
      "Debug: Frame 0 has 1 objects\n",
      "Object IDs: [1]\n"
     ]
    },
    {
     "name": "stderr",
     "output_type": "stream",
     "text": [
      "propagate in video: 100%|██████████| 2/2 [00:04<00:00,  2.46s/it]\n"
     ]
    },
    {
     "name": "stdout",
     "output_type": "stream",
     "text": [
      "\n",
      "Debug: Frame 1 has 1 objects\n",
      "Object IDs: [1]\n",
      "Predicted bbox: [203, 126, 85, 165]\n",
      "\n",
      "Processing image 26/49: diet_coke_000027.jpg\n",
      "Ground truth bbox: [189, 148, 79, 125]\n"
     ]
    },
    {
     "name": "stderr",
     "output_type": "stream",
     "text": [
      "frame loading (JPEG): 100%|██████████| 2/2 [00:00<00:00, 14.48it/s]\n",
      "propagate in video:   0%|          | 0/2 [00:00<?, ?it/s]"
     ]
    },
    {
     "name": "stdout",
     "output_type": "stream",
     "text": [
      "\n",
      "Debug: Frame 0 has 1 objects\n",
      "Object IDs: [1]\n"
     ]
    },
    {
     "name": "stderr",
     "output_type": "stream",
     "text": [
      "propagate in video: 100%|██████████| 2/2 [00:04<00:00,  2.44s/it]\n"
     ]
    },
    {
     "name": "stdout",
     "output_type": "stream",
     "text": [
      "\n",
      "Debug: Frame 1 has 1 objects\n",
      "Object IDs: [1]\n",
      "Predicted bbox: [0, 0, 0, 0]\n",
      "Warning: Empty prediction - skipping\n",
      "\n",
      "Processing image 27/49: diet_coke_000028.jpg\n",
      "Ground truth bbox: [141, 98, 94, 172]\n"
     ]
    },
    {
     "name": "stderr",
     "output_type": "stream",
     "text": [
      "frame loading (JPEG): 100%|██████████| 2/2 [00:00<00:00, 15.65it/s]\n",
      "propagate in video:   0%|          | 0/2 [00:00<?, ?it/s]"
     ]
    },
    {
     "name": "stdout",
     "output_type": "stream",
     "text": [
      "\n",
      "Debug: Frame 0 has 1 objects\n",
      "Object IDs: [1]\n"
     ]
    },
    {
     "name": "stderr",
     "output_type": "stream",
     "text": [
      "propagate in video: 100%|██████████| 2/2 [00:05<00:00,  2.54s/it]\n"
     ]
    },
    {
     "name": "stdout",
     "output_type": "stream",
     "text": [
      "\n",
      "Debug: Frame 1 has 1 objects\n",
      "Object IDs: [1]\n",
      "Predicted bbox: [0, 0, 0, 0]\n",
      "Warning: Empty prediction - skipping\n",
      "\n",
      "Processing image 28/49: diet_coke_000029.jpg\n",
      "Ground truth bbox: [98, 166, 115, 197]\n"
     ]
    },
    {
     "name": "stderr",
     "output_type": "stream",
     "text": [
      "frame loading (JPEG): 100%|██████████| 2/2 [00:00<00:00, 15.12it/s]\n",
      "propagate in video:   0%|          | 0/2 [00:00<?, ?it/s]"
     ]
    },
    {
     "name": "stdout",
     "output_type": "stream",
     "text": [
      "\n",
      "Debug: Frame 0 has 1 objects\n",
      "Object IDs: [1]\n"
     ]
    },
    {
     "name": "stderr",
     "output_type": "stream",
     "text": [
      "propagate in video: 100%|██████████| 2/2 [00:05<00:00,  2.50s/it]\n"
     ]
    },
    {
     "name": "stdout",
     "output_type": "stream",
     "text": [
      "\n",
      "Debug: Frame 1 has 1 objects\n",
      "Object IDs: [1]\n",
      "Predicted bbox: [90, 165, 231, 188]\n",
      "\n",
      "Processing image 29/49: diet_coke_000030.jpg\n",
      "Ground truth bbox: [57, 149, 125, 174]\n"
     ]
    },
    {
     "name": "stderr",
     "output_type": "stream",
     "text": [
      "frame loading (JPEG): 100%|██████████| 2/2 [00:00<00:00, 15.95it/s]\n",
      "propagate in video:   0%|          | 0/2 [00:00<?, ?it/s]"
     ]
    },
    {
     "name": "stdout",
     "output_type": "stream",
     "text": [
      "\n",
      "Debug: Frame 0 has 1 objects\n",
      "Object IDs: [1]\n"
     ]
    },
    {
     "name": "stderr",
     "output_type": "stream",
     "text": [
      "propagate in video: 100%|██████████| 2/2 [00:04<00:00,  2.50s/it]\n"
     ]
    },
    {
     "name": "stdout",
     "output_type": "stream",
     "text": [
      "\n",
      "Debug: Frame 1 has 1 objects\n",
      "Object IDs: [1]\n",
      "Predicted bbox: [0, 0, 0, 0]\n",
      "Warning: Empty prediction - skipping\n",
      "\n",
      "Processing image 30/49: diet_coke_000031.jpg\n",
      "Ground truth bbox: [181, 180, 84, 159]\n"
     ]
    },
    {
     "name": "stderr",
     "output_type": "stream",
     "text": [
      "frame loading (JPEG): 100%|██████████| 2/2 [00:00<00:00, 14.31it/s]\n",
      "propagate in video:   0%|          | 0/2 [00:00<?, ?it/s]"
     ]
    },
    {
     "name": "stdout",
     "output_type": "stream",
     "text": [
      "\n",
      "Debug: Frame 0 has 1 objects\n",
      "Object IDs: [1]\n"
     ]
    },
    {
     "name": "stderr",
     "output_type": "stream",
     "text": [
      "propagate in video: 100%|██████████| 2/2 [00:04<00:00,  2.45s/it]\n"
     ]
    },
    {
     "name": "stdout",
     "output_type": "stream",
     "text": [
      "\n",
      "Debug: Frame 1 has 1 objects\n",
      "Object IDs: [1]\n",
      "Predicted bbox: [178, 184, 213, 128]\n",
      "\n",
      "Processing image 31/49: diet_coke_000032.jpg\n",
      "Ground truth bbox: [139, 229, 86, 169]\n"
     ]
    },
    {
     "name": "stderr",
     "output_type": "stream",
     "text": [
      "frame loading (JPEG): 100%|██████████| 2/2 [00:00<00:00, 15.65it/s]\n",
      "propagate in video:   0%|          | 0/2 [00:00<?, ?it/s]"
     ]
    },
    {
     "name": "stdout",
     "output_type": "stream",
     "text": [
      "\n",
      "Debug: Frame 0 has 1 objects\n",
      "Object IDs: [1]\n"
     ]
    },
    {
     "name": "stderr",
     "output_type": "stream",
     "text": [
      "propagate in video: 100%|██████████| 2/2 [00:04<00:00,  2.48s/it]\n"
     ]
    },
    {
     "name": "stdout",
     "output_type": "stream",
     "text": [
      "\n",
      "Debug: Frame 1 has 1 objects\n",
      "Object IDs: [1]\n",
      "Predicted bbox: [130, 218, 211, 178]\n",
      "\n",
      "Processing image 32/49: diet_coke_000033.jpg\n",
      "Ground truth bbox: [194, 77, 71, 147]\n"
     ]
    },
    {
     "name": "stderr",
     "output_type": "stream",
     "text": [
      "frame loading (JPEG): 100%|██████████| 2/2 [00:00<00:00, 17.01it/s]\n",
      "propagate in video:   0%|          | 0/2 [00:00<?, ?it/s]"
     ]
    },
    {
     "name": "stdout",
     "output_type": "stream",
     "text": [
      "\n",
      "Debug: Frame 0 has 1 objects\n",
      "Object IDs: [1]\n"
     ]
    },
    {
     "name": "stderr",
     "output_type": "stream",
     "text": [
      "propagate in video: 100%|██████████| 2/2 [00:04<00:00,  2.49s/it]\n"
     ]
    },
    {
     "name": "stdout",
     "output_type": "stream",
     "text": [
      "\n",
      "Debug: Frame 1 has 1 objects\n",
      "Object IDs: [1]\n",
      "Predicted bbox: [193, 102, 82, 116]\n",
      "\n",
      "Processing image 33/49: diet_coke_000034.jpg\n",
      "Ground truth bbox: [171, 173, 69, 136]\n"
     ]
    },
    {
     "name": "stderr",
     "output_type": "stream",
     "text": [
      "frame loading (JPEG): 100%|██████████| 2/2 [00:00<00:00, 13.51it/s]\n",
      "propagate in video:   0%|          | 0/2 [00:00<?, ?it/s]"
     ]
    },
    {
     "name": "stdout",
     "output_type": "stream",
     "text": [
      "\n",
      "Debug: Frame 0 has 1 objects\n",
      "Object IDs: [1]\n"
     ]
    },
    {
     "name": "stderr",
     "output_type": "stream",
     "text": [
      "propagate in video: 100%|██████████| 2/2 [00:05<00:00,  2.53s/it]\n"
     ]
    },
    {
     "name": "stdout",
     "output_type": "stream",
     "text": [
      "\n",
      "Debug: Frame 1 has 1 objects\n",
      "Object IDs: [1]\n",
      "Predicted bbox: [0, 0, 0, 0]\n",
      "Warning: Empty prediction - skipping\n",
      "\n",
      "Processing image 34/49: diet_coke_000035.jpg\n",
      "Ground truth bbox: [265, 180, 71, 139]\n"
     ]
    },
    {
     "name": "stderr",
     "output_type": "stream",
     "text": [
      "frame loading (JPEG): 100%|██████████| 2/2 [00:00<00:00, 14.81it/s]\n",
      "propagate in video:   0%|          | 0/2 [00:00<?, ?it/s]"
     ]
    },
    {
     "name": "stdout",
     "output_type": "stream",
     "text": [
      "\n",
      "Debug: Frame 0 has 1 objects\n",
      "Object IDs: [1]\n"
     ]
    },
    {
     "name": "stderr",
     "output_type": "stream",
     "text": [
      "propagate in video: 100%|██████████| 2/2 [00:04<00:00,  2.46s/it]\n"
     ]
    },
    {
     "name": "stdout",
     "output_type": "stream",
     "text": [
      "\n",
      "Debug: Frame 1 has 1 objects\n",
      "Object IDs: [1]\n",
      "Predicted bbox: [267, 182, 155, 145]\n",
      "\n",
      "Processing image 35/49: diet_coke_000036.jpg\n",
      "Ground truth bbox: [442, 32, 93, 169]\n"
     ]
    },
    {
     "name": "stderr",
     "output_type": "stream",
     "text": [
      "frame loading (JPEG): 100%|██████████| 2/2 [00:00<00:00, 16.19it/s]\n",
      "propagate in video:   0%|          | 0/2 [00:00<?, ?it/s]"
     ]
    },
    {
     "name": "stdout",
     "output_type": "stream",
     "text": [
      "\n",
      "Debug: Frame 0 has 1 objects\n",
      "Object IDs: [1]\n"
     ]
    },
    {
     "name": "stderr",
     "output_type": "stream",
     "text": [
      "propagate in video: 100%|██████████| 2/2 [00:04<00:00,  2.50s/it]\n"
     ]
    },
    {
     "name": "stdout",
     "output_type": "stream",
     "text": [
      "\n",
      "Debug: Frame 1 has 1 objects\n",
      "Object IDs: [1]\n",
      "Predicted bbox: [443, 30, 176, 172]\n",
      "\n",
      "Processing image 36/49: diet_coke_000037.jpg\n",
      "Ground truth bbox: [115, 185, 60, 90]\n"
     ]
    },
    {
     "name": "stderr",
     "output_type": "stream",
     "text": [
      "frame loading (JPEG): 100%|██████████| 2/2 [00:00<00:00, 14.76it/s]\n",
      "propagate in video:   0%|          | 0/2 [00:00<?, ?it/s]"
     ]
    },
    {
     "name": "stdout",
     "output_type": "stream",
     "text": [
      "\n",
      "Debug: Frame 0 has 1 objects\n",
      "Object IDs: [1]\n"
     ]
    },
    {
     "name": "stderr",
     "output_type": "stream",
     "text": [
      "propagate in video: 100%|██████████| 2/2 [00:04<00:00,  2.44s/it]\n"
     ]
    },
    {
     "name": "stdout",
     "output_type": "stream",
     "text": [
      "\n",
      "Debug: Frame 1 has 1 objects\n",
      "Object IDs: [1]\n",
      "Predicted bbox: [410, 48, 130, 182]\n",
      "\n",
      "Processing image 37/49: diet_coke_000038.jpg\n",
      "Ground truth bbox: [194, 136, 86, 176]\n"
     ]
    },
    {
     "name": "stderr",
     "output_type": "stream",
     "text": [
      "frame loading (JPEG): 100%|██████████| 2/2 [00:00<00:00, 14.61it/s]\n",
      "propagate in video:   0%|          | 0/2 [00:00<?, ?it/s]"
     ]
    },
    {
     "name": "stdout",
     "output_type": "stream",
     "text": [
      "\n",
      "Debug: Frame 0 has 1 objects\n",
      "Object IDs: [1]\n"
     ]
    },
    {
     "name": "stderr",
     "output_type": "stream",
     "text": [
      "propagate in video: 100%|██████████| 2/2 [00:04<00:00,  2.49s/it]\n"
     ]
    },
    {
     "name": "stdout",
     "output_type": "stream",
     "text": [
      "\n",
      "Debug: Frame 1 has 1 objects\n",
      "Object IDs: [1]\n",
      "Predicted bbox: [346, 156, 142, 298]\n",
      "\n",
      "Processing image 38/49: diet_coke_000039.jpg\n",
      "Ground truth bbox: [238, 62, 61, 130]\n"
     ]
    },
    {
     "name": "stderr",
     "output_type": "stream",
     "text": [
      "frame loading (JPEG): 100%|██████████| 2/2 [00:00<00:00, 16.15it/s]\n",
      "propagate in video:   0%|          | 0/2 [00:00<?, ?it/s]"
     ]
    },
    {
     "name": "stdout",
     "output_type": "stream",
     "text": [
      "\n",
      "Debug: Frame 0 has 1 objects\n",
      "Object IDs: [1]\n"
     ]
    },
    {
     "name": "stderr",
     "output_type": "stream",
     "text": [
      "propagate in video: 100%|██████████| 2/2 [00:05<00:00,  2.51s/it]\n"
     ]
    },
    {
     "name": "stdout",
     "output_type": "stream",
     "text": [
      "\n",
      "Debug: Frame 1 has 1 objects\n",
      "Object IDs: [1]\n",
      "Predicted bbox: [0, 47, 405, 154]\n",
      "\n",
      "Processing image 39/49: diet_coke_000040.jpg\n",
      "Ground truth bbox: [295, 119, 59, 111]\n"
     ]
    },
    {
     "name": "stderr",
     "output_type": "stream",
     "text": [
      "frame loading (JPEG): 100%|██████████| 2/2 [00:00<00:00, 16.17it/s]\n",
      "propagate in video:   0%|          | 0/2 [00:00<?, ?it/s]"
     ]
    },
    {
     "name": "stdout",
     "output_type": "stream",
     "text": [
      "\n",
      "Debug: Frame 0 has 1 objects\n",
      "Object IDs: [1]\n"
     ]
    },
    {
     "name": "stderr",
     "output_type": "stream",
     "text": [
      "propagate in video: 100%|██████████| 2/2 [00:05<00:00,  2.51s/it]\n"
     ]
    },
    {
     "name": "stdout",
     "output_type": "stream",
     "text": [
      "\n",
      "Debug: Frame 1 has 1 objects\n",
      "Object IDs: [1]\n",
      "Predicted bbox: [0, 0, 0, 0]\n",
      "Warning: Empty prediction - skipping\n",
      "\n",
      "Processing image 40/49: diet_coke_000041.jpg\n",
      "Ground truth bbox: [248, 113, 82, 156]\n"
     ]
    },
    {
     "name": "stderr",
     "output_type": "stream",
     "text": [
      "frame loading (JPEG): 100%|██████████| 2/2 [00:00<00:00, 17.13it/s]\n",
      "propagate in video:   0%|          | 0/2 [00:00<?, ?it/s]"
     ]
    },
    {
     "name": "stdout",
     "output_type": "stream",
     "text": [
      "\n",
      "Debug: Frame 0 has 1 objects\n",
      "Object IDs: [1]\n"
     ]
    },
    {
     "name": "stderr",
     "output_type": "stream",
     "text": [
      "propagate in video: 100%|██████████| 2/2 [00:04<00:00,  2.45s/it]\n"
     ]
    },
    {
     "name": "stdout",
     "output_type": "stream",
     "text": [
      "\n",
      "Debug: Frame 1 has 1 objects\n",
      "Object IDs: [1]\n",
      "Predicted bbox: [0, 0, 0, 0]\n",
      "Warning: Empty prediction - skipping\n",
      "\n",
      "Processing image 41/49: diet_coke_000042.jpg\n",
      "Ground truth bbox: [239, 127, 94, 172]\n"
     ]
    },
    {
     "name": "stderr",
     "output_type": "stream",
     "text": [
      "frame loading (JPEG): 100%|██████████| 2/2 [00:00<00:00, 17.20it/s]\n",
      "propagate in video:   0%|          | 0/2 [00:00<?, ?it/s]"
     ]
    },
    {
     "name": "stdout",
     "output_type": "stream",
     "text": [
      "\n",
      "Debug: Frame 0 has 1 objects\n",
      "Object IDs: [1]\n"
     ]
    },
    {
     "name": "stderr",
     "output_type": "stream",
     "text": [
      "propagate in video: 100%|██████████| 2/2 [00:04<00:00,  2.46s/it]\n"
     ]
    },
    {
     "name": "stdout",
     "output_type": "stream",
     "text": [
      "\n",
      "Debug: Frame 1 has 1 objects\n",
      "Object IDs: [1]\n",
      "Predicted bbox: [240, 131, 92, 166]\n",
      "\n",
      "Processing image 42/49: diet_coke_000043.jpg\n",
      "Ground truth bbox: [217, 107, 74, 132]\n"
     ]
    },
    {
     "name": "stderr",
     "output_type": "stream",
     "text": [
      "frame loading (JPEG): 100%|██████████| 2/2 [00:00<00:00, 13.96it/s]\n",
      "propagate in video:   0%|          | 0/2 [00:00<?, ?it/s]"
     ]
    },
    {
     "name": "stdout",
     "output_type": "stream",
     "text": [
      "\n",
      "Debug: Frame 0 has 1 objects\n",
      "Object IDs: [1]\n"
     ]
    },
    {
     "name": "stderr",
     "output_type": "stream",
     "text": [
      "propagate in video: 100%|██████████| 2/2 [00:04<00:00,  2.49s/it]\n"
     ]
    },
    {
     "name": "stdout",
     "output_type": "stream",
     "text": [
      "\n",
      "Debug: Frame 1 has 1 objects\n",
      "Object IDs: [1]\n",
      "Predicted bbox: [0, 0, 0, 0]\n",
      "Warning: Empty prediction - skipping\n",
      "\n",
      "Processing image 43/49: diet_coke_000044.jpg\n",
      "Ground truth bbox: [221, 70, 81, 155]\n"
     ]
    },
    {
     "name": "stderr",
     "output_type": "stream",
     "text": [
      "frame loading (JPEG): 100%|██████████| 2/2 [00:00<00:00, 16.33it/s]\n",
      "propagate in video:   0%|          | 0/2 [00:00<?, ?it/s]"
     ]
    },
    {
     "name": "stdout",
     "output_type": "stream",
     "text": [
      "\n",
      "Debug: Frame 0 has 1 objects\n",
      "Object IDs: [1]\n"
     ]
    },
    {
     "name": "stderr",
     "output_type": "stream",
     "text": [
      "propagate in video: 100%|██████████| 2/2 [00:05<00:00,  2.55s/it]\n"
     ]
    },
    {
     "name": "stdout",
     "output_type": "stream",
     "text": [
      "\n",
      "Debug: Frame 1 has 1 objects\n",
      "Object IDs: [1]\n",
      "Predicted bbox: [141, 72, 161, 283]\n",
      "\n",
      "Processing image 44/49: diet_coke_000045.jpg\n",
      "Ground truth bbox: [65, 174, 102, 179]\n"
     ]
    },
    {
     "name": "stderr",
     "output_type": "stream",
     "text": [
      "frame loading (JPEG): 100%|██████████| 2/2 [00:00<00:00, 13.24it/s]\n",
      "propagate in video:   0%|          | 0/2 [00:00<?, ?it/s]"
     ]
    },
    {
     "name": "stdout",
     "output_type": "stream",
     "text": [
      "\n",
      "Debug: Frame 0 has 1 objects\n",
      "Object IDs: [1]\n"
     ]
    },
    {
     "name": "stderr",
     "output_type": "stream",
     "text": [
      "propagate in video: 100%|██████████| 2/2 [00:05<00:00,  2.51s/it]\n"
     ]
    },
    {
     "name": "stdout",
     "output_type": "stream",
     "text": [
      "\n",
      "Debug: Frame 1 has 1 objects\n",
      "Object IDs: [1]\n",
      "Predicted bbox: [199, 171, 154, 176]\n",
      "\n",
      "Processing image 45/49: diet_coke_000046.jpg\n",
      "Ground truth bbox: [195, 81, 68, 148]\n"
     ]
    },
    {
     "name": "stderr",
     "output_type": "stream",
     "text": [
      "frame loading (JPEG): 100%|██████████| 2/2 [00:00<00:00, 15.73it/s]\n",
      "propagate in video:   0%|          | 0/2 [00:00<?, ?it/s]"
     ]
    },
    {
     "name": "stdout",
     "output_type": "stream",
     "text": [
      "\n",
      "Debug: Frame 0 has 1 objects\n",
      "Object IDs: [1]\n"
     ]
    },
    {
     "name": "stderr",
     "output_type": "stream",
     "text": [
      "propagate in video: 100%|██████████| 2/2 [00:04<00:00,  2.46s/it]\n"
     ]
    },
    {
     "name": "stdout",
     "output_type": "stream",
     "text": [
      "\n",
      "Debug: Frame 1 has 1 objects\n",
      "Object IDs: [1]\n",
      "Predicted bbox: [0, 0, 0, 0]\n",
      "Warning: Empty prediction - skipping\n",
      "\n",
      "Processing image 46/49: diet_coke_000047.jpg\n",
      "Ground truth bbox: [330, 62, 74, 123]\n"
     ]
    },
    {
     "name": "stderr",
     "output_type": "stream",
     "text": [
      "frame loading (JPEG): 100%|██████████| 2/2 [00:00<00:00, 13.51it/s]\n",
      "propagate in video:   0%|          | 0/2 [00:00<?, ?it/s]"
     ]
    },
    {
     "name": "stdout",
     "output_type": "stream",
     "text": [
      "\n",
      "Debug: Frame 0 has 1 objects\n",
      "Object IDs: [1]\n"
     ]
    },
    {
     "name": "stderr",
     "output_type": "stream",
     "text": [
      "propagate in video: 100%|██████████| 2/2 [00:04<00:00,  2.45s/it]\n"
     ]
    },
    {
     "name": "stdout",
     "output_type": "stream",
     "text": [
      "\n",
      "Debug: Frame 1 has 1 objects\n",
      "Object IDs: [1]\n",
      "Predicted bbox: [378, 137, 126, 228]\n",
      "\n",
      "Processing image 47/49: diet_coke_000048.jpg\n",
      "Ground truth bbox: [232, 198, 96, 155]\n"
     ]
    },
    {
     "name": "stderr",
     "output_type": "stream",
     "text": [
      "frame loading (JPEG): 100%|██████████| 2/2 [00:00<00:00, 16.73it/s]\n",
      "propagate in video:   0%|          | 0/2 [00:00<?, ?it/s]"
     ]
    },
    {
     "name": "stdout",
     "output_type": "stream",
     "text": [
      "\n",
      "Debug: Frame 0 has 1 objects\n",
      "Object IDs: [1]\n"
     ]
    },
    {
     "name": "stderr",
     "output_type": "stream",
     "text": [
      "propagate in video: 100%|██████████| 2/2 [00:05<00:00,  2.52s/it]\n"
     ]
    },
    {
     "name": "stdout",
     "output_type": "stream",
     "text": [
      "\n",
      "Debug: Frame 1 has 1 objects\n",
      "Object IDs: [1]\n",
      "Predicted bbox: [0, 0, 0, 0]\n",
      "Warning: Empty prediction - skipping\n",
      "\n",
      "Processing image 48/49: diet_coke_000049.jpg\n",
      "Ground truth bbox: [122, 135, 91, 144]\n"
     ]
    },
    {
     "name": "stderr",
     "output_type": "stream",
     "text": [
      "frame loading (JPEG): 100%|██████████| 2/2 [00:00<00:00, 16.66it/s]\n",
      "propagate in video:   0%|          | 0/2 [00:00<?, ?it/s]"
     ]
    },
    {
     "name": "stdout",
     "output_type": "stream",
     "text": [
      "\n",
      "Debug: Frame 0 has 1 objects\n",
      "Object IDs: [1]\n"
     ]
    },
    {
     "name": "stderr",
     "output_type": "stream",
     "text": [
      "propagate in video: 100%|██████████| 2/2 [00:04<00:00,  2.43s/it]\n"
     ]
    },
    {
     "name": "stdout",
     "output_type": "stream",
     "text": [
      "\n",
      "Debug: Frame 1 has 1 objects\n",
      "Object IDs: [1]\n",
      "Predicted bbox: [439, 218, 115, 210]\n",
      "\n",
      "Processing image 49/49: diet_coke_000050.jpg\n",
      "Ground truth bbox: [179, 227, 70, 106]\n"
     ]
    },
    {
     "name": "stderr",
     "output_type": "stream",
     "text": [
      "frame loading (JPEG): 100%|██████████| 2/2 [00:00<00:00, 14.50it/s]\n",
      "propagate in video:   0%|          | 0/2 [00:00<?, ?it/s]"
     ]
    },
    {
     "name": "stdout",
     "output_type": "stream",
     "text": [
      "\n",
      "Debug: Frame 0 has 1 objects\n",
      "Object IDs: [1]\n"
     ]
    },
    {
     "name": "stderr",
     "output_type": "stream",
     "text": [
      "propagate in video: 100%|██████████| 2/2 [00:04<00:00,  2.47s/it]\n"
     ]
    },
    {
     "name": "stdout",
     "output_type": "stream",
     "text": [
      "\n",
      "Debug: Frame 1 has 1 objects\n",
      "Object IDs: [1]\n",
      "Predicted bbox: [0, 0, 0, 0]\n",
      "Warning: Empty prediction - skipping\n",
      "creating index...\n",
      "index created!\n",
      "Error in COCO evaluation: 'info'\n",
      "\n",
      "Evaluating hc_potroastsoup...\n",
      "Using reference image: hc_potroastsoup_000001.jpg\n",
      "Using reference mask: hc_potroastsoup_000001_1_gt.png\n",
      "Reference bounding box: x=[147,288], y=[191,339]\n",
      "\n",
      "Processing image 1/49: hc_potroastsoup_000002.jpg\n",
      "Ground truth bbox: [147, 52, 119, 105]\n"
     ]
    },
    {
     "name": "stderr",
     "output_type": "stream",
     "text": [
      "frame loading (JPEG): 100%|██████████| 2/2 [00:00<00:00, 13.39it/s]\n",
      "propagate in video:   0%|          | 0/2 [00:00<?, ?it/s]"
     ]
    },
    {
     "name": "stdout",
     "output_type": "stream",
     "text": [
      "\n",
      "Debug: Frame 0 has 1 objects\n",
      "Object IDs: [1]\n"
     ]
    },
    {
     "name": "stderr",
     "output_type": "stream",
     "text": [
      "propagate in video: 100%|██████████| 2/2 [00:05<00:00,  2.57s/it]\n"
     ]
    },
    {
     "name": "stdout",
     "output_type": "stream",
     "text": [
      "\n",
      "Debug: Frame 1 has 1 objects\n",
      "Object IDs: [1]\n",
      "Predicted bbox: [152, 42, 115, 106]\n",
      "\n",
      "Processing image 2/49: hc_potroastsoup_000003.jpg\n",
      "Ground truth bbox: [272, 217, 91, 77]\n"
     ]
    },
    {
     "name": "stderr",
     "output_type": "stream",
     "text": [
      "frame loading (JPEG): 100%|██████████| 2/2 [00:00<00:00, 15.41it/s]\n",
      "propagate in video:   0%|          | 0/2 [00:00<?, ?it/s]"
     ]
    },
    {
     "name": "stdout",
     "output_type": "stream",
     "text": [
      "\n",
      "Debug: Frame 0 has 1 objects\n",
      "Object IDs: [1]\n"
     ]
    },
    {
     "name": "stderr",
     "output_type": "stream",
     "text": [
      "propagate in video: 100%|██████████| 2/2 [00:04<00:00,  2.43s/it]\n"
     ]
    },
    {
     "name": "stdout",
     "output_type": "stream",
     "text": [
      "\n",
      "Debug: Frame 1 has 1 objects\n",
      "Object IDs: [1]\n",
      "Predicted bbox: [277, 223, 87, 76]\n",
      "\n",
      "Processing image 3/49: hc_potroastsoup_000004.jpg\n",
      "Ground truth bbox: [263, 275, 94, 91]\n"
     ]
    },
    {
     "name": "stderr",
     "output_type": "stream",
     "text": [
      "frame loading (JPEG): 100%|██████████| 2/2 [00:00<00:00, 15.52it/s]\n",
      "propagate in video:   0%|          | 0/2 [00:00<?, ?it/s]"
     ]
    },
    {
     "name": "stdout",
     "output_type": "stream",
     "text": [
      "\n",
      "Debug: Frame 0 has 1 objects\n",
      "Object IDs: [1]\n"
     ]
    },
    {
     "name": "stderr",
     "output_type": "stream",
     "text": [
      "propagate in video: 100%|██████████| 2/2 [00:05<00:00,  2.50s/it]\n"
     ]
    },
    {
     "name": "stdout",
     "output_type": "stream",
     "text": [
      "\n",
      "Debug: Frame 1 has 1 objects\n",
      "Object IDs: [1]\n",
      "Predicted bbox: [259, 280, 96, 86]\n",
      "\n",
      "Processing image 4/49: hc_potroastsoup_000005.jpg\n",
      "Ground truth bbox: [316, 260, 124, 114]\n"
     ]
    },
    {
     "name": "stderr",
     "output_type": "stream",
     "text": [
      "frame loading (JPEG): 100%|██████████| 2/2 [00:00<00:00, 15.74it/s]\n",
      "propagate in video:   0%|          | 0/2 [00:00<?, ?it/s]"
     ]
    },
    {
     "name": "stdout",
     "output_type": "stream",
     "text": [
      "\n",
      "Debug: Frame 0 has 1 objects\n",
      "Object IDs: [1]\n"
     ]
    },
    {
     "name": "stderr",
     "output_type": "stream",
     "text": [
      "propagate in video: 100%|██████████| 2/2 [00:04<00:00,  2.49s/it]\n"
     ]
    },
    {
     "name": "stdout",
     "output_type": "stream",
     "text": [
      "\n",
      "Debug: Frame 1 has 1 objects\n",
      "Object IDs: [1]\n",
      "Predicted bbox: [316, 269, 123, 107]\n",
      "\n",
      "Processing image 5/49: hc_potroastsoup_000006.jpg\n",
      "Ground truth bbox: [350, 161, 109, 109]\n"
     ]
    },
    {
     "name": "stderr",
     "output_type": "stream",
     "text": [
      "frame loading (JPEG): 100%|██████████| 2/2 [00:00<00:00, 14.62it/s]\n",
      "propagate in video:   0%|          | 0/2 [00:00<?, ?it/s]"
     ]
    },
    {
     "name": "stdout",
     "output_type": "stream",
     "text": [
      "\n",
      "Debug: Frame 0 has 1 objects\n",
      "Object IDs: [1]\n"
     ]
    },
    {
     "name": "stderr",
     "output_type": "stream",
     "text": [
      "propagate in video: 100%|██████████| 2/2 [00:04<00:00,  2.45s/it]\n"
     ]
    },
    {
     "name": "stdout",
     "output_type": "stream",
     "text": [
      "\n",
      "Debug: Frame 1 has 1 objects\n",
      "Object IDs: [1]\n",
      "Predicted bbox: [352, 162, 109, 172]\n",
      "\n",
      "Processing image 6/49: hc_potroastsoup_000007.jpg\n",
      "Ground truth bbox: [133, 195, 91, 79]\n"
     ]
    },
    {
     "name": "stderr",
     "output_type": "stream",
     "text": [
      "frame loading (JPEG): 100%|██████████| 2/2 [00:00<00:00, 16.66it/s]\n",
      "propagate in video:   0%|          | 0/2 [00:00<?, ?it/s]"
     ]
    },
    {
     "name": "stdout",
     "output_type": "stream",
     "text": [
      "\n",
      "Debug: Frame 0 has 1 objects\n",
      "Object IDs: [1]\n"
     ]
    },
    {
     "name": "stderr",
     "output_type": "stream",
     "text": [
      "propagate in video: 100%|██████████| 2/2 [00:04<00:00,  2.46s/it]\n"
     ]
    },
    {
     "name": "stdout",
     "output_type": "stream",
     "text": [
      "\n",
      "Debug: Frame 1 has 1 objects\n",
      "Object IDs: [1]\n",
      "Predicted bbox: [0, 0, 0, 0]\n",
      "Warning: Empty prediction - skipping\n",
      "\n",
      "Processing image 7/49: hc_potroastsoup_000008.jpg\n",
      "Ground truth bbox: [284, 53, 87, 71]\n"
     ]
    },
    {
     "name": "stderr",
     "output_type": "stream",
     "text": [
      "frame loading (JPEG): 100%|██████████| 2/2 [00:00<00:00, 15.55it/s]\n",
      "propagate in video:   0%|          | 0/2 [00:00<?, ?it/s]"
     ]
    },
    {
     "name": "stdout",
     "output_type": "stream",
     "text": [
      "\n",
      "Debug: Frame 0 has 1 objects\n",
      "Object IDs: [1]\n"
     ]
    },
    {
     "name": "stderr",
     "output_type": "stream",
     "text": [
      "propagate in video: 100%|██████████| 2/2 [00:04<00:00,  2.45s/it]\n"
     ]
    },
    {
     "name": "stdout",
     "output_type": "stream",
     "text": [
      "\n",
      "Debug: Frame 1 has 1 objects\n",
      "Object IDs: [1]\n",
      "Predicted bbox: [278, 54, 93, 137]\n",
      "\n",
      "Processing image 8/49: hc_potroastsoup_000009.jpg\n",
      "Ground truth bbox: [54, 106, 123, 116]\n"
     ]
    },
    {
     "name": "stderr",
     "output_type": "stream",
     "text": [
      "frame loading (JPEG): 100%|██████████| 2/2 [00:00<00:00, 16.47it/s]\n",
      "propagate in video:   0%|          | 0/2 [00:00<?, ?it/s]"
     ]
    },
    {
     "name": "stdout",
     "output_type": "stream",
     "text": [
      "\n",
      "Debug: Frame 0 has 1 objects\n",
      "Object IDs: [1]\n"
     ]
    },
    {
     "name": "stderr",
     "output_type": "stream",
     "text": [
      "propagate in video: 100%|██████████| 2/2 [00:04<00:00,  2.46s/it]\n"
     ]
    },
    {
     "name": "stdout",
     "output_type": "stream",
     "text": [
      "\n",
      "Debug: Frame 1 has 1 objects\n",
      "Object IDs: [1]\n",
      "Predicted bbox: [0, 0, 0, 0]\n",
      "Warning: Empty prediction - skipping\n",
      "\n",
      "Processing image 9/49: hc_potroastsoup_000010.jpg\n",
      "Ground truth bbox: [151, 109, 142, 122]\n"
     ]
    },
    {
     "name": "stderr",
     "output_type": "stream",
     "text": [
      "frame loading (JPEG): 100%|██████████| 2/2 [00:00<00:00, 14.64it/s]\n",
      "propagate in video:   0%|          | 0/2 [00:00<?, ?it/s]"
     ]
    },
    {
     "name": "stdout",
     "output_type": "stream",
     "text": [
      "\n",
      "Debug: Frame 0 has 1 objects\n",
      "Object IDs: [1]\n"
     ]
    },
    {
     "name": "stderr",
     "output_type": "stream",
     "text": [
      "propagate in video: 100%|██████████| 2/2 [00:05<00:00,  2.51s/it]\n"
     ]
    },
    {
     "name": "stdout",
     "output_type": "stream",
     "text": [
      "\n",
      "Debug: Frame 1 has 1 objects\n",
      "Object IDs: [1]\n",
      "Predicted bbox: [0, 0, 0, 0]\n",
      "Warning: Empty prediction - skipping\n",
      "\n",
      "Processing image 10/49: hc_potroastsoup_000011.jpg\n",
      "Ground truth bbox: [229, 162, 111, 109]\n"
     ]
    },
    {
     "name": "stderr",
     "output_type": "stream",
     "text": [
      "frame loading (JPEG): 100%|██████████| 2/2 [00:00<00:00, 12.82it/s]\n",
      "propagate in video:   0%|          | 0/2 [00:00<?, ?it/s]"
     ]
    },
    {
     "name": "stdout",
     "output_type": "stream",
     "text": [
      "\n",
      "Debug: Frame 0 has 1 objects\n",
      "Object IDs: [1]\n"
     ]
    },
    {
     "name": "stderr",
     "output_type": "stream",
     "text": [
      "propagate in video: 100%|██████████| 2/2 [00:05<00:00,  2.64s/it]\n"
     ]
    },
    {
     "name": "stdout",
     "output_type": "stream",
     "text": [
      "\n",
      "Debug: Frame 1 has 1 objects\n",
      "Object IDs: [1]\n",
      "Predicted bbox: [0, 0, 0, 0]\n",
      "Warning: Empty prediction - skipping\n",
      "\n",
      "Processing image 11/49: hc_potroastsoup_000012.jpg\n",
      "Ground truth bbox: [262, 205, 90, 86]\n"
     ]
    },
    {
     "name": "stderr",
     "output_type": "stream",
     "text": [
      "frame loading (JPEG): 100%|██████████| 2/2 [00:00<00:00, 11.51it/s]\n",
      "propagate in video:   0%|          | 0/2 [00:00<?, ?it/s]"
     ]
    },
    {
     "name": "stdout",
     "output_type": "stream",
     "text": [
      "\n",
      "Debug: Frame 0 has 1 objects\n",
      "Object IDs: [1]\n"
     ]
    },
    {
     "name": "stderr",
     "output_type": "stream",
     "text": [
      "propagate in video: 100%|██████████| 2/2 [00:05<00:00,  2.53s/it]\n"
     ]
    },
    {
     "name": "stdout",
     "output_type": "stream",
     "text": [
      "\n",
      "Debug: Frame 1 has 1 objects\n",
      "Object IDs: [1]\n",
      "Predicted bbox: [0, 0, 0, 0]\n",
      "Warning: Empty prediction - skipping\n",
      "\n",
      "Processing image 12/49: hc_potroastsoup_000013.jpg\n",
      "Ground truth bbox: [311, 172, 134, 147]\n"
     ]
    },
    {
     "name": "stderr",
     "output_type": "stream",
     "text": [
      "frame loading (JPEG): 100%|██████████| 2/2 [00:00<00:00, 13.47it/s]\n",
      "propagate in video:   0%|          | 0/2 [00:00<?, ?it/s]"
     ]
    },
    {
     "name": "stdout",
     "output_type": "stream",
     "text": [
      "\n",
      "Debug: Frame 0 has 1 objects\n",
      "Object IDs: [1]\n"
     ]
    },
    {
     "name": "stderr",
     "output_type": "stream",
     "text": [
      "propagate in video: 100%|██████████| 2/2 [00:05<00:00,  2.52s/it]\n"
     ]
    },
    {
     "name": "stdout",
     "output_type": "stream",
     "text": [
      "\n",
      "Debug: Frame 1 has 1 objects\n",
      "Object IDs: [1]\n",
      "Predicted bbox: [310, 174, 138, 143]\n",
      "\n",
      "Processing image 13/49: hc_potroastsoup_000014.jpg\n",
      "Ground truth bbox: [191, 163, 118, 100]\n"
     ]
    },
    {
     "name": "stderr",
     "output_type": "stream",
     "text": [
      "frame loading (JPEG): 100%|██████████| 2/2 [00:00<00:00, 15.47it/s]\n",
      "propagate in video:   0%|          | 0/2 [00:00<?, ?it/s]"
     ]
    },
    {
     "name": "stdout",
     "output_type": "stream",
     "text": [
      "\n",
      "Debug: Frame 0 has 1 objects\n",
      "Object IDs: [1]\n"
     ]
    },
    {
     "name": "stderr",
     "output_type": "stream",
     "text": [
      "propagate in video: 100%|██████████| 2/2 [00:05<00:00,  2.51s/it]\n"
     ]
    },
    {
     "name": "stdout",
     "output_type": "stream",
     "text": [
      "\n",
      "Debug: Frame 1 has 1 objects\n",
      "Object IDs: [1]\n",
      "Predicted bbox: [0, 0, 0, 0]\n",
      "Warning: Empty prediction - skipping\n",
      "\n",
      "Processing image 14/49: hc_potroastsoup_000015.jpg\n",
      "Ground truth bbox: [233, 137, 111, 89]\n"
     ]
    },
    {
     "name": "stderr",
     "output_type": "stream",
     "text": [
      "frame loading (JPEG): 100%|██████████| 2/2 [00:00<00:00, 14.58it/s]\n",
      "propagate in video:   0%|          | 0/2 [00:00<?, ?it/s]"
     ]
    },
    {
     "name": "stdout",
     "output_type": "stream",
     "text": [
      "\n",
      "Debug: Frame 0 has 1 objects\n",
      "Object IDs: [1]\n"
     ]
    },
    {
     "name": "stderr",
     "output_type": "stream",
     "text": [
      "propagate in video: 100%|██████████| 2/2 [00:04<00:00,  2.50s/it]\n"
     ]
    },
    {
     "name": "stdout",
     "output_type": "stream",
     "text": [
      "\n",
      "Debug: Frame 1 has 1 objects\n",
      "Object IDs: [1]\n",
      "Predicted bbox: [0, 0, 0, 0]\n",
      "Warning: Empty prediction - skipping\n",
      "\n",
      "Processing image 15/49: hc_potroastsoup_000016.jpg\n",
      "Ground truth bbox: [222, 195, 106, 86]\n"
     ]
    },
    {
     "name": "stderr",
     "output_type": "stream",
     "text": [
      "frame loading (JPEG): 100%|██████████| 2/2 [00:00<00:00, 15.52it/s]\n",
      "propagate in video:   0%|          | 0/2 [00:00<?, ?it/s]"
     ]
    },
    {
     "name": "stdout",
     "output_type": "stream",
     "text": [
      "\n",
      "Debug: Frame 0 has 1 objects\n",
      "Object IDs: [1]\n"
     ]
    },
    {
     "name": "stderr",
     "output_type": "stream",
     "text": [
      "propagate in video: 100%|██████████| 2/2 [00:04<00:00,  2.49s/it]\n"
     ]
    },
    {
     "name": "stdout",
     "output_type": "stream",
     "text": [
      "\n",
      "Debug: Frame 1 has 1 objects\n",
      "Object IDs: [1]\n",
      "Predicted bbox: [0, 0, 0, 0]\n",
      "Warning: Empty prediction - skipping\n",
      "\n",
      "Processing image 16/49: hc_potroastsoup_000017.jpg\n",
      "Ground truth bbox: [244, 95, 94, 97]\n"
     ]
    },
    {
     "name": "stderr",
     "output_type": "stream",
     "text": [
      "frame loading (JPEG): 100%|██████████| 2/2 [00:00<00:00, 15.12it/s]\n",
      "propagate in video:   0%|          | 0/2 [00:00<?, ?it/s]"
     ]
    },
    {
     "name": "stdout",
     "output_type": "stream",
     "text": [
      "\n",
      "Debug: Frame 0 has 1 objects\n",
      "Object IDs: [1]\n"
     ]
    },
    {
     "name": "stderr",
     "output_type": "stream",
     "text": [
      "propagate in video: 100%|██████████| 2/2 [00:05<00:00,  2.52s/it]\n"
     ]
    },
    {
     "name": "stdout",
     "output_type": "stream",
     "text": [
      "\n",
      "Debug: Frame 1 has 1 objects\n",
      "Object IDs: [1]\n",
      "Predicted bbox: [0, 0, 0, 0]\n",
      "Warning: Empty prediction - skipping\n",
      "\n",
      "Processing image 17/49: hc_potroastsoup_000018.jpg\n",
      "Ground truth bbox: [176, 111, 129, 144]\n"
     ]
    },
    {
     "name": "stderr",
     "output_type": "stream",
     "text": [
      "frame loading (JPEG): 100%|██████████| 2/2 [00:00<00:00, 16.44it/s]\n",
      "propagate in video:   0%|          | 0/2 [00:00<?, ?it/s]"
     ]
    },
    {
     "name": "stdout",
     "output_type": "stream",
     "text": [
      "\n",
      "Debug: Frame 0 has 1 objects\n",
      "Object IDs: [1]\n"
     ]
    },
    {
     "name": "stderr",
     "output_type": "stream",
     "text": [
      "propagate in video: 100%|██████████| 2/2 [00:05<00:00,  2.50s/it]\n"
     ]
    },
    {
     "name": "stdout",
     "output_type": "stream",
     "text": [
      "\n",
      "Debug: Frame 1 has 1 objects\n",
      "Object IDs: [1]\n",
      "Predicted bbox: [0, 0, 0, 0]\n",
      "Warning: Empty prediction - skipping\n",
      "\n",
      "Processing image 18/49: hc_potroastsoup_000019.jpg\n",
      "Ground truth bbox: [249, 146, 108, 116]\n"
     ]
    },
    {
     "name": "stderr",
     "output_type": "stream",
     "text": [
      "frame loading (JPEG): 100%|██████████| 2/2 [00:00<00:00, 13.52it/s]\n",
      "propagate in video:   0%|          | 0/2 [00:00<?, ?it/s]"
     ]
    },
    {
     "name": "stdout",
     "output_type": "stream",
     "text": [
      "\n",
      "Debug: Frame 0 has 1 objects\n",
      "Object IDs: [1]\n"
     ]
    },
    {
     "name": "stderr",
     "output_type": "stream",
     "text": [
      "propagate in video: 100%|██████████| 2/2 [00:04<00:00,  2.49s/it]\n"
     ]
    },
    {
     "name": "stdout",
     "output_type": "stream",
     "text": [
      "\n",
      "Debug: Frame 1 has 1 objects\n",
      "Object IDs: [1]\n",
      "Predicted bbox: [264, 148, 99, 190]\n",
      "\n",
      "Processing image 19/49: hc_potroastsoup_000020.jpg\n",
      "Ground truth bbox: [220, 134, 133, 137]\n"
     ]
    },
    {
     "name": "stderr",
     "output_type": "stream",
     "text": [
      "frame loading (JPEG): 100%|██████████| 2/2 [00:00<00:00, 18.35it/s]\n",
      "propagate in video:   0%|          | 0/2 [00:00<?, ?it/s]"
     ]
    },
    {
     "name": "stdout",
     "output_type": "stream",
     "text": [
      "\n",
      "Debug: Frame 0 has 1 objects\n",
      "Object IDs: [1]\n"
     ]
    },
    {
     "name": "stderr",
     "output_type": "stream",
     "text": [
      "propagate in video: 100%|██████████| 2/2 [00:05<00:00,  2.50s/it]\n"
     ]
    },
    {
     "name": "stdout",
     "output_type": "stream",
     "text": [
      "\n",
      "Debug: Frame 1 has 1 objects\n",
      "Object IDs: [1]\n",
      "Predicted bbox: [221, 132, 136, 140]\n",
      "\n",
      "Processing image 20/49: hc_potroastsoup_000021.jpg\n",
      "Ground truth bbox: [240, 118, 126, 137]\n"
     ]
    },
    {
     "name": "stderr",
     "output_type": "stream",
     "text": [
      "frame loading (JPEG): 100%|██████████| 2/2 [00:00<00:00, 16.97it/s]\n",
      "propagate in video:   0%|          | 0/2 [00:00<?, ?it/s]"
     ]
    },
    {
     "name": "stdout",
     "output_type": "stream",
     "text": [
      "\n",
      "Debug: Frame 0 has 1 objects\n",
      "Object IDs: [1]\n"
     ]
    },
    {
     "name": "stderr",
     "output_type": "stream",
     "text": [
      "propagate in video: 100%|██████████| 2/2 [00:04<00:00,  2.48s/it]\n"
     ]
    },
    {
     "name": "stdout",
     "output_type": "stream",
     "text": [
      "\n",
      "Debug: Frame 1 has 1 objects\n",
      "Object IDs: [1]\n",
      "Predicted bbox: [240, 123, 124, 134]\n",
      "\n",
      "Processing image 21/49: hc_potroastsoup_000022.jpg\n",
      "Ground truth bbox: [267, 150, 132, 133]\n"
     ]
    },
    {
     "name": "stderr",
     "output_type": "stream",
     "text": [
      "frame loading (JPEG): 100%|██████████| 2/2 [00:00<00:00, 17.39it/s]\n",
      "propagate in video:   0%|          | 0/2 [00:00<?, ?it/s]"
     ]
    },
    {
     "name": "stdout",
     "output_type": "stream",
     "text": [
      "\n",
      "Debug: Frame 0 has 1 objects\n",
      "Object IDs: [1]\n"
     ]
    },
    {
     "name": "stderr",
     "output_type": "stream",
     "text": [
      "propagate in video: 100%|██████████| 2/2 [00:04<00:00,  2.43s/it]\n"
     ]
    },
    {
     "name": "stdout",
     "output_type": "stream",
     "text": [
      "\n",
      "Debug: Frame 1 has 1 objects\n",
      "Object IDs: [1]\n",
      "Predicted bbox: [292, 155, 104, 130]\n",
      "\n",
      "Processing image 22/49: hc_potroastsoup_000023.jpg\n",
      "Ground truth bbox: [101, 62, 128, 123]\n"
     ]
    },
    {
     "name": "stderr",
     "output_type": "stream",
     "text": [
      "frame loading (JPEG): 100%|██████████| 2/2 [00:00<00:00, 17.16it/s]\n",
      "propagate in video:   0%|          | 0/2 [00:00<?, ?it/s]"
     ]
    },
    {
     "name": "stdout",
     "output_type": "stream",
     "text": [
      "\n",
      "Debug: Frame 0 has 1 objects\n",
      "Object IDs: [1]\n"
     ]
    },
    {
     "name": "stderr",
     "output_type": "stream",
     "text": [
      "propagate in video: 100%|██████████| 2/2 [00:05<00:00,  2.53s/it]\n"
     ]
    },
    {
     "name": "stdout",
     "output_type": "stream",
     "text": [
      "\n",
      "Debug: Frame 1 has 1 objects\n",
      "Object IDs: [1]\n",
      "Predicted bbox: [0, 0, 0, 0]\n",
      "Warning: Empty prediction - skipping\n",
      "\n",
      "Processing image 23/49: hc_potroastsoup_000024.jpg\n",
      "Ground truth bbox: [285, 111, 92, 87]\n"
     ]
    },
    {
     "name": "stderr",
     "output_type": "stream",
     "text": [
      "frame loading (JPEG): 100%|██████████| 2/2 [00:00<00:00, 17.91it/s]\n",
      "propagate in video:   0%|          | 0/2 [00:00<?, ?it/s]"
     ]
    },
    {
     "name": "stdout",
     "output_type": "stream",
     "text": [
      "\n",
      "Debug: Frame 0 has 1 objects\n",
      "Object IDs: [1]\n"
     ]
    },
    {
     "name": "stderr",
     "output_type": "stream",
     "text": [
      "propagate in video: 100%|██████████| 2/2 [00:04<00:00,  2.45s/it]\n"
     ]
    },
    {
     "name": "stdout",
     "output_type": "stream",
     "text": [
      "\n",
      "Debug: Frame 1 has 1 objects\n",
      "Object IDs: [1]\n",
      "Predicted bbox: [0, 0, 0, 0]\n",
      "Warning: Empty prediction - skipping\n",
      "\n",
      "Processing image 24/49: hc_potroastsoup_000025.jpg\n",
      "Ground truth bbox: [294, 30, 107, 117]\n"
     ]
    },
    {
     "name": "stderr",
     "output_type": "stream",
     "text": [
      "frame loading (JPEG): 100%|██████████| 2/2 [00:00<00:00, 16.44it/s]\n",
      "propagate in video:   0%|          | 0/2 [00:00<?, ?it/s]"
     ]
    },
    {
     "name": "stdout",
     "output_type": "stream",
     "text": [
      "\n",
      "Debug: Frame 0 has 1 objects\n",
      "Object IDs: [1]\n"
     ]
    },
    {
     "name": "stderr",
     "output_type": "stream",
     "text": [
      "propagate in video: 100%|██████████| 2/2 [00:04<00:00,  2.42s/it]\n"
     ]
    },
    {
     "name": "stdout",
     "output_type": "stream",
     "text": [
      "\n",
      "Debug: Frame 1 has 1 objects\n",
      "Object IDs: [1]\n",
      "Predicted bbox: [0, 0, 0, 0]\n",
      "Warning: Empty prediction - skipping\n",
      "\n",
      "Processing image 25/49: hc_potroastsoup_000026.jpg\n",
      "Ground truth bbox: [134, 106, 157, 162]\n"
     ]
    },
    {
     "name": "stderr",
     "output_type": "stream",
     "text": [
      "frame loading (JPEG): 100%|██████████| 2/2 [00:00<00:00, 16.63it/s]\n",
      "propagate in video:   0%|          | 0/2 [00:00<?, ?it/s]"
     ]
    },
    {
     "name": "stdout",
     "output_type": "stream",
     "text": [
      "\n",
      "Debug: Frame 0 has 1 objects\n",
      "Object IDs: [1]\n"
     ]
    },
    {
     "name": "stderr",
     "output_type": "stream",
     "text": [
      "propagate in video: 100%|██████████| 2/2 [00:04<00:00,  2.50s/it]\n"
     ]
    },
    {
     "name": "stdout",
     "output_type": "stream",
     "text": [
      "\n",
      "Debug: Frame 1 has 1 objects\n",
      "Object IDs: [1]\n",
      "Predicted bbox: [133, 115, 154, 154]\n",
      "\n",
      "Processing image 26/49: hc_potroastsoup_000027.jpg\n",
      "Ground truth bbox: [209, 74, 105, 117]\n"
     ]
    },
    {
     "name": "stderr",
     "output_type": "stream",
     "text": [
      "frame loading (JPEG): 100%|██████████| 2/2 [00:00<00:00, 15.43it/s]\n",
      "propagate in video:   0%|          | 0/2 [00:00<?, ?it/s]"
     ]
    },
    {
     "name": "stdout",
     "output_type": "stream",
     "text": [
      "\n",
      "Debug: Frame 0 has 1 objects\n",
      "Object IDs: [1]\n"
     ]
    },
    {
     "name": "stderr",
     "output_type": "stream",
     "text": [
      "propagate in video: 100%|██████████| 2/2 [00:04<00:00,  2.49s/it]\n"
     ]
    },
    {
     "name": "stdout",
     "output_type": "stream",
     "text": [
      "\n",
      "Debug: Frame 1 has 1 objects\n",
      "Object IDs: [1]\n",
      "Predicted bbox: [209, 79, 104, 116]\n",
      "\n",
      "Processing image 27/49: hc_potroastsoup_000028.jpg\n",
      "Ground truth bbox: [304, 130, 121, 124]\n"
     ]
    },
    {
     "name": "stderr",
     "output_type": "stream",
     "text": [
      "frame loading (JPEG): 100%|██████████| 2/2 [00:00<00:00, 16.03it/s]\n",
      "propagate in video:   0%|          | 0/2 [00:00<?, ?it/s]"
     ]
    },
    {
     "name": "stdout",
     "output_type": "stream",
     "text": [
      "\n",
      "Debug: Frame 0 has 1 objects\n",
      "Object IDs: [1]\n"
     ]
    },
    {
     "name": "stderr",
     "output_type": "stream",
     "text": [
      "propagate in video: 100%|██████████| 2/2 [00:04<00:00,  2.47s/it]\n"
     ]
    },
    {
     "name": "stdout",
     "output_type": "stream",
     "text": [
      "\n",
      "Debug: Frame 1 has 1 objects\n",
      "Object IDs: [1]\n",
      "Predicted bbox: [306, 134, 124, 287]\n",
      "\n",
      "Processing image 28/49: hc_potroastsoup_000029.jpg\n",
      "Ground truth bbox: [151, 145, 94, 94]\n"
     ]
    },
    {
     "name": "stderr",
     "output_type": "stream",
     "text": [
      "frame loading (JPEG): 100%|██████████| 2/2 [00:00<00:00, 16.98it/s]\n",
      "propagate in video:   0%|          | 0/2 [00:00<?, ?it/s]"
     ]
    },
    {
     "name": "stdout",
     "output_type": "stream",
     "text": [
      "\n",
      "Debug: Frame 0 has 1 objects\n",
      "Object IDs: [1]\n"
     ]
    },
    {
     "name": "stderr",
     "output_type": "stream",
     "text": [
      "propagate in video: 100%|██████████| 2/2 [00:05<00:00,  2.52s/it]\n"
     ]
    },
    {
     "name": "stdout",
     "output_type": "stream",
     "text": [
      "\n",
      "Debug: Frame 1 has 1 objects\n",
      "Object IDs: [1]\n",
      "Predicted bbox: [319, 173, 188, 176]\n",
      "\n",
      "Processing image 29/49: hc_potroastsoup_000030.jpg\n",
      "Ground truth bbox: [228, 155, 95, 88]\n"
     ]
    },
    {
     "name": "stderr",
     "output_type": "stream",
     "text": [
      "frame loading (JPEG): 100%|██████████| 2/2 [00:00<00:00, 14.13it/s]\n",
      "propagate in video:   0%|          | 0/2 [00:00<?, ?it/s]"
     ]
    },
    {
     "name": "stdout",
     "output_type": "stream",
     "text": [
      "\n",
      "Debug: Frame 0 has 1 objects\n",
      "Object IDs: [1]\n"
     ]
    },
    {
     "name": "stderr",
     "output_type": "stream",
     "text": [
      "propagate in video: 100%|██████████| 2/2 [00:04<00:00,  2.48s/it]\n"
     ]
    },
    {
     "name": "stdout",
     "output_type": "stream",
     "text": [
      "\n",
      "Debug: Frame 1 has 1 objects\n",
      "Object IDs: [1]\n",
      "Predicted bbox: [226, 158, 225, 139]\n",
      "\n",
      "Processing image 30/49: hc_potroastsoup_000031.jpg\n",
      "Ground truth bbox: [315, 23, 81, 77]\n"
     ]
    },
    {
     "name": "stderr",
     "output_type": "stream",
     "text": [
      "frame loading (JPEG): 100%|██████████| 2/2 [00:00<00:00, 16.74it/s]\n",
      "propagate in video:   0%|          | 0/2 [00:00<?, ?it/s]"
     ]
    },
    {
     "name": "stdout",
     "output_type": "stream",
     "text": [
      "\n",
      "Debug: Frame 0 has 1 objects\n",
      "Object IDs: [1]\n"
     ]
    },
    {
     "name": "stderr",
     "output_type": "stream",
     "text": [
      "propagate in video: 100%|██████████| 2/2 [00:04<00:00,  2.43s/it]\n"
     ]
    },
    {
     "name": "stdout",
     "output_type": "stream",
     "text": [
      "\n",
      "Debug: Frame 1 has 1 objects\n",
      "Object IDs: [1]\n",
      "Predicted bbox: [158, 383, 76, 81]\n",
      "\n",
      "Processing image 31/49: hc_potroastsoup_000032.jpg\n",
      "Ground truth bbox: [144, 210, 88, 86]\n"
     ]
    },
    {
     "name": "stderr",
     "output_type": "stream",
     "text": [
      "frame loading (JPEG): 100%|██████████| 2/2 [00:00<00:00, 12.32it/s]\n",
      "propagate in video:   0%|          | 0/2 [00:00<?, ?it/s]"
     ]
    },
    {
     "name": "stdout",
     "output_type": "stream",
     "text": [
      "\n",
      "Debug: Frame 0 has 1 objects\n",
      "Object IDs: [1]\n"
     ]
    },
    {
     "name": "stderr",
     "output_type": "stream",
     "text": [
      "propagate in video: 100%|██████████| 2/2 [00:05<00:00,  2.51s/it]\n"
     ]
    },
    {
     "name": "stdout",
     "output_type": "stream",
     "text": [
      "\n",
      "Debug: Frame 1 has 1 objects\n",
      "Object IDs: [1]\n",
      "Predicted bbox: [0, 0, 0, 0]\n",
      "Warning: Empty prediction - skipping\n",
      "\n",
      "Processing image 32/49: hc_potroastsoup_000033.jpg\n",
      "Ground truth bbox: [215, 17, 111, 101]\n"
     ]
    },
    {
     "name": "stderr",
     "output_type": "stream",
     "text": [
      "frame loading (JPEG): 100%|██████████| 2/2 [00:00<00:00, 18.61it/s]\n",
      "propagate in video:   0%|          | 0/2 [00:00<?, ?it/s]"
     ]
    },
    {
     "name": "stdout",
     "output_type": "stream",
     "text": [
      "\n",
      "Debug: Frame 0 has 1 objects\n",
      "Object IDs: [1]\n"
     ]
    },
    {
     "name": "stderr",
     "output_type": "stream",
     "text": [
      "propagate in video: 100%|██████████| 2/2 [00:05<00:00,  2.53s/it]\n"
     ]
    },
    {
     "name": "stdout",
     "output_type": "stream",
     "text": [
      "\n",
      "Debug: Frame 1 has 1 objects\n",
      "Object IDs: [1]\n",
      "Predicted bbox: [209, 287, 102, 98]\n",
      "\n",
      "Processing image 33/49: hc_potroastsoup_000034.jpg\n",
      "Ground truth bbox: [175, 153, 93, 92]\n"
     ]
    },
    {
     "name": "stderr",
     "output_type": "stream",
     "text": [
      "frame loading (JPEG): 100%|██████████| 2/2 [00:00<00:00, 16.00it/s]\n",
      "propagate in video:   0%|          | 0/2 [00:00<?, ?it/s]"
     ]
    },
    {
     "name": "stdout",
     "output_type": "stream",
     "text": [
      "\n",
      "Debug: Frame 0 has 1 objects\n",
      "Object IDs: [1]\n"
     ]
    },
    {
     "name": "stderr",
     "output_type": "stream",
     "text": [
      "propagate in video: 100%|██████████| 2/2 [00:04<00:00,  2.49s/it]\n"
     ]
    },
    {
     "name": "stdout",
     "output_type": "stream",
     "text": [
      "\n",
      "Debug: Frame 1 has 1 objects\n",
      "Object IDs: [1]\n",
      "Predicted bbox: [0, 0, 0, 0]\n",
      "Warning: Empty prediction - skipping\n",
      "\n",
      "Processing image 34/49: hc_potroastsoup_000035.jpg\n",
      "Ground truth bbox: [111, 135, 159, 157]\n"
     ]
    },
    {
     "name": "stderr",
     "output_type": "stream",
     "text": [
      "frame loading (JPEG): 100%|██████████| 2/2 [00:00<00:00, 14.64it/s]\n",
      "propagate in video:   0%|          | 0/2 [00:00<?, ?it/s]"
     ]
    },
    {
     "name": "stdout",
     "output_type": "stream",
     "text": [
      "\n",
      "Debug: Frame 0 has 1 objects\n",
      "Object IDs: [1]\n"
     ]
    },
    {
     "name": "stderr",
     "output_type": "stream",
     "text": [
      "propagate in video: 100%|██████████| 2/2 [00:04<00:00,  2.44s/it]\n"
     ]
    },
    {
     "name": "stdout",
     "output_type": "stream",
     "text": [
      "\n",
      "Debug: Frame 1 has 1 objects\n",
      "Object IDs: [1]\n",
      "Predicted bbox: [239, 101, 121, 122]\n",
      "\n",
      "Processing image 35/49: hc_potroastsoup_000036.jpg\n",
      "Ground truth bbox: [265, 165, 95, 95]\n"
     ]
    },
    {
     "name": "stderr",
     "output_type": "stream",
     "text": [
      "frame loading (JPEG): 100%|██████████| 2/2 [00:00<00:00, 15.74it/s]\n",
      "propagate in video:   0%|          | 0/2 [00:00<?, ?it/s]"
     ]
    },
    {
     "name": "stdout",
     "output_type": "stream",
     "text": [
      "\n",
      "Debug: Frame 0 has 1 objects\n",
      "Object IDs: [1]\n"
     ]
    },
    {
     "name": "stderr",
     "output_type": "stream",
     "text": [
      "propagate in video: 100%|██████████| 2/2 [00:05<00:00,  2.51s/it]\n"
     ]
    },
    {
     "name": "stdout",
     "output_type": "stream",
     "text": [
      "\n",
      "Debug: Frame 1 has 1 objects\n",
      "Object IDs: [1]\n",
      "Predicted bbox: [0, 0, 0, 0]\n",
      "Warning: Empty prediction - skipping\n",
      "\n",
      "Processing image 36/49: hc_potroastsoup_000037.jpg\n",
      "Ground truth bbox: [248, 211, 122, 124]\n"
     ]
    },
    {
     "name": "stderr",
     "output_type": "stream",
     "text": [
      "frame loading (JPEG): 100%|██████████| 2/2 [00:00<00:00, 17.04it/s]\n",
      "propagate in video:   0%|          | 0/2 [00:00<?, ?it/s]"
     ]
    },
    {
     "name": "stdout",
     "output_type": "stream",
     "text": [
      "\n",
      "Debug: Frame 0 has 1 objects\n",
      "Object IDs: [1]\n"
     ]
    },
    {
     "name": "stderr",
     "output_type": "stream",
     "text": [
      "propagate in video: 100%|██████████| 2/2 [00:04<00:00,  2.48s/it]\n"
     ]
    },
    {
     "name": "stdout",
     "output_type": "stream",
     "text": [
      "\n",
      "Debug: Frame 1 has 1 objects\n",
      "Object IDs: [1]\n",
      "Predicted bbox: [0, 0, 0, 0]\n",
      "Warning: Empty prediction - skipping\n",
      "\n",
      "Processing image 37/49: hc_potroastsoup_000038.jpg\n",
      "Ground truth bbox: [272, 192, 123, 122]\n"
     ]
    },
    {
     "name": "stderr",
     "output_type": "stream",
     "text": [
      "frame loading (JPEG): 100%|██████████| 2/2 [00:00<00:00, 16.10it/s]\n",
      "propagate in video:   0%|          | 0/2 [00:00<?, ?it/s]"
     ]
    },
    {
     "name": "stdout",
     "output_type": "stream",
     "text": [
      "\n",
      "Debug: Frame 0 has 1 objects\n",
      "Object IDs: [1]\n"
     ]
    },
    {
     "name": "stderr",
     "output_type": "stream",
     "text": [
      "propagate in video: 100%|██████████| 2/2 [00:04<00:00,  2.48s/it]\n"
     ]
    },
    {
     "name": "stdout",
     "output_type": "stream",
     "text": [
      "\n",
      "Debug: Frame 1 has 1 objects\n",
      "Object IDs: [1]\n",
      "Predicted bbox: [281, 234, 116, 81]\n",
      "\n",
      "Processing image 38/49: hc_potroastsoup_000039.jpg\n",
      "Ground truth bbox: [113, 123, 118, 103]\n"
     ]
    },
    {
     "name": "stderr",
     "output_type": "stream",
     "text": [
      "frame loading (JPEG): 100%|██████████| 2/2 [00:00<00:00, 17.08it/s]\n",
      "propagate in video:   0%|          | 0/2 [00:00<?, ?it/s]"
     ]
    },
    {
     "name": "stdout",
     "output_type": "stream",
     "text": [
      "\n",
      "Debug: Frame 0 has 1 objects\n",
      "Object IDs: [1]\n"
     ]
    },
    {
     "name": "stderr",
     "output_type": "stream",
     "text": [
      "propagate in video: 100%|██████████| 2/2 [00:04<00:00,  2.49s/it]\n"
     ]
    },
    {
     "name": "stdout",
     "output_type": "stream",
     "text": [
      "\n",
      "Debug: Frame 1 has 1 objects\n",
      "Object IDs: [1]\n",
      "Predicted bbox: [0, 0, 0, 0]\n",
      "Warning: Empty prediction - skipping\n",
      "\n",
      "Processing image 39/49: hc_potroastsoup_000040.jpg\n",
      "Ground truth bbox: [198, 175, 90, 70]\n"
     ]
    },
    {
     "name": "stderr",
     "output_type": "stream",
     "text": [
      "frame loading (JPEG): 100%|██████████| 2/2 [00:00<00:00, 16.88it/s]\n",
      "propagate in video:   0%|          | 0/2 [00:00<?, ?it/s]"
     ]
    },
    {
     "name": "stdout",
     "output_type": "stream",
     "text": [
      "\n",
      "Debug: Frame 0 has 1 objects\n",
      "Object IDs: [1]\n"
     ]
    },
    {
     "name": "stderr",
     "output_type": "stream",
     "text": [
      "propagate in video: 100%|██████████| 2/2 [00:04<00:00,  2.43s/it]\n"
     ]
    },
    {
     "name": "stdout",
     "output_type": "stream",
     "text": [
      "\n",
      "Debug: Frame 1 has 1 objects\n",
      "Object IDs: [1]\n",
      "Predicted bbox: [0, 0, 0, 0]\n",
      "Warning: Empty prediction - skipping\n",
      "\n",
      "Processing image 40/49: hc_potroastsoup_000041.jpg\n",
      "Ground truth bbox: [262, 153, 140, 143]\n"
     ]
    },
    {
     "name": "stderr",
     "output_type": "stream",
     "text": [
      "frame loading (JPEG): 100%|██████████| 2/2 [00:00<00:00, 15.34it/s]\n",
      "propagate in video:   0%|          | 0/2 [00:00<?, ?it/s]"
     ]
    },
    {
     "name": "stdout",
     "output_type": "stream",
     "text": [
      "\n",
      "Debug: Frame 0 has 1 objects\n",
      "Object IDs: [1]\n"
     ]
    },
    {
     "name": "stderr",
     "output_type": "stream",
     "text": [
      "propagate in video: 100%|██████████| 2/2 [00:05<00:00,  2.52s/it]\n"
     ]
    },
    {
     "name": "stdout",
     "output_type": "stream",
     "text": [
      "\n",
      "Debug: Frame 1 has 1 objects\n",
      "Object IDs: [1]\n",
      "Predicted bbox: [263, 154, 144, 143]\n",
      "\n",
      "Processing image 41/49: hc_potroastsoup_000042.jpg\n",
      "Ground truth bbox: [257, 263, 118, 129]\n"
     ]
    },
    {
     "name": "stderr",
     "output_type": "stream",
     "text": [
      "frame loading (JPEG): 100%|██████████| 2/2 [00:00<00:00, 15.91it/s]\n",
      "propagate in video:   0%|          | 0/2 [00:00<?, ?it/s]"
     ]
    },
    {
     "name": "stdout",
     "output_type": "stream",
     "text": [
      "\n",
      "Debug: Frame 0 has 1 objects\n",
      "Object IDs: [1]\n"
     ]
    },
    {
     "name": "stderr",
     "output_type": "stream",
     "text": [
      "propagate in video: 100%|██████████| 2/2 [00:04<00:00,  2.50s/it]\n"
     ]
    },
    {
     "name": "stdout",
     "output_type": "stream",
     "text": [
      "\n",
      "Debug: Frame 1 has 1 objects\n",
      "Object IDs: [1]\n",
      "Predicted bbox: [0, 0, 0, 0]\n",
      "Warning: Empty prediction - skipping\n",
      "\n",
      "Processing image 42/49: hc_potroastsoup_000043.jpg\n",
      "Ground truth bbox: [250, 212, 119, 119]\n"
     ]
    },
    {
     "name": "stderr",
     "output_type": "stream",
     "text": [
      "frame loading (JPEG): 100%|██████████| 2/2 [00:00<00:00, 14.85it/s]\n",
      "propagate in video:   0%|          | 0/2 [00:00<?, ?it/s]"
     ]
    },
    {
     "name": "stdout",
     "output_type": "stream",
     "text": [
      "\n",
      "Debug: Frame 0 has 1 objects\n",
      "Object IDs: [1]\n"
     ]
    },
    {
     "name": "stderr",
     "output_type": "stream",
     "text": [
      "propagate in video: 100%|██████████| 2/2 [00:04<00:00,  2.45s/it]\n"
     ]
    },
    {
     "name": "stdout",
     "output_type": "stream",
     "text": [
      "\n",
      "Debug: Frame 1 has 1 objects\n",
      "Object IDs: [1]\n",
      "Predicted bbox: [250, 220, 111, 112]\n",
      "\n",
      "Processing image 43/49: hc_potroastsoup_000044.jpg\n",
      "Ground truth bbox: [262, 179, 101, 105]\n"
     ]
    },
    {
     "name": "stderr",
     "output_type": "stream",
     "text": [
      "frame loading (JPEG): 100%|██████████| 2/2 [00:00<00:00, 16.73it/s]\n",
      "propagate in video:   0%|          | 0/2 [00:00<?, ?it/s]"
     ]
    },
    {
     "name": "stdout",
     "output_type": "stream",
     "text": [
      "\n",
      "Debug: Frame 0 has 1 objects\n",
      "Object IDs: [1]\n"
     ]
    },
    {
     "name": "stderr",
     "output_type": "stream",
     "text": [
      "propagate in video: 100%|██████████| 2/2 [00:04<00:00,  2.49s/it]\n"
     ]
    },
    {
     "name": "stdout",
     "output_type": "stream",
     "text": [
      "\n",
      "Debug: Frame 1 has 1 objects\n",
      "Object IDs: [1]\n",
      "Predicted bbox: [263, 172, 208, 112]\n",
      "\n",
      "Processing image 44/49: hc_potroastsoup_000045.jpg\n",
      "Ground truth bbox: [240, 28, 104, 86]\n"
     ]
    },
    {
     "name": "stderr",
     "output_type": "stream",
     "text": [
      "frame loading (JPEG): 100%|██████████| 2/2 [00:00<00:00, 16.12it/s]\n",
      "propagate in video:   0%|          | 0/2 [00:00<?, ?it/s]"
     ]
    },
    {
     "name": "stdout",
     "output_type": "stream",
     "text": [
      "\n",
      "Debug: Frame 0 has 1 objects\n",
      "Object IDs: [1]\n"
     ]
    },
    {
     "name": "stderr",
     "output_type": "stream",
     "text": [
      "propagate in video: 100%|██████████| 2/2 [00:04<00:00,  2.45s/it]\n"
     ]
    },
    {
     "name": "stdout",
     "output_type": "stream",
     "text": [
      "\n",
      "Debug: Frame 1 has 1 objects\n",
      "Object IDs: [1]\n",
      "Predicted bbox: [238, 28, 104, 90]\n",
      "\n",
      "Processing image 45/49: hc_potroastsoup_000046.jpg\n",
      "Ground truth bbox: [128, 205, 82, 90]\n"
     ]
    },
    {
     "name": "stderr",
     "output_type": "stream",
     "text": [
      "frame loading (JPEG): 100%|██████████| 2/2 [00:00<00:00, 15.14it/s]\n",
      "propagate in video:   0%|          | 0/2 [00:00<?, ?it/s]"
     ]
    },
    {
     "name": "stdout",
     "output_type": "stream",
     "text": [
      "\n",
      "Debug: Frame 0 has 1 objects\n",
      "Object IDs: [1]\n"
     ]
    },
    {
     "name": "stderr",
     "output_type": "stream",
     "text": [
      "propagate in video: 100%|██████████| 2/2 [00:04<00:00,  2.43s/it]\n"
     ]
    },
    {
     "name": "stdout",
     "output_type": "stream",
     "text": [
      "\n",
      "Debug: Frame 1 has 1 objects\n",
      "Object IDs: [1]\n",
      "Predicted bbox: [404, 150, 198, 195]\n",
      "\n",
      "Processing image 46/49: hc_potroastsoup_000047.jpg\n",
      "Ground truth bbox: [190, 157, 102, 76]\n"
     ]
    },
    {
     "name": "stderr",
     "output_type": "stream",
     "text": [
      "frame loading (JPEG): 100%|██████████| 2/2 [00:00<00:00, 16.25it/s]\n",
      "propagate in video:   0%|          | 0/2 [00:00<?, ?it/s]"
     ]
    },
    {
     "name": "stdout",
     "output_type": "stream",
     "text": [
      "\n",
      "Debug: Frame 0 has 1 objects\n",
      "Object IDs: [1]\n"
     ]
    },
    {
     "name": "stderr",
     "output_type": "stream",
     "text": [
      "propagate in video: 100%|██████████| 2/2 [00:05<00:00,  2.50s/it]\n"
     ]
    },
    {
     "name": "stdout",
     "output_type": "stream",
     "text": [
      "\n",
      "Debug: Frame 1 has 1 objects\n",
      "Object IDs: [1]\n",
      "Predicted bbox: [199, 149, 193, 83]\n",
      "\n",
      "Processing image 47/49: hc_potroastsoup_000048.jpg\n",
      "Ground truth bbox: [168, 207, 115, 99]\n"
     ]
    },
    {
     "name": "stderr",
     "output_type": "stream",
     "text": [
      "frame loading (JPEG): 100%|██████████| 2/2 [00:00<00:00, 15.18it/s]\n",
      "propagate in video:   0%|          | 0/2 [00:00<?, ?it/s]"
     ]
    },
    {
     "name": "stdout",
     "output_type": "stream",
     "text": [
      "\n",
      "Debug: Frame 0 has 1 objects\n",
      "Object IDs: [1]\n"
     ]
    },
    {
     "name": "stderr",
     "output_type": "stream",
     "text": [
      "propagate in video: 100%|██████████| 2/2 [00:04<00:00,  2.48s/it]\n"
     ]
    },
    {
     "name": "stdout",
     "output_type": "stream",
     "text": [
      "\n",
      "Debug: Frame 1 has 1 objects\n",
      "Object IDs: [1]\n",
      "Predicted bbox: [297, 222, 181, 120]\n",
      "\n",
      "Processing image 48/49: hc_potroastsoup_000049.jpg\n",
      "Ground truth bbox: [145, 196, 130, 130]\n"
     ]
    },
    {
     "name": "stderr",
     "output_type": "stream",
     "text": [
      "frame loading (JPEG): 100%|██████████| 2/2 [00:00<00:00, 12.66it/s]\n",
      "propagate in video:   0%|          | 0/2 [00:00<?, ?it/s]"
     ]
    },
    {
     "name": "stdout",
     "output_type": "stream",
     "text": [
      "\n",
      "Debug: Frame 0 has 1 objects\n",
      "Object IDs: [1]\n"
     ]
    },
    {
     "name": "stderr",
     "output_type": "stream",
     "text": [
      "propagate in video: 100%|██████████| 2/2 [00:05<00:00,  2.50s/it]\n"
     ]
    },
    {
     "name": "stdout",
     "output_type": "stream",
     "text": [
      "\n",
      "Debug: Frame 1 has 1 objects\n",
      "Object IDs: [1]\n",
      "Predicted bbox: [155, 128, 225, 195]\n",
      "\n",
      "Processing image 49/49: hc_potroastsoup_000050.jpg\n",
      "Ground truth bbox: [213, 233, 152, 163]\n"
     ]
    },
    {
     "name": "stderr",
     "output_type": "stream",
     "text": [
      "frame loading (JPEG): 100%|██████████| 2/2 [00:00<00:00, 15.25it/s]\n",
      "propagate in video:   0%|          | 0/2 [00:00<?, ?it/s]"
     ]
    },
    {
     "name": "stdout",
     "output_type": "stream",
     "text": [
      "\n",
      "Debug: Frame 0 has 1 objects\n",
      "Object IDs: [1]\n"
     ]
    },
    {
     "name": "stderr",
     "output_type": "stream",
     "text": [
      "propagate in video: 100%|██████████| 2/2 [00:05<00:00,  2.57s/it]\n"
     ]
    },
    {
     "name": "stdout",
     "output_type": "stream",
     "text": [
      "\n",
      "Debug: Frame 1 has 1 objects\n",
      "Object IDs: [1]\n",
      "Predicted bbox: [352, 145, 65, 113]\n",
      "creating index...\n",
      "index created!\n",
      "Error in COCO evaluation: 'info'\n",
      "\n",
      "Evaluating juicebox...\n",
      "Using reference image: juicebox_000001.jpg\n",
      "Using reference mask: juicebox_000001_1_gt.png\n",
      "Reference bounding box: x=[267,333], y=[224,332]\n",
      "\n",
      "Processing image 1/49: juicebox_000002.jpg\n",
      "Ground truth bbox: [317, 225, 61, 100]\n"
     ]
    },
    {
     "name": "stderr",
     "output_type": "stream",
     "text": [
      "frame loading (JPEG): 100%|██████████| 2/2 [00:00<00:00, 17.03it/s]\n",
      "propagate in video:   0%|          | 0/2 [00:00<?, ?it/s]"
     ]
    },
    {
     "name": "stdout",
     "output_type": "stream",
     "text": [
      "\n",
      "Debug: Frame 0 has 1 objects\n",
      "Object IDs: [1]\n"
     ]
    },
    {
     "name": "stderr",
     "output_type": "stream",
     "text": [
      "propagate in video: 100%|██████████| 2/2 [00:04<00:00,  2.49s/it]\n"
     ]
    },
    {
     "name": "stdout",
     "output_type": "stream",
     "text": [
      "\n",
      "Debug: Frame 1 has 1 objects\n",
      "Object IDs: [1]\n",
      "Predicted bbox: [322, 231, 51, 86]\n",
      "\n",
      "Processing image 2/49: juicebox_000003.jpg\n",
      "Ground truth bbox: [282, 161, 133, 85]\n"
     ]
    },
    {
     "name": "stderr",
     "output_type": "stream",
     "text": [
      "frame loading (JPEG): 100%|██████████| 2/2 [00:00<00:00, 16.43it/s]\n",
      "propagate in video:   0%|          | 0/2 [00:00<?, ?it/s]"
     ]
    },
    {
     "name": "stdout",
     "output_type": "stream",
     "text": [
      "\n",
      "Debug: Frame 0 has 1 objects\n",
      "Object IDs: [1]\n"
     ]
    },
    {
     "name": "stderr",
     "output_type": "stream",
     "text": [
      "propagate in video: 100%|██████████| 2/2 [00:04<00:00,  2.43s/it]\n"
     ]
    },
    {
     "name": "stdout",
     "output_type": "stream",
     "text": [
      "\n",
      "Debug: Frame 1 has 1 objects\n",
      "Object IDs: [1]\n",
      "Predicted bbox: [306, 345, 56, 77]\n",
      "\n",
      "Processing image 3/49: juicebox_000004.jpg\n",
      "Ground truth bbox: [215, 103, 64, 118]\n"
     ]
    },
    {
     "name": "stderr",
     "output_type": "stream",
     "text": [
      "frame loading (JPEG): 100%|██████████| 2/2 [00:00<00:00, 14.72it/s]\n",
      "propagate in video:   0%|          | 0/2 [00:00<?, ?it/s]"
     ]
    },
    {
     "name": "stdout",
     "output_type": "stream",
     "text": [
      "\n",
      "Debug: Frame 0 has 1 objects\n",
      "Object IDs: [1]\n"
     ]
    },
    {
     "name": "stderr",
     "output_type": "stream",
     "text": [
      "propagate in video: 100%|██████████| 2/2 [00:04<00:00,  2.49s/it]\n"
     ]
    },
    {
     "name": "stdout",
     "output_type": "stream",
     "text": [
      "\n",
      "Debug: Frame 1 has 1 objects\n",
      "Object IDs: [1]\n",
      "Predicted bbox: [0, 0, 0, 0]\n",
      "Warning: Empty prediction - skipping\n",
      "\n",
      "Processing image 4/49: juicebox_000005.jpg\n",
      "Ground truth bbox: [199, 110, 126, 71]\n"
     ]
    },
    {
     "name": "stderr",
     "output_type": "stream",
     "text": [
      "frame loading (JPEG): 100%|██████████| 2/2 [00:00<00:00, 15.59it/s]\n",
      "propagate in video:   0%|          | 0/2 [00:00<?, ?it/s]"
     ]
    },
    {
     "name": "stdout",
     "output_type": "stream",
     "text": [
      "\n",
      "Debug: Frame 0 has 1 objects\n",
      "Object IDs: [1]\n"
     ]
    },
    {
     "name": "stderr",
     "output_type": "stream",
     "text": [
      "propagate in video: 100%|██████████| 2/2 [00:04<00:00,  2.47s/it]\n"
     ]
    },
    {
     "name": "stdout",
     "output_type": "stream",
     "text": [
      "\n",
      "Debug: Frame 1 has 1 objects\n",
      "Object IDs: [1]\n",
      "Predicted bbox: [0, 0, 0, 0]\n",
      "Warning: Empty prediction - skipping\n",
      "\n",
      "Processing image 5/49: juicebox_000006.jpg\n",
      "Ground truth bbox: [243, 186, 67, 118]\n"
     ]
    },
    {
     "name": "stderr",
     "output_type": "stream",
     "text": [
      "frame loading (JPEG): 100%|██████████| 2/2 [00:00<00:00, 14.60it/s]\n",
      "propagate in video:   0%|          | 0/2 [00:00<?, ?it/s]"
     ]
    },
    {
     "name": "stdout",
     "output_type": "stream",
     "text": [
      "\n",
      "Debug: Frame 0 has 1 objects\n",
      "Object IDs: [1]\n"
     ]
    },
    {
     "name": "stderr",
     "output_type": "stream",
     "text": [
      "propagate in video: 100%|██████████| 2/2 [00:04<00:00,  2.48s/it]\n"
     ]
    },
    {
     "name": "stdout",
     "output_type": "stream",
     "text": [
      "\n",
      "Debug: Frame 1 has 1 objects\n",
      "Object IDs: [1]\n",
      "Predicted bbox: [0, 0, 0, 0]\n",
      "Warning: Empty prediction - skipping\n",
      "\n",
      "Processing image 6/49: juicebox_000007.jpg\n",
      "Ground truth bbox: [190, 227, 74, 116]\n"
     ]
    },
    {
     "name": "stderr",
     "output_type": "stream",
     "text": [
      "frame loading (JPEG): 100%|██████████| 2/2 [00:00<00:00, 16.35it/s]\n",
      "propagate in video:   0%|          | 0/2 [00:00<?, ?it/s]"
     ]
    },
    {
     "name": "stdout",
     "output_type": "stream",
     "text": [
      "\n",
      "Debug: Frame 0 has 1 objects\n",
      "Object IDs: [1]\n"
     ]
    },
    {
     "name": "stderr",
     "output_type": "stream",
     "text": [
      "propagate in video: 100%|██████████| 2/2 [00:05<00:00,  2.51s/it]\n"
     ]
    },
    {
     "name": "stdout",
     "output_type": "stream",
     "text": [
      "\n",
      "Debug: Frame 1 has 1 objects\n",
      "Object IDs: [1]\n",
      "Predicted bbox: [0, 0, 0, 0]\n",
      "Warning: Empty prediction - skipping\n",
      "\n",
      "Processing image 7/49: juicebox_000008.jpg\n",
      "Ground truth bbox: [199, 149, 135, 86]\n"
     ]
    },
    {
     "name": "stderr",
     "output_type": "stream",
     "text": [
      "frame loading (JPEG): 100%|██████████| 2/2 [00:00<00:00, 15.45it/s]\n",
      "propagate in video:   0%|          | 0/2 [00:00<?, ?it/s]"
     ]
    },
    {
     "name": "stdout",
     "output_type": "stream",
     "text": [
      "\n",
      "Debug: Frame 0 has 1 objects\n",
      "Object IDs: [1]\n"
     ]
    },
    {
     "name": "stderr",
     "output_type": "stream",
     "text": [
      "propagate in video: 100%|██████████| 2/2 [00:05<00:00,  2.59s/it]\n"
     ]
    },
    {
     "name": "stdout",
     "output_type": "stream",
     "text": [
      "\n",
      "Debug: Frame 1 has 1 objects\n",
      "Object IDs: [1]\n",
      "Predicted bbox: [0, 0, 0, 0]\n",
      "Warning: Empty prediction - skipping\n",
      "\n",
      "Processing image 8/49: juicebox_000009.jpg\n",
      "Ground truth bbox: [177, 99, 65, 116]\n"
     ]
    },
    {
     "name": "stderr",
     "output_type": "stream",
     "text": [
      "frame loading (JPEG): 100%|██████████| 2/2 [00:00<00:00, 14.52it/s]\n",
      "propagate in video:   0%|          | 0/2 [00:00<?, ?it/s]"
     ]
    },
    {
     "name": "stdout",
     "output_type": "stream",
     "text": [
      "\n",
      "Debug: Frame 0 has 1 objects\n",
      "Object IDs: [1]\n"
     ]
    },
    {
     "name": "stderr",
     "output_type": "stream",
     "text": [
      "propagate in video: 100%|██████████| 2/2 [00:04<00:00,  2.46s/it]\n"
     ]
    },
    {
     "name": "stdout",
     "output_type": "stream",
     "text": [
      "\n",
      "Debug: Frame 1 has 1 objects\n",
      "Object IDs: [1]\n",
      "Predicted bbox: [0, 0, 0, 0]\n",
      "Warning: Empty prediction - skipping\n",
      "\n",
      "Processing image 9/49: juicebox_000010.jpg\n",
      "Ground truth bbox: [440, 268, 65, 116]\n"
     ]
    },
    {
     "name": "stderr",
     "output_type": "stream",
     "text": [
      "frame loading (JPEG): 100%|██████████| 2/2 [00:00<00:00, 13.91it/s]\n",
      "propagate in video:   0%|          | 0/2 [00:00<?, ?it/s]"
     ]
    },
    {
     "name": "stdout",
     "output_type": "stream",
     "text": [
      "\n",
      "Debug: Frame 0 has 1 objects\n",
      "Object IDs: [1]\n"
     ]
    },
    {
     "name": "stderr",
     "output_type": "stream",
     "text": [
      "propagate in video: 100%|██████████| 2/2 [00:04<00:00,  2.48s/it]\n"
     ]
    },
    {
     "name": "stdout",
     "output_type": "stream",
     "text": [
      "\n",
      "Debug: Frame 1 has 1 objects\n",
      "Object IDs: [1]\n",
      "Predicted bbox: [0, 0, 0, 0]\n",
      "Warning: Empty prediction - skipping\n",
      "\n",
      "Processing image 10/49: juicebox_000011.jpg\n",
      "Ground truth bbox: [482, 7, 80, 128]\n"
     ]
    },
    {
     "name": "stderr",
     "output_type": "stream",
     "text": [
      "frame loading (JPEG): 100%|██████████| 2/2 [00:00<00:00, 14.97it/s]\n",
      "propagate in video:   0%|          | 0/2 [00:00<?, ?it/s]"
     ]
    },
    {
     "name": "stdout",
     "output_type": "stream",
     "text": [
      "\n",
      "Debug: Frame 0 has 1 objects\n",
      "Object IDs: [1]\n"
     ]
    },
    {
     "name": "stderr",
     "output_type": "stream",
     "text": [
      "propagate in video: 100%|██████████| 2/2 [00:04<00:00,  2.48s/it]\n"
     ]
    },
    {
     "name": "stdout",
     "output_type": "stream",
     "text": [
      "\n",
      "Debug: Frame 1 has 1 objects\n",
      "Object IDs: [1]\n",
      "Predicted bbox: [0, 0, 0, 0]\n",
      "Warning: Empty prediction - skipping\n",
      "\n",
      "Processing image 11/49: juicebox_000012.jpg\n",
      "Ground truth bbox: [125, 186, 111, 87]\n"
     ]
    },
    {
     "name": "stderr",
     "output_type": "stream",
     "text": [
      "frame loading (JPEG): 100%|██████████| 2/2 [00:00<00:00, 16.57it/s]\n",
      "propagate in video:   0%|          | 0/2 [00:00<?, ?it/s]"
     ]
    },
    {
     "name": "stdout",
     "output_type": "stream",
     "text": [
      "\n",
      "Debug: Frame 0 has 1 objects\n",
      "Object IDs: [1]\n"
     ]
    },
    {
     "name": "stderr",
     "output_type": "stream",
     "text": [
      "propagate in video: 100%|██████████| 2/2 [00:04<00:00,  2.46s/it]\n"
     ]
    },
    {
     "name": "stdout",
     "output_type": "stream",
     "text": [
      "\n",
      "Debug: Frame 1 has 1 objects\n",
      "Object IDs: [1]\n",
      "Predicted bbox: [0, 0, 0, 0]\n",
      "Warning: Empty prediction - skipping\n",
      "\n",
      "Processing image 12/49: juicebox_000013.jpg\n",
      "Ground truth bbox: [342, 214, 76, 130]\n"
     ]
    },
    {
     "name": "stderr",
     "output_type": "stream",
     "text": [
      "frame loading (JPEG): 100%|██████████| 2/2 [00:00<00:00, 17.36it/s]\n",
      "propagate in video:   0%|          | 0/2 [00:00<?, ?it/s]"
     ]
    },
    {
     "name": "stdout",
     "output_type": "stream",
     "text": [
      "\n",
      "Debug: Frame 0 has 1 objects\n",
      "Object IDs: [1]\n"
     ]
    },
    {
     "name": "stderr",
     "output_type": "stream",
     "text": [
      "propagate in video: 100%|██████████| 2/2 [00:04<00:00,  2.41s/it]\n"
     ]
    },
    {
     "name": "stdout",
     "output_type": "stream",
     "text": [
      "\n",
      "Debug: Frame 1 has 1 objects\n",
      "Object IDs: [1]\n",
      "Predicted bbox: [0, 0, 0, 0]\n",
      "Warning: Empty prediction - skipping\n",
      "\n",
      "Processing image 13/49: juicebox_000014.jpg\n",
      "Ground truth bbox: [196, 228, 129, 87]\n"
     ]
    },
    {
     "name": "stderr",
     "output_type": "stream",
     "text": [
      "frame loading (JPEG): 100%|██████████| 2/2 [00:00<00:00, 15.89it/s]\n",
      "propagate in video:   0%|          | 0/2 [00:00<?, ?it/s]"
     ]
    },
    {
     "name": "stdout",
     "output_type": "stream",
     "text": [
      "\n",
      "Debug: Frame 0 has 1 objects\n",
      "Object IDs: [1]\n"
     ]
    },
    {
     "name": "stderr",
     "output_type": "stream",
     "text": [
      "propagate in video: 100%|██████████| 2/2 [00:05<00:00,  2.58s/it]\n"
     ]
    },
    {
     "name": "stdout",
     "output_type": "stream",
     "text": [
      "\n",
      "Debug: Frame 1 has 1 objects\n",
      "Object IDs: [1]\n",
      "Predicted bbox: [0, 0, 0, 0]\n",
      "Warning: Empty prediction - skipping\n",
      "\n",
      "Processing image 14/49: juicebox_000015.jpg\n",
      "Ground truth bbox: [250, 109, 66, 112]\n"
     ]
    },
    {
     "name": "stderr",
     "output_type": "stream",
     "text": [
      "frame loading (JPEG): 100%|██████████| 2/2 [00:00<00:00, 17.37it/s]\n",
      "propagate in video:   0%|          | 0/2 [00:00<?, ?it/s]"
     ]
    },
    {
     "name": "stdout",
     "output_type": "stream",
     "text": [
      "\n",
      "Debug: Frame 0 has 1 objects\n",
      "Object IDs: [1]\n"
     ]
    },
    {
     "name": "stderr",
     "output_type": "stream",
     "text": [
      "propagate in video: 100%|██████████| 2/2 [00:05<00:00,  2.53s/it]\n"
     ]
    },
    {
     "name": "stdout",
     "output_type": "stream",
     "text": [
      "\n",
      "Debug: Frame 1 has 1 objects\n",
      "Object IDs: [1]\n",
      "Predicted bbox: [0, 0, 0, 0]\n",
      "Warning: Empty prediction - skipping\n",
      "\n",
      "Processing image 15/49: juicebox_000016.jpg\n",
      "Ground truth bbox: [283, 140, 78, 133]\n"
     ]
    },
    {
     "name": "stderr",
     "output_type": "stream",
     "text": [
      "frame loading (JPEG): 100%|██████████| 2/2 [00:00<00:00, 16.28it/s]\n",
      "propagate in video:   0%|          | 0/2 [00:00<?, ?it/s]"
     ]
    },
    {
     "name": "stdout",
     "output_type": "stream",
     "text": [
      "\n",
      "Debug: Frame 0 has 1 objects\n",
      "Object IDs: [1]\n"
     ]
    },
    {
     "name": "stderr",
     "output_type": "stream",
     "text": [
      "propagate in video: 100%|██████████| 2/2 [00:04<00:00,  2.49s/it]\n"
     ]
    },
    {
     "name": "stdout",
     "output_type": "stream",
     "text": [
      "\n",
      "Debug: Frame 1 has 1 objects\n",
      "Object IDs: [1]\n",
      "Predicted bbox: [0, 0, 0, 0]\n",
      "Warning: Empty prediction - skipping\n",
      "\n",
      "Processing image 16/49: juicebox_000017.jpg\n",
      "Ground truth bbox: [400, 136, 53, 122]\n"
     ]
    },
    {
     "name": "stderr",
     "output_type": "stream",
     "text": [
      "frame loading (JPEG): 100%|██████████| 2/2 [00:00<00:00, 12.69it/s]\n",
      "propagate in video:   0%|          | 0/2 [00:00<?, ?it/s]"
     ]
    },
    {
     "name": "stdout",
     "output_type": "stream",
     "text": [
      "\n",
      "Debug: Frame 0 has 1 objects\n",
      "Object IDs: [1]\n"
     ]
    },
    {
     "name": "stderr",
     "output_type": "stream",
     "text": [
      "propagate in video: 100%|██████████| 2/2 [00:04<00:00,  2.47s/it]\n"
     ]
    },
    {
     "name": "stdout",
     "output_type": "stream",
     "text": [
      "\n",
      "Debug: Frame 1 has 1 objects\n",
      "Object IDs: [1]\n",
      "Predicted bbox: [407, 144, 50, 98]\n",
      "\n",
      "Processing image 17/49: juicebox_000018.jpg\n",
      "Ground truth bbox: [355, 169, 72, 141]\n"
     ]
    },
    {
     "name": "stderr",
     "output_type": "stream",
     "text": [
      "frame loading (JPEG): 100%|██████████| 2/2 [00:00<00:00, 16.51it/s]\n",
      "propagate in video:   0%|          | 0/2 [00:00<?, ?it/s]"
     ]
    },
    {
     "name": "stdout",
     "output_type": "stream",
     "text": [
      "\n",
      "Debug: Frame 0 has 1 objects\n",
      "Object IDs: [1]\n"
     ]
    },
    {
     "name": "stderr",
     "output_type": "stream",
     "text": [
      "propagate in video: 100%|██████████| 2/2 [00:05<00:00,  2.54s/it]\n"
     ]
    },
    {
     "name": "stdout",
     "output_type": "stream",
     "text": [
      "\n",
      "Debug: Frame 1 has 1 objects\n",
      "Object IDs: [1]\n",
      "Predicted bbox: [0, 0, 0, 0]\n",
      "Warning: Empty prediction - skipping\n",
      "\n",
      "Processing image 18/49: juicebox_000019.jpg\n",
      "Ground truth bbox: [205, 153, 86, 156]\n"
     ]
    },
    {
     "name": "stderr",
     "output_type": "stream",
     "text": [
      "frame loading (JPEG): 100%|██████████| 2/2 [00:00<00:00, 14.95it/s]\n",
      "propagate in video:   0%|          | 0/2 [00:00<?, ?it/s]"
     ]
    },
    {
     "name": "stdout",
     "output_type": "stream",
     "text": [
      "\n",
      "Debug: Frame 0 has 1 objects\n",
      "Object IDs: [1]\n"
     ]
    },
    {
     "name": "stderr",
     "output_type": "stream",
     "text": [
      "propagate in video: 100%|██████████| 2/2 [00:05<00:00,  2.52s/it]\n"
     ]
    },
    {
     "name": "stdout",
     "output_type": "stream",
     "text": [
      "\n",
      "Debug: Frame 1 has 1 objects\n",
      "Object IDs: [1]\n",
      "Predicted bbox: [0, 0, 0, 0]\n",
      "Warning: Empty prediction - skipping\n",
      "\n",
      "Processing image 19/49: juicebox_000020.jpg\n",
      "Ground truth bbox: [161, 263, 75, 126]\n"
     ]
    },
    {
     "name": "stderr",
     "output_type": "stream",
     "text": [
      "frame loading (JPEG): 100%|██████████| 2/2 [00:00<00:00, 14.48it/s]\n",
      "propagate in video:   0%|          | 0/2 [00:00<?, ?it/s]"
     ]
    },
    {
     "name": "stdout",
     "output_type": "stream",
     "text": [
      "\n",
      "Debug: Frame 0 has 1 objects\n",
      "Object IDs: [1]\n"
     ]
    },
    {
     "name": "stderr",
     "output_type": "stream",
     "text": [
      "propagate in video: 100%|██████████| 2/2 [00:05<00:00,  2.72s/it]\n"
     ]
    },
    {
     "name": "stdout",
     "output_type": "stream",
     "text": [
      "\n",
      "Debug: Frame 1 has 1 objects\n",
      "Object IDs: [1]\n",
      "Predicted bbox: [0, 0, 0, 0]\n",
      "Warning: Empty prediction - skipping\n",
      "\n",
      "Processing image 20/49: juicebox_000021.jpg\n",
      "Ground truth bbox: [227, 151, 124, 74]\n"
     ]
    },
    {
     "name": "stderr",
     "output_type": "stream",
     "text": [
      "frame loading (JPEG): 100%|██████████| 2/2 [00:00<00:00, 14.82it/s]\n",
      "propagate in video:   0%|          | 0/2 [00:00<?, ?it/s]"
     ]
    },
    {
     "name": "stdout",
     "output_type": "stream",
     "text": [
      "\n",
      "Debug: Frame 0 has 1 objects\n",
      "Object IDs: [1]\n"
     ]
    },
    {
     "name": "stderr",
     "output_type": "stream",
     "text": [
      "propagate in video: 100%|██████████| 2/2 [00:05<00:00,  2.54s/it]\n"
     ]
    },
    {
     "name": "stdout",
     "output_type": "stream",
     "text": [
      "\n",
      "Debug: Frame 1 has 1 objects\n",
      "Object IDs: [1]\n",
      "Predicted bbox: [0, 0, 0, 0]\n",
      "Warning: Empty prediction - skipping\n",
      "\n",
      "Processing image 21/49: juicebox_000022.jpg\n",
      "Ground truth bbox: [227, 221, 147, 119]\n"
     ]
    },
    {
     "name": "stderr",
     "output_type": "stream",
     "text": [
      "frame loading (JPEG): 100%|██████████| 2/2 [00:00<00:00, 16.34it/s]\n",
      "propagate in video:   0%|          | 0/2 [00:00<?, ?it/s]"
     ]
    },
    {
     "name": "stdout",
     "output_type": "stream",
     "text": [
      "\n",
      "Debug: Frame 0 has 1 objects\n",
      "Object IDs: [1]\n"
     ]
    },
    {
     "name": "stderr",
     "output_type": "stream",
     "text": [
      "propagate in video: 100%|██████████| 2/2 [00:05<00:00,  2.51s/it]\n"
     ]
    },
    {
     "name": "stdout",
     "output_type": "stream",
     "text": [
      "\n",
      "Debug: Frame 1 has 1 objects\n",
      "Object IDs: [1]\n",
      "Predicted bbox: [0, 0, 0, 0]\n",
      "Warning: Empty prediction - skipping\n",
      "\n",
      "Processing image 22/49: juicebox_000023.jpg\n",
      "Ground truth bbox: [228, 192, 83, 165]\n"
     ]
    },
    {
     "name": "stderr",
     "output_type": "stream",
     "text": [
      "frame loading (JPEG): 100%|██████████| 2/2 [00:00<00:00, 15.78it/s]\n",
      "propagate in video:   0%|          | 0/2 [00:00<?, ?it/s]"
     ]
    },
    {
     "name": "stdout",
     "output_type": "stream",
     "text": [
      "\n",
      "Debug: Frame 0 has 1 objects\n",
      "Object IDs: [1]\n"
     ]
    },
    {
     "name": "stderr",
     "output_type": "stream",
     "text": [
      "propagate in video: 100%|██████████| 2/2 [00:04<00:00,  2.49s/it]\n"
     ]
    },
    {
     "name": "stdout",
     "output_type": "stream",
     "text": [
      "\n",
      "Debug: Frame 1 has 1 objects\n",
      "Object IDs: [1]\n",
      "Predicted bbox: [234, 197, 65, 161]\n",
      "\n",
      "Processing image 23/49: juicebox_000024.jpg\n",
      "Ground truth bbox: [238, 117, 67, 117]\n"
     ]
    },
    {
     "name": "stderr",
     "output_type": "stream",
     "text": [
      "frame loading (JPEG): 100%|██████████| 2/2 [00:00<00:00, 14.14it/s]\n",
      "propagate in video:   0%|          | 0/2 [00:00<?, ?it/s]"
     ]
    },
    {
     "name": "stdout",
     "output_type": "stream",
     "text": [
      "\n",
      "Debug: Frame 0 has 1 objects\n",
      "Object IDs: [1]\n"
     ]
    },
    {
     "name": "stderr",
     "output_type": "stream",
     "text": [
      "propagate in video: 100%|██████████| 2/2 [00:04<00:00,  2.47s/it]\n"
     ]
    },
    {
     "name": "stdout",
     "output_type": "stream",
     "text": [
      "\n",
      "Debug: Frame 1 has 1 objects\n",
      "Object IDs: [1]\n",
      "Predicted bbox: [0, 0, 0, 0]\n",
      "Warning: Empty prediction - skipping\n",
      "\n",
      "Processing image 24/49: juicebox_000025.jpg\n",
      "Ground truth bbox: [147, 167, 115, 97]\n"
     ]
    },
    {
     "name": "stderr",
     "output_type": "stream",
     "text": [
      "frame loading (JPEG): 100%|██████████| 2/2 [00:00<00:00, 16.13it/s]\n",
      "propagate in video:   0%|          | 0/2 [00:00<?, ?it/s]"
     ]
    },
    {
     "name": "stdout",
     "output_type": "stream",
     "text": [
      "\n",
      "Debug: Frame 0 has 1 objects\n",
      "Object IDs: [1]\n"
     ]
    },
    {
     "name": "stderr",
     "output_type": "stream",
     "text": [
      "propagate in video: 100%|██████████| 2/2 [00:04<00:00,  2.49s/it]\n"
     ]
    },
    {
     "name": "stdout",
     "output_type": "stream",
     "text": [
      "\n",
      "Debug: Frame 1 has 1 objects\n",
      "Object IDs: [1]\n",
      "Predicted bbox: [0, 0, 0, 0]\n",
      "Warning: Empty prediction - skipping\n",
      "\n",
      "Processing image 25/49: juicebox_000026.jpg\n",
      "Ground truth bbox: [264, 138, 96, 164]\n"
     ]
    },
    {
     "name": "stderr",
     "output_type": "stream",
     "text": [
      "frame loading (JPEG): 100%|██████████| 2/2 [00:00<00:00, 15.58it/s]\n",
      "propagate in video:   0%|          | 0/2 [00:00<?, ?it/s]"
     ]
    },
    {
     "name": "stdout",
     "output_type": "stream",
     "text": [
      "\n",
      "Debug: Frame 0 has 1 objects\n",
      "Object IDs: [1]\n"
     ]
    },
    {
     "name": "stderr",
     "output_type": "stream",
     "text": [
      "propagate in video: 100%|██████████| 2/2 [00:05<00:00,  2.54s/it]\n"
     ]
    },
    {
     "name": "stdout",
     "output_type": "stream",
     "text": [
      "\n",
      "Debug: Frame 1 has 1 objects\n",
      "Object IDs: [1]\n",
      "Predicted bbox: [0, 0, 0, 0]\n",
      "Warning: Empty prediction - skipping\n",
      "\n",
      "Processing image 26/49: juicebox_000027.jpg\n",
      "Ground truth bbox: [277, 132, 97, 164]\n"
     ]
    },
    {
     "name": "stderr",
     "output_type": "stream",
     "text": [
      "frame loading (JPEG): 100%|██████████| 2/2 [00:00<00:00, 16.41it/s]\n",
      "propagate in video:   0%|          | 0/2 [00:00<?, ?it/s]"
     ]
    },
    {
     "name": "stdout",
     "output_type": "stream",
     "text": [
      "\n",
      "Debug: Frame 0 has 1 objects\n",
      "Object IDs: [1]\n"
     ]
    },
    {
     "name": "stderr",
     "output_type": "stream",
     "text": [
      "propagate in video: 100%|██████████| 2/2 [00:04<00:00,  2.47s/it]\n"
     ]
    },
    {
     "name": "stdout",
     "output_type": "stream",
     "text": [
      "\n",
      "Debug: Frame 1 has 1 objects\n",
      "Object IDs: [1]\n",
      "Predicted bbox: [280, 132, 99, 164]\n",
      "\n",
      "Processing image 27/49: juicebox_000028.jpg\n",
      "Ground truth bbox: [165, 187, 96, 170]\n"
     ]
    },
    {
     "name": "stderr",
     "output_type": "stream",
     "text": [
      "frame loading (JPEG): 100%|██████████| 2/2 [00:00<00:00, 15.11it/s]\n",
      "propagate in video:   0%|          | 0/2 [00:00<?, ?it/s]"
     ]
    },
    {
     "name": "stdout",
     "output_type": "stream",
     "text": [
      "\n",
      "Debug: Frame 0 has 1 objects\n",
      "Object IDs: [1]\n"
     ]
    },
    {
     "name": "stderr",
     "output_type": "stream",
     "text": [
      "propagate in video: 100%|██████████| 2/2 [00:04<00:00,  2.44s/it]\n"
     ]
    },
    {
     "name": "stdout",
     "output_type": "stream",
     "text": [
      "\n",
      "Debug: Frame 1 has 1 objects\n",
      "Object IDs: [1]\n",
      "Predicted bbox: [166, 193, 94, 166]\n",
      "\n",
      "Processing image 28/49: juicebox_000029.jpg\n",
      "Ground truth bbox: [168, 213, 95, 168]\n"
     ]
    },
    {
     "name": "stderr",
     "output_type": "stream",
     "text": [
      "frame loading (JPEG): 100%|██████████| 2/2 [00:00<00:00, 15.60it/s]\n",
      "propagate in video:   0%|          | 0/2 [00:00<?, ?it/s]"
     ]
    },
    {
     "name": "stdout",
     "output_type": "stream",
     "text": [
      "\n",
      "Debug: Frame 0 has 1 objects\n",
      "Object IDs: [1]\n"
     ]
    },
    {
     "name": "stderr",
     "output_type": "stream",
     "text": [
      "propagate in video: 100%|██████████| 2/2 [00:05<00:00,  2.50s/it]\n"
     ]
    },
    {
     "name": "stdout",
     "output_type": "stream",
     "text": [
      "\n",
      "Debug: Frame 1 has 1 objects\n",
      "Object IDs: [1]\n",
      "Predicted bbox: [0, 0, 0, 0]\n",
      "Warning: Empty prediction - skipping\n",
      "\n",
      "Processing image 29/49: juicebox_000030.jpg\n",
      "Ground truth bbox: [241, 151, 78, 149]\n"
     ]
    },
    {
     "name": "stderr",
     "output_type": "stream",
     "text": [
      "frame loading (JPEG): 100%|██████████| 2/2 [00:00<00:00, 15.80it/s]\n",
      "propagate in video:   0%|          | 0/2 [00:00<?, ?it/s]"
     ]
    },
    {
     "name": "stdout",
     "output_type": "stream",
     "text": [
      "\n",
      "Debug: Frame 0 has 1 objects\n",
      "Object IDs: [1]\n"
     ]
    },
    {
     "name": "stderr",
     "output_type": "stream",
     "text": [
      "propagate in video: 100%|██████████| 2/2 [00:04<00:00,  2.49s/it]\n"
     ]
    },
    {
     "name": "stdout",
     "output_type": "stream",
     "text": [
      "\n",
      "Debug: Frame 1 has 1 objects\n",
      "Object IDs: [1]\n",
      "Predicted bbox: [0, 0, 0, 0]\n",
      "Warning: Empty prediction - skipping\n",
      "\n",
      "Processing image 30/49: juicebox_000031.jpg\n",
      "Ground truth bbox: [356, 198, 82, 155]\n"
     ]
    },
    {
     "name": "stderr",
     "output_type": "stream",
     "text": [
      "frame loading (JPEG): 100%|██████████| 2/2 [00:00<00:00, 15.45it/s]\n",
      "propagate in video:   0%|          | 0/2 [00:00<?, ?it/s]"
     ]
    },
    {
     "name": "stdout",
     "output_type": "stream",
     "text": [
      "\n",
      "Debug: Frame 0 has 1 objects\n",
      "Object IDs: [1]\n"
     ]
    },
    {
     "name": "stderr",
     "output_type": "stream",
     "text": [
      "propagate in video: 100%|██████████| 2/2 [00:05<00:00,  2.53s/it]\n"
     ]
    },
    {
     "name": "stdout",
     "output_type": "stream",
     "text": [
      "\n",
      "Debug: Frame 1 has 1 objects\n",
      "Object IDs: [1]\n",
      "Predicted bbox: [0, 0, 0, 0]\n",
      "Warning: Empty prediction - skipping\n",
      "\n",
      "Processing image 31/49: juicebox_000032.jpg\n",
      "Ground truth bbox: [304, 151, 63, 152]\n"
     ]
    },
    {
     "name": "stderr",
     "output_type": "stream",
     "text": [
      "frame loading (JPEG): 100%|██████████| 2/2 [00:00<00:00, 17.06it/s]\n",
      "propagate in video:   0%|          | 0/2 [00:00<?, ?it/s]"
     ]
    },
    {
     "name": "stdout",
     "output_type": "stream",
     "text": [
      "\n",
      "Debug: Frame 0 has 1 objects\n",
      "Object IDs: [1]\n"
     ]
    },
    {
     "name": "stderr",
     "output_type": "stream",
     "text": [
      "propagate in video: 100%|██████████| 2/2 [00:04<00:00,  2.48s/it]\n"
     ]
    },
    {
     "name": "stdout",
     "output_type": "stream",
     "text": [
      "\n",
      "Debug: Frame 1 has 1 objects\n",
      "Object IDs: [1]\n",
      "Predicted bbox: [0, 0, 0, 0]\n",
      "Warning: Empty prediction - skipping\n",
      "\n",
      "Processing image 32/49: juicebox_000033.jpg\n",
      "Ground truth bbox: [149, 205, 77, 148]\n"
     ]
    },
    {
     "name": "stderr",
     "output_type": "stream",
     "text": [
      "frame loading (JPEG): 100%|██████████| 2/2 [00:00<00:00, 15.87it/s]\n",
      "propagate in video:   0%|          | 0/2 [00:00<?, ?it/s]"
     ]
    },
    {
     "name": "stdout",
     "output_type": "stream",
     "text": [
      "\n",
      "Debug: Frame 0 has 1 objects\n",
      "Object IDs: [1]\n"
     ]
    },
    {
     "name": "stderr",
     "output_type": "stream",
     "text": [
      "propagate in video: 100%|██████████| 2/2 [00:04<00:00,  2.48s/it]\n"
     ]
    },
    {
     "name": "stdout",
     "output_type": "stream",
     "text": [
      "\n",
      "Debug: Frame 1 has 1 objects\n",
      "Object IDs: [1]\n",
      "Predicted bbox: [0, 0, 0, 0]\n",
      "Warning: Empty prediction - skipping\n",
      "\n",
      "Processing image 33/49: juicebox_000034.jpg\n",
      "Ground truth bbox: [228, 66, 144, 86]\n"
     ]
    },
    {
     "name": "stderr",
     "output_type": "stream",
     "text": [
      "frame loading (JPEG): 100%|██████████| 2/2 [00:00<00:00, 16.43it/s]\n",
      "propagate in video:   0%|          | 0/2 [00:00<?, ?it/s]"
     ]
    },
    {
     "name": "stdout",
     "output_type": "stream",
     "text": [
      "\n",
      "Debug: Frame 0 has 1 objects\n",
      "Object IDs: [1]\n"
     ]
    },
    {
     "name": "stderr",
     "output_type": "stream",
     "text": [
      "propagate in video: 100%|██████████| 2/2 [00:05<00:00,  2.50s/it]\n"
     ]
    },
    {
     "name": "stdout",
     "output_type": "stream",
     "text": [
      "\n",
      "Debug: Frame 1 has 1 objects\n",
      "Object IDs: [1]\n",
      "Predicted bbox: [0, 0, 0, 0]\n",
      "Warning: Empty prediction - skipping\n",
      "\n",
      "Processing image 34/49: juicebox_000035.jpg\n",
      "Ground truth bbox: [120, 113, 143, 82]\n"
     ]
    },
    {
     "name": "stderr",
     "output_type": "stream",
     "text": [
      "frame loading (JPEG): 100%|██████████| 2/2 [00:00<00:00, 16.86it/s]\n",
      "propagate in video:   0%|          | 0/2 [00:00<?, ?it/s]"
     ]
    },
    {
     "name": "stdout",
     "output_type": "stream",
     "text": [
      "\n",
      "Debug: Frame 0 has 1 objects\n",
      "Object IDs: [1]\n"
     ]
    },
    {
     "name": "stderr",
     "output_type": "stream",
     "text": [
      "propagate in video: 100%|██████████| 2/2 [00:04<00:00,  2.48s/it]\n"
     ]
    },
    {
     "name": "stdout",
     "output_type": "stream",
     "text": [
      "\n",
      "Debug: Frame 1 has 1 objects\n",
      "Object IDs: [1]\n",
      "Predicted bbox: [0, 0, 0, 0]\n",
      "Warning: Empty prediction - skipping\n",
      "\n",
      "Processing image 35/49: juicebox_000036.jpg\n",
      "Ground truth bbox: [90, 296, 136, 81]\n"
     ]
    },
    {
     "name": "stderr",
     "output_type": "stream",
     "text": [
      "frame loading (JPEG): 100%|██████████| 2/2 [00:00<00:00, 16.03it/s]\n",
      "propagate in video:   0%|          | 0/2 [00:00<?, ?it/s]"
     ]
    },
    {
     "name": "stdout",
     "output_type": "stream",
     "text": [
      "\n",
      "Debug: Frame 0 has 1 objects\n",
      "Object IDs: [1]\n"
     ]
    },
    {
     "name": "stderr",
     "output_type": "stream",
     "text": [
      "propagate in video: 100%|██████████| 2/2 [00:05<00:00,  2.51s/it]\n"
     ]
    },
    {
     "name": "stdout",
     "output_type": "stream",
     "text": [
      "\n",
      "Debug: Frame 1 has 1 objects\n",
      "Object IDs: [1]\n",
      "Predicted bbox: [0, 0, 0, 0]\n",
      "Warning: Empty prediction - skipping\n",
      "\n",
      "Processing image 36/49: juicebox_000037.jpg\n",
      "Ground truth bbox: [157, 116, 78, 151]\n"
     ]
    },
    {
     "name": "stderr",
     "output_type": "stream",
     "text": [
      "frame loading (JPEG): 100%|██████████| 2/2 [00:00<00:00, 16.77it/s]\n",
      "propagate in video:   0%|          | 0/2 [00:00<?, ?it/s]"
     ]
    },
    {
     "name": "stdout",
     "output_type": "stream",
     "text": [
      "\n",
      "Debug: Frame 0 has 1 objects\n",
      "Object IDs: [1]\n"
     ]
    },
    {
     "name": "stderr",
     "output_type": "stream",
     "text": [
      "propagate in video: 100%|██████████| 2/2 [00:04<00:00,  2.47s/it]\n"
     ]
    },
    {
     "name": "stdout",
     "output_type": "stream",
     "text": [
      "\n",
      "Debug: Frame 1 has 1 objects\n",
      "Object IDs: [1]\n",
      "Predicted bbox: [0, 0, 0, 0]\n",
      "Warning: Empty prediction - skipping\n",
      "\n",
      "Processing image 37/49: juicebox_000038.jpg\n",
      "Ground truth bbox: [132, 202, 170, 156]\n"
     ]
    },
    {
     "name": "stderr",
     "output_type": "stream",
     "text": [
      "frame loading (JPEG): 100%|██████████| 2/2 [00:00<00:00, 15.74it/s]\n",
      "propagate in video:   0%|          | 0/2 [00:00<?, ?it/s]"
     ]
    },
    {
     "name": "stdout",
     "output_type": "stream",
     "text": [
      "\n",
      "Debug: Frame 0 has 1 objects\n",
      "Object IDs: [1]\n"
     ]
    },
    {
     "name": "stderr",
     "output_type": "stream",
     "text": [
      "propagate in video: 100%|██████████| 2/2 [00:04<00:00,  2.46s/it]\n"
     ]
    },
    {
     "name": "stdout",
     "output_type": "stream",
     "text": [
      "\n",
      "Debug: Frame 1 has 1 objects\n",
      "Object IDs: [1]\n",
      "Predicted bbox: [0, 0, 0, 0]\n",
      "Warning: Empty prediction - skipping\n",
      "\n",
      "Processing image 38/49: juicebox_000039.jpg\n",
      "Ground truth bbox: [199, 94, 76, 149]\n"
     ]
    },
    {
     "name": "stderr",
     "output_type": "stream",
     "text": [
      "frame loading (JPEG): 100%|██████████| 2/2 [00:00<00:00, 14.99it/s]\n",
      "propagate in video:   0%|          | 0/2 [00:00<?, ?it/s]"
     ]
    },
    {
     "name": "stdout",
     "output_type": "stream",
     "text": [
      "\n",
      "Debug: Frame 0 has 1 objects\n",
      "Object IDs: [1]\n"
     ]
    },
    {
     "name": "stderr",
     "output_type": "stream",
     "text": [
      "propagate in video: 100%|██████████| 2/2 [00:04<00:00,  2.48s/it]\n"
     ]
    },
    {
     "name": "stdout",
     "output_type": "stream",
     "text": [
      "\n",
      "Debug: Frame 1 has 1 objects\n",
      "Object IDs: [1]\n",
      "Predicted bbox: [0, 0, 0, 0]\n",
      "Warning: Empty prediction - skipping\n",
      "\n",
      "Processing image 39/49: juicebox_000040.jpg\n",
      "Ground truth bbox: [167, 169, 120, 156]\n"
     ]
    },
    {
     "name": "stderr",
     "output_type": "stream",
     "text": [
      "frame loading (JPEG): 100%|██████████| 2/2 [00:00<00:00, 15.99it/s]\n",
      "propagate in video:   0%|          | 0/2 [00:00<?, ?it/s]"
     ]
    },
    {
     "name": "stdout",
     "output_type": "stream",
     "text": [
      "\n",
      "Debug: Frame 0 has 1 objects\n",
      "Object IDs: [1]\n"
     ]
    },
    {
     "name": "stderr",
     "output_type": "stream",
     "text": [
      "propagate in video: 100%|██████████| 2/2 [00:05<00:00,  2.51s/it]\n"
     ]
    },
    {
     "name": "stdout",
     "output_type": "stream",
     "text": [
      "\n",
      "Debug: Frame 1 has 1 objects\n",
      "Object IDs: [1]\n",
      "Predicted bbox: [0, 0, 0, 0]\n",
      "Warning: Empty prediction - skipping\n",
      "\n",
      "Processing image 40/49: juicebox_000041.jpg\n",
      "Ground truth bbox: [287, 120, 93, 166]\n"
     ]
    },
    {
     "name": "stderr",
     "output_type": "stream",
     "text": [
      "frame loading (JPEG): 100%|██████████| 2/2 [00:00<00:00, 17.85it/s]\n",
      "propagate in video:   0%|          | 0/2 [00:00<?, ?it/s]"
     ]
    },
    {
     "name": "stdout",
     "output_type": "stream",
     "text": [
      "\n",
      "Debug: Frame 0 has 1 objects\n",
      "Object IDs: [1]\n"
     ]
    },
    {
     "name": "stderr",
     "output_type": "stream",
     "text": [
      "propagate in video: 100%|██████████| 2/2 [00:05<00:00,  2.54s/it]\n"
     ]
    },
    {
     "name": "stdout",
     "output_type": "stream",
     "text": [
      "\n",
      "Debug: Frame 1 has 1 objects\n",
      "Object IDs: [1]\n",
      "Predicted bbox: [0, 0, 0, 0]\n",
      "Warning: Empty prediction - skipping\n",
      "\n",
      "Processing image 41/49: juicebox_000042.jpg\n",
      "Ground truth bbox: [232, 159, 106, 92]\n"
     ]
    },
    {
     "name": "stderr",
     "output_type": "stream",
     "text": [
      "frame loading (JPEG): 100%|██████████| 2/2 [00:00<00:00, 16.18it/s]\n",
      "propagate in video:   0%|          | 0/2 [00:00<?, ?it/s]"
     ]
    },
    {
     "name": "stdout",
     "output_type": "stream",
     "text": [
      "\n",
      "Debug: Frame 0 has 1 objects\n",
      "Object IDs: [1]\n"
     ]
    },
    {
     "name": "stderr",
     "output_type": "stream",
     "text": [
      "propagate in video: 100%|██████████| 2/2 [00:04<00:00,  2.42s/it]\n"
     ]
    },
    {
     "name": "stdout",
     "output_type": "stream",
     "text": [
      "\n",
      "Debug: Frame 1 has 1 objects\n",
      "Object IDs: [1]\n",
      "Predicted bbox: [0, 0, 0, 0]\n",
      "Warning: Empty prediction - skipping\n",
      "\n",
      "Processing image 42/49: juicebox_000043.jpg\n",
      "Ground truth bbox: [212, 181, 70, 137]\n"
     ]
    },
    {
     "name": "stderr",
     "output_type": "stream",
     "text": [
      "frame loading (JPEG): 100%|██████████| 2/2 [00:00<00:00, 13.41it/s]\n",
      "propagate in video:   0%|          | 0/2 [00:00<?, ?it/s]"
     ]
    },
    {
     "name": "stdout",
     "output_type": "stream",
     "text": [
      "\n",
      "Debug: Frame 0 has 1 objects\n",
      "Object IDs: [1]\n"
     ]
    },
    {
     "name": "stderr",
     "output_type": "stream",
     "text": [
      "propagate in video: 100%|██████████| 2/2 [00:05<00:00,  2.53s/it]\n"
     ]
    },
    {
     "name": "stdout",
     "output_type": "stream",
     "text": [
      "\n",
      "Debug: Frame 1 has 1 objects\n",
      "Object IDs: [1]\n",
      "Predicted bbox: [0, 0, 0, 0]\n",
      "Warning: Empty prediction - skipping\n",
      "\n",
      "Processing image 43/49: juicebox_000044.jpg\n",
      "Ground truth bbox: [140, 183, 60, 126]\n"
     ]
    },
    {
     "name": "stderr",
     "output_type": "stream",
     "text": [
      "frame loading (JPEG): 100%|██████████| 2/2 [00:00<00:00, 14.69it/s]\n",
      "propagate in video:   0%|          | 0/2 [00:00<?, ?it/s]"
     ]
    },
    {
     "name": "stdout",
     "output_type": "stream",
     "text": [
      "\n",
      "Debug: Frame 0 has 1 objects\n",
      "Object IDs: [1]\n"
     ]
    },
    {
     "name": "stderr",
     "output_type": "stream",
     "text": [
      "propagate in video: 100%|██████████| 2/2 [00:04<00:00,  2.45s/it]\n"
     ]
    },
    {
     "name": "stdout",
     "output_type": "stream",
     "text": [
      "\n",
      "Debug: Frame 1 has 1 objects\n",
      "Object IDs: [1]\n",
      "Predicted bbox: [141, 187, 80, 101]\n",
      "\n",
      "Processing image 44/49: juicebox_000045.jpg\n",
      "Ground truth bbox: [102, 172, 98, 160]\n"
     ]
    },
    {
     "name": "stderr",
     "output_type": "stream",
     "text": [
      "frame loading (JPEG): 100%|██████████| 2/2 [00:00<00:00, 14.68it/s]\n",
      "propagate in video:   0%|          | 0/2 [00:00<?, ?it/s]"
     ]
    },
    {
     "name": "stdout",
     "output_type": "stream",
     "text": [
      "\n",
      "Debug: Frame 0 has 1 objects\n",
      "Object IDs: [1]\n"
     ]
    },
    {
     "name": "stderr",
     "output_type": "stream",
     "text": [
      "propagate in video: 100%|██████████| 2/2 [00:05<00:00,  2.55s/it]\n"
     ]
    },
    {
     "name": "stdout",
     "output_type": "stream",
     "text": [
      "\n",
      "Debug: Frame 1 has 1 objects\n",
      "Object IDs: [1]\n",
      "Predicted bbox: [0, 0, 0, 0]\n",
      "Warning: Empty prediction - skipping\n",
      "\n",
      "Processing image 45/49: juicebox_000046.jpg\n",
      "Ground truth bbox: [53, 256, 91, 165]\n"
     ]
    },
    {
     "name": "stderr",
     "output_type": "stream",
     "text": [
      "frame loading (JPEG): 100%|██████████| 2/2 [00:00<00:00, 13.82it/s]\n",
      "propagate in video:   0%|          | 0/2 [00:00<?, ?it/s]"
     ]
    },
    {
     "name": "stdout",
     "output_type": "stream",
     "text": [
      "\n",
      "Debug: Frame 0 has 1 objects\n",
      "Object IDs: [1]\n"
     ]
    },
    {
     "name": "stderr",
     "output_type": "stream",
     "text": [
      "propagate in video: 100%|██████████| 2/2 [00:04<00:00,  2.49s/it]\n"
     ]
    },
    {
     "name": "stdout",
     "output_type": "stream",
     "text": [
      "\n",
      "Debug: Frame 1 has 1 objects\n",
      "Object IDs: [1]\n",
      "Predicted bbox: [51, 263, 91, 137]\n",
      "\n",
      "Processing image 46/49: juicebox_000047.jpg\n",
      "Ground truth bbox: [70, 212, 81, 167]\n"
     ]
    },
    {
     "name": "stderr",
     "output_type": "stream",
     "text": [
      "frame loading (JPEG): 100%|██████████| 2/2 [00:00<00:00, 16.75it/s]\n",
      "propagate in video:   0%|          | 0/2 [00:00<?, ?it/s]"
     ]
    },
    {
     "name": "stdout",
     "output_type": "stream",
     "text": [
      "\n",
      "Debug: Frame 0 has 1 objects\n",
      "Object IDs: [1]\n"
     ]
    },
    {
     "name": "stderr",
     "output_type": "stream",
     "text": [
      "propagate in video: 100%|██████████| 2/2 [00:05<00:00,  2.52s/it]\n"
     ]
    },
    {
     "name": "stdout",
     "output_type": "stream",
     "text": [
      "\n",
      "Debug: Frame 1 has 1 objects\n",
      "Object IDs: [1]\n",
      "Predicted bbox: [0, 0, 0, 0]\n",
      "Warning: Empty prediction - skipping\n",
      "\n",
      "Processing image 47/49: juicebox_000048.jpg\n",
      "Ground truth bbox: [264, 247, 107, 115]\n"
     ]
    },
    {
     "name": "stderr",
     "output_type": "stream",
     "text": [
      "frame loading (JPEG): 100%|██████████| 2/2 [00:00<00:00, 14.84it/s]\n",
      "propagate in video:   0%|          | 0/2 [00:00<?, ?it/s]"
     ]
    },
    {
     "name": "stdout",
     "output_type": "stream",
     "text": [
      "\n",
      "Debug: Frame 0 has 1 objects\n",
      "Object IDs: [1]\n"
     ]
    },
    {
     "name": "stderr",
     "output_type": "stream",
     "text": [
      "propagate in video: 100%|██████████| 2/2 [00:04<00:00,  2.48s/it]\n"
     ]
    },
    {
     "name": "stdout",
     "output_type": "stream",
     "text": [
      "\n",
      "Debug: Frame 1 has 1 objects\n",
      "Object IDs: [1]\n",
      "Predicted bbox: [0, 0, 0, 0]\n",
      "Warning: Empty prediction - skipping\n",
      "\n",
      "Processing image 48/49: juicebox_000049.jpg\n",
      "Ground truth bbox: [179, 148, 84, 149]\n"
     ]
    },
    {
     "name": "stderr",
     "output_type": "stream",
     "text": [
      "frame loading (JPEG): 100%|██████████| 2/2 [00:00<00:00, 13.39it/s]\n",
      "propagate in video:   0%|          | 0/2 [00:00<?, ?it/s]"
     ]
    },
    {
     "name": "stdout",
     "output_type": "stream",
     "text": [
      "\n",
      "Debug: Frame 0 has 1 objects\n",
      "Object IDs: [1]\n"
     ]
    },
    {
     "name": "stderr",
     "output_type": "stream",
     "text": [
      "propagate in video: 100%|██████████| 2/2 [00:05<00:00,  2.51s/it]\n"
     ]
    },
    {
     "name": "stdout",
     "output_type": "stream",
     "text": [
      "\n",
      "Debug: Frame 1 has 1 objects\n",
      "Object IDs: [1]\n",
      "Predicted bbox: [0, 0, 0, 0]\n",
      "Warning: Empty prediction - skipping\n",
      "\n",
      "Processing image 49/49: juicebox_000050.jpg\n",
      "Ground truth bbox: [376, 247, 72, 130]\n"
     ]
    },
    {
     "name": "stderr",
     "output_type": "stream",
     "text": [
      "frame loading (JPEG): 100%|██████████| 2/2 [00:00<00:00, 12.56it/s]\n",
      "propagate in video:   0%|          | 0/2 [00:00<?, ?it/s]"
     ]
    },
    {
     "name": "stdout",
     "output_type": "stream",
     "text": [
      "\n",
      "Debug: Frame 0 has 1 objects\n",
      "Object IDs: [1]\n"
     ]
    },
    {
     "name": "stderr",
     "output_type": "stream",
     "text": [
      "propagate in video: 100%|██████████| 2/2 [00:05<00:00,  2.53s/it]\n"
     ]
    },
    {
     "name": "stdout",
     "output_type": "stream",
     "text": [
      "\n",
      "Debug: Frame 1 has 1 objects\n",
      "Object IDs: [1]\n",
      "Predicted bbox: [0, 0, 0, 0]\n",
      "Warning: Empty prediction - skipping\n",
      "creating index...\n",
      "index created!\n",
      "Error in COCO evaluation: 'info'\n",
      "\n",
      "Evaluating ricepilaf...\n",
      "Using reference image: ricepilaf_000001.jpg\n",
      "Using reference mask: ricepilaf_000001_1_gt.png\n",
      "Reference bounding box: x=[417,505], y=[104,242]\n",
      "\n",
      "Processing image 1/49: ricepilaf_000002.jpg\n",
      "Ground truth bbox: [136, 120, 127, 144]\n"
     ]
    },
    {
     "name": "stderr",
     "output_type": "stream",
     "text": [
      "frame loading (JPEG): 100%|██████████| 2/2 [00:00<00:00, 16.72it/s]\n",
      "propagate in video:   0%|          | 0/2 [00:00<?, ?it/s]"
     ]
    },
    {
     "name": "stdout",
     "output_type": "stream",
     "text": [
      "\n",
      "Debug: Frame 0 has 1 objects\n",
      "Object IDs: [1]\n"
     ]
    },
    {
     "name": "stderr",
     "output_type": "stream",
     "text": [
      "propagate in video: 100%|██████████| 2/2 [00:04<00:00,  2.48s/it]\n"
     ]
    },
    {
     "name": "stdout",
     "output_type": "stream",
     "text": [
      "\n",
      "Debug: Frame 1 has 1 objects\n",
      "Object IDs: [1]\n",
      "Predicted bbox: [0, 0, 0, 0]\n",
      "Warning: Empty prediction - skipping\n",
      "\n",
      "Processing image 2/49: ricepilaf_000003.jpg\n",
      "Ground truth bbox: [314, 29, 116, 110]\n"
     ]
    },
    {
     "name": "stderr",
     "output_type": "stream",
     "text": [
      "frame loading (JPEG): 100%|██████████| 2/2 [00:00<00:00, 14.95it/s]\n",
      "propagate in video:   0%|          | 0/2 [00:00<?, ?it/s]"
     ]
    },
    {
     "name": "stdout",
     "output_type": "stream",
     "text": [
      "\n",
      "Debug: Frame 0 has 1 objects\n",
      "Object IDs: [1]\n"
     ]
    },
    {
     "name": "stderr",
     "output_type": "stream",
     "text": [
      "propagate in video: 100%|██████████| 2/2 [00:04<00:00,  2.48s/it]\n"
     ]
    },
    {
     "name": "stdout",
     "output_type": "stream",
     "text": [
      "\n",
      "Debug: Frame 1 has 1 objects\n",
      "Object IDs: [1]\n",
      "Predicted bbox: [280, 27, 151, 110]\n",
      "\n",
      "Processing image 3/49: ricepilaf_000004.jpg\n",
      "Ground truth bbox: [275, 213, 85, 122]\n"
     ]
    },
    {
     "name": "stderr",
     "output_type": "stream",
     "text": [
      "frame loading (JPEG): 100%|██████████| 2/2 [00:00<00:00, 10.51it/s]\n",
      "propagate in video:   0%|          | 0/2 [00:00<?, ?it/s]"
     ]
    },
    {
     "name": "stdout",
     "output_type": "stream",
     "text": [
      "\n",
      "Debug: Frame 0 has 1 objects\n",
      "Object IDs: [1]\n"
     ]
    },
    {
     "name": "stderr",
     "output_type": "stream",
     "text": [
      "propagate in video: 100%|██████████| 2/2 [00:05<00:00,  2.52s/it]\n"
     ]
    },
    {
     "name": "stdout",
     "output_type": "stream",
     "text": [
      "\n",
      "Debug: Frame 1 has 1 objects\n",
      "Object IDs: [1]\n",
      "Predicted bbox: [406, 207, 112, 158]\n",
      "\n",
      "Processing image 4/49: ricepilaf_000005.jpg\n",
      "Ground truth bbox: [150, 164, 86, 134]\n"
     ]
    },
    {
     "name": "stderr",
     "output_type": "stream",
     "text": [
      "frame loading (JPEG): 100%|██████████| 2/2 [00:00<00:00, 17.11it/s]\n",
      "propagate in video:   0%|          | 0/2 [00:00<?, ?it/s]"
     ]
    },
    {
     "name": "stdout",
     "output_type": "stream",
     "text": [
      "\n",
      "Debug: Frame 0 has 1 objects\n",
      "Object IDs: [1]\n"
     ]
    },
    {
     "name": "stderr",
     "output_type": "stream",
     "text": [
      "propagate in video: 100%|██████████| 2/2 [00:06<00:00,  3.25s/it]\n"
     ]
    },
    {
     "name": "stdout",
     "output_type": "stream",
     "text": [
      "\n",
      "Debug: Frame 1 has 1 objects\n",
      "Object IDs: [1]\n",
      "Predicted bbox: [0, 0, 0, 0]\n",
      "Warning: Empty prediction - skipping\n",
      "\n",
      "Processing image 5/49: ricepilaf_000006.jpg\n",
      "Ground truth bbox: [307, 136, 77, 127]\n"
     ]
    },
    {
     "name": "stderr",
     "output_type": "stream",
     "text": [
      "frame loading (JPEG): 100%|██████████| 2/2 [00:00<00:00, 12.43it/s]\n",
      "propagate in video:   0%|          | 0/2 [00:00<?, ?it/s]"
     ]
    },
    {
     "name": "stdout",
     "output_type": "stream",
     "text": [
      "\n",
      "Debug: Frame 0 has 1 objects\n",
      "Object IDs: [1]\n"
     ]
    },
    {
     "name": "stderr",
     "output_type": "stream",
     "text": [
      "propagate in video: 100%|██████████| 2/2 [00:05<00:00,  2.53s/it]\n"
     ]
    },
    {
     "name": "stdout",
     "output_type": "stream",
     "text": [
      "\n",
      "Debug: Frame 1 has 1 objects\n",
      "Object IDs: [1]\n",
      "Predicted bbox: [83, 331, 183, 142]\n",
      "\n",
      "Processing image 6/49: ricepilaf_000007.jpg\n",
      "Ground truth bbox: [166, 115, 89, 160]\n"
     ]
    },
    {
     "name": "stderr",
     "output_type": "stream",
     "text": [
      "frame loading (JPEG): 100%|██████████| 2/2 [00:00<00:00, 14.74it/s]\n",
      "propagate in video:   0%|          | 0/2 [00:00<?, ?it/s]"
     ]
    },
    {
     "name": "stdout",
     "output_type": "stream",
     "text": [
      "\n",
      "Debug: Frame 0 has 1 objects\n",
      "Object IDs: [1]\n"
     ]
    },
    {
     "name": "stderr",
     "output_type": "stream",
     "text": [
      "propagate in video: 100%|██████████| 2/2 [00:05<00:00,  2.52s/it]\n"
     ]
    },
    {
     "name": "stdout",
     "output_type": "stream",
     "text": [
      "\n",
      "Debug: Frame 1 has 1 objects\n",
      "Object IDs: [1]\n",
      "Predicted bbox: [0, 0, 0, 0]\n",
      "Warning: Empty prediction - skipping\n",
      "\n",
      "Processing image 7/49: ricepilaf_000008.jpg\n",
      "Ground truth bbox: [40, 115, 143, 165]\n"
     ]
    },
    {
     "name": "stderr",
     "output_type": "stream",
     "text": [
      "frame loading (JPEG): 100%|██████████| 2/2 [00:00<00:00, 14.93it/s]\n",
      "propagate in video:   0%|          | 0/2 [00:00<?, ?it/s]"
     ]
    },
    {
     "name": "stdout",
     "output_type": "stream",
     "text": [
      "\n",
      "Debug: Frame 0 has 1 objects\n",
      "Object IDs: [1]\n"
     ]
    },
    {
     "name": "stderr",
     "output_type": "stream",
     "text": [
      "propagate in video: 100%|██████████| 2/2 [00:04<00:00,  2.50s/it]\n"
     ]
    },
    {
     "name": "stdout",
     "output_type": "stream",
     "text": [
      "\n",
      "Debug: Frame 1 has 1 objects\n",
      "Object IDs: [1]\n",
      "Predicted bbox: [0, 0, 0, 0]\n",
      "Warning: Empty prediction - skipping\n",
      "\n",
      "Processing image 8/49: ricepilaf_000009.jpg\n",
      "Ground truth bbox: [64, 122, 98, 125]\n"
     ]
    },
    {
     "name": "stderr",
     "output_type": "stream",
     "text": [
      "frame loading (JPEG): 100%|██████████| 2/2 [00:00<00:00, 16.04it/s]\n",
      "propagate in video:   0%|          | 0/2 [00:00<?, ?it/s]"
     ]
    },
    {
     "name": "stdout",
     "output_type": "stream",
     "text": [
      "\n",
      "Debug: Frame 0 has 1 objects\n",
      "Object IDs: [1]\n"
     ]
    },
    {
     "name": "stderr",
     "output_type": "stream",
     "text": [
      "propagate in video: 100%|██████████| 2/2 [00:05<00:00,  2.58s/it]\n"
     ]
    },
    {
     "name": "stdout",
     "output_type": "stream",
     "text": [
      "\n",
      "Debug: Frame 1 has 1 objects\n",
      "Object IDs: [1]\n",
      "Predicted bbox: [0, 0, 0, 0]\n",
      "Warning: Empty prediction - skipping\n",
      "\n",
      "Processing image 9/49: ricepilaf_000010.jpg\n",
      "Ground truth bbox: [297, 167, 141, 113]\n"
     ]
    },
    {
     "name": "stderr",
     "output_type": "stream",
     "text": [
      "frame loading (JPEG): 100%|██████████| 2/2 [00:00<00:00, 15.96it/s]\n",
      "propagate in video:   0%|          | 0/2 [00:00<?, ?it/s]"
     ]
    },
    {
     "name": "stdout",
     "output_type": "stream",
     "text": [
      "\n",
      "Debug: Frame 0 has 1 objects\n",
      "Object IDs: [1]\n"
     ]
    },
    {
     "name": "stderr",
     "output_type": "stream",
     "text": [
      "propagate in video: 100%|██████████| 2/2 [00:05<00:00,  2.50s/it]\n"
     ]
    },
    {
     "name": "stdout",
     "output_type": "stream",
     "text": [
      "\n",
      "Debug: Frame 1 has 1 objects\n",
      "Object IDs: [1]\n",
      "Predicted bbox: [0, 0, 0, 0]\n",
      "Warning: Empty prediction - skipping\n",
      "\n",
      "Processing image 10/49: ricepilaf_000011.jpg\n",
      "Ground truth bbox: [179, 188, 166, 174]\n"
     ]
    },
    {
     "name": "stderr",
     "output_type": "stream",
     "text": [
      "frame loading (JPEG): 100%|██████████| 2/2 [00:00<00:00, 14.57it/s]\n",
      "propagate in video:   0%|          | 0/2 [00:00<?, ?it/s]"
     ]
    },
    {
     "name": "stdout",
     "output_type": "stream",
     "text": [
      "\n",
      "Debug: Frame 0 has 1 objects\n",
      "Object IDs: [1]\n"
     ]
    },
    {
     "name": "stderr",
     "output_type": "stream",
     "text": [
      "propagate in video: 100%|██████████| 2/2 [00:04<00:00,  2.45s/it]\n"
     ]
    },
    {
     "name": "stdout",
     "output_type": "stream",
     "text": [
      "\n",
      "Debug: Frame 1 has 1 objects\n",
      "Object IDs: [1]\n",
      "Predicted bbox: [0, 0, 0, 0]\n",
      "Warning: Empty prediction - skipping\n",
      "\n",
      "Processing image 11/49: ricepilaf_000012.jpg\n",
      "Ground truth bbox: [266, 111, 142, 246]\n"
     ]
    },
    {
     "name": "stderr",
     "output_type": "stream",
     "text": [
      "frame loading (JPEG): 100%|██████████| 2/2 [00:00<00:00, 14.94it/s]\n",
      "propagate in video:   0%|          | 0/2 [00:00<?, ?it/s]"
     ]
    },
    {
     "name": "stdout",
     "output_type": "stream",
     "text": [
      "\n",
      "Debug: Frame 0 has 1 objects\n",
      "Object IDs: [1]\n"
     ]
    },
    {
     "name": "stderr",
     "output_type": "stream",
     "text": [
      "propagate in video: 100%|██████████| 2/2 [00:05<00:00,  2.51s/it]\n"
     ]
    },
    {
     "name": "stdout",
     "output_type": "stream",
     "text": [
      "\n",
      "Debug: Frame 1 has 1 objects\n",
      "Object IDs: [1]\n",
      "Predicted bbox: [0, 0, 0, 0]\n",
      "Warning: Empty prediction - skipping\n",
      "\n",
      "Processing image 12/49: ricepilaf_000013.jpg\n",
      "Ground truth bbox: [245, 153, 110, 190]\n"
     ]
    },
    {
     "name": "stderr",
     "output_type": "stream",
     "text": [
      "frame loading (JPEG): 100%|██████████| 2/2 [00:00<00:00, 15.85it/s]\n",
      "propagate in video:   0%|          | 0/2 [00:00<?, ?it/s]"
     ]
    },
    {
     "name": "stdout",
     "output_type": "stream",
     "text": [
      "\n",
      "Debug: Frame 0 has 1 objects\n",
      "Object IDs: [1]\n"
     ]
    },
    {
     "name": "stderr",
     "output_type": "stream",
     "text": [
      "propagate in video: 100%|██████████| 2/2 [00:05<00:00,  2.57s/it]\n"
     ]
    },
    {
     "name": "stdout",
     "output_type": "stream",
     "text": [
      "\n",
      "Debug: Frame 1 has 1 objects\n",
      "Object IDs: [1]\n",
      "Predicted bbox: [0, 0, 0, 0]\n",
      "Warning: Empty prediction - skipping\n",
      "\n",
      "Processing image 13/49: ricepilaf_000014.jpg\n",
      "Ground truth bbox: [247, 109, 94, 164]\n"
     ]
    },
    {
     "name": "stderr",
     "output_type": "stream",
     "text": [
      "frame loading (JPEG): 100%|██████████| 2/2 [00:00<00:00, 14.13it/s]\n",
      "propagate in video:   0%|          | 0/2 [00:00<?, ?it/s]"
     ]
    },
    {
     "name": "stdout",
     "output_type": "stream",
     "text": [
      "\n",
      "Debug: Frame 0 has 1 objects\n",
      "Object IDs: [1]\n"
     ]
    },
    {
     "name": "stderr",
     "output_type": "stream",
     "text": [
      "propagate in video: 100%|██████████| 2/2 [00:05<00:00,  2.53s/it]\n"
     ]
    },
    {
     "name": "stdout",
     "output_type": "stream",
     "text": [
      "\n",
      "Debug: Frame 1 has 1 objects\n",
      "Object IDs: [1]\n",
      "Predicted bbox: [0, 0, 0, 0]\n",
      "Warning: Empty prediction - skipping\n",
      "\n",
      "Processing image 14/49: ricepilaf_000015.jpg\n",
      "Ground truth bbox: [218, 142, 111, 159]\n"
     ]
    },
    {
     "name": "stderr",
     "output_type": "stream",
     "text": [
      "frame loading (JPEG): 100%|██████████| 2/2 [00:00<00:00, 14.57it/s]\n",
      "propagate in video:   0%|          | 0/2 [00:00<?, ?it/s]"
     ]
    },
    {
     "name": "stdout",
     "output_type": "stream",
     "text": [
      "\n",
      "Debug: Frame 0 has 1 objects\n",
      "Object IDs: [1]\n"
     ]
    },
    {
     "name": "stderr",
     "output_type": "stream",
     "text": [
      "propagate in video: 100%|██████████| 2/2 [00:05<00:00,  2.50s/it]\n"
     ]
    },
    {
     "name": "stdout",
     "output_type": "stream",
     "text": [
      "\n",
      "Debug: Frame 1 has 1 objects\n",
      "Object IDs: [1]\n",
      "Predicted bbox: [0, 0, 0, 0]\n",
      "Warning: Empty prediction - skipping\n",
      "\n",
      "Processing image 15/49: ricepilaf_000016.jpg\n",
      "Ground truth bbox: [255, 160, 109, 179]\n"
     ]
    },
    {
     "name": "stderr",
     "output_type": "stream",
     "text": [
      "frame loading (JPEG): 100%|██████████| 2/2 [00:00<00:00, 14.88it/s]\n",
      "propagate in video:   0%|          | 0/2 [00:00<?, ?it/s]"
     ]
    },
    {
     "name": "stdout",
     "output_type": "stream",
     "text": [
      "\n",
      "Debug: Frame 0 has 1 objects\n",
      "Object IDs: [1]\n"
     ]
    },
    {
     "name": "stderr",
     "output_type": "stream",
     "text": [
      "propagate in video: 100%|██████████| 2/2 [00:05<00:00,  2.50s/it]\n"
     ]
    },
    {
     "name": "stdout",
     "output_type": "stream",
     "text": [
      "\n",
      "Debug: Frame 1 has 1 objects\n",
      "Object IDs: [1]\n",
      "Predicted bbox: [0, 0, 0, 0]\n",
      "Warning: Empty prediction - skipping\n",
      "\n",
      "Processing image 16/49: ricepilaf_000017.jpg\n",
      "Ground truth bbox: [317, 123, 139, 150]\n"
     ]
    },
    {
     "name": "stderr",
     "output_type": "stream",
     "text": [
      "frame loading (JPEG): 100%|██████████| 2/2 [00:00<00:00, 12.62it/s]\n",
      "propagate in video:   0%|          | 0/2 [00:00<?, ?it/s]"
     ]
    },
    {
     "name": "stdout",
     "output_type": "stream",
     "text": [
      "\n",
      "Debug: Frame 0 has 1 objects\n",
      "Object IDs: [1]\n"
     ]
    },
    {
     "name": "stderr",
     "output_type": "stream",
     "text": [
      "propagate in video: 100%|██████████| 2/2 [00:04<00:00,  2.47s/it]\n"
     ]
    },
    {
     "name": "stdout",
     "output_type": "stream",
     "text": [
      "\n",
      "Debug: Frame 1 has 1 objects\n",
      "Object IDs: [1]\n",
      "Predicted bbox: [0, 0, 0, 0]\n",
      "Warning: Empty prediction - skipping\n",
      "\n",
      "Processing image 17/49: ricepilaf_000018.jpg\n",
      "Ground truth bbox: [192, 123, 93, 182]\n"
     ]
    },
    {
     "name": "stderr",
     "output_type": "stream",
     "text": [
      "frame loading (JPEG): 100%|██████████| 2/2 [00:00<00:00, 18.47it/s]\n",
      "propagate in video:   0%|          | 0/2 [00:00<?, ?it/s]"
     ]
    },
    {
     "name": "stdout",
     "output_type": "stream",
     "text": [
      "\n",
      "Debug: Frame 0 has 1 objects\n",
      "Object IDs: [1]\n"
     ]
    },
    {
     "name": "stderr",
     "output_type": "stream",
     "text": [
      "propagate in video: 100%|██████████| 2/2 [00:04<00:00,  2.46s/it]\n"
     ]
    },
    {
     "name": "stdout",
     "output_type": "stream",
     "text": [
      "\n",
      "Debug: Frame 1 has 1 objects\n",
      "Object IDs: [1]\n",
      "Predicted bbox: [0, 0, 0, 0]\n",
      "Warning: Empty prediction - skipping\n",
      "\n",
      "Processing image 18/49: ricepilaf_000019.jpg\n",
      "Ground truth bbox: [158, 88, 147, 244]\n"
     ]
    },
    {
     "name": "stderr",
     "output_type": "stream",
     "text": [
      "frame loading (JPEG): 100%|██████████| 2/2 [00:00<00:00, 16.02it/s]\n",
      "propagate in video:   0%|          | 0/2 [00:00<?, ?it/s]"
     ]
    },
    {
     "name": "stdout",
     "output_type": "stream",
     "text": [
      "\n",
      "Debug: Frame 0 has 1 objects\n",
      "Object IDs: [1]\n"
     ]
    },
    {
     "name": "stderr",
     "output_type": "stream",
     "text": [
      "propagate in video: 100%|██████████| 2/2 [00:05<00:00,  2.51s/it]\n"
     ]
    },
    {
     "name": "stdout",
     "output_type": "stream",
     "text": [
      "\n",
      "Debug: Frame 1 has 1 objects\n",
      "Object IDs: [1]\n",
      "Predicted bbox: [0, 0, 0, 0]\n",
      "Warning: Empty prediction - skipping\n",
      "\n",
      "Processing image 19/49: ricepilaf_000020.jpg\n",
      "Ground truth bbox: [123, 80, 124, 244]\n"
     ]
    },
    {
     "name": "stderr",
     "output_type": "stream",
     "text": [
      "frame loading (JPEG): 100%|██████████| 2/2 [00:00<00:00, 15.77it/s]\n",
      "propagate in video:   0%|          | 0/2 [00:00<?, ?it/s]"
     ]
    },
    {
     "name": "stdout",
     "output_type": "stream",
     "text": [
      "\n",
      "Debug: Frame 0 has 1 objects\n",
      "Object IDs: [1]\n"
     ]
    },
    {
     "name": "stderr",
     "output_type": "stream",
     "text": [
      "propagate in video: 100%|██████████| 2/2 [00:05<00:00,  2.52s/it]\n"
     ]
    },
    {
     "name": "stdout",
     "output_type": "stream",
     "text": [
      "\n",
      "Debug: Frame 1 has 1 objects\n",
      "Object IDs: [1]\n",
      "Predicted bbox: [0, 0, 0, 0]\n",
      "Warning: Empty prediction - skipping\n",
      "\n",
      "Processing image 20/49: ricepilaf_000021.jpg\n",
      "Ground truth bbox: [156, 100, 132, 150]\n"
     ]
    },
    {
     "name": "stderr",
     "output_type": "stream",
     "text": [
      "frame loading (JPEG): 100%|██████████| 2/2 [00:00<00:00, 16.03it/s]\n",
      "propagate in video:   0%|          | 0/2 [00:00<?, ?it/s]"
     ]
    },
    {
     "name": "stdout",
     "output_type": "stream",
     "text": [
      "\n",
      "Debug: Frame 0 has 1 objects\n",
      "Object IDs: [1]\n"
     ]
    },
    {
     "name": "stderr",
     "output_type": "stream",
     "text": [
      "propagate in video: 100%|██████████| 2/2 [00:05<00:00,  2.53s/it]\n"
     ]
    },
    {
     "name": "stdout",
     "output_type": "stream",
     "text": [
      "\n",
      "Debug: Frame 1 has 1 objects\n",
      "Object IDs: [1]\n",
      "Predicted bbox: [0, 0, 0, 0]\n",
      "Warning: Empty prediction - skipping\n",
      "\n",
      "Processing image 21/49: ricepilaf_000022.jpg\n",
      "Ground truth bbox: [117, 158, 174, 155]\n"
     ]
    },
    {
     "name": "stderr",
     "output_type": "stream",
     "text": [
      "frame loading (JPEG): 100%|██████████| 2/2 [00:00<00:00, 16.82it/s]\n",
      "propagate in video:   0%|          | 0/2 [00:00<?, ?it/s]"
     ]
    },
    {
     "name": "stdout",
     "output_type": "stream",
     "text": [
      "\n",
      "Debug: Frame 0 has 1 objects\n",
      "Object IDs: [1]\n"
     ]
    },
    {
     "name": "stderr",
     "output_type": "stream",
     "text": [
      "propagate in video: 100%|██████████| 2/2 [00:04<00:00,  2.48s/it]\n"
     ]
    },
    {
     "name": "stdout",
     "output_type": "stream",
     "text": [
      "\n",
      "Debug: Frame 1 has 1 objects\n",
      "Object IDs: [1]\n",
      "Predicted bbox: [432, 152, 36, 104]\n",
      "\n",
      "Processing image 22/49: ricepilaf_000023.jpg\n",
      "Ground truth bbox: [316, 101, 113, 246]\n"
     ]
    },
    {
     "name": "stderr",
     "output_type": "stream",
     "text": [
      "frame loading (JPEG): 100%|██████████| 2/2 [00:00<00:00, 15.55it/s]\n",
      "propagate in video:   0%|          | 0/2 [00:00<?, ?it/s]"
     ]
    },
    {
     "name": "stdout",
     "output_type": "stream",
     "text": [
      "\n",
      "Debug: Frame 0 has 1 objects\n",
      "Object IDs: [1]\n"
     ]
    },
    {
     "name": "stderr",
     "output_type": "stream",
     "text": [
      "propagate in video: 100%|██████████| 2/2 [00:05<00:00,  2.58s/it]\n"
     ]
    },
    {
     "name": "stdout",
     "output_type": "stream",
     "text": [
      "\n",
      "Debug: Frame 1 has 1 objects\n",
      "Object IDs: [1]\n",
      "Predicted bbox: [0, 0, 0, 0]\n",
      "Warning: Empty prediction - skipping\n",
      "\n",
      "Processing image 23/49: ricepilaf_000024.jpg\n",
      "Ground truth bbox: [227, 123, 132, 224]\n"
     ]
    },
    {
     "name": "stderr",
     "output_type": "stream",
     "text": [
      "frame loading (JPEG): 100%|██████████| 2/2 [00:00<00:00, 16.35it/s]\n",
      "propagate in video:   0%|          | 0/2 [00:00<?, ?it/s]"
     ]
    },
    {
     "name": "stdout",
     "output_type": "stream",
     "text": [
      "\n",
      "Debug: Frame 0 has 1 objects\n",
      "Object IDs: [1]\n"
     ]
    },
    {
     "name": "stderr",
     "output_type": "stream",
     "text": [
      "propagate in video: 100%|██████████| 2/2 [00:05<00:00,  2.59s/it]\n"
     ]
    },
    {
     "name": "stdout",
     "output_type": "stream",
     "text": [
      "\n",
      "Debug: Frame 1 has 1 objects\n",
      "Object IDs: [1]\n",
      "Predicted bbox: [0, 0, 0, 0]\n",
      "Warning: Empty prediction - skipping\n",
      "\n",
      "Processing image 24/49: ricepilaf_000025.jpg\n",
      "Ground truth bbox: [326, 101, 99, 236]\n"
     ]
    },
    {
     "name": "stderr",
     "output_type": "stream",
     "text": [
      "frame loading (JPEG): 100%|██████████| 2/2 [00:00<00:00, 16.22it/s]\n",
      "propagate in video:   0%|          | 0/2 [00:00<?, ?it/s]"
     ]
    },
    {
     "name": "stdout",
     "output_type": "stream",
     "text": [
      "\n",
      "Debug: Frame 0 has 1 objects\n",
      "Object IDs: [1]\n"
     ]
    },
    {
     "name": "stderr",
     "output_type": "stream",
     "text": [
      "propagate in video: 100%|██████████| 2/2 [00:04<00:00,  2.46s/it]\n"
     ]
    },
    {
     "name": "stdout",
     "output_type": "stream",
     "text": [
      "\n",
      "Debug: Frame 1 has 1 objects\n",
      "Object IDs: [1]\n",
      "Predicted bbox: [0, 0, 0, 0]\n",
      "Warning: Empty prediction - skipping\n",
      "\n",
      "Processing image 25/49: ricepilaf_000026.jpg\n",
      "Ground truth bbox: [238, 88, 122, 247]\n"
     ]
    },
    {
     "name": "stderr",
     "output_type": "stream",
     "text": [
      "frame loading (JPEG): 100%|██████████| 2/2 [00:00<00:00, 15.61it/s]\n",
      "propagate in video:   0%|          | 0/2 [00:00<?, ?it/s]"
     ]
    },
    {
     "name": "stdout",
     "output_type": "stream",
     "text": [
      "\n",
      "Debug: Frame 0 has 1 objects\n",
      "Object IDs: [1]\n"
     ]
    },
    {
     "name": "stderr",
     "output_type": "stream",
     "text": [
      "propagate in video: 100%|██████████| 2/2 [00:04<00:00,  2.48s/it]\n"
     ]
    },
    {
     "name": "stdout",
     "output_type": "stream",
     "text": [
      "\n",
      "Debug: Frame 1 has 1 objects\n",
      "Object IDs: [1]\n",
      "Predicted bbox: [0, 0, 0, 0]\n",
      "Warning: Empty prediction - skipping\n",
      "\n",
      "Processing image 26/49: ricepilaf_000027.jpg\n",
      "Ground truth bbox: [88, 94, 178, 273]\n"
     ]
    },
    {
     "name": "stderr",
     "output_type": "stream",
     "text": [
      "frame loading (JPEG): 100%|██████████| 2/2 [00:00<00:00, 15.98it/s]\n",
      "propagate in video:   0%|          | 0/2 [00:00<?, ?it/s]"
     ]
    },
    {
     "name": "stdout",
     "output_type": "stream",
     "text": [
      "\n",
      "Debug: Frame 0 has 1 objects\n",
      "Object IDs: [1]\n"
     ]
    },
    {
     "name": "stderr",
     "output_type": "stream",
     "text": [
      "propagate in video: 100%|██████████| 2/2 [00:04<00:00,  2.50s/it]\n"
     ]
    },
    {
     "name": "stdout",
     "output_type": "stream",
     "text": [
      "\n",
      "Debug: Frame 1 has 1 objects\n",
      "Object IDs: [1]\n",
      "Predicted bbox: [0, 0, 0, 0]\n",
      "Warning: Empty prediction - skipping\n",
      "\n",
      "Processing image 27/49: ricepilaf_000028.jpg\n",
      "Ground truth bbox: [293, 241, 219, 151]\n"
     ]
    },
    {
     "name": "stderr",
     "output_type": "stream",
     "text": [
      "frame loading (JPEG): 100%|██████████| 2/2 [00:00<00:00, 15.02it/s]\n",
      "propagate in video:   0%|          | 0/2 [00:00<?, ?it/s]"
     ]
    },
    {
     "name": "stdout",
     "output_type": "stream",
     "text": [
      "\n",
      "Debug: Frame 0 has 1 objects\n",
      "Object IDs: [1]\n"
     ]
    },
    {
     "name": "stderr",
     "output_type": "stream",
     "text": [
      "propagate in video: 100%|██████████| 2/2 [00:04<00:00,  2.48s/it]\n"
     ]
    },
    {
     "name": "stdout",
     "output_type": "stream",
     "text": [
      "\n",
      "Debug: Frame 1 has 1 objects\n",
      "Object IDs: [1]\n",
      "Predicted bbox: [0, 0, 0, 0]\n",
      "Warning: Empty prediction - skipping\n",
      "\n",
      "Processing image 28/49: ricepilaf_000029.jpg\n",
      "Ground truth bbox: [132, 208, 116, 220]\n"
     ]
    },
    {
     "name": "stderr",
     "output_type": "stream",
     "text": [
      "frame loading (JPEG): 100%|██████████| 2/2 [00:00<00:00, 16.10it/s]\n",
      "propagate in video:   0%|          | 0/2 [00:00<?, ?it/s]"
     ]
    },
    {
     "name": "stdout",
     "output_type": "stream",
     "text": [
      "\n",
      "Debug: Frame 0 has 1 objects\n",
      "Object IDs: [1]\n"
     ]
    },
    {
     "name": "stderr",
     "output_type": "stream",
     "text": [
      "propagate in video: 100%|██████████| 2/2 [00:04<00:00,  2.50s/it]\n"
     ]
    },
    {
     "name": "stdout",
     "output_type": "stream",
     "text": [
      "\n",
      "Debug: Frame 1 has 1 objects\n",
      "Object IDs: [1]\n",
      "Predicted bbox: [426, 275, 27, 23]\n",
      "\n",
      "Processing image 29/49: ricepilaf_000030.jpg\n",
      "Ground truth bbox: [191, 42, 138, 168]\n"
     ]
    },
    {
     "name": "stderr",
     "output_type": "stream",
     "text": [
      "frame loading (JPEG): 100%|██████████| 2/2 [00:00<00:00, 16.06it/s]\n",
      "propagate in video:   0%|          | 0/2 [00:00<?, ?it/s]"
     ]
    },
    {
     "name": "stdout",
     "output_type": "stream",
     "text": [
      "\n",
      "Debug: Frame 0 has 1 objects\n",
      "Object IDs: [1]\n"
     ]
    },
    {
     "name": "stderr",
     "output_type": "stream",
     "text": [
      "propagate in video: 100%|██████████| 2/2 [00:04<00:00,  2.46s/it]\n"
     ]
    },
    {
     "name": "stdout",
     "output_type": "stream",
     "text": [
      "\n",
      "Debug: Frame 1 has 1 objects\n",
      "Object IDs: [1]\n",
      "Predicted bbox: [0, 0, 0, 0]\n",
      "Warning: Empty prediction - skipping\n",
      "\n",
      "Processing image 30/49: ricepilaf_000031.jpg\n",
      "Ground truth bbox: [118, 112, 112, 247]\n"
     ]
    },
    {
     "name": "stderr",
     "output_type": "stream",
     "text": [
      "frame loading (JPEG): 100%|██████████| 2/2 [00:00<00:00, 15.07it/s]\n",
      "propagate in video:   0%|          | 0/2 [00:00<?, ?it/s]"
     ]
    },
    {
     "name": "stdout",
     "output_type": "stream",
     "text": [
      "\n",
      "Debug: Frame 0 has 1 objects\n",
      "Object IDs: [1]\n"
     ]
    },
    {
     "name": "stderr",
     "output_type": "stream",
     "text": [
      "propagate in video: 100%|██████████| 2/2 [00:04<00:00,  2.49s/it]\n"
     ]
    },
    {
     "name": "stdout",
     "output_type": "stream",
     "text": [
      "\n",
      "Debug: Frame 1 has 1 objects\n",
      "Object IDs: [1]\n",
      "Predicted bbox: [0, 0, 0, 0]\n",
      "Warning: Empty prediction - skipping\n",
      "\n",
      "Processing image 31/49: ricepilaf_000032.jpg\n",
      "Ground truth bbox: [137, 138, 168, 176]\n"
     ]
    },
    {
     "name": "stderr",
     "output_type": "stream",
     "text": [
      "frame loading (JPEG): 100%|██████████| 2/2 [00:00<00:00, 14.90it/s]\n",
      "propagate in video:   0%|          | 0/2 [00:00<?, ?it/s]"
     ]
    },
    {
     "name": "stdout",
     "output_type": "stream",
     "text": [
      "\n",
      "Debug: Frame 0 has 1 objects\n",
      "Object IDs: [1]\n"
     ]
    },
    {
     "name": "stderr",
     "output_type": "stream",
     "text": [
      "propagate in video: 100%|██████████| 2/2 [00:04<00:00,  2.43s/it]\n"
     ]
    },
    {
     "name": "stdout",
     "output_type": "stream",
     "text": [
      "\n",
      "Debug: Frame 1 has 1 objects\n",
      "Object IDs: [1]\n",
      "Predicted bbox: [0, 0, 0, 0]\n",
      "Warning: Empty prediction - skipping\n",
      "\n",
      "Processing image 32/49: ricepilaf_000033.jpg\n",
      "Ground truth bbox: [165, 206, 89, 221]\n"
     ]
    },
    {
     "name": "stderr",
     "output_type": "stream",
     "text": [
      "frame loading (JPEG): 100%|██████████| 2/2 [00:00<00:00, 13.61it/s]\n",
      "propagate in video:   0%|          | 0/2 [00:00<?, ?it/s]"
     ]
    },
    {
     "name": "stdout",
     "output_type": "stream",
     "text": [
      "\n",
      "Debug: Frame 0 has 1 objects\n",
      "Object IDs: [1]\n"
     ]
    },
    {
     "name": "stderr",
     "output_type": "stream",
     "text": [
      "propagate in video: 100%|██████████| 2/2 [00:05<00:00,  2.54s/it]\n"
     ]
    },
    {
     "name": "stdout",
     "output_type": "stream",
     "text": [
      "\n",
      "Debug: Frame 1 has 1 objects\n",
      "Object IDs: [1]\n",
      "Predicted bbox: [430, 317, 69, 143]\n",
      "\n",
      "Processing image 33/49: ricepilaf_000034.jpg\n",
      "Ground truth bbox: [37, 122, 162, 163]\n"
     ]
    },
    {
     "name": "stderr",
     "output_type": "stream",
     "text": [
      "frame loading (JPEG): 100%|██████████| 2/2 [00:00<00:00, 11.10it/s]\n",
      "propagate in video:   0%|          | 0/2 [00:00<?, ?it/s]"
     ]
    },
    {
     "name": "stdout",
     "output_type": "stream",
     "text": [
      "\n",
      "Debug: Frame 0 has 1 objects\n",
      "Object IDs: [1]\n"
     ]
    },
    {
     "name": "stderr",
     "output_type": "stream",
     "text": [
      "propagate in video: 100%|██████████| 2/2 [00:05<00:00,  2.50s/it]\n"
     ]
    },
    {
     "name": "stdout",
     "output_type": "stream",
     "text": [
      "\n",
      "Debug: Frame 1 has 1 objects\n",
      "Object IDs: [1]\n",
      "Predicted bbox: [0, 0, 0, 0]\n",
      "Warning: Empty prediction - skipping\n",
      "\n",
      "Processing image 34/49: ricepilaf_000035.jpg\n",
      "Ground truth bbox: [149, 164, 146, 217]\n"
     ]
    },
    {
     "name": "stderr",
     "output_type": "stream",
     "text": [
      "frame loading (JPEG): 100%|██████████| 2/2 [00:00<00:00, 14.40it/s]\n",
      "propagate in video:   0%|          | 0/2 [00:00<?, ?it/s]"
     ]
    },
    {
     "name": "stdout",
     "output_type": "stream",
     "text": [
      "\n",
      "Debug: Frame 0 has 1 objects\n",
      "Object IDs: [1]\n"
     ]
    },
    {
     "name": "stderr",
     "output_type": "stream",
     "text": [
      "propagate in video: 100%|██████████| 2/2 [00:04<00:00,  2.47s/it]\n"
     ]
    },
    {
     "name": "stdout",
     "output_type": "stream",
     "text": [
      "\n",
      "Debug: Frame 1 has 1 objects\n",
      "Object IDs: [1]\n",
      "Predicted bbox: [0, 0, 0, 0]\n",
      "Warning: Empty prediction - skipping\n",
      "\n",
      "Processing image 35/49: ricepilaf_000036.jpg\n",
      "Ground truth bbox: [210, 109, 165, 302]\n"
     ]
    },
    {
     "name": "stderr",
     "output_type": "stream",
     "text": [
      "frame loading (JPEG): 100%|██████████| 2/2 [00:00<00:00, 14.99it/s]\n",
      "propagate in video:   0%|          | 0/2 [00:00<?, ?it/s]"
     ]
    },
    {
     "name": "stdout",
     "output_type": "stream",
     "text": [
      "\n",
      "Debug: Frame 0 has 1 objects\n",
      "Object IDs: [1]\n"
     ]
    },
    {
     "name": "stderr",
     "output_type": "stream",
     "text": [
      "propagate in video: 100%|██████████| 2/2 [00:05<00:00,  2.57s/it]\n"
     ]
    },
    {
     "name": "stdout",
     "output_type": "stream",
     "text": [
      "\n",
      "Debug: Frame 1 has 1 objects\n",
      "Object IDs: [1]\n",
      "Predicted bbox: [0, 0, 0, 0]\n",
      "Warning: Empty prediction - skipping\n",
      "\n",
      "Processing image 36/49: ricepilaf_000037.jpg\n",
      "Ground truth bbox: [142, 19, 214, 275]\n"
     ]
    },
    {
     "name": "stderr",
     "output_type": "stream",
     "text": [
      "frame loading (JPEG): 100%|██████████| 2/2 [00:00<00:00, 14.36it/s]\n",
      "propagate in video:   0%|          | 0/2 [00:00<?, ?it/s]"
     ]
    },
    {
     "name": "stdout",
     "output_type": "stream",
     "text": [
      "\n",
      "Debug: Frame 0 has 1 objects\n",
      "Object IDs: [1]\n"
     ]
    },
    {
     "name": "stderr",
     "output_type": "stream",
     "text": [
      "propagate in video: 100%|██████████| 2/2 [00:04<00:00,  2.48s/it]\n"
     ]
    },
    {
     "name": "stdout",
     "output_type": "stream",
     "text": [
      "\n",
      "Debug: Frame 1 has 1 objects\n",
      "Object IDs: [1]\n",
      "Predicted bbox: [0, 0, 0, 0]\n",
      "Warning: Empty prediction - skipping\n",
      "\n",
      "Processing image 37/49: ricepilaf_000038.jpg\n",
      "Ground truth bbox: [175, 212, 125, 186]\n"
     ]
    },
    {
     "name": "stderr",
     "output_type": "stream",
     "text": [
      "frame loading (JPEG): 100%|██████████| 2/2 [00:00<00:00, 17.11it/s]\n",
      "propagate in video:   0%|          | 0/2 [00:00<?, ?it/s]"
     ]
    },
    {
     "name": "stdout",
     "output_type": "stream",
     "text": [
      "\n",
      "Debug: Frame 0 has 1 objects\n",
      "Object IDs: [1]\n"
     ]
    },
    {
     "name": "stderr",
     "output_type": "stream",
     "text": [
      "propagate in video: 100%|██████████| 2/2 [00:04<00:00,  2.44s/it]\n"
     ]
    },
    {
     "name": "stdout",
     "output_type": "stream",
     "text": [
      "\n",
      "Debug: Frame 1 has 1 objects\n",
      "Object IDs: [1]\n",
      "Predicted bbox: [0, 0, 0, 0]\n",
      "Warning: Empty prediction - skipping\n",
      "\n",
      "Processing image 38/49: ricepilaf_000039.jpg\n",
      "Ground truth bbox: [314, 75, 76, 190]\n"
     ]
    },
    {
     "name": "stderr",
     "output_type": "stream",
     "text": [
      "frame loading (JPEG): 100%|██████████| 2/2 [00:00<00:00, 15.45it/s]\n",
      "propagate in video:   0%|          | 0/2 [00:00<?, ?it/s]"
     ]
    },
    {
     "name": "stdout",
     "output_type": "stream",
     "text": [
      "\n",
      "Debug: Frame 0 has 1 objects\n",
      "Object IDs: [1]\n"
     ]
    },
    {
     "name": "stderr",
     "output_type": "stream",
     "text": [
      "propagate in video: 100%|██████████| 2/2 [00:05<00:00,  2.56s/it]\n"
     ]
    },
    {
     "name": "stdout",
     "output_type": "stream",
     "text": [
      "\n",
      "Debug: Frame 1 has 1 objects\n",
      "Object IDs: [1]\n",
      "Predicted bbox: [0, 0, 0, 0]\n",
      "Warning: Empty prediction - skipping\n",
      "\n",
      "Processing image 39/49: ricepilaf_000040.jpg\n",
      "Ground truth bbox: [195, 175, 198, 171]\n"
     ]
    },
    {
     "name": "stderr",
     "output_type": "stream",
     "text": [
      "frame loading (JPEG): 100%|██████████| 2/2 [00:00<00:00, 15.54it/s]\n",
      "propagate in video:   0%|          | 0/2 [00:00<?, ?it/s]"
     ]
    },
    {
     "name": "stdout",
     "output_type": "stream",
     "text": [
      "\n",
      "Debug: Frame 0 has 1 objects\n",
      "Object IDs: [1]\n"
     ]
    },
    {
     "name": "stderr",
     "output_type": "stream",
     "text": [
      "propagate in video: 100%|██████████| 2/2 [00:04<00:00,  2.43s/it]\n"
     ]
    },
    {
     "name": "stdout",
     "output_type": "stream",
     "text": [
      "\n",
      "Debug: Frame 1 has 1 objects\n",
      "Object IDs: [1]\n",
      "Predicted bbox: [0, 0, 0, 0]\n",
      "Warning: Empty prediction - skipping\n",
      "\n",
      "Processing image 40/49: ricepilaf_000041.jpg\n",
      "Ground truth bbox: [311, 176, 157, 241]\n"
     ]
    },
    {
     "name": "stderr",
     "output_type": "stream",
     "text": [
      "frame loading (JPEG): 100%|██████████| 2/2 [00:00<00:00, 12.85it/s]\n",
      "propagate in video:   0%|          | 0/2 [00:00<?, ?it/s]"
     ]
    },
    {
     "name": "stdout",
     "output_type": "stream",
     "text": [
      "\n",
      "Debug: Frame 0 has 1 objects\n",
      "Object IDs: [1]\n"
     ]
    },
    {
     "name": "stderr",
     "output_type": "stream",
     "text": [
      "propagate in video: 100%|██████████| 2/2 [00:04<00:00,  2.44s/it]\n"
     ]
    },
    {
     "name": "stdout",
     "output_type": "stream",
     "text": [
      "\n",
      "Debug: Frame 1 has 1 objects\n",
      "Object IDs: [1]\n",
      "Predicted bbox: [131, 227, 192, 107]\n",
      "\n",
      "Processing image 41/49: ricepilaf_000042.jpg\n",
      "Ground truth bbox: [223, 89, 79, 237]\n"
     ]
    },
    {
     "name": "stderr",
     "output_type": "stream",
     "text": [
      "frame loading (JPEG): 100%|██████████| 2/2 [00:00<00:00, 14.66it/s]\n",
      "propagate in video:   0%|          | 0/2 [00:00<?, ?it/s]"
     ]
    },
    {
     "name": "stdout",
     "output_type": "stream",
     "text": [
      "\n",
      "Debug: Frame 0 has 1 objects\n",
      "Object IDs: [1]\n"
     ]
    },
    {
     "name": "stderr",
     "output_type": "stream",
     "text": [
      "propagate in video: 100%|██████████| 2/2 [00:05<00:00,  2.51s/it]\n"
     ]
    },
    {
     "name": "stdout",
     "output_type": "stream",
     "text": [
      "\n",
      "Debug: Frame 1 has 1 objects\n",
      "Object IDs: [1]\n",
      "Predicted bbox: [0, 0, 0, 0]\n",
      "Warning: Empty prediction - skipping\n",
      "\n",
      "Processing image 42/49: ricepilaf_000043.jpg\n",
      "Ground truth bbox: [275, 121, 92, 216]\n"
     ]
    },
    {
     "name": "stderr",
     "output_type": "stream",
     "text": [
      "frame loading (JPEG): 100%|██████████| 2/2 [00:00<00:00, 14.09it/s]\n",
      "propagate in video:   0%|          | 0/2 [00:00<?, ?it/s]"
     ]
    },
    {
     "name": "stdout",
     "output_type": "stream",
     "text": [
      "\n",
      "Debug: Frame 0 has 1 objects\n",
      "Object IDs: [1]\n"
     ]
    },
    {
     "name": "stderr",
     "output_type": "stream",
     "text": [
      "propagate in video: 100%|██████████| 2/2 [00:04<00:00,  2.41s/it]\n"
     ]
    },
    {
     "name": "stdout",
     "output_type": "stream",
     "text": [
      "\n",
      "Debug: Frame 1 has 1 objects\n",
      "Object IDs: [1]\n",
      "Predicted bbox: [0, 0, 0, 0]\n",
      "Warning: Empty prediction - skipping\n",
      "\n",
      "Processing image 43/49: ricepilaf_000044.jpg\n",
      "Ground truth bbox: [249, 149, 128, 160]\n"
     ]
    },
    {
     "name": "stderr",
     "output_type": "stream",
     "text": [
      "frame loading (JPEG): 100%|██████████| 2/2 [00:00<00:00, 14.52it/s]\n",
      "propagate in video:   0%|          | 0/2 [00:00<?, ?it/s]"
     ]
    },
    {
     "name": "stdout",
     "output_type": "stream",
     "text": [
      "\n",
      "Debug: Frame 0 has 1 objects\n",
      "Object IDs: [1]\n"
     ]
    },
    {
     "name": "stderr",
     "output_type": "stream",
     "text": [
      "propagate in video: 100%|██████████| 2/2 [00:04<00:00,  2.50s/it]\n"
     ]
    },
    {
     "name": "stdout",
     "output_type": "stream",
     "text": [
      "\n",
      "Debug: Frame 1 has 1 objects\n",
      "Object IDs: [1]\n",
      "Predicted bbox: [0, 0, 0, 0]\n",
      "Warning: Empty prediction - skipping\n",
      "\n",
      "Processing image 44/49: ricepilaf_000045.jpg\n",
      "Ground truth bbox: [314, 126, 134, 216]\n"
     ]
    },
    {
     "name": "stderr",
     "output_type": "stream",
     "text": [
      "frame loading (JPEG): 100%|██████████| 2/2 [00:00<00:00, 15.89it/s]\n",
      "propagate in video:   0%|          | 0/2 [00:00<?, ?it/s]"
     ]
    },
    {
     "name": "stdout",
     "output_type": "stream",
     "text": [
      "\n",
      "Debug: Frame 0 has 1 objects\n",
      "Object IDs: [1]\n"
     ]
    },
    {
     "name": "stderr",
     "output_type": "stream",
     "text": [
      "propagate in video: 100%|██████████| 2/2 [00:04<00:00,  2.46s/it]\n"
     ]
    },
    {
     "name": "stdout",
     "output_type": "stream",
     "text": [
      "\n",
      "Debug: Frame 1 has 1 objects\n",
      "Object IDs: [1]\n",
      "Predicted bbox: [0, 0, 0, 0]\n",
      "Warning: Empty prediction - skipping\n",
      "\n",
      "Processing image 45/49: ricepilaf_000046.jpg\n",
      "Ground truth bbox: [292, 160, 161, 150]\n"
     ]
    },
    {
     "name": "stderr",
     "output_type": "stream",
     "text": [
      "frame loading (JPEG): 100%|██████████| 2/2 [00:00<00:00, 16.19it/s]\n",
      "propagate in video:   0%|          | 0/2 [00:00<?, ?it/s]"
     ]
    },
    {
     "name": "stdout",
     "output_type": "stream",
     "text": [
      "\n",
      "Debug: Frame 0 has 1 objects\n",
      "Object IDs: [1]\n"
     ]
    },
    {
     "name": "stderr",
     "output_type": "stream",
     "text": [
      "propagate in video: 100%|██████████| 2/2 [00:04<00:00,  2.46s/it]\n"
     ]
    },
    {
     "name": "stdout",
     "output_type": "stream",
     "text": [
      "\n",
      "Debug: Frame 1 has 1 objects\n",
      "Object IDs: [1]\n",
      "Predicted bbox: [0, 0, 0, 0]\n",
      "Warning: Empty prediction - skipping\n",
      "\n",
      "Processing image 46/49: ricepilaf_000047.jpg\n",
      "Ground truth bbox: [124, 134, 224, 153]\n"
     ]
    },
    {
     "name": "stderr",
     "output_type": "stream",
     "text": [
      "frame loading (JPEG): 100%|██████████| 2/2 [00:00<00:00, 15.60it/s]\n",
      "propagate in video:   0%|          | 0/2 [00:00<?, ?it/s]"
     ]
    },
    {
     "name": "stdout",
     "output_type": "stream",
     "text": [
      "\n",
      "Debug: Frame 0 has 1 objects\n",
      "Object IDs: [1]\n"
     ]
    },
    {
     "name": "stderr",
     "output_type": "stream",
     "text": [
      "propagate in video: 100%|██████████| 2/2 [00:04<00:00,  2.47s/it]\n"
     ]
    },
    {
     "name": "stdout",
     "output_type": "stream",
     "text": [
      "\n",
      "Debug: Frame 1 has 1 objects\n",
      "Object IDs: [1]\n",
      "Predicted bbox: [473, 0, 58, 13]\n",
      "\n",
      "Processing image 47/49: ricepilaf_000048.jpg\n",
      "Ground truth bbox: [321, 255, 90, 158]\n"
     ]
    },
    {
     "name": "stderr",
     "output_type": "stream",
     "text": [
      "frame loading (JPEG): 100%|██████████| 2/2 [00:00<00:00, 15.80it/s]\n",
      "propagate in video:   0%|          | 0/2 [00:00<?, ?it/s]"
     ]
    },
    {
     "name": "stdout",
     "output_type": "stream",
     "text": [
      "\n",
      "Debug: Frame 0 has 1 objects\n",
      "Object IDs: [1]\n"
     ]
    },
    {
     "name": "stderr",
     "output_type": "stream",
     "text": [
      "propagate in video: 100%|██████████| 2/2 [00:04<00:00,  2.47s/it]\n"
     ]
    },
    {
     "name": "stdout",
     "output_type": "stream",
     "text": [
      "\n",
      "Debug: Frame 1 has 1 objects\n",
      "Object IDs: [1]\n",
      "Predicted bbox: [321, 257, 88, 157]\n",
      "\n",
      "Processing image 48/49: ricepilaf_000049.jpg\n",
      "Ground truth bbox: [128, 108, 156, 214]\n"
     ]
    },
    {
     "name": "stderr",
     "output_type": "stream",
     "text": [
      "frame loading (JPEG): 100%|██████████| 2/2 [00:00<00:00, 16.17it/s]\n",
      "propagate in video:   0%|          | 0/2 [00:00<?, ?it/s]"
     ]
    },
    {
     "name": "stdout",
     "output_type": "stream",
     "text": [
      "\n",
      "Debug: Frame 0 has 1 objects\n",
      "Object IDs: [1]\n"
     ]
    },
    {
     "name": "stderr",
     "output_type": "stream",
     "text": [
      "propagate in video: 100%|██████████| 2/2 [00:04<00:00,  2.48s/it]\n"
     ]
    },
    {
     "name": "stdout",
     "output_type": "stream",
     "text": [
      "\n",
      "Debug: Frame 1 has 1 objects\n",
      "Object IDs: [1]\n",
      "Predicted bbox: [0, 0, 0, 0]\n",
      "Warning: Empty prediction - skipping\n",
      "\n",
      "Processing image 49/49: ricepilaf_000050.jpg\n",
      "Ground truth bbox: [229, 111, 114, 167]\n"
     ]
    },
    {
     "name": "stderr",
     "output_type": "stream",
     "text": [
      "frame loading (JPEG): 100%|██████████| 2/2 [00:00<00:00, 15.97it/s]\n",
      "propagate in video:   0%|          | 0/2 [00:00<?, ?it/s]"
     ]
    },
    {
     "name": "stdout",
     "output_type": "stream",
     "text": [
      "\n",
      "Debug: Frame 0 has 1 objects\n",
      "Object IDs: [1]\n"
     ]
    },
    {
     "name": "stderr",
     "output_type": "stream",
     "text": [
      "propagate in video: 100%|██████████| 2/2 [00:04<00:00,  2.43s/it]\n"
     ]
    },
    {
     "name": "stdout",
     "output_type": "stream",
     "text": [
      "\n",
      "Debug: Frame 1 has 1 objects\n",
      "Object IDs: [1]\n",
      "Predicted bbox: [0, 0, 0, 0]\n",
      "Warning: Empty prediction - skipping\n",
      "creating index...\n",
      "index created!\n",
      "Error in COCO evaluation: 'info'\n",
      "\n",
      "Evaluating rice_tuscan...\n",
      "Using reference image: rice_tuscan_000001.jpg\n",
      "Using reference mask: rice_tuscan_000001_1_gt.png\n",
      "Reference bounding box: x=[217,307], y=[66,227]\n",
      "\n",
      "Processing image 1/49: rice_tuscan_000002.jpg\n",
      "Ground truth bbox: [193, 186, 91, 133]\n"
     ]
    },
    {
     "name": "stderr",
     "output_type": "stream",
     "text": [
      "frame loading (JPEG): 100%|██████████| 2/2 [00:00<00:00, 15.67it/s]\n",
      "propagate in video:   0%|          | 0/2 [00:00<?, ?it/s]"
     ]
    },
    {
     "name": "stdout",
     "output_type": "stream",
     "text": [
      "\n",
      "Debug: Frame 0 has 1 objects\n",
      "Object IDs: [1]\n"
     ]
    },
    {
     "name": "stderr",
     "output_type": "stream",
     "text": [
      "propagate in video: 100%|██████████| 2/2 [00:04<00:00,  2.45s/it]\n"
     ]
    },
    {
     "name": "stdout",
     "output_type": "stream",
     "text": [
      "\n",
      "Debug: Frame 1 has 1 objects\n",
      "Object IDs: [1]\n",
      "Predicted bbox: [192, 188, 94, 129]\n",
      "\n",
      "Processing image 2/49: rice_tuscan_000003.jpg\n",
      "Ground truth bbox: [245, 155, 84, 147]\n"
     ]
    },
    {
     "name": "stderr",
     "output_type": "stream",
     "text": [
      "frame loading (JPEG): 100%|██████████| 2/2 [00:00<00:00, 14.83it/s]\n",
      "propagate in video:   0%|          | 0/2 [00:00<?, ?it/s]"
     ]
    },
    {
     "name": "stdout",
     "output_type": "stream",
     "text": [
      "\n",
      "Debug: Frame 0 has 1 objects\n",
      "Object IDs: [1]\n"
     ]
    },
    {
     "name": "stderr",
     "output_type": "stream",
     "text": [
      "propagate in video: 100%|██████████| 2/2 [00:05<00:00,  2.53s/it]\n"
     ]
    },
    {
     "name": "stdout",
     "output_type": "stream",
     "text": [
      "\n",
      "Debug: Frame 1 has 1 objects\n",
      "Object IDs: [1]\n",
      "Predicted bbox: [199, 56, 128, 247]\n",
      "\n",
      "Processing image 3/49: rice_tuscan_000004.jpg\n",
      "Ground truth bbox: [125, 200, 156, 91]\n"
     ]
    },
    {
     "name": "stderr",
     "output_type": "stream",
     "text": [
      "frame loading (JPEG): 100%|██████████| 2/2 [00:00<00:00, 16.38it/s]\n",
      "propagate in video:   0%|          | 0/2 [00:00<?, ?it/s]"
     ]
    },
    {
     "name": "stdout",
     "output_type": "stream",
     "text": [
      "\n",
      "Debug: Frame 0 has 1 objects\n",
      "Object IDs: [1]\n"
     ]
    },
    {
     "name": "stderr",
     "output_type": "stream",
     "text": [
      "propagate in video: 100%|██████████| 2/2 [00:04<00:00,  2.47s/it]\n"
     ]
    },
    {
     "name": "stdout",
     "output_type": "stream",
     "text": [
      "\n",
      "Debug: Frame 1 has 1 objects\n",
      "Object IDs: [1]\n",
      "Predicted bbox: [38, 83, 230, 171]\n",
      "\n",
      "Processing image 4/49: rice_tuscan_000005.jpg\n",
      "Ground truth bbox: [320, 127, 84, 130]\n"
     ]
    },
    {
     "name": "stderr",
     "output_type": "stream",
     "text": [
      "frame loading (JPEG): 100%|██████████| 2/2 [00:00<00:00, 16.76it/s]\n",
      "propagate in video:   0%|          | 0/2 [00:00<?, ?it/s]"
     ]
    },
    {
     "name": "stdout",
     "output_type": "stream",
     "text": [
      "\n",
      "Debug: Frame 0 has 1 objects\n",
      "Object IDs: [1]\n"
     ]
    },
    {
     "name": "stderr",
     "output_type": "stream",
     "text": [
      "propagate in video: 100%|██████████| 2/2 [00:04<00:00,  2.45s/it]\n"
     ]
    },
    {
     "name": "stdout",
     "output_type": "stream",
     "text": [
      "\n",
      "Debug: Frame 1 has 1 objects\n",
      "Object IDs: [1]\n",
      "Predicted bbox: [323, 101, 126, 106]\n",
      "\n",
      "Processing image 5/49: rice_tuscan_000006.jpg\n",
      "Ground truth bbox: [174, 186, 87, 117]\n"
     ]
    },
    {
     "name": "stderr",
     "output_type": "stream",
     "text": [
      "frame loading (JPEG): 100%|██████████| 2/2 [00:00<00:00, 15.87it/s]\n",
      "propagate in video:   0%|          | 0/2 [00:00<?, ?it/s]"
     ]
    },
    {
     "name": "stdout",
     "output_type": "stream",
     "text": [
      "\n",
      "Debug: Frame 0 has 1 objects\n",
      "Object IDs: [1]\n"
     ]
    },
    {
     "name": "stderr",
     "output_type": "stream",
     "text": [
      "propagate in video: 100%|██████████| 2/2 [00:04<00:00,  2.47s/it]\n"
     ]
    },
    {
     "name": "stdout",
     "output_type": "stream",
     "text": [
      "\n",
      "Debug: Frame 1 has 1 objects\n",
      "Object IDs: [1]\n",
      "Predicted bbox: [194, 154, 156, 50]\n",
      "\n",
      "Processing image 6/49: rice_tuscan_000007.jpg\n",
      "Ground truth bbox: [244, 135, 75, 128]\n"
     ]
    },
    {
     "name": "stderr",
     "output_type": "stream",
     "text": [
      "frame loading (JPEG): 100%|██████████| 2/2 [00:00<00:00, 15.38it/s]\n",
      "propagate in video:   0%|          | 0/2 [00:00<?, ?it/s]"
     ]
    },
    {
     "name": "stdout",
     "output_type": "stream",
     "text": [
      "\n",
      "Debug: Frame 0 has 1 objects\n",
      "Object IDs: [1]\n"
     ]
    },
    {
     "name": "stderr",
     "output_type": "stream",
     "text": [
      "propagate in video: 100%|██████████| 2/2 [00:04<00:00,  2.45s/it]\n"
     ]
    },
    {
     "name": "stdout",
     "output_type": "stream",
     "text": [
      "\n",
      "Debug: Frame 1 has 1 objects\n",
      "Object IDs: [1]\n",
      "Predicted bbox: [55, 34, 413, 407]\n",
      "\n",
      "Processing image 7/49: rice_tuscan_000008.jpg\n",
      "Ground truth bbox: [121, 44, 100, 141]\n"
     ]
    },
    {
     "name": "stderr",
     "output_type": "stream",
     "text": [
      "frame loading (JPEG): 100%|██████████| 2/2 [00:00<00:00, 16.64it/s]\n",
      "propagate in video:   0%|          | 0/2 [00:00<?, ?it/s]"
     ]
    },
    {
     "name": "stdout",
     "output_type": "stream",
     "text": [
      "\n",
      "Debug: Frame 0 has 1 objects\n",
      "Object IDs: [1]\n"
     ]
    },
    {
     "name": "stderr",
     "output_type": "stream",
     "text": [
      "propagate in video: 100%|██████████| 2/2 [00:04<00:00,  2.49s/it]\n"
     ]
    },
    {
     "name": "stdout",
     "output_type": "stream",
     "text": [
      "\n",
      "Debug: Frame 1 has 1 objects\n",
      "Object IDs: [1]\n",
      "Predicted bbox: [119, 36, 119, 143]\n",
      "\n",
      "Processing image 8/49: rice_tuscan_000009.jpg\n",
      "Ground truth bbox: [225, 104, 133, 270]\n"
     ]
    },
    {
     "name": "stderr",
     "output_type": "stream",
     "text": [
      "frame loading (JPEG): 100%|██████████| 2/2 [00:00<00:00, 15.37it/s]\n",
      "propagate in video:   0%|          | 0/2 [00:00<?, ?it/s]"
     ]
    },
    {
     "name": "stdout",
     "output_type": "stream",
     "text": [
      "\n",
      "Debug: Frame 0 has 1 objects\n",
      "Object IDs: [1]\n"
     ]
    },
    {
     "name": "stderr",
     "output_type": "stream",
     "text": [
      "propagate in video: 100%|██████████| 2/2 [00:05<00:00,  2.51s/it]\n"
     ]
    },
    {
     "name": "stdout",
     "output_type": "stream",
     "text": [
      "\n",
      "Debug: Frame 1 has 1 objects\n",
      "Object IDs: [1]\n",
      "Predicted bbox: [0, 0, 0, 0]\n",
      "Warning: Empty prediction - skipping\n",
      "\n",
      "Processing image 9/49: rice_tuscan_000010.jpg\n",
      "Ground truth bbox: [244, 118, 103, 209]\n"
     ]
    },
    {
     "name": "stderr",
     "output_type": "stream",
     "text": [
      "frame loading (JPEG): 100%|██████████| 2/2 [00:00<00:00, 19.10it/s]\n",
      "propagate in video:   0%|          | 0/2 [00:00<?, ?it/s]"
     ]
    },
    {
     "name": "stdout",
     "output_type": "stream",
     "text": [
      "\n",
      "Debug: Frame 0 has 1 objects\n",
      "Object IDs: [1]\n"
     ]
    },
    {
     "name": "stderr",
     "output_type": "stream",
     "text": [
      "propagate in video: 100%|██████████| 2/2 [00:05<00:00,  2.55s/it]\n"
     ]
    },
    {
     "name": "stdout",
     "output_type": "stream",
     "text": [
      "\n",
      "Debug: Frame 1 has 1 objects\n",
      "Object IDs: [1]\n",
      "Predicted bbox: [244, 121, 97, 204]\n",
      "\n",
      "Processing image 10/49: rice_tuscan_000011.jpg\n",
      "Ground truth bbox: [258, 91, 135, 250]\n"
     ]
    },
    {
     "name": "stderr",
     "output_type": "stream",
     "text": [
      "frame loading (JPEG): 100%|██████████| 2/2 [00:00<00:00, 15.16it/s]\n",
      "propagate in video:   0%|          | 0/2 [00:00<?, ?it/s]"
     ]
    },
    {
     "name": "stdout",
     "output_type": "stream",
     "text": [
      "\n",
      "Debug: Frame 0 has 1 objects\n",
      "Object IDs: [1]\n"
     ]
    },
    {
     "name": "stderr",
     "output_type": "stream",
     "text": [
      "propagate in video: 100%|██████████| 2/2 [00:05<00:00,  2.52s/it]\n"
     ]
    },
    {
     "name": "stdout",
     "output_type": "stream",
     "text": [
      "\n",
      "Debug: Frame 1 has 1 objects\n",
      "Object IDs: [1]\n",
      "Predicted bbox: [0, 0, 0, 0]\n",
      "Warning: Empty prediction - skipping\n",
      "\n",
      "Processing image 11/49: rice_tuscan_000012.jpg\n",
      "Ground truth bbox: [219, 100, 108, 205]\n"
     ]
    },
    {
     "name": "stderr",
     "output_type": "stream",
     "text": [
      "frame loading (JPEG): 100%|██████████| 2/2 [00:00<00:00, 15.61it/s]\n",
      "propagate in video:   0%|          | 0/2 [00:00<?, ?it/s]"
     ]
    },
    {
     "name": "stdout",
     "output_type": "stream",
     "text": [
      "\n",
      "Debug: Frame 0 has 1 objects\n",
      "Object IDs: [1]\n"
     ]
    },
    {
     "name": "stderr",
     "output_type": "stream",
     "text": [
      "propagate in video: 100%|██████████| 2/2 [00:05<00:00,  2.52s/it]\n"
     ]
    },
    {
     "name": "stdout",
     "output_type": "stream",
     "text": [
      "\n",
      "Debug: Frame 1 has 1 objects\n",
      "Object IDs: [1]\n",
      "Predicted bbox: [223, 105, 103, 196]\n",
      "\n",
      "Processing image 12/49: rice_tuscan_000013.jpg\n",
      "Ground truth bbox: [265, 142, 107, 174]\n"
     ]
    },
    {
     "name": "stderr",
     "output_type": "stream",
     "text": [
      "frame loading (JPEG): 100%|██████████| 2/2 [00:00<00:00, 12.99it/s]\n",
      "propagate in video:   0%|          | 0/2 [00:00<?, ?it/s]"
     ]
    },
    {
     "name": "stdout",
     "output_type": "stream",
     "text": [
      "\n",
      "Debug: Frame 0 has 1 objects\n",
      "Object IDs: [1]\n"
     ]
    },
    {
     "name": "stderr",
     "output_type": "stream",
     "text": [
      "propagate in video: 100%|██████████| 2/2 [00:05<00:00,  2.50s/it]\n"
     ]
    },
    {
     "name": "stdout",
     "output_type": "stream",
     "text": [
      "\n",
      "Debug: Frame 1 has 1 objects\n",
      "Object IDs: [1]\n",
      "Predicted bbox: [263, 149, 107, 168]\n",
      "\n",
      "Processing image 13/49: rice_tuscan_000014.jpg\n",
      "Ground truth bbox: [314, 90, 82, 173]\n"
     ]
    },
    {
     "name": "stderr",
     "output_type": "stream",
     "text": [
      "frame loading (JPEG): 100%|██████████| 2/2 [00:00<00:00, 16.30it/s]\n",
      "propagate in video:   0%|          | 0/2 [00:00<?, ?it/s]"
     ]
    },
    {
     "name": "stdout",
     "output_type": "stream",
     "text": [
      "\n",
      "Debug: Frame 0 has 1 objects\n",
      "Object IDs: [1]\n"
     ]
    },
    {
     "name": "stderr",
     "output_type": "stream",
     "text": [
      "propagate in video: 100%|██████████| 2/2 [00:05<00:00,  2.52s/it]\n"
     ]
    },
    {
     "name": "stdout",
     "output_type": "stream",
     "text": [
      "\n",
      "Debug: Frame 1 has 1 objects\n",
      "Object IDs: [1]\n",
      "Predicted bbox: [0, 0, 0, 0]\n",
      "Warning: Empty prediction - skipping\n",
      "\n",
      "Processing image 14/49: rice_tuscan_000015.jpg\n",
      "Ground truth bbox: [227, 54, 92, 193]\n"
     ]
    },
    {
     "name": "stderr",
     "output_type": "stream",
     "text": [
      "frame loading (JPEG): 100%|██████████| 2/2 [00:00<00:00, 15.00it/s]\n",
      "propagate in video:   0%|          | 0/2 [00:00<?, ?it/s]"
     ]
    },
    {
     "name": "stdout",
     "output_type": "stream",
     "text": [
      "\n",
      "Debug: Frame 0 has 1 objects\n",
      "Object IDs: [1]\n"
     ]
    },
    {
     "name": "stderr",
     "output_type": "stream",
     "text": [
      "propagate in video: 100%|██████████| 2/2 [00:05<00:00,  2.51s/it]\n"
     ]
    },
    {
     "name": "stdout",
     "output_type": "stream",
     "text": [
      "\n",
      "Debug: Frame 1 has 1 objects\n",
      "Object IDs: [1]\n",
      "Predicted bbox: [0, 0, 0, 0]\n",
      "Warning: Empty prediction - skipping\n",
      "\n",
      "Processing image 15/49: rice_tuscan_000016.jpg\n",
      "Ground truth bbox: [316, 94, 108, 207]\n"
     ]
    },
    {
     "name": "stderr",
     "output_type": "stream",
     "text": [
      "frame loading (JPEG): 100%|██████████| 2/2 [00:00<00:00, 18.49it/s]\n",
      "propagate in video:   0%|          | 0/2 [00:00<?, ?it/s]"
     ]
    },
    {
     "name": "stdout",
     "output_type": "stream",
     "text": [
      "\n",
      "Debug: Frame 0 has 1 objects\n",
      "Object IDs: [1]\n"
     ]
    },
    {
     "name": "stderr",
     "output_type": "stream",
     "text": [
      "propagate in video: 100%|██████████| 2/2 [00:04<00:00,  2.48s/it]\n"
     ]
    },
    {
     "name": "stdout",
     "output_type": "stream",
     "text": [
      "\n",
      "Debug: Frame 1 has 1 objects\n",
      "Object IDs: [1]\n",
      "Predicted bbox: [0, 0, 0, 0]\n",
      "Warning: Empty prediction - skipping\n",
      "\n",
      "Processing image 16/49: rice_tuscan_000017.jpg\n",
      "Ground truth bbox: [208, 14, 118, 194]\n"
     ]
    },
    {
     "name": "stderr",
     "output_type": "stream",
     "text": [
      "frame loading (JPEG): 100%|██████████| 2/2 [00:00<00:00, 15.84it/s]\n",
      "propagate in video:   0%|          | 0/2 [00:00<?, ?it/s]"
     ]
    },
    {
     "name": "stdout",
     "output_type": "stream",
     "text": [
      "\n",
      "Debug: Frame 0 has 1 objects\n",
      "Object IDs: [1]\n"
     ]
    },
    {
     "name": "stderr",
     "output_type": "stream",
     "text": [
      "propagate in video: 100%|██████████| 2/2 [00:04<00:00,  2.47s/it]\n"
     ]
    },
    {
     "name": "stdout",
     "output_type": "stream",
     "text": [
      "\n",
      "Debug: Frame 1 has 1 objects\n",
      "Object IDs: [1]\n",
      "Predicted bbox: [206, 16, 120, 195]\n",
      "\n",
      "Processing image 17/49: rice_tuscan_000018.jpg\n",
      "Ground truth bbox: [270, 129, 129, 240]\n"
     ]
    },
    {
     "name": "stderr",
     "output_type": "stream",
     "text": [
      "frame loading (JPEG): 100%|██████████| 2/2 [00:00<00:00, 14.93it/s]\n",
      "propagate in video:   0%|          | 0/2 [00:00<?, ?it/s]"
     ]
    },
    {
     "name": "stdout",
     "output_type": "stream",
     "text": [
      "\n",
      "Debug: Frame 0 has 1 objects\n",
      "Object IDs: [1]\n"
     ]
    },
    {
     "name": "stderr",
     "output_type": "stream",
     "text": [
      "propagate in video: 100%|██████████| 2/2 [00:04<00:00,  2.44s/it]\n"
     ]
    },
    {
     "name": "stdout",
     "output_type": "stream",
     "text": [
      "\n",
      "Debug: Frame 1 has 1 objects\n",
      "Object IDs: [1]\n",
      "Predicted bbox: [0, 0, 0, 0]\n",
      "Warning: Empty prediction - skipping\n",
      "\n",
      "Processing image 18/49: rice_tuscan_000019.jpg\n",
      "Ground truth bbox: [103, 198, 147, 154]\n"
     ]
    },
    {
     "name": "stderr",
     "output_type": "stream",
     "text": [
      "frame loading (JPEG): 100%|██████████| 2/2 [00:00<00:00, 16.92it/s]\n",
      "propagate in video:   0%|          | 0/2 [00:00<?, ?it/s]"
     ]
    },
    {
     "name": "stdout",
     "output_type": "stream",
     "text": [
      "\n",
      "Debug: Frame 0 has 1 objects\n",
      "Object IDs: [1]\n"
     ]
    },
    {
     "name": "stderr",
     "output_type": "stream",
     "text": [
      "propagate in video: 100%|██████████| 2/2 [00:05<00:00,  2.52s/it]\n"
     ]
    },
    {
     "name": "stdout",
     "output_type": "stream",
     "text": [
      "\n",
      "Debug: Frame 1 has 1 objects\n",
      "Object IDs: [1]\n",
      "Predicted bbox: [0, 0, 0, 0]\n",
      "Warning: Empty prediction - skipping\n",
      "\n",
      "Processing image 19/49: rice_tuscan_000020.jpg\n",
      "Ground truth bbox: [86, 165, 184, 158]\n"
     ]
    },
    {
     "name": "stderr",
     "output_type": "stream",
     "text": [
      "frame loading (JPEG): 100%|██████████| 2/2 [00:00<00:00, 14.64it/s]\n",
      "propagate in video:   0%|          | 0/2 [00:00<?, ?it/s]"
     ]
    },
    {
     "name": "stdout",
     "output_type": "stream",
     "text": [
      "\n",
      "Debug: Frame 0 has 1 objects\n",
      "Object IDs: [1]\n"
     ]
    },
    {
     "name": "stderr",
     "output_type": "stream",
     "text": [
      "propagate in video: 100%|██████████| 2/2 [00:04<00:00,  2.48s/it]\n"
     ]
    },
    {
     "name": "stdout",
     "output_type": "stream",
     "text": [
      "\n",
      "Debug: Frame 1 has 1 objects\n",
      "Object IDs: [1]\n",
      "Predicted bbox: [75, 167, 194, 159]\n",
      "\n",
      "Processing image 20/49: rice_tuscan_000021.jpg\n",
      "Ground truth bbox: [129, 95, 178, 248]\n"
     ]
    },
    {
     "name": "stderr",
     "output_type": "stream",
     "text": [
      "frame loading (JPEG): 100%|██████████| 2/2 [00:00<00:00, 15.23it/s]\n",
      "propagate in video:   0%|          | 0/2 [00:00<?, ?it/s]"
     ]
    },
    {
     "name": "stdout",
     "output_type": "stream",
     "text": [
      "\n",
      "Debug: Frame 0 has 1 objects\n",
      "Object IDs: [1]\n"
     ]
    },
    {
     "name": "stderr",
     "output_type": "stream",
     "text": [
      "propagate in video: 100%|██████████| 2/2 [00:04<00:00,  2.46s/it]\n"
     ]
    },
    {
     "name": "stdout",
     "output_type": "stream",
     "text": [
      "\n",
      "Debug: Frame 1 has 1 objects\n",
      "Object IDs: [1]\n",
      "Predicted bbox: [238, 0, 170, 128]\n",
      "\n",
      "Processing image 21/49: rice_tuscan_000022.jpg\n",
      "Ground truth bbox: [166, 69, 107, 252]\n"
     ]
    },
    {
     "name": "stderr",
     "output_type": "stream",
     "text": [
      "frame loading (JPEG): 100%|██████████| 2/2 [00:00<00:00, 12.89it/s]\n",
      "propagate in video:   0%|          | 0/2 [00:00<?, ?it/s]"
     ]
    },
    {
     "name": "stdout",
     "output_type": "stream",
     "text": [
      "\n",
      "Debug: Frame 0 has 1 objects\n",
      "Object IDs: [1]\n"
     ]
    },
    {
     "name": "stderr",
     "output_type": "stream",
     "text": [
      "propagate in video: 100%|██████████| 2/2 [00:04<00:00,  2.44s/it]\n"
     ]
    },
    {
     "name": "stdout",
     "output_type": "stream",
     "text": [
      "\n",
      "Debug: Frame 1 has 1 objects\n",
      "Object IDs: [1]\n",
      "Predicted bbox: [255, 0, 158, 100]\n",
      "\n",
      "Processing image 22/49: rice_tuscan_000023.jpg\n",
      "Ground truth bbox: [166, 125, 110, 207]\n"
     ]
    },
    {
     "name": "stderr",
     "output_type": "stream",
     "text": [
      "frame loading (JPEG): 100%|██████████| 2/2 [00:00<00:00, 16.95it/s]\n",
      "propagate in video:   0%|          | 0/2 [00:00<?, ?it/s]"
     ]
    },
    {
     "name": "stdout",
     "output_type": "stream",
     "text": [
      "\n",
      "Debug: Frame 0 has 1 objects\n",
      "Object IDs: [1]\n"
     ]
    },
    {
     "name": "stderr",
     "output_type": "stream",
     "text": [
      "propagate in video: 100%|██████████| 2/2 [00:04<00:00,  2.42s/it]\n"
     ]
    },
    {
     "name": "stdout",
     "output_type": "stream",
     "text": [
      "\n",
      "Debug: Frame 1 has 1 objects\n",
      "Object IDs: [1]\n",
      "Predicted bbox: [156, 126, 116, 221]\n",
      "\n",
      "Processing image 23/49: rice_tuscan_000024.jpg\n",
      "Ground truth bbox: [241, 32, 90, 181]\n"
     ]
    },
    {
     "name": "stderr",
     "output_type": "stream",
     "text": [
      "frame loading (JPEG): 100%|██████████| 2/2 [00:00<00:00, 16.11it/s]\n",
      "propagate in video:   0%|          | 0/2 [00:00<?, ?it/s]"
     ]
    },
    {
     "name": "stdout",
     "output_type": "stream",
     "text": [
      "\n",
      "Debug: Frame 0 has 1 objects\n",
      "Object IDs: [1]\n"
     ]
    },
    {
     "name": "stderr",
     "output_type": "stream",
     "text": [
      "propagate in video: 100%|██████████| 2/2 [00:04<00:00,  2.47s/it]\n"
     ]
    },
    {
     "name": "stdout",
     "output_type": "stream",
     "text": [
      "\n",
      "Debug: Frame 1 has 1 objects\n",
      "Object IDs: [1]\n",
      "Predicted bbox: [79, 244, 108, 219]\n",
      "\n",
      "Processing image 24/49: rice_tuscan_000025.jpg\n",
      "Ground truth bbox: [96, 149, 189, 278]\n"
     ]
    },
    {
     "name": "stderr",
     "output_type": "stream",
     "text": [
      "frame loading (JPEG): 100%|██████████| 2/2 [00:00<00:00, 16.30it/s]\n",
      "propagate in video:   0%|          | 0/2 [00:00<?, ?it/s]"
     ]
    },
    {
     "name": "stdout",
     "output_type": "stream",
     "text": [
      "\n",
      "Debug: Frame 0 has 1 objects\n",
      "Object IDs: [1]\n"
     ]
    },
    {
     "name": "stderr",
     "output_type": "stream",
     "text": [
      "propagate in video: 100%|██████████| 2/2 [00:04<00:00,  2.49s/it]\n"
     ]
    },
    {
     "name": "stdout",
     "output_type": "stream",
     "text": [
      "\n",
      "Debug: Frame 1 has 1 objects\n",
      "Object IDs: [1]\n",
      "Predicted bbox: [0, 0, 0, 0]\n",
      "Warning: Empty prediction - skipping\n",
      "\n",
      "Processing image 25/49: rice_tuscan_000026.jpg\n",
      "Ground truth bbox: [157, 224, 111, 216]\n"
     ]
    },
    {
     "name": "stderr",
     "output_type": "stream",
     "text": [
      "frame loading (JPEG): 100%|██████████| 2/2 [00:00<00:00, 16.32it/s]\n",
      "propagate in video:   0%|          | 0/2 [00:00<?, ?it/s]"
     ]
    },
    {
     "name": "stdout",
     "output_type": "stream",
     "text": [
      "\n",
      "Debug: Frame 0 has 1 objects\n",
      "Object IDs: [1]\n"
     ]
    },
    {
     "name": "stderr",
     "output_type": "stream",
     "text": [
      "propagate in video: 100%|██████████| 2/2 [00:04<00:00,  2.44s/it]\n"
     ]
    },
    {
     "name": "stdout",
     "output_type": "stream",
     "text": [
      "\n",
      "Debug: Frame 1 has 1 objects\n",
      "Object IDs: [1]\n",
      "Predicted bbox: [260, 261, 41, 169]\n",
      "\n",
      "Processing image 26/49: rice_tuscan_000027.jpg\n",
      "Ground truth bbox: [54, 100, 169, 236]\n"
     ]
    },
    {
     "name": "stderr",
     "output_type": "stream",
     "text": [
      "frame loading (JPEG): 100%|██████████| 2/2 [00:00<00:00, 16.31it/s]\n",
      "propagate in video:   0%|          | 0/2 [00:00<?, ?it/s]"
     ]
    },
    {
     "name": "stdout",
     "output_type": "stream",
     "text": [
      "\n",
      "Debug: Frame 0 has 1 objects\n",
      "Object IDs: [1]\n"
     ]
    },
    {
     "name": "stderr",
     "output_type": "stream",
     "text": [
      "propagate in video: 100%|██████████| 2/2 [00:04<00:00,  2.40s/it]\n"
     ]
    },
    {
     "name": "stdout",
     "output_type": "stream",
     "text": [
      "\n",
      "Debug: Frame 1 has 1 objects\n",
      "Object IDs: [1]\n",
      "Predicted bbox: [0, 0, 0, 0]\n",
      "Warning: Empty prediction - skipping\n",
      "\n",
      "Processing image 27/49: rice_tuscan_000028.jpg\n",
      "Ground truth bbox: [100, 133, 139, 247]\n"
     ]
    },
    {
     "name": "stderr",
     "output_type": "stream",
     "text": [
      "frame loading (JPEG): 100%|██████████| 2/2 [00:00<00:00, 14.72it/s]\n",
      "propagate in video:   0%|          | 0/2 [00:00<?, ?it/s]"
     ]
    },
    {
     "name": "stdout",
     "output_type": "stream",
     "text": [
      "\n",
      "Debug: Frame 0 has 1 objects\n",
      "Object IDs: [1]\n"
     ]
    },
    {
     "name": "stderr",
     "output_type": "stream",
     "text": [
      "propagate in video: 100%|██████████| 2/2 [00:04<00:00,  2.39s/it]\n"
     ]
    },
    {
     "name": "stdout",
     "output_type": "stream",
     "text": [
      "\n",
      "Debug: Frame 1 has 1 objects\n",
      "Object IDs: [1]\n",
      "Predicted bbox: [283, 110, 150, 284]\n",
      "\n",
      "Processing image 28/49: rice_tuscan_000029.jpg\n",
      "Ground truth bbox: [68, 146, 150, 251]\n"
     ]
    },
    {
     "name": "stderr",
     "output_type": "stream",
     "text": [
      "frame loading (JPEG): 100%|██████████| 2/2 [00:00<00:00, 16.18it/s]\n",
      "propagate in video:   0%|          | 0/2 [00:00<?, ?it/s]"
     ]
    },
    {
     "name": "stdout",
     "output_type": "stream",
     "text": [
      "\n",
      "Debug: Frame 0 has 1 objects\n",
      "Object IDs: [1]\n"
     ]
    },
    {
     "name": "stderr",
     "output_type": "stream",
     "text": [
      "propagate in video: 100%|██████████| 2/2 [00:04<00:00,  2.50s/it]\n"
     ]
    },
    {
     "name": "stdout",
     "output_type": "stream",
     "text": [
      "\n",
      "Debug: Frame 1 has 1 objects\n",
      "Object IDs: [1]\n",
      "Predicted bbox: [70, 83, 261, 313]\n",
      "\n",
      "Processing image 29/49: rice_tuscan_000030.jpg\n",
      "Ground truth bbox: [114, 126, 158, 262]\n"
     ]
    },
    {
     "name": "stderr",
     "output_type": "stream",
     "text": [
      "frame loading (JPEG): 100%|██████████| 2/2 [00:00<00:00, 15.49it/s]\n",
      "propagate in video:   0%|          | 0/2 [00:00<?, ?it/s]"
     ]
    },
    {
     "name": "stdout",
     "output_type": "stream",
     "text": [
      "\n",
      "Debug: Frame 0 has 1 objects\n",
      "Object IDs: [1]\n"
     ]
    },
    {
     "name": "stderr",
     "output_type": "stream",
     "text": [
      "propagate in video: 100%|██████████| 2/2 [00:05<00:00,  2.51s/it]\n"
     ]
    },
    {
     "name": "stdout",
     "output_type": "stream",
     "text": [
      "\n",
      "Debug: Frame 1 has 1 objects\n",
      "Object IDs: [1]\n",
      "Predicted bbox: [111, 128, 264, 259]\n",
      "\n",
      "Processing image 30/49: rice_tuscan_000031.jpg\n",
      "Ground truth bbox: [78, 75, 151, 209]\n"
     ]
    },
    {
     "name": "stderr",
     "output_type": "stream",
     "text": [
      "frame loading (JPEG): 100%|██████████| 2/2 [00:00<00:00, 15.75it/s]\n",
      "propagate in video:   0%|          | 0/2 [00:00<?, ?it/s]"
     ]
    },
    {
     "name": "stdout",
     "output_type": "stream",
     "text": [
      "\n",
      "Debug: Frame 0 has 1 objects\n",
      "Object IDs: [1]\n"
     ]
    },
    {
     "name": "stderr",
     "output_type": "stream",
     "text": [
      "propagate in video: 100%|██████████| 2/2 [00:04<00:00,  2.44s/it]\n"
     ]
    },
    {
     "name": "stdout",
     "output_type": "stream",
     "text": [
      "\n",
      "Debug: Frame 1 has 1 objects\n",
      "Object IDs: [1]\n",
      "Predicted bbox: [80, 75, 163, 209]\n",
      "\n",
      "Processing image 31/49: rice_tuscan_000032.jpg\n",
      "Ground truth bbox: [167, 177, 158, 184]\n"
     ]
    },
    {
     "name": "stderr",
     "output_type": "stream",
     "text": [
      "frame loading (JPEG): 100%|██████████| 2/2 [00:00<00:00, 14.85it/s]\n",
      "propagate in video:   0%|          | 0/2 [00:00<?, ?it/s]"
     ]
    },
    {
     "name": "stdout",
     "output_type": "stream",
     "text": [
      "\n",
      "Debug: Frame 0 has 1 objects\n",
      "Object IDs: [1]\n"
     ]
    },
    {
     "name": "stderr",
     "output_type": "stream",
     "text": [
      "propagate in video: 100%|██████████| 2/2 [00:04<00:00,  2.44s/it]\n"
     ]
    },
    {
     "name": "stdout",
     "output_type": "stream",
     "text": [
      "\n",
      "Debug: Frame 1 has 1 objects\n",
      "Object IDs: [1]\n",
      "Predicted bbox: [170, 107, 271, 247]\n",
      "\n",
      "Processing image 32/49: rice_tuscan_000033.jpg\n",
      "Ground truth bbox: [94, 151, 127, 163]\n"
     ]
    },
    {
     "name": "stderr",
     "output_type": "stream",
     "text": [
      "frame loading (JPEG): 100%|██████████| 2/2 [00:00<00:00, 18.66it/s]\n",
      "propagate in video:   0%|          | 0/2 [00:00<?, ?it/s]"
     ]
    },
    {
     "name": "stdout",
     "output_type": "stream",
     "text": [
      "\n",
      "Debug: Frame 0 has 1 objects\n",
      "Object IDs: [1]\n"
     ]
    },
    {
     "name": "stderr",
     "output_type": "stream",
     "text": [
      "propagate in video: 100%|██████████| 2/2 [00:04<00:00,  2.46s/it]\n"
     ]
    },
    {
     "name": "stdout",
     "output_type": "stream",
     "text": [
      "\n",
      "Debug: Frame 1 has 1 objects\n",
      "Object IDs: [1]\n",
      "Predicted bbox: [0, 0, 0, 0]\n",
      "Warning: Empty prediction - skipping\n",
      "\n",
      "Processing image 33/49: rice_tuscan_000034.jpg\n",
      "Ground truth bbox: [394, 240, 142, 147]\n"
     ]
    },
    {
     "name": "stderr",
     "output_type": "stream",
     "text": [
      "frame loading (JPEG): 100%|██████████| 2/2 [00:00<00:00, 17.17it/s]\n",
      "propagate in video:   0%|          | 0/2 [00:00<?, ?it/s]"
     ]
    },
    {
     "name": "stdout",
     "output_type": "stream",
     "text": [
      "\n",
      "Debug: Frame 0 has 1 objects\n",
      "Object IDs: [1]\n"
     ]
    },
    {
     "name": "stderr",
     "output_type": "stream",
     "text": [
      "propagate in video: 100%|██████████| 2/2 [00:04<00:00,  2.47s/it]\n"
     ]
    },
    {
     "name": "stdout",
     "output_type": "stream",
     "text": [
      "\n",
      "Debug: Frame 1 has 1 objects\n",
      "Object IDs: [1]\n",
      "Predicted bbox: [397, 109, 221, 287]\n",
      "\n",
      "Processing image 34/49: rice_tuscan_000035.jpg\n",
      "Ground truth bbox: [363, 192, 122, 166]\n"
     ]
    },
    {
     "name": "stderr",
     "output_type": "stream",
     "text": [
      "frame loading (JPEG): 100%|██████████| 2/2 [00:00<00:00, 16.86it/s]\n",
      "propagate in video:   0%|          | 0/2 [00:00<?, ?it/s]"
     ]
    },
    {
     "name": "stdout",
     "output_type": "stream",
     "text": [
      "\n",
      "Debug: Frame 0 has 1 objects\n",
      "Object IDs: [1]\n"
     ]
    },
    {
     "name": "stderr",
     "output_type": "stream",
     "text": [
      "propagate in video: 100%|██████████| 2/2 [00:04<00:00,  2.49s/it]\n"
     ]
    },
    {
     "name": "stdout",
     "output_type": "stream",
     "text": [
      "\n",
      "Debug: Frame 1 has 1 objects\n",
      "Object IDs: [1]\n",
      "Predicted bbox: [8, 136, 136, 148]\n",
      "\n",
      "Processing image 35/49: rice_tuscan_000036.jpg\n",
      "Ground truth bbox: [238, 161, 68, 179]\n"
     ]
    },
    {
     "name": "stderr",
     "output_type": "stream",
     "text": [
      "frame loading (JPEG): 100%|██████████| 2/2 [00:00<00:00, 17.70it/s]\n",
      "propagate in video:   0%|          | 0/2 [00:00<?, ?it/s]"
     ]
    },
    {
     "name": "stdout",
     "output_type": "stream",
     "text": [
      "\n",
      "Debug: Frame 0 has 1 objects\n",
      "Object IDs: [1]\n"
     ]
    },
    {
     "name": "stderr",
     "output_type": "stream",
     "text": [
      "propagate in video: 100%|██████████| 2/2 [00:04<00:00,  2.50s/it]\n"
     ]
    },
    {
     "name": "stdout",
     "output_type": "stream",
     "text": [
      "\n",
      "Debug: Frame 1 has 1 objects\n",
      "Object IDs: [1]\n",
      "Predicted bbox: [0, 0, 0, 0]\n",
      "Warning: Empty prediction - skipping\n",
      "\n",
      "Processing image 36/49: rice_tuscan_000037.jpg\n",
      "Ground truth bbox: [187, 222, 159, 181]\n"
     ]
    },
    {
     "name": "stderr",
     "output_type": "stream",
     "text": [
      "frame loading (JPEG): 100%|██████████| 2/2 [00:00<00:00, 15.83it/s]\n",
      "propagate in video:   0%|          | 0/2 [00:00<?, ?it/s]"
     ]
    },
    {
     "name": "stdout",
     "output_type": "stream",
     "text": [
      "\n",
      "Debug: Frame 0 has 1 objects\n",
      "Object IDs: [1]\n"
     ]
    },
    {
     "name": "stderr",
     "output_type": "stream",
     "text": [
      "propagate in video: 100%|██████████| 2/2 [00:04<00:00,  2.40s/it]\n"
     ]
    },
    {
     "name": "stdout",
     "output_type": "stream",
     "text": [
      "\n",
      "Debug: Frame 1 has 1 objects\n",
      "Object IDs: [1]\n",
      "Predicted bbox: [0, 0, 0, 0]\n",
      "Warning: Empty prediction - skipping\n",
      "\n",
      "Processing image 37/49: rice_tuscan_000038.jpg\n",
      "Ground truth bbox: [228, 133, 75, 183]\n"
     ]
    },
    {
     "name": "stderr",
     "output_type": "stream",
     "text": [
      "frame loading (JPEG): 100%|██████████| 2/2 [00:00<00:00, 17.41it/s]\n",
      "propagate in video:   0%|          | 0/2 [00:00<?, ?it/s]"
     ]
    },
    {
     "name": "stdout",
     "output_type": "stream",
     "text": [
      "\n",
      "Debug: Frame 0 has 1 objects\n",
      "Object IDs: [1]\n"
     ]
    },
    {
     "name": "stderr",
     "output_type": "stream",
     "text": [
      "propagate in video: 100%|██████████| 2/2 [00:05<00:00,  2.50s/it]\n"
     ]
    },
    {
     "name": "stdout",
     "output_type": "stream",
     "text": [
      "\n",
      "Debug: Frame 1 has 1 objects\n",
      "Object IDs: [1]\n",
      "Predicted bbox: [319, 172, 107, 144]\n",
      "\n",
      "Processing image 38/49: rice_tuscan_000039.jpg\n",
      "Ground truth bbox: [111, 149, 122, 201]\n"
     ]
    },
    {
     "name": "stderr",
     "output_type": "stream",
     "text": [
      "frame loading (JPEG): 100%|██████████| 2/2 [00:00<00:00, 15.81it/s]\n",
      "propagate in video:   0%|          | 0/2 [00:00<?, ?it/s]"
     ]
    },
    {
     "name": "stdout",
     "output_type": "stream",
     "text": [
      "\n",
      "Debug: Frame 0 has 1 objects\n",
      "Object IDs: [1]\n"
     ]
    },
    {
     "name": "stderr",
     "output_type": "stream",
     "text": [
      "propagate in video: 100%|██████████| 2/2 [00:04<00:00,  2.49s/it]\n"
     ]
    },
    {
     "name": "stdout",
     "output_type": "stream",
     "text": [
      "\n",
      "Debug: Frame 1 has 1 objects\n",
      "Object IDs: [1]\n",
      "Predicted bbox: [114, 142, 107, 206]\n",
      "\n",
      "Processing image 39/49: rice_tuscan_000040.jpg\n",
      "Ground truth bbox: [84, 72, 146, 249]\n"
     ]
    },
    {
     "name": "stderr",
     "output_type": "stream",
     "text": [
      "frame loading (JPEG): 100%|██████████| 2/2 [00:00<00:00, 17.04it/s]\n",
      "propagate in video:   0%|          | 0/2 [00:00<?, ?it/s]"
     ]
    },
    {
     "name": "stdout",
     "output_type": "stream",
     "text": [
      "\n",
      "Debug: Frame 0 has 1 objects\n",
      "Object IDs: [1]\n"
     ]
    },
    {
     "name": "stderr",
     "output_type": "stream",
     "text": [
      "propagate in video: 100%|██████████| 2/2 [00:04<00:00,  2.43s/it]\n"
     ]
    },
    {
     "name": "stdout",
     "output_type": "stream",
     "text": [
      "\n",
      "Debug: Frame 1 has 1 objects\n",
      "Object IDs: [1]\n",
      "Predicted bbox: [81, 73, 128, 247]\n",
      "\n",
      "Processing image 40/49: rice_tuscan_000041.jpg\n",
      "Ground truth bbox: [136, 193, 96, 187]\n"
     ]
    },
    {
     "name": "stderr",
     "output_type": "stream",
     "text": [
      "frame loading (JPEG): 100%|██████████| 2/2 [00:00<00:00, 15.52it/s]\n",
      "propagate in video:   0%|          | 0/2 [00:00<?, ?it/s]"
     ]
    },
    {
     "name": "stdout",
     "output_type": "stream",
     "text": [
      "\n",
      "Debug: Frame 0 has 1 objects\n",
      "Object IDs: [1]\n"
     ]
    },
    {
     "name": "stderr",
     "output_type": "stream",
     "text": [
      "propagate in video: 100%|██████████| 2/2 [00:04<00:00,  2.41s/it]\n"
     ]
    },
    {
     "name": "stdout",
     "output_type": "stream",
     "text": [
      "\n",
      "Debug: Frame 1 has 1 objects\n",
      "Object IDs: [1]\n",
      "Predicted bbox: [371, 173, 84, 134]\n",
      "\n",
      "Processing image 41/49: rice_tuscan_000042.jpg\n",
      "Ground truth bbox: [111, 144, 103, 221]\n"
     ]
    },
    {
     "name": "stderr",
     "output_type": "stream",
     "text": [
      "frame loading (JPEG): 100%|██████████| 2/2 [00:00<00:00, 16.01it/s]\n",
      "propagate in video:   0%|          | 0/2 [00:00<?, ?it/s]"
     ]
    },
    {
     "name": "stdout",
     "output_type": "stream",
     "text": [
      "\n",
      "Debug: Frame 0 has 1 objects\n",
      "Object IDs: [1]\n"
     ]
    },
    {
     "name": "stderr",
     "output_type": "stream",
     "text": [
      "propagate in video: 100%|██████████| 2/2 [00:04<00:00,  2.42s/it]\n"
     ]
    },
    {
     "name": "stdout",
     "output_type": "stream",
     "text": [
      "\n",
      "Debug: Frame 1 has 1 objects\n",
      "Object IDs: [1]\n",
      "Predicted bbox: [0, 0, 0, 0]\n",
      "Warning: Empty prediction - skipping\n",
      "\n",
      "Processing image 42/49: rice_tuscan_000043.jpg\n",
      "Ground truth bbox: [160, 180, 206, 48]\n"
     ]
    },
    {
     "name": "stderr",
     "output_type": "stream",
     "text": [
      "frame loading (JPEG): 100%|██████████| 2/2 [00:00<00:00, 15.11it/s]\n",
      "propagate in video:   0%|          | 0/2 [00:00<?, ?it/s]"
     ]
    },
    {
     "name": "stdout",
     "output_type": "stream",
     "text": [
      "\n",
      "Debug: Frame 0 has 1 objects\n",
      "Object IDs: [1]\n"
     ]
    },
    {
     "name": "stderr",
     "output_type": "stream",
     "text": [
      "propagate in video: 100%|██████████| 2/2 [00:05<00:00,  2.52s/it]\n"
     ]
    },
    {
     "name": "stdout",
     "output_type": "stream",
     "text": [
      "\n",
      "Debug: Frame 1 has 1 objects\n",
      "Object IDs: [1]\n",
      "Predicted bbox: [0, 0, 0, 0]\n",
      "Warning: Empty prediction - skipping\n",
      "\n",
      "Processing image 43/49: rice_tuscan_000044.jpg\n",
      "Ground truth bbox: [39, 182, 94, 173]\n"
     ]
    },
    {
     "name": "stderr",
     "output_type": "stream",
     "text": [
      "frame loading (JPEG): 100%|██████████| 2/2 [00:00<00:00, 16.44it/s]\n",
      "propagate in video:   0%|          | 0/2 [00:00<?, ?it/s]"
     ]
    },
    {
     "name": "stdout",
     "output_type": "stream",
     "text": [
      "\n",
      "Debug: Frame 0 has 1 objects\n",
      "Object IDs: [1]\n"
     ]
    },
    {
     "name": "stderr",
     "output_type": "stream",
     "text": [
      "propagate in video: 100%|██████████| 2/2 [00:05<00:00,  2.57s/it]\n"
     ]
    },
    {
     "name": "stdout",
     "output_type": "stream",
     "text": [
      "\n",
      "Debug: Frame 1 has 1 objects\n",
      "Object IDs: [1]\n",
      "Predicted bbox: [38, 187, 153, 166]\n",
      "\n",
      "Processing image 44/49: rice_tuscan_000045.jpg\n",
      "Ground truth bbox: [242, 134, 112, 145]\n"
     ]
    },
    {
     "name": "stderr",
     "output_type": "stream",
     "text": [
      "frame loading (JPEG): 100%|██████████| 2/2 [00:00<00:00, 14.48it/s]\n",
      "propagate in video:   0%|          | 0/2 [00:00<?, ?it/s]"
     ]
    },
    {
     "name": "stdout",
     "output_type": "stream",
     "text": [
      "\n",
      "Debug: Frame 0 has 1 objects\n",
      "Object IDs: [1]\n"
     ]
    },
    {
     "name": "stderr",
     "output_type": "stream",
     "text": [
      "propagate in video: 100%|██████████| 2/2 [00:04<00:00,  2.49s/it]\n"
     ]
    },
    {
     "name": "stdout",
     "output_type": "stream",
     "text": [
      "\n",
      "Debug: Frame 1 has 1 objects\n",
      "Object IDs: [1]\n",
      "Predicted bbox: [0, 0, 0, 0]\n",
      "Warning: Empty prediction - skipping\n",
      "\n",
      "Processing image 45/49: rice_tuscan_000046.jpg\n",
      "Ground truth bbox: [364, 178, 126, 159]\n"
     ]
    },
    {
     "name": "stderr",
     "output_type": "stream",
     "text": [
      "frame loading (JPEG): 100%|██████████| 2/2 [00:00<00:00, 15.81it/s]\n",
      "propagate in video:   0%|          | 0/2 [00:00<?, ?it/s]"
     ]
    },
    {
     "name": "stdout",
     "output_type": "stream",
     "text": [
      "\n",
      "Debug: Frame 0 has 1 objects\n",
      "Object IDs: [1]\n"
     ]
    },
    {
     "name": "stderr",
     "output_type": "stream",
     "text": [
      "propagate in video: 100%|██████████| 2/2 [00:04<00:00,  2.48s/it]\n"
     ]
    },
    {
     "name": "stdout",
     "output_type": "stream",
     "text": [
      "\n",
      "Debug: Frame 1 has 1 objects\n",
      "Object IDs: [1]\n",
      "Predicted bbox: [0, 0, 0, 0]\n",
      "Warning: Empty prediction - skipping\n",
      "\n",
      "Processing image 46/49: rice_tuscan_000047.jpg\n",
      "Ground truth bbox: [107, 207, 227, 175]\n"
     ]
    },
    {
     "name": "stderr",
     "output_type": "stream",
     "text": [
      "frame loading (JPEG): 100%|██████████| 2/2 [00:00<00:00, 16.26it/s]\n",
      "propagate in video:   0%|          | 0/2 [00:00<?, ?it/s]"
     ]
    },
    {
     "name": "stdout",
     "output_type": "stream",
     "text": [
      "\n",
      "Debug: Frame 0 has 1 objects\n",
      "Object IDs: [1]\n"
     ]
    },
    {
     "name": "stderr",
     "output_type": "stream",
     "text": [
      "propagate in video: 100%|██████████| 2/2 [00:05<00:00,  2.52s/it]\n"
     ]
    },
    {
     "name": "stdout",
     "output_type": "stream",
     "text": [
      "\n",
      "Debug: Frame 1 has 1 objects\n",
      "Object IDs: [1]\n",
      "Predicted bbox: [0, 0, 0, 0]\n",
      "Warning: Empty prediction - skipping\n",
      "\n",
      "Processing image 47/49: rice_tuscan_000048.jpg\n",
      "Ground truth bbox: [416, 149, 100, 214]\n"
     ]
    },
    {
     "name": "stderr",
     "output_type": "stream",
     "text": [
      "frame loading (JPEG): 100%|██████████| 2/2 [00:00<00:00, 14.05it/s]\n",
      "propagate in video:   0%|          | 0/2 [00:00<?, ?it/s]"
     ]
    },
    {
     "name": "stdout",
     "output_type": "stream",
     "text": [
      "\n",
      "Debug: Frame 0 has 1 objects\n",
      "Object IDs: [1]\n"
     ]
    },
    {
     "name": "stderr",
     "output_type": "stream",
     "text": [
      "propagate in video: 100%|██████████| 2/2 [00:04<00:00,  2.47s/it]\n"
     ]
    },
    {
     "name": "stdout",
     "output_type": "stream",
     "text": [
      "\n",
      "Debug: Frame 1 has 1 objects\n",
      "Object IDs: [1]\n",
      "Predicted bbox: [0, 0, 0, 0]\n",
      "Warning: Empty prediction - skipping\n",
      "\n",
      "Processing image 48/49: rice_tuscan_000049.jpg\n",
      "Ground truth bbox: [162, 143, 115, 165]\n"
     ]
    },
    {
     "name": "stderr",
     "output_type": "stream",
     "text": [
      "frame loading (JPEG): 100%|██████████| 2/2 [00:00<00:00, 16.00it/s]\n",
      "propagate in video:   0%|          | 0/2 [00:00<?, ?it/s]"
     ]
    },
    {
     "name": "stdout",
     "output_type": "stream",
     "text": [
      "\n",
      "Debug: Frame 0 has 1 objects\n",
      "Object IDs: [1]\n"
     ]
    },
    {
     "name": "stderr",
     "output_type": "stream",
     "text": [
      "propagate in video: 100%|██████████| 2/2 [00:04<00:00,  2.48s/it]\n"
     ]
    },
    {
     "name": "stdout",
     "output_type": "stream",
     "text": [
      "\n",
      "Debug: Frame 1 has 1 objects\n",
      "Object IDs: [1]\n",
      "Predicted bbox: [0, 0, 0, 0]\n",
      "Warning: Empty prediction - skipping\n",
      "\n",
      "Processing image 49/49: rice_tuscan_000050.jpg\n",
      "Ground truth bbox: [347, 234, 119, 205]\n"
     ]
    },
    {
     "name": "stderr",
     "output_type": "stream",
     "text": [
      "frame loading (JPEG): 100%|██████████| 2/2 [00:00<00:00, 16.24it/s]\n",
      "propagate in video:   0%|          | 0/2 [00:00<?, ?it/s]"
     ]
    },
    {
     "name": "stdout",
     "output_type": "stream",
     "text": [
      "\n",
      "Debug: Frame 0 has 1 objects\n",
      "Object IDs: [1]\n"
     ]
    },
    {
     "name": "stderr",
     "output_type": "stream",
     "text": [
      "propagate in video: 100%|██████████| 2/2 [00:04<00:00,  2.46s/it]"
     ]
    },
    {
     "name": "stdout",
     "output_type": "stream",
     "text": [
      "\n",
      "Debug: Frame 1 has 1 objects\n",
      "Object IDs: [1]\n",
      "Predicted bbox: [6, 137, 562, 339]\n",
      "creating index...\n",
      "index created!\n",
      "Error in COCO evaluation: 'info'\n",
      "\n",
      "=== Final Results ===\n"
     ]
    },
    {
     "name": "stderr",
     "output_type": "stream",
     "text": [
      "\n"
     ]
    }
   ],
   "source": [
    "def main():\n",
    "    data_dir = r\"C:\\Users\\dell\\Desktop\\Assignment\\CMU10_3D\\data_2D\"\n",
    "    \n",
    "    # Group files by category\n",
    "    category_dict = group_files_by_category(data_dir)\n",
    "    \n",
    "    # Evaluate each category\n",
    "    results = {}\n",
    "    for category, files in category_dict.items():\n",
    "        # Create image-mask pairs\n",
    "        image_mask_pairs = []\n",
    "        for img in files['images']:\n",
    "            base_name = os.path.splitext(os.path.basename(img))[0]\n",
    "            masks = [mask for (img_path, mask) in files['masks'] \n",
    "                    if base_name in os.path.basename(mask)]\n",
    "            \n",
    "            if masks:\n",
    "                image_mask_pairs.append((img, masks[0]))  # Using first mask\n",
    "        \n",
    "        if len(image_mask_pairs) < 2:\n",
    "            print(f\"Skipping {category} - needs at least 2 images with masks\")\n",
    "            continue\n",
    "            \n",
    "        stats = evaluate_product_category(category, image_mask_pairs)\n",
    "        \n",
    "        if stats is not None:\n",
    "            results[category] = {\n",
    "                \"AP\": stats[0],  # AP @ IoU=0.50:0.95\n",
    "                \"AP50\": stats[1],  # AP @ IoU=0.50\n",
    "                \"AP75\": stats[2],  # AP @ IoU=0.75\n",
    "                \"AR\": stats[8]     # AR @ maxDets=100\n",
    "            }\n",
    "    \n",
    "    # Print results\n",
    "    print(\"\\n=== Final Results ===\")\n",
    "    for product, metrics in results.items():\n",
    "        print(f\"\\n{product}:\")\n",
    "        print(f\"  AP: {metrics['AP']:.3f}\")\n",
    "        print(f\"  AP50: {metrics['AP50']:.3f}\")\n",
    "        print(f\"  AP75: {metrics['AP75']:.3f}\")\n",
    "        print(f\"  AR: {metrics['AR']:.3f}\")\n",
    "\n",
    "if __name__ == \"__main__\":\n",
    "    main()"
   ]
  },
  {
   "cell_type": "code",
   "execution_count": null,
   "id": "7a7ccd5f",
   "metadata": {},
   "outputs": [],
   "source": []
  },
  {
   "cell_type": "code",
   "execution_count": null,
   "id": "c2daaf22",
   "metadata": {},
   "outputs": [],
   "source": [
    "import os\n",
    "import glob\n",
    "import shutil\n",
    "import numpy as np\n",
    "from PIL import Image\n",
    "import matplotlib.pyplot as plt\n",
    "import matplotlib.patches as patches\n",
    "from pycocotools import mask as cocomask\n",
    "from pycocotools.coco import COCO\n",
    "from pycocotools.cocoeval import COCOeval\n",
    "from collections import defaultdict\n",
    "import torch\n",
    "from sam2.build_sam import build_sam2\n",
    "from sam2.automatic_mask_generator import SAM2AutomaticMaskGenerator\n",
    "from sam2.sam2_image_predictor import SAM2ImagePredictor\n",
    "from sam2.build_sam import build_sam2_video_predictor\n",
    "\n",
    "\n",
    "# SAM2 model setup\n",
    "checkpoint = r\"C:\\Users\\dell\\Desktop\\Assignment\\sam2_hiera_tiny.pt\"\n",
    "model_cfg = r\"C:\\Users\\dell\\Desktop\\Assignment\\sam2\\configs\\sam2\\sam2_hiera_t.yaml\"\n",
    "\n",
    "\n",
    "# Initialize SAM2 components\n",
    "predictor_prompt = SAM2ImagePredictor(build_sam2(model_cfg, checkpoint, device='cpu'))\n",
    "sam2 = build_sam2(model_cfg, checkpoint, device='cpu', apply_postprocessing=False)\n",
    "mask_generator = SAM2AutomaticMaskGenerator(sam2)\n",
    "predictor_vid = build_sam2_video_predictor(model_cfg, checkpoint, device='cpu')\n",
    "\n",
    "# Temporary directory for processing\n",
    "tempfolder = \"./tempdir\"\n",
    "\n",
    "def create_if_not_exists(dirname):\n",
    "    if not os.path.exists(dirname):\n",
    "        os.mkdir(dirname)\n",
    "\n",
    "def cleardir(tempfolder):\n",
    "    filepaths = glob.glob(tempfolder+\"/*\")\n",
    "    for filepath in filepaths:\n",
    "        os.unlink(filepath)\n",
    "\n",
    "def show_mask(mask, ax, obj_id=None, random_color=False):\n",
    "    if random_color:\n",
    "        color = np.concatenate([np.random.random(3), np.array([0.6])], axis=0)\n",
    "    else:\n",
    "        cmap = plt.get_cmap(\"tab10\")\n",
    "        cmap_idx = 0 if obj_id is None else obj_id\n",
    "        color = np.array([*cmap(cmap_idx)[:3], 0.6])\n",
    "    h, w = mask.shape[-2:]\n",
    "    mask_image = mask.reshape(h, w, 1) * color.reshape(1, 1, -1)\n",
    "    ax.imshow(mask_image)\n",
    "\n",
    "def track_item_boxes(imgpath1, imgpath2, img1boxclasslist, visualize=True):\n",
    "    \"\"\"Track objects between two images using SAM2\"\"\"\n",
    "    create_if_not_exists(tempfolder)\n",
    "    cleardir(tempfolder)\n",
    "    shutil.copy(imgpath1, os.path.join(tempfolder, \"00000.jpg\"))\n",
    "    shutil.copy(imgpath2, os.path.join(tempfolder, \"00001.jpg\"))\n",
    "    \n",
    "    inference_state = predictor_vid.init_state(video_path=\"./tempdir\")\n",
    "    predictor_vid.reset_state(inference_state)\n",
    "    ann_frame_idx = 0\n",
    "    \n",
    "    for img1boxclass in img1boxclasslist:\n",
    "        ([xmin, xmax, ymin, ymax], objectnumint) = img1boxclass\n",
    "        box = np.array([xmin, ymin, xmax, ymax], dtype=np.float32)\n",
    "        _, out_obj_ids, out_mask_logits = predictor_vid.add_new_points_or_box(\n",
    "            inference_state=inference_state,\n",
    "            frame_idx=ann_frame_idx,\n",
    "            obj_id=objectnumint,\n",
    "            box=box,\n",
    "        )\n",
    "    \n",
    "    video_segments = {}\n",
    "    for out_frame_idx, out_obj_ids, out_mask_logits in predictor_vid.propagate_in_video(inference_state):\n",
    "        print(f\"\\nDebug: Frame {out_frame_idx} has {len(out_obj_ids)} objects\")  # Debug print\n",
    "        print(f\"Object IDs: {out_obj_ids}\")  # Debug print\n",
    "        \n",
    "        video_segments[out_frame_idx] = {\n",
    "            out_obj_id: (out_mask_logits[i] > 0.0).cpu().numpy()\n",
    "            for i, out_obj_id in enumerate(out_obj_ids)\n",
    "        }\n",
    "    \n",
    "    if visualize:\n",
    "        fig, ax = plt.subplots()\n",
    "        plt.title(f\"original image object ::\")\n",
    "        ax.imshow(Image.open(os.path.join(tempfolder, \"00000.jpg\")))\n",
    "        rect = patches.Rectangle((xmin, ymin), xmax-xmin, ymax-ymin, \n",
    "                               linewidth=1, edgecolor='r', facecolor='none')\n",
    "        ax.add_patch(rect)\n",
    "        plt.show()\n",
    "        \n",
    "        out_frame_idx = 1\n",
    "        plt.figure(figsize=(6, 4))\n",
    "        plt.title(f\"detected object in test image ::\")\n",
    "        plt.imshow(Image.open(os.path.join(tempfolder, \"00001.jpg\")))\n",
    "        for out_obj_id, out_mask in video_segments[out_frame_idx].items():\n",
    "            show_mask(out_mask, plt.gca(), obj_id=out_obj_id)\n",
    "        plt.show()\n",
    "    \n",
    "    return video_segments\n",
    "\n",
    "def extract_category_from_filename(filename):\n",
    "    \"\"\"Extract category name from filename\"\"\"\n",
    "    return '_'.join(os.path.basename(filename).split('_')[:-1])\n",
    "\n",
    "def group_files_by_category(data_dir):\n",
    "    \"\"\"Group image and mask files by their product category\"\"\"\n",
    "    image_files = glob.glob(os.path.join(data_dir, \"*.jpg\"))\n",
    "    mask_files = glob.glob(os.path.join(data_dir, \"*_gt.png\"))\n",
    "    \n",
    "    category_dict = defaultdict(lambda: {'images': [], 'masks': []})\n",
    "    \n",
    "    for img in image_files:\n",
    "        category = extract_category_from_filename(img)\n",
    "        category_dict[category]['images'].append(img)\n",
    "    \n",
    "    for mask in mask_files:\n",
    "        base_name = '_'.join(os.path.basename(mask).split('_')[:-2])\n",
    "        category = extract_category_from_filename(base_name + '.jpg')\n",
    "        \n",
    "        matching_images = [img for img in category_dict[category]['images'] \n",
    "                         if base_name in img]\n",
    "        \n",
    "        for img in matching_images:\n",
    "            category_dict[category]['masks'].append((img, mask))\n",
    "    \n",
    "    return category_dict\n",
    "\n",
    "def process_img_png_mask(img_path, mask_path, visualize=False):\n",
    "    \"\"\"Extract bounding box coordinates from mask\"\"\"\n",
    "    try:\n",
    "        img = Image.open(img_path)\n",
    "        mask = Image.open(mask_path)\n",
    "        mask_array = np.array(mask)\n",
    "        \n",
    "        if mask_array.size == 0:\n",
    "            print(f\"Warning: Empty mask in {mask_path}\")\n",
    "            return 0, 0, 0, 0\n",
    "            \n",
    "        rows = np.any(mask_array, axis=1)\n",
    "        cols = np.any(mask_array, axis=0)\n",
    "        \n",
    "        ymin, ymax = np.where(rows)[0][[0, -1]]\n",
    "        xmin, xmax = np.where(cols)[0][[0, -1]]\n",
    "        \n",
    "        if visualize:\n",
    "            fig, ax = plt.subplots(1, 2, figsize=(10, 5))\n",
    "            ax[0].imshow(img)\n",
    "            ax[0].set_title(\"Original Image\")\n",
    "            ax[1].imshow(mask_array)\n",
    "            rect = plt.Rectangle((xmin, ymin), xmax-xmin, ymax-ymin, \n",
    "                               linewidth=1, edgecolor='r', facecolor='none')\n",
    "            ax[1].add_patch(rect)\n",
    "            ax[1].set_title(\"Mask with Bounding Box\")\n",
    "            plt.show()\n",
    "        \n",
    "        return xmin, xmax, ymin, ymax\n",
    "        \n",
    "    except Exception as e:\n",
    "        print(f\"Error processing {img_path}: {str(e)}\")\n",
    "        return 0, 0, 0, 0\n",
    "\n",
    "def mask_to_bbox(mask):\n",
    "    \"\"\"Convert binary mask to COCO-style bounding box [x,y,width,height]\"\"\"\n",
    "    # Handle 3D mask by taking first channel if needed\n",
    "    if len(mask.shape) == 3:\n",
    "        mask = mask[0] if mask.shape[0] == 1 else mask\n",
    "    \n",
    "    rows = np.any(mask, axis=1)\n",
    "    cols = np.any(mask, axis=0)\n",
    "    \n",
    "    if not np.any(rows) or not np.any(cols):\n",
    "        return [0, 0, 0, 0]  # Return empty bbox if no True values\n",
    "    \n",
    "    ymin, ymax = np.where(rows)[0][[0, -1]]\n",
    "    xmin, xmax = np.where(cols)[0][[0, -1]]\n",
    "    \n",
    "    return [int(xmin), int(ymin), int(xmax-xmin), int(ymax-ymin)]\n",
    "\n",
    "def evaluate_product_category(category_name, image_mask_pairs):\n",
    "    \"\"\"Evaluate SAM2 performance on one product category\"\"\"\n",
    "    print(f\"\\nEvaluating {category_name}...\")\n",
    "    \n",
    "    if not image_mask_pairs or len(image_mask_pairs) < 2:\n",
    "        print(\"Error: Need at least 2 image-mask pairs for evaluation\")\n",
    "        return None\n",
    "    \n",
    "    # Use first image-mask pair as reference\n",
    "    first_img, first_mask = image_mask_pairs[0]\n",
    "    print(f\"Using reference image: {os.path.basename(first_img)}\")\n",
    "    print(f\"Using reference mask: {os.path.basename(first_mask)}\")\n",
    "    \n",
    "    xmin, xmax, ymin, ymax = process_img_png_mask(first_img, first_mask)\n",
    "    print(f\"Reference bounding box: x=[{xmin},{xmax}], y=[{ymin},{ymax}]\")\n",
    "    \n",
    "    coco_gt = {\"images\": [], \"annotations\": [], \"categories\": [{\"id\": 1, \"name\": \"product\"}]}\n",
    "    coco_dt = []\n",
    "    \n",
    "    for i, (img_path, mask_path) in enumerate(image_mask_pairs[1:]):\n",
    "        print(f\"\\nProcessing image {i+1}/{len(image_mask_pairs)-1}: {os.path.basename(img_path)}\")\n",
    "        \n",
    "        try:\n",
    "            # Process ground truth\n",
    "            gt_mask = np.array(Image.open(mask_path))\n",
    "            gt_bbox = mask_to_bbox(gt_mask)\n",
    "            print(f\"Ground truth bbox: {gt_bbox}\")\n",
    "            \n",
    "            # Add to COCO ground truth\n",
    "            image_id = i+1\n",
    "            coco_gt[\"images\"].append({\"id\": image_id, \"file_name\": img_path})\n",
    "            \n",
    "            rle = cocomask.encode(np.asfortranarray(gt_mask))\n",
    "            rle['counts'] = rle['counts'].decode('ascii')\n",
    "            \n",
    "            coco_gt[\"annotations\"].append({\n",
    "                \"id\": image_id,\n",
    "                \"image_id\": image_id,\n",
    "                \"category_id\": 1,\n",
    "                \"bbox\": gt_bbox,\n",
    "                \"area\": int(gt_bbox[2] * gt_bbox[3]),\n",
    "                \"iscrowd\": 0,\n",
    "                \"segmentation\": rle\n",
    "            })\n",
    "            \n",
    "            # Get SAM2 prediction\n",
    "            video_segments = track_item_boxes(first_img, img_path, [([xmin, xmax, ymin, ymax], 1)], False)\n",
    "            \n",
    "            if not video_segments or 1 not in video_segments:\n",
    "                print(\"Warning: No valid segments found in frame 1\")\n",
    "                continue\n",
    "                \n",
    "            # Get the prediction mask\n",
    "            pred_mask = video_segments[1][1]  # Frame 1, Object ID 1\n",
    "            \n",
    "            # Convert mask to correct format if needed\n",
    "            if len(pred_mask.shape) == 3:\n",
    "                pred_mask = pred_mask[0] if pred_mask.shape[0] == 1 else pred_mask\n",
    "            \n",
    "            pred_bbox = mask_to_bbox(pred_mask)\n",
    "            print(f\"Predicted bbox: {pred_bbox}\")\n",
    "            \n",
    "            # Skip if prediction is empty\n",
    "            if pred_bbox == [0, 0, 0, 0]:\n",
    "                print(\"Warning: Empty prediction - skipping\")\n",
    "                continue\n",
    "                \n",
    "            # Convert prediction to COCO format\n",
    "            pred_rle = cocomask.encode(np.asfortranarray(pred_mask.astype(np.uint8)))\n",
    "            pred_rle['counts'] = pred_rle['counts'].decode('ascii')\n",
    "            \n",
    "            coco_dt.append({\n",
    "                \"image_id\": image_id,\n",
    "                \"category_id\": 1,\n",
    "                \"bbox\": pred_bbox,\n",
    "                \"score\": 1.0,\n",
    "                \"segmentation\": pred_rle\n",
    "            })\n",
    "            \n",
    "        except Exception as e:\n",
    "            print(f\"Error processing {img_path}: {str(e)}\")\n",
    "            continue\n",
    "    \n",
    "    if not coco_dt:\n",
    "        print(\"Error: No valid predictions generated!\")\n",
    "        return None\n",
    "    \n",
    "    try:\n",
    "        coco_gt_obj = COCO()\n",
    "        coco_gt_obj.dataset = coco_gt\n",
    "        coco_gt_obj.createIndex()\n",
    "        \n",
    "        coco_dt_obj = coco_gt_obj.loadRes(coco_dt)\n",
    "        coco_eval = COCOeval(coco_gt_obj, coco_dt_obj, 'bbox')\n",
    "        coco_eval.evaluate()\n",
    "        coco_eval.accumulate()\n",
    "        coco_eval.summarize()\n",
    "        \n",
    "        return coco_eval.stats\n",
    "        \n",
    "    except Exception as e:\n",
    "        print(f\"Error in COCO evaluation: {str(e)}\")\n",
    "        return None\n",
    "    \n",
    "def main():\n",
    "    data_dir = r\"C:\\Users\\dell\\Desktop\\Assignment\\CMU10_3D\\data_2D\"\n",
    "    \n",
    "    # Group files by category\n",
    "    category_dict = group_files_by_category(data_dir)\n",
    "    \n",
    "    # Evaluate each category\n",
    "    results = {}\n",
    "    for category, files in category_dict.items():\n",
    "        # Create image-mask pairs\n",
    "        image_mask_pairs = []\n",
    "        for img in files['images']:\n",
    "            base_name = os.path.splitext(os.path.basename(img))[0]\n",
    "            masks = [mask for (img_path, mask) in files['masks'] \n",
    "                    if base_name in os.path.basename(mask)]\n",
    "            \n",
    "            if masks:\n",
    "                image_mask_pairs.append((img, masks[0]))  # Using first mask\n",
    "        \n",
    "        if len(image_mask_pairs) < 2:\n",
    "            print(f\"Skipping {category} - needs at least 2 images with masks\")\n",
    "            continue\n",
    "            \n",
    "        stats = evaluate_product_category(category, image_mask_pairs)\n",
    "        \n",
    "        if stats is not None:\n",
    "            results[category] = {\n",
    "                \"AP\": stats[0],  # AP @ IoU=0.50:0.95\n",
    "                \"AP50\": stats[1],  # AP @ IoU=0.50\n",
    "                \"AP75\": stats[2],  # AP @ IoU=0.75\n",
    "                \"AR\": stats[8]     # AR @ maxDets=100\n",
    "            }\n",
    "    \n",
    "    # Print results\n",
    "    print(\"\\n=== Final Results ===\")\n",
    "    for product, metrics in results.items():\n",
    "        print(f\"\\n{product}:\")\n",
    "        print(f\"  AP: {metrics['AP']:.3f}\")\n",
    "        print(f\"  AP50: {metrics['AP50']:.3f}\")\n",
    "        print(f\"  AP75: {metrics['AP75']:.3f}\")\n",
    "        print(f\"  AR: {metrics['AR']:.3f}\")\n",
    "\n",
    "if __name__ == \"__main__\":\n",
    "    main()"
   ]
  },
  {
   "cell_type": "code",
   "execution_count": null,
   "id": "dda21592",
   "metadata": {},
   "outputs": [],
   "source": []
  },
  {
   "cell_type": "code",
   "execution_count": 12,
   "id": "7ffcd5d1",
   "metadata": {},
   "outputs": [
    {
     "name": "stdout",
     "output_type": "stream",
     "text": [
      "Results saved to rice_tuscan_results.txt\n",
      "\n",
      "=== Final Results ===\n"
     ]
    }
   ],
   "source": [
    "import os\n",
    "import glob\n",
    "import shutil\n",
    "import numpy as np\n",
    "from PIL import Image\n",
    "import matplotlib.pyplot as plt\n",
    "import matplotlib.patches as patches\n",
    "from pycocotools import mask as cocomask\n",
    "from pycocotools.coco import COCO\n",
    "from pycocotools.cocoeval import COCOeval\n",
    "from collections import defaultdict\n",
    "import torch\n",
    "from sam2.build_sam import build_sam2\n",
    "from sam2.automatic_mask_generator import SAM2AutomaticMaskGenerator\n",
    "from sam2.sam2_image_predictor import SAM2ImagePredictor\n",
    "from sam2.build_sam import build_sam2_video_predictor\n",
    "from IPython.display import clear_output\n",
    "import sys\n",
    "import warnings\n",
    "\n",
    "# Suppress warnings and limit output\n",
    "warnings.filterwarnings('ignore')\n",
    "\n",
    "# SAM2 model setup\n",
    "checkpoint = r\"C:\\Users\\dell\\Desktop\\Assignment\\sam2_hiera_tiny.pt\"\n",
    "model_cfg = r\"C:\\Users\\dell\\Desktop\\Assignment\\sam2\\configs\\sam2\\sam2_hiera_t.yaml\"\n",
    "\n",
    "# Initialize SAM2 components\n",
    "predictor_prompt = SAM2ImagePredictor(build_sam2(model_cfg, checkpoint, device='cpu'))\n",
    "sam2 = build_sam2(model_cfg, checkpoint, device='cpu', apply_postprocessing=False)\n",
    "mask_generator = SAM2AutomaticMaskGenerator(sam2)\n",
    "predictor_vid = build_sam2_video_predictor(model_cfg, checkpoint, device='cpu')\n",
    "\n",
    "# Temporary directory for processing\n",
    "tempfolder = \"./tempdir\"\n",
    "\n",
    "def create_if_not_exists(dirname):\n",
    "    if not os.path.exists(dirname):\n",
    "        os.mkdir(dirname)\n",
    "\n",
    "def cleardir(tempfolder):\n",
    "    filepaths = glob.glob(tempfolder+\"/*\")\n",
    "    for filepath in filepaths:\n",
    "        os.unlink(filepath)\n",
    "\n",
    "def show_mask(mask, ax, obj_id=None, random_color=False):\n",
    "    if random_color:\n",
    "        color = np.concatenate([np.random.random(3), np.array([0.6])], axis=0)\n",
    "    else:\n",
    "        cmap = plt.get_cmap(\"tab10\")\n",
    "        cmap_idx = 0 if obj_id is None else obj_id\n",
    "        color = np.array([*cmap(cmap_idx)[:3], 0.6])\n",
    "    h, w = mask.shape[-2:]\n",
    "    mask_image = mask.reshape(h, w, 1) * color.reshape(1, 1, -1)\n",
    "    ax.imshow(mask_image)\n",
    "\n",
    "def track_item_boxes(imgpath1, imgpath2, img1boxclasslist, visualize=True):\n",
    "    \"\"\"Enhanced tracking with padding and better error handling\"\"\"\n",
    "    try:\n",
    "        create_if_not_exists(tempfolder)\n",
    "        cleardir(tempfolder)\n",
    "        \n",
    "        # Load and verify images\n",
    "        img1 = Image.open(imgpath1)\n",
    "        img2 = Image.open(imgpath2)\n",
    "        if img1.size != img2.size:\n",
    "            img2 = img2.resize(img1.size)\n",
    "        \n",
    "        img1.save(os.path.join(tempfolder, \"00000.jpg\"))\n",
    "        img2.save(os.path.join(tempfolder, \"00001.jpg\"))\n",
    "        \n",
    "        inference_state = predictor_vid.init_state(video_path=\"./tempdir\")\n",
    "        predictor_vid.reset_state(inference_state)\n",
    "        \n",
    "        # Process boxes with padding\n",
    "        for ([xmin, xmax, ymin, ymax], obj_id) in img1boxclasslist:\n",
    "            # Add 10% padding to the bounding box\n",
    "            width, height = img1.size\n",
    "            pad_x = int(0.1 * (xmax - xmin))\n",
    "            pad_y = int(0.1 * (ymax - ymin))\n",
    "            \n",
    "            xmin = max(0, xmin - pad_x)\n",
    "            xmax = min(width, xmax + pad_x)\n",
    "            ymin = max(0, ymin - pad_y)\n",
    "            ymax = min(height, ymax + pad_y)\n",
    "            \n",
    "            box = np.array([xmin, ymin, xmax, ymax], dtype=np.float32)\n",
    "            _, out_obj_ids, _ = predictor_vid.add_new_points_or_box(\n",
    "                inference_state=inference_state,\n",
    "                frame_idx=0,\n",
    "                obj_id=obj_id,\n",
    "                box=box,\n",
    "            )\n",
    "        \n",
    "        # Get predictions with threshold adjustment\n",
    "        video_segments = {}\n",
    "        for out_frame_idx, out_obj_ids, out_mask_logits in predictor_vid.propagate_in_video(inference_state):\n",
    "            video_segments[out_frame_idx] = {\n",
    "                obj_id: (out_mask_logits[i] > 0.5).cpu().numpy().astype(bool)\n",
    "                for i, obj_id in enumerate(out_obj_ids)\n",
    "            }\n",
    "        \n",
    "        if visualize:\n",
    "            fig, ax = plt.subplots()\n",
    "            plt.title(f\"Original image object\")\n",
    "            ax.imshow(img1)\n",
    "            rect = patches.Rectangle((xmin, ymin), xmax-xmin, ymax-ymin,\n",
    "                                   linewidth=1, edgecolor='r', facecolor='none')\n",
    "            ax.add_patch(rect)\n",
    "            plt.show()\n",
    "            \n",
    "            plt.figure(figsize=(6, 4))\n",
    "            plt.title(f\"Detected object in test image\")\n",
    "            plt.imshow(img2)\n",
    "            if 1 in video_segments:\n",
    "                for out_obj_id, out_mask in video_segments[1].items():\n",
    "                    show_mask(out_mask, plt.gca(), obj_id=out_obj_id)\n",
    "            plt.show()\n",
    "        \n",
    "        return video_segments\n",
    "        \n",
    "    except Exception as e:\n",
    "        print(f\"Tracking error: {str(e)}\")\n",
    "        return None\n",
    "\n",
    "def extract_category_from_filename(filename):\n",
    "    \"\"\"Extract category name from filename\"\"\"\n",
    "    return '_'.join(os.path.basename(filename).split('_')[:-1])\n",
    "\n",
    "def group_files_by_category(data_dir):\n",
    "    \"\"\"Group image and mask files by their product category\"\"\"\n",
    "    image_files = glob.glob(os.path.join(data_dir, \"*.jpg\"))\n",
    "    mask_files = glob.glob(os.path.join(data_dir, \"*_gt.png\"))\n",
    "    \n",
    "    category_dict = defaultdict(lambda: {'images': [], 'masks': []})\n",
    "    \n",
    "    for img in image_files:\n",
    "        category = extract_category_from_filename(img)\n",
    "        category_dict[category]['images'].append(img)\n",
    "    \n",
    "    for mask in mask_files:\n",
    "        base_name = '_'.join(os.path.basename(mask).split('_')[:-2])\n",
    "        category = extract_category_from_filename(base_name + '.jpg')\n",
    "        \n",
    "        matching_images = [img for img in category_dict[category]['images'] \n",
    "                         if base_name in img]\n",
    "        \n",
    "        for img in matching_images:\n",
    "            category_dict[category]['masks'].append((img, mask))\n",
    "    \n",
    "    return category_dict\n",
    "\n",
    "def process_img_png_mask(img_path, mask_path, visualize=False):\n",
    "    \"\"\"Extract bounding box coordinates from mask\"\"\"\n",
    "    try:\n",
    "        img = Image.open(img_path)\n",
    "        mask = Image.open(mask_path)\n",
    "        mask_array = np.array(mask)\n",
    "        \n",
    "        if mask_array.size == 0:\n",
    "            print(f\"Warning: Empty mask in {mask_path}\")\n",
    "            return 0, 0, 0, 0\n",
    "            \n",
    "        rows = np.any(mask_array, axis=1)\n",
    "        cols = np.any(mask_array, axis=0)\n",
    "        \n",
    "        ymin, ymax = np.where(rows)[0][[0, -1]]\n",
    "        xmin, xmax = np.where(cols)[0][[0, -1]]\n",
    "        \n",
    "        if visualize:\n",
    "            fig, ax = plt.subplots(1, 2, figsize=(10, 5))\n",
    "            ax[0].imshow(img)\n",
    "            ax[0].set_title(\"Original Image\")\n",
    "            ax[1].imshow(mask_array)\n",
    "            rect = plt.Rectangle((xmin, ymin), xmax-xmin, ymax-ymin, \n",
    "                               linewidth=1, edgecolor='r', facecolor='none')\n",
    "            ax[1].add_patch(rect)\n",
    "            ax[1].set_title(\"Mask with Bounding Box\")\n",
    "            plt.show()\n",
    "        \n",
    "        return xmin, xmax, ymin, ymax\n",
    "        \n",
    "    except Exception as e:\n",
    "        print(f\"Error processing {img_path}: {str(e)}\")\n",
    "        return 0, 0, 0, 0\n",
    "\n",
    "def mask_to_bbox(mask):\n",
    "    \"\"\"Improved mask to bbox conversion with better handling\"\"\"\n",
    "    # Handle 3D mask by taking first channel if needed\n",
    "    if len(mask.shape) == 3:\n",
    "        mask = mask[0] if mask.shape[0] == 1 else mask\n",
    "    \n",
    "    rows = np.any(mask, axis=1)\n",
    "    cols = np.any(mask, axis=0)\n",
    "    \n",
    "    if not np.any(rows) or not np.any(cols):\n",
    "        return [0, 0, 0, 0]  # Return empty bbox if no True values\n",
    "    \n",
    "    ymin, ymax = np.where(rows)[0][[0, -1]]\n",
    "    xmin, xmax = np.where(cols)[0][[0, -1]]\n",
    "    \n",
    "    return [int(xmin), int(ymin), int(xmax-xmin), int(ymax-ymin)]\n",
    "\n",
    "def evaluate_product_category(category_name, image_mask_pairs, max_display=10):\n",
    "    \"\"\"Enhanced evaluation with output management\"\"\"\n",
    "    print(f\"\\nEvaluating {category_name} (showing first {max_display} outputs)...\")\n",
    "    \n",
    "    if not image_mask_pairs or len(image_mask_pairs) < 2:\n",
    "        print(\"Error: Need at least 2 image-mask pairs for evaluation\")\n",
    "        return None\n",
    "    \n",
    "    # Use first image-mask pair as reference\n",
    "    first_img, first_mask = image_mask_pairs[0]\n",
    "    print(f\"Using reference image: {os.path.basename(first_img)}\")\n",
    "    print(f\"Using reference mask: {os.path.basename(first_mask)}\")\n",
    "    \n",
    "    xmin, xmax, ymin, ymax = process_img_png_mask(first_img, first_mask)\n",
    "    print(f\"Reference bounding box: x=[{xmin},{xmax}], y=[{ymin},{ymax}]\")\n",
    "    \n",
    "    coco_gt = {\"images\": [], \"annotations\": [], \"categories\": [{\"id\": 1, \"name\": \"product\"}]}\n",
    "    coco_dt = []\n",
    "    \n",
    "    for i, (img_path, mask_path) in enumerate(image_mask_pairs[1:]):\n",
    "        if i >= max_display:  # Only show first N outputs\n",
    "            clear_output(wait=True)\n",
    "            print(f\"Processing {len(image_mask_pairs)-1} images, showing first {max_display}...\")\n",
    "            break\n",
    "            \n",
    "        print(f\"\\nProcessing image {i+1}/{len(image_mask_pairs)-1}: {os.path.basename(img_path)}\")\n",
    "        \n",
    "        try:\n",
    "            # Process ground truth\n",
    "            gt_mask = np.array(Image.open(mask_path))\n",
    "            gt_bbox = mask_to_bbox(gt_mask)\n",
    "            print(f\"Ground truth bbox: {gt_bbox}\")\n",
    "            \n",
    "            # Add to COCO ground truth\n",
    "            image_id = i+1\n",
    "            coco_gt[\"images\"].append({\"id\": image_id, \"file_name\": img_path})\n",
    "            \n",
    "            rle = cocomask.encode(np.asfortranarray(gt_mask))\n",
    "            rle['counts'] = rle['counts'].decode('ascii')\n",
    "            \n",
    "            coco_gt[\"annotations\"].append({\n",
    "                \"id\": image_id,\n",
    "                \"image_id\": image_id,\n",
    "                \"category_id\": 1,\n",
    "                \"bbox\": gt_bbox,\n",
    "                \"area\": int(gt_bbox[2] * gt_bbox[3]),\n",
    "                \"iscrowd\": 0,\n",
    "                \"segmentation\": rle\n",
    "            })\n",
    "            \n",
    "            # Get SAM2 prediction\n",
    "            video_segments = track_item_boxes(first_img, img_path, [([xmin, xmax, ymin, ymax], 1)], False)\n",
    "            \n",
    "            if not video_segments or 1 not in video_segments:\n",
    "                print(\"Warning: No valid segments found in frame 1\")\n",
    "                continue\n",
    "                \n",
    "            # Get the prediction mask\n",
    "            pred_mask = video_segments[1][1]  # Frame 1, Object ID 1\n",
    "            \n",
    "            # Convert mask to correct format if needed\n",
    "            if len(pred_mask.shape) == 3:\n",
    "                pred_mask = pred_mask[0] if pred_mask.shape[0] == 1 else pred_mask\n",
    "            \n",
    "            pred_bbox = mask_to_bbox(pred_mask)\n",
    "            print(f\"Predicted bbox: {pred_bbox}\")\n",
    "            \n",
    "            # Skip if prediction is empty\n",
    "            if pred_bbox == [0, 0, 0, 0]:\n",
    "                print(\"Warning: Empty prediction - skipping\")\n",
    "                continue\n",
    "                \n",
    "            # Convert prediction to COCO format\n",
    "            pred_rle = cocomask.encode(np.asfortranarray(pred_mask.astype(np.uint8)))\n",
    "            pred_rle['counts'] = pred_rle['counts'].decode('ascii')\n",
    "            \n",
    "            coco_dt.append({\n",
    "                \"image_id\": image_id,\n",
    "                \"category_id\": 1,\n",
    "                \"bbox\": pred_bbox,\n",
    "                \"score\": 1.0,\n",
    "                \"segmentation\": pred_rle\n",
    "            })\n",
    "            \n",
    "        except Exception as e:\n",
    "            print(f\"Error processing {img_path}: {str(e)}\")\n",
    "            continue\n",
    "    \n",
    "    if not coco_dt:\n",
    "        print(\"Error: No valid predictions generated!\")\n",
    "        return None\n",
    "    \n",
    "    try:\n",
    "        coco_gt_obj = COCO()\n",
    "        coco_gt_obj.dataset = coco_gt\n",
    "        coco_gt_obj.createIndex()\n",
    "        \n",
    "        coco_dt_obj = coco_gt_obj.loadRes(coco_dt)\n",
    "        coco_eval = COCOeval(coco_gt_obj, coco_dt_obj, 'bbox')\n",
    "        coco_eval.evaluate()\n",
    "        coco_eval.accumulate()\n",
    "        coco_eval.summarize()\n",
    "        \n",
    "        return coco_eval.stats\n",
    "        \n",
    "    except Exception as e:\n",
    "        print(f\"Error in COCO evaluation: {str(e)}\")\n",
    "        return None\n",
    "\n",
    "def main():\n",
    "    data_dir = r\"C:\\Users\\dell\\Desktop\\Assignment\\CMU10_3D\\data_2D\"\n",
    "    \n",
    "    # Group files by category\n",
    "    category_dict = group_files_by_category(data_dir)\n",
    "    \n",
    "    # Evaluate each category\n",
    "    results = {}\n",
    "    for category, files in category_dict.items():\n",
    "        # Create image-mask pairs\n",
    "        image_mask_pairs = []\n",
    "        for img in files['images']:\n",
    "            base_name = os.path.splitext(os.path.basename(img))[0]\n",
    "            masks = [mask for (img_path, mask) in files['masks'] \n",
    "                    if base_name in os.path.basename(mask)]\n",
    "            \n",
    "            if masks:\n",
    "                image_mask_pairs.append((img, masks[0]))  # Using first mask\n",
    "        \n",
    "        if len(image_mask_pairs) < 2:\n",
    "            print(f\"Skipping {category} - needs at least 2 images with masks\")\n",
    "            continue\n",
    "            \n",
    "        # Save output to file\n",
    "        output_file = f\"{category}_results.txt\"\n",
    "        with open(output_file, 'w') as f:\n",
    "            original_stdout = sys.stdout\n",
    "            sys.stdout = f\n",
    "            \n",
    "            stats = evaluate_product_category(category, image_mask_pairs)\n",
    "            \n",
    "            sys.stdout = original_stdout\n",
    "            print(f\"Results saved to {output_file}\")\n",
    "        \n",
    "        if stats is not None:\n",
    "            results[category] = {\n",
    "                \"AP\": stats[0],  # AP @ IoU=0.50:0.95\n",
    "                \"AP50\": stats[1],  # AP @ IoU=0.50\n",
    "                \"AP75\": stats[2],  # AP @ IoU=0.75\n",
    "                \"AR\": stats[8]     # AR @ maxDets=100\n",
    "            }\n",
    "    \n",
    "    # Print final results\n",
    "    print(\"\\n=== Final Results ===\")\n",
    "    for product, metrics in results.items():\n",
    "        print(f\"\\n{product}:\")\n",
    "        print(f\"  AP: {metrics['AP']:.3f}\")\n",
    "        print(f\"  AP50: {metrics['AP50']:.3f}\")\n",
    "        print(f\"  AP75: {metrics['AP75']:.3f}\")\n",
    "        print(f\"  AR: {metrics['AR']:.3f}\")\n",
    "\n",
    "if __name__ == \"__main__\":\n",
    "    main()"
   ]
  },
  {
   "cell_type": "code",
   "execution_count": null,
   "id": "4e90173a",
   "metadata": {},
   "outputs": [],
   "source": []
  },
  {
   "cell_type": "code",
   "execution_count": 13,
   "id": "178ca243",
   "metadata": {},
   "outputs": [
    {
     "name": "stdout",
     "output_type": "stream",
     "text": [
      "Results saved to rice_tuscan_results.txt\n",
      "\n",
      "=== Final Results ===\n",
      "\n",
      "can_chowder:\n",
      "  AP: 0.198\n",
      "  AP50: 0.257\n",
      "  AP75: 0.257\n",
      "  AR: 0.250\n",
      "\n",
      "can_soymilk:\n",
      "  AP: 0.087\n",
      "  AP50: 0.109\n",
      "  AP75: 0.109\n",
      "  AR: 0.080\n",
      "\n",
      "can_tomatosoup:\n",
      "  AP: 0.128\n",
      "  AP50: 0.142\n",
      "  AP75: 0.142\n",
      "  AR: 0.180\n",
      "\n",
      "carton_oj:\n",
      "  AP: 0.000\n",
      "  AP50: 0.000\n",
      "  AP75: 0.000\n",
      "  AR: 0.000\n",
      "\n",
      "carton_soymilk:\n",
      "  AP: 0.289\n",
      "  AP50: 0.693\n",
      "  AP75: 0.022\n",
      "  AR: 0.330\n",
      "\n",
      "diet_coke:\n",
      "  AP: 0.347\n",
      "  AP50: 0.505\n",
      "  AP75: 0.366\n",
      "  AR: 0.380\n",
      "\n",
      "hc_potroastsoup:\n",
      "  AP: 0.298\n",
      "  AP50: 0.590\n",
      "  AP75: 0.230\n",
      "  AR: 0.320\n",
      "\n",
      "juicebox:\n",
      "  AP: 0.136\n",
      "  AP50: 0.234\n",
      "  AP75: 0.083\n",
      "  AR: 0.200\n",
      "\n",
      "ricepilaf:\n",
      "  AP: 0.044\n",
      "  AP50: 0.054\n",
      "  AP75: 0.054\n",
      "  AR: 0.080\n",
      "\n",
      "rice_tuscan:\n",
      "  AP: 0.106\n",
      "  AP50: 0.149\n",
      "  AP75: 0.109\n",
      "  AR: 0.110\n"
     ]
    }
   ],
   "source": [
    "import os\n",
    "import glob\n",
    "import shutil\n",
    "import numpy as np\n",
    "from PIL import Image\n",
    "import matplotlib.pyplot as plt\n",
    "import matplotlib.patches as patches\n",
    "from pycocotools import mask as cocomask\n",
    "from pycocotools.coco import COCO\n",
    "from pycocotools.cocoeval import COCOeval\n",
    "from collections import defaultdict\n",
    "import torch\n",
    "from sam2.build_sam import build_sam2\n",
    "from sam2.automatic_mask_generator import SAM2AutomaticMaskGenerator\n",
    "from sam2.sam2_image_predictor import SAM2ImagePredictor\n",
    "from sam2.build_sam import build_sam2_video_predictor\n",
    "from IPython.display import clear_output\n",
    "import sys\n",
    "import warnings\n",
    "from io import StringIO\n",
    "\n",
    "# Suppress warnings and limit output\n",
    "warnings.filterwarnings('ignore')\n",
    "\n",
    "# SAM2 model setup\n",
    "checkpoint = r\"C:\\Users\\dell\\Desktop\\Assignment\\sam2_hiera_tiny.pt\"\n",
    "model_cfg = r\"C:\\Users\\dell\\Desktop\\Assignment\\sam2\\configs\\sam2\\sam2_hiera_t.yaml\"\n",
    "\n",
    "# Initialize SAM2 components\n",
    "predictor_prompt = SAM2ImagePredictor(build_sam2(model_cfg, checkpoint, device='cpu'))\n",
    "sam2 = build_sam2(model_cfg, checkpoint, device='cpu', apply_postprocessing=False)\n",
    "mask_generator = SAM2AutomaticMaskGenerator(sam2)\n",
    "predictor_vid = build_sam2_video_predictor(model_cfg, checkpoint, device='cpu')\n",
    "\n",
    "# Temporary directory for processing\n",
    "tempfolder = \"./tempdir\"\n",
    "\n",
    "def create_if_not_exists(dirname):\n",
    "    if not os.path.exists(dirname):\n",
    "        os.mkdir(dirname)\n",
    "\n",
    "def cleardir(tempfolder):\n",
    "    filepaths = glob.glob(tempfolder+\"/*\")\n",
    "    for filepath in filepaths:\n",
    "        os.unlink(filepath)\n",
    "\n",
    "def show_mask(mask, ax, obj_id=None, random_color=False):\n",
    "    if random_color:\n",
    "        color = np.concatenate([np.random.random(3), np.array([0.6])], axis=0)\n",
    "    else:\n",
    "        cmap = plt.get_cmap(\"tab10\")\n",
    "        cmap_idx = 0 if obj_id is None else obj_id\n",
    "        color = np.array([*cmap(cmap_idx)[:3], 0.6])\n",
    "    h, w = mask.shape[-2:]\n",
    "    mask_image = mask.reshape(h, w, 1) * color.reshape(1, 1, -1)\n",
    "    ax.imshow(mask_image)\n",
    "\n",
    "def track_item_boxes(imgpath1, imgpath2, img1boxclasslist, visualize=True):\n",
    "    \"\"\"Enhanced tracking with padding and better error handling\"\"\"\n",
    "    try:\n",
    "        create_if_not_exists(tempfolder)\n",
    "        cleardir(tempfolder)\n",
    "        \n",
    "        # Load and verify images\n",
    "        img1 = Image.open(imgpath1)\n",
    "        img2 = Image.open(imgpath2)\n",
    "        if img1.size != img2.size:\n",
    "            img2 = img2.resize(img1.size)\n",
    "        \n",
    "        img1.save(os.path.join(tempfolder, \"00000.jpg\"))\n",
    "        img2.save(os.path.join(tempfolder, \"00001.jpg\"))\n",
    "        \n",
    "        inference_state = predictor_vid.init_state(video_path=\"./tempdir\")\n",
    "        predictor_vid.reset_state(inference_state)\n",
    "        \n",
    "        # Process boxes with padding\n",
    "        for ([xmin, xmax, ymin, ymax], obj_id) in img1boxclasslist:\n",
    "            # Add 10% padding to the bounding box\n",
    "            width, height = img1.size\n",
    "            pad_x = int(0.1 * (xmax - xmin))\n",
    "            pad_y = int(0.1 * (ymax - ymin))\n",
    "            \n",
    "            xmin = max(0, xmin - pad_x)\n",
    "            xmax = min(width, xmax + pad_x)\n",
    "            ymin = max(0, ymin - pad_y)\n",
    "            ymax = min(height, ymax + pad_y)\n",
    "            \n",
    "            box = np.array([xmin, ymin, xmax, ymax], dtype=np.float32)\n",
    "            _, out_obj_ids, _ = predictor_vid.add_new_points_or_box(\n",
    "                inference_state=inference_state,\n",
    "                frame_idx=0,\n",
    "                obj_id=obj_id,\n",
    "                box=box,\n",
    "            )\n",
    "        \n",
    "        # Get predictions with threshold adjustment\n",
    "        video_segments = {}\n",
    "        for out_frame_idx, out_obj_ids, out_mask_logits in predictor_vid.propagate_in_video(inference_state):\n",
    "            video_segments[out_frame_idx] = {\n",
    "                obj_id: (out_mask_logits[i] > 0.5).cpu().numpy().astype(bool)\n",
    "                for i, obj_id in enumerate(out_obj_ids)\n",
    "            }\n",
    "        \n",
    "        if visualize:\n",
    "            fig, ax = plt.subplots()\n",
    "            plt.title(f\"Original image object\")\n",
    "            ax.imshow(img1)\n",
    "            rect = patches.Rectangle((xmin, ymin), xmax-xmin, ymax-ymin,\n",
    "                                   linewidth=1, edgecolor='r', facecolor='none')\n",
    "            ax.add_patch(rect)\n",
    "            plt.show()\n",
    "            \n",
    "            plt.figure(figsize=(6, 4))\n",
    "            plt.title(f\"Detected object in test image\")\n",
    "            plt.imshow(img2)\n",
    "            if 1 in video_segments:\n",
    "                for out_obj_id, out_mask in video_segments[1].items():\n",
    "                    show_mask(out_mask, plt.gca(), obj_id=out_obj_id)\n",
    "            plt.show()\n",
    "        \n",
    "        return video_segments\n",
    "        \n",
    "    except Exception as e:\n",
    "        print(f\"Tracking error: {str(e)}\")\n",
    "        return None\n",
    "\n",
    "def extract_category_from_filename(filename):\n",
    "    \"\"\"Extract category name from filename\"\"\"\n",
    "    return '_'.join(os.path.basename(filename).split('_')[:-1])\n",
    "\n",
    "def group_files_by_category(data_dir):\n",
    "    \"\"\"Group image and mask files by their product category\"\"\"\n",
    "    image_files = glob.glob(os.path.join(data_dir, \"*.jpg\"))\n",
    "    mask_files = glob.glob(os.path.join(data_dir, \"*_gt.png\"))\n",
    "    \n",
    "    category_dict = defaultdict(lambda: {'images': [], 'masks': []})\n",
    "    \n",
    "    for img in image_files:\n",
    "        category = extract_category_from_filename(img)\n",
    "        category_dict[category]['images'].append(img)\n",
    "    \n",
    "    for mask in mask_files:\n",
    "        base_name = '_'.join(os.path.basename(mask).split('_')[:-2])\n",
    "        category = extract_category_from_filename(base_name + '.jpg')\n",
    "        \n",
    "        matching_images = [img for img in category_dict[category]['images'] \n",
    "                         if base_name in img]\n",
    "        \n",
    "        for img in matching_images:\n",
    "            category_dict[category]['masks'].append((img, mask))\n",
    "    \n",
    "    return category_dict\n",
    "\n",
    "def process_img_png_mask(img_path, mask_path, visualize=False):\n",
    "    \"\"\"Extract bounding box coordinates from mask\"\"\"\n",
    "    try:\n",
    "        img = Image.open(img_path)\n",
    "        mask = Image.open(mask_path)\n",
    "        mask_array = np.array(mask)\n",
    "        \n",
    "        if mask_array.size == 0:\n",
    "            print(f\"Warning: Empty mask in {mask_path}\")\n",
    "            return 0, 0, 0, 0\n",
    "            \n",
    "        rows = np.any(mask_array, axis=1)\n",
    "        cols = np.any(mask_array, axis=0)\n",
    "        \n",
    "        ymin, ymax = np.where(rows)[0][[0, -1]]\n",
    "        xmin, xmax = np.where(cols)[0][[0, -1]]\n",
    "        \n",
    "        if visualize:\n",
    "            fig, ax = plt.subplots(1, 2, figsize=(10, 5))\n",
    "            ax[0].imshow(img)\n",
    "            ax[0].set_title(\"Original Image\")\n",
    "            ax[1].imshow(mask_array)\n",
    "            rect = plt.Rectangle((xmin, ymin), xmax-xmin, ymax-ymin, \n",
    "                               linewidth=1, edgecolor='r', facecolor='none')\n",
    "            ax[1].add_patch(rect)\n",
    "            ax[1].set_title(\"Mask with Bounding Box\")\n",
    "            plt.show()\n",
    "        \n",
    "        return xmin, xmax, ymin, ymax\n",
    "        \n",
    "    except Exception as e:\n",
    "        print(f\"Error processing {img_path}: {str(e)}\")\n",
    "        return 0, 0, 0, 0\n",
    "\n",
    "def mask_to_bbox(mask):\n",
    "    \"\"\"Improved mask to bbox conversion with better handling\"\"\"\n",
    "    # Handle 3D mask by taking first channel if needed\n",
    "    if len(mask.shape) == 3:\n",
    "        mask = mask[0] if mask.shape[0] == 1 else mask\n",
    "    \n",
    "    rows = np.any(mask, axis=1)\n",
    "    cols = np.any(mask, axis=0)\n",
    "    \n",
    "    if not np.any(rows) or not np.any(cols):\n",
    "        return [0, 0, 0, 0]  # Return empty bbox if no True values\n",
    "    \n",
    "    ymin, ymax = np.where(rows)[0][[0, -1]]\n",
    "    xmin, xmax = np.where(cols)[0][[0, -1]]\n",
    "    \n",
    "    return [int(xmin), int(ymin), int(xmax-xmin), int(ymax-ymin)]\n",
    "\n",
    "def evaluate_product_category(category_name, image_mask_pairs, max_display=10):\n",
    "    \"\"\"Fixed evaluation with proper COCO format and output handling\"\"\"\n",
    "    print(f\"\\nEvaluating {category_name} (showing first {max_display} outputs)...\")\n",
    "    \n",
    "    if not image_mask_pairs or len(image_mask_pairs) < 2:\n",
    "        print(\"Error: Need at least 2 image-mask pairs for evaluation\")\n",
    "        return None\n",
    "    \n",
    "    # Initialize COCO ground truth with all required fields\n",
    "    coco_gt = {\n",
    "        \"info\": {\n",
    "            \"description\": f\"{category_name} product detection\",\n",
    "            \"version\": \"1.0\",\n",
    "            \"year\": 2023,\n",
    "            \"contributor\": \"User\",\n",
    "            \"date_created\": \"2023-01-01\"\n",
    "        },\n",
    "        \"licenses\": [{\n",
    "            \"id\": 1,\n",
    "            \"name\": \"Academic\",\n",
    "            \"url\": \"\"\n",
    "        }],\n",
    "        \"images\": [],\n",
    "        \"annotations\": [],\n",
    "        \"categories\": [{\n",
    "            \"id\": 1,\n",
    "            \"name\": \"product\",\n",
    "            \"supercategory\": \"object\"\n",
    "        }]\n",
    "    }\n",
    "    \n",
    "    # Use first image-mask pair as reference\n",
    "    first_img, first_mask = image_mask_pairs[0]\n",
    "    print(f\"Using reference image: {os.path.basename(first_img)}\")\n",
    "    print(f\"Using reference mask: {os.path.basename(first_mask)}\")\n",
    "    \n",
    "    xmin, xmax, ymin, ymax = process_img_png_mask(first_img, first_mask)\n",
    "    print(f\"Reference bounding box: x=[{xmin},{xmax}], y=[{ymin},{ymax}]\")\n",
    "    \n",
    "    coco_dt = []\n",
    "    \n",
    "    for i, (img_path, mask_path) in enumerate(image_mask_pairs[1:]):\n",
    "        if i >= max_display:  # Only show first N outputs\n",
    "            clear_output(wait=True)\n",
    "            print(f\"Processing {len(image_mask_pairs)-1} images, showing first {max_display}...\")\n",
    "            break\n",
    "            \n",
    "        print(f\"\\nProcessing image {i+1}/{len(image_mask_pairs)-1}: {os.path.basename(img_path)}\")\n",
    "        \n",
    "        try:\n",
    "            # Process ground truth\n",
    "            gt_mask = np.array(Image.open(mask_path))\n",
    "            gt_bbox = mask_to_bbox(gt_mask)\n",
    "            print(f\"Ground truth bbox: {gt_bbox}\")\n",
    "            \n",
    "            # Add to COCO ground truth\n",
    "            image_id = i+1\n",
    "            coco_gt[\"images\"].append({\n",
    "                \"id\": image_id,\n",
    "                \"width\": gt_mask.shape[1],\n",
    "                \"height\": gt_mask.shape[0],\n",
    "                \"file_name\": img_path\n",
    "            })\n",
    "            \n",
    "            rle = cocomask.encode(np.asfortranarray(gt_mask))\n",
    "            rle['counts'] = rle['counts'].decode('ascii')\n",
    "            \n",
    "            coco_gt[\"annotations\"].append({\n",
    "                \"id\": image_id,\n",
    "                \"image_id\": image_id,\n",
    "                \"category_id\": 1,\n",
    "                \"bbox\": gt_bbox,\n",
    "                \"area\": int(gt_bbox[2] * gt_bbox[3]),\n",
    "                \"iscrowd\": 0,\n",
    "                \"segmentation\": rle\n",
    "            })\n",
    "            \n",
    "            # Get SAM2 prediction\n",
    "            video_segments = track_item_boxes(first_img, img_path, [([xmin, xmax, ymin, ymax], 1)], False)\n",
    "            \n",
    "            if not video_segments or 1 not in video_segments:\n",
    "                print(\"Warning: No valid segments found in frame 1\")\n",
    "                continue\n",
    "                \n",
    "            # Get the prediction mask\n",
    "            pred_mask = video_segments[1][1]  # Frame 1, Object ID 1\n",
    "            \n",
    "            # Convert mask to correct format if needed\n",
    "            if len(pred_mask.shape) == 3:\n",
    "                pred_mask = pred_mask[0] if pred_mask.shape[0] == 1 else pred_mask\n",
    "            \n",
    "            pred_bbox = mask_to_bbox(pred_mask)\n",
    "            print(f\"Predicted bbox: {pred_bbox}\")\n",
    "            \n",
    "            # Skip if prediction is empty\n",
    "            if pred_bbox == [0, 0, 0, 0]:\n",
    "                print(\"Warning: Empty prediction - skipping\")\n",
    "                continue\n",
    "                \n",
    "            # Convert prediction to COCO format\n",
    "            pred_rle = cocomask.encode(np.asfortranarray(pred_mask.astype(np.uint8)))\n",
    "            pred_rle['counts'] = pred_rle['counts'].decode('ascii')\n",
    "            \n",
    "            coco_dt.append({\n",
    "                \"image_id\": image_id,\n",
    "                \"category_id\": 1,\n",
    "                \"bbox\": pred_bbox,\n",
    "                \"score\": 1.0,\n",
    "                \"segmentation\": pred_rle\n",
    "            })\n",
    "            \n",
    "            # Visual inspection for first few images\n",
    "            if i < 3:\n",
    "                plt.figure(figsize=(10,5))\n",
    "                plt.subplot(1,2,1)\n",
    "                plt.imshow(Image.open(img_path))\n",
    "                plt.title(\"Original\")\n",
    "                plt.subplot(1,2,2)\n",
    "                plt.imshow(pred_mask)\n",
    "                plt.title(\"Prediction\")\n",
    "                plt.show()\n",
    "            \n",
    "        except Exception as e:\n",
    "            print(f\"Error processing {img_path}: {str(e)}\")\n",
    "            continue\n",
    "    \n",
    "    if not coco_dt:\n",
    "        print(\"Error: No valid predictions generated!\")\n",
    "        return None\n",
    "    \n",
    "    try:\n",
    "        # Create COCO objects\n",
    "        coco_gt_obj = COCO()\n",
    "        coco_gt_obj.dataset = coco_gt\n",
    "        coco_gt_obj.createIndex()\n",
    "        \n",
    "        coco_dt_obj = coco_gt_obj.loadRes(coco_dt)\n",
    "        \n",
    "        # Initialize COCOeval\n",
    "        coco_eval = COCOeval(coco_gt_obj, coco_dt_obj, 'bbox')\n",
    "        \n",
    "        # Evaluate and accumulate results\n",
    "        coco_eval.evaluate()\n",
    "        coco_eval.accumulate()\n",
    "        \n",
    "        # Capture the summary output\n",
    "        old_stdout = sys.stdout\n",
    "        sys.stdout = mystdout = StringIO()\n",
    "        coco_eval.summarize()\n",
    "        sys.stdout = old_stdout\n",
    "        \n",
    "        # Print the summary\n",
    "        print(mystdout.getvalue())\n",
    "        \n",
    "        return coco_eval.stats\n",
    "        \n",
    "    except Exception as e:\n",
    "        print(f\"Error in COCO evaluation: {str(e)}\")\n",
    "        return None\n",
    "\n",
    "def main():\n",
    "    data_dir = r\"C:\\Users\\dell\\Desktop\\Assignment\\CMU10_3D\\data_2D\"\n",
    "    \n",
    "    # Group files by category\n",
    "    category_dict = group_files_by_category(data_dir)\n",
    "    \n",
    "    # Evaluate each category\n",
    "    results = {}\n",
    "    for category, files in category_dict.items():\n",
    "        # Create image-mask pairs\n",
    "        image_mask_pairs = []\n",
    "        for img in files['images']:\n",
    "            base_name = os.path.splitext(os.path.basename(img))[0]\n",
    "            masks = [mask for (img_path, mask) in files['masks'] \n",
    "                    if base_name in os.path.basename(mask)]\n",
    "            \n",
    "            if masks:\n",
    "                image_mask_pairs.append((img, masks[0]))  # Using first mask\n",
    "        \n",
    "        if len(image_mask_pairs) < 2:\n",
    "            print(f\"Skipping {category} - needs at least 2 images with masks\")\n",
    "            continue\n",
    "            \n",
    "        # Save output to file\n",
    "        output_file = f\"{category}_results.txt\"\n",
    "        with open(output_file, 'w') as f:\n",
    "            original_stdout = sys.stdout\n",
    "            sys.stdout = f\n",
    "            \n",
    "            stats = evaluate_product_category(category, image_mask_pairs)\n",
    "            \n",
    "            sys.stdout = original_stdout\n",
    "            print(f\"Results saved to {output_file}\")\n",
    "        \n",
    "        if stats is not None:\n",
    "            results[category] = {\n",
    "                \"AP\": stats[0],  # AP @ IoU=0.50:0.95\n",
    "                \"AP50\": stats[1],  # AP @ IoU=0.50\n",
    "                \"AP75\": stats[2],  # AP @ IoU=0.75\n",
    "                \"AR\": stats[8]     # AR @ maxDets=100\n",
    "            }\n",
    "    \n",
    "    # Print final results\n",
    "    print(\"\\n=== Final Results ===\")\n",
    "    if not results:\n",
    "        print(\"No valid results generated - check individual category logs\")\n",
    "    else:\n",
    "        for product, metrics in results.items():\n",
    "            print(f\"\\n{product}:\")\n",
    "            print(f\"  AP: {metrics['AP']:.3f}\")\n",
    "            print(f\"  AP50: {metrics['AP50']:.3f}\")\n",
    "            print(f\"  AP75: {metrics['AP75']:.3f}\")\n",
    "            print(f\"  AR: {metrics['AR']:.3f}\")\n",
    "\n",
    "if __name__ == \"__main__\":\n",
    "    main()"
   ]
  },
  {
   "cell_type": "code",
   "execution_count": null,
   "id": "5347d6db",
   "metadata": {},
   "outputs": [],
   "source": []
  },
  {
   "cell_type": "code",
   "execution_count": 14,
   "id": "5454d452",
   "metadata": {},
   "outputs": [
    {
     "name": "stdout",
     "output_type": "stream",
     "text": [
      "Results saved to rice_tuscan_results.txt\n",
      "\n",
      "=== Final Results ===\n",
      "\n",
      "can_chowder:\n",
      "  AP: 0.000\n",
      "  AP50: 0.000\n",
      "  AP75: 0.000\n",
      "  AR: 0.000\n",
      "\n",
      "carton_oj:\n",
      "  AP: 0.028\n",
      "  AP50: 0.069\n",
      "  AP75: 0.036\n",
      "  AR: 0.080\n",
      "\n",
      "carton_soymilk:\n",
      "  AP: 0.156\n",
      "  AP50: 0.437\n",
      "  AP75: 0.000\n",
      "  AR: 0.180\n",
      "\n",
      "diet_coke:\n",
      "  AP: 0.178\n",
      "  AP50: 0.208\n",
      "  AP75: 0.208\n",
      "  AR: 0.170\n",
      "\n",
      "hc_potroastsoup:\n",
      "  AP: 0.000\n",
      "  AP50: 0.000\n",
      "  AP75: 0.000\n",
      "  AR: 0.000\n",
      "\n",
      "ricepilaf:\n",
      "  AP: 0.000\n",
      "  AP50: 0.000\n",
      "  AP75: 0.000\n",
      "  AR: 0.000\n",
      "\n",
      "rice_tuscan:\n",
      "  AP: 0.098\n",
      "  AP50: 0.109\n",
      "  AP75: 0.109\n",
      "  AR: 0.090\n"
     ]
    }
   ],
   "source": [
    "import os\n",
    "import glob\n",
    "import shutil\n",
    "import numpy as np\n",
    "from PIL import Image\n",
    "import matplotlib.pyplot as plt\n",
    "import matplotlib.patches as patches\n",
    "from pycocotools import mask as cocomask\n",
    "from pycocotools.coco import COCO\n",
    "from pycocotools.cocoeval import COCOeval\n",
    "from collections import defaultdict\n",
    "import torch\n",
    "from sam2.build_sam import build_sam2\n",
    "from sam2.automatic_mask_generator import SAM2AutomaticMaskGenerator\n",
    "from sam2.sam2_image_predictor import SAM2ImagePredictor\n",
    "from sam2.build_sam import build_sam2_video_predictor\n",
    "from IPython.display import clear_output\n",
    "import sys\n",
    "import warnings\n",
    "from io import StringIO\n",
    "\n",
    "# Suppress warnings and limit output\n",
    "warnings.filterwarnings('ignore')\n",
    "\n",
    "# SAM2 model setup\n",
    "checkpoint = r\"C:\\Users\\dell\\Desktop\\Assignment\\sam2_hiera_tiny.pt\"\n",
    "model_cfg = r\"C:\\Users\\dell\\Desktop\\Assignment\\sam2\\configs\\sam2\\sam2_hiera_t.yaml\"\n",
    "\n",
    "# Initialize SAM2 components\n",
    "predictor_prompt = SAM2ImagePredictor(build_sam2(model_cfg, checkpoint, device='cpu'))\n",
    "sam2 = build_sam2(model_cfg, checkpoint, device='cpu', apply_postprocessing=False)\n",
    "mask_generator = SAM2AutomaticMaskGenerator(sam2)\n",
    "predictor_vid = build_sam2_video_predictor(model_cfg, checkpoint, device='cpu')\n",
    "\n",
    "# Temporary directory for processing\n",
    "tempfolder = \"./tempdir\"\n",
    "\n",
    "def create_if_not_exists(dirname):\n",
    "    if not os.path.exists(dirname):\n",
    "        os.mkdir(dirname)\n",
    "\n",
    "def cleardir(tempfolder):\n",
    "    filepaths = glob.glob(tempfolder+\"/*\")\n",
    "    for filepath in filepaths:\n",
    "        os.unlink(filepath)\n",
    "\n",
    "def show_mask(mask, ax, obj_id=None, random_color=False):\n",
    "    if random_color:\n",
    "        color = np.concatenate([np.random.random(3), np.array([0.6])], axis=0)\n",
    "    else:\n",
    "        cmap = plt.get_cmap(\"tab10\")\n",
    "        cmap_idx = 0 if obj_id is None else obj_id\n",
    "        color = np.array([*cmap(cmap_idx)[:3], 0.6])\n",
    "    h, w = mask.shape[-2:]\n",
    "    mask_image = mask.reshape(h, w, 1) * color.reshape(1, 1, -1)\n",
    "    ax.imshow(mask_image)\n",
    "\n",
    "TRACKING_THRESHOLD = 0.6  # Increased from 0.5\n",
    "MIN_MASK_COVERAGE = 0.05  # Minimum % of mask coverage to consider valid\n",
    "MAX_PADDING_RATIO = 0.2   # Increased from 0.1\n",
    "\n",
    "def track_item_boxes(imgpath1, imgpath2, img1boxclasslist, visualize=True):\n",
    "    \"\"\"Enhanced tracking with dynamic padding and thresholding\"\"\"\n",
    "    try:\n",
    "        create_if_not_exists(tempfolder)\n",
    "        cleardir(tempfolder)\n",
    "        \n",
    "        img1 = Image.open(imgpath1)\n",
    "        img2 = Image.open(imgpath2)\n",
    "        if img1.size != img2.size:\n",
    "            img2 = img2.resize(img1.size)\n",
    "        \n",
    "        img1.save(os.path.join(tempfolder, \"00000.jpg\"))\n",
    "        img2.save(os.path.join(tempfolder, \"00001.jpg\"))\n",
    "        \n",
    "        inference_state = predictor_vid.init_state(video_path=\"./tempdir\")\n",
    "        predictor_vid.reset_state(inference_state)\n",
    "        \n",
    "        # Dynamic padding based on object size\n",
    "        for ([xmin, xmax, ymin, ymax], obj_id) in img1boxclasslist:\n",
    "            box_width = xmax - xmin\n",
    "            box_height = ymax - ymin\n",
    "            pad_x = min(int(MAX_PADDING_RATIO * box_width), 100)  # Limit padding\n",
    "            pad_y = min(int(MAX_PADDING_RATIO * box_height), 100)\n",
    "            \n",
    "            xmin = max(0, xmin - pad_x)\n",
    "            xmax = min(img1.width, xmax + pad_x)\n",
    "            ymin = max(0, ymin - pad_y)\n",
    "            ymax = min(img1.height, ymax + pad_y)\n",
    "            \n",
    "            box = np.array([xmin, ymin, xmax, ymax], dtype=np.float32)\n",
    "            _, out_obj_ids, _ = predictor_vid.add_new_points_or_box(\n",
    "                inference_state=inference_state,\n",
    "                frame_idx=0,\n",
    "                obj_id=obj_id,\n",
    "                box=box,\n",
    "            )\n",
    "        \n",
    "        # Get predictions with adaptive threshold\n",
    "        video_segments = {}\n",
    "        for out_frame_idx, out_obj_ids, out_mask_logits in predictor_vid.propagate_in_video(inference_state):\n",
    "            video_segments[out_frame_idx] = {\n",
    "                obj_id: (out_mask_logits[i] > TRACKING_THRESHOLD).cpu().numpy().astype(bool)\n",
    "                for i, obj_id in enumerate(out_obj_ids)\n",
    "            }\n",
    "        \n",
    "        return video_segments\n",
    "        \n",
    "    except Exception as e:\n",
    "        print(f\"Tracking error: {str(e)}\")\n",
    "        return None\n",
    "\n",
    "def extract_category_from_filename(filename):\n",
    "    \"\"\"Extract category name from filename\"\"\"\n",
    "    return '_'.join(os.path.basename(filename).split('_')[:-1])\n",
    "\n",
    "def group_files_by_category(data_dir):\n",
    "    \"\"\"Group image and mask files by their product category\"\"\"\n",
    "    image_files = glob.glob(os.path.join(data_dir, \"*.jpg\"))\n",
    "    mask_files = glob.glob(os.path.join(data_dir, \"*_gt.png\"))\n",
    "    \n",
    "    category_dict = defaultdict(lambda: {'images': [], 'masks': []})\n",
    "    \n",
    "    for img in image_files:\n",
    "        category = extract_category_from_filename(img)\n",
    "        category_dict[category]['images'].append(img)\n",
    "    \n",
    "    for mask in mask_files:\n",
    "        base_name = '_'.join(os.path.basename(mask).split('_')[:-2])\n",
    "        category = extract_category_from_filename(base_name + '.jpg')\n",
    "        \n",
    "        matching_images = [img for img in category_dict[category]['images'] \n",
    "                         if base_name in img]\n",
    "        \n",
    "        for img in matching_images:\n",
    "            category_dict[category]['masks'].append((img, mask))\n",
    "    \n",
    "    return category_dict\n",
    "\n",
    "def process_img_png_mask(img_path, mask_path, visualize=False):\n",
    "    \"\"\"Extract bounding box coordinates from mask\"\"\"\n",
    "    try:\n",
    "        img = Image.open(img_path)\n",
    "        mask = Image.open(mask_path)\n",
    "        mask_array = np.array(mask)\n",
    "        \n",
    "        if mask_array.size == 0:\n",
    "            print(f\"Warning: Empty mask in {mask_path}\")\n",
    "            return 0, 0, 0, 0\n",
    "            \n",
    "        rows = np.any(mask_array, axis=1)\n",
    "        cols = np.any(mask_array, axis=0)\n",
    "        \n",
    "        ymin, ymax = np.where(rows)[0][[0, -1]]\n",
    "        xmin, xmax = np.where(cols)[0][[0, -1]]\n",
    "        \n",
    "        if visualize:\n",
    "            fig, ax = plt.subplots(1, 2, figsize=(10, 5))\n",
    "            ax[0].imshow(img)\n",
    "            ax[0].set_title(\"Original Image\")\n",
    "            ax[1].imshow(mask_array)\n",
    "            rect = plt.Rectangle((xmin, ymin), xmax-xmin, ymax-ymin, \n",
    "                               linewidth=1, edgecolor='r', facecolor='none')\n",
    "            ax[1].add_patch(rect)\n",
    "            ax[1].set_title(\"Mask with Bounding Box\")\n",
    "            plt.show()\n",
    "        \n",
    "        return xmin, xmax, ymin, ymax\n",
    "        \n",
    "    except Exception as e:\n",
    "        print(f\"Error processing {img_path}: {str(e)}\")\n",
    "        return 0, 0, 0, 0\n",
    "\n",
    "def mask_to_bbox(mask):\n",
    "    \"\"\"Improved mask to bbox conversion with better handling\"\"\"\n",
    "    # Handle 3D mask by taking first channel if needed\n",
    "    if len(mask.shape) == 3:\n",
    "        mask = mask[0] if mask.shape[0] == 1 else mask\n",
    "    \n",
    "    rows = np.any(mask, axis=1)\n",
    "    cols = np.any(mask, axis=0)\n",
    "    \n",
    "    if not np.any(rows) or not np.any(cols):\n",
    "        return [0, 0, 0, 0]  # Return empty bbox if no True values\n",
    "    \n",
    "    ymin, ymax = np.where(rows)[0][[0, -1]]\n",
    "    xmin, xmax = np.where(cols)[0][[0, -1]]\n",
    "    \n",
    "    return [int(xmin), int(ymin), int(xmax-xmin), int(ymax-ymin)]\n",
    "\n",
    "def evaluate_product_category(category_name, image_mask_pairs, max_display=10):\n",
    "    \"\"\"Fixed evaluation with proper COCO format and output handling\"\"\"\n",
    "    print(f\"\\nEvaluating {category_name} (showing first {max_display} outputs)...\")\n",
    "    \n",
    "    if not image_mask_pairs or len(image_mask_pairs) < 2:\n",
    "        print(\"Error: Need at least 2 image-mask pairs for evaluation\")\n",
    "        return None\n",
    "    \n",
    "    # Initialize COCO ground truth with all required fields\n",
    "    coco_gt = {\n",
    "        \"info\": {\n",
    "            \"description\": f\"{category_name} product detection\",\n",
    "            \"version\": \"1.0\",\n",
    "            \"year\": 2023,\n",
    "            \"contributor\": \"User\",\n",
    "            \"date_created\": \"2023-01-01\"\n",
    "        },\n",
    "        \"licenses\": [{\n",
    "            \"id\": 1,\n",
    "            \"name\": \"Academic\",\n",
    "            \"url\": \"\"\n",
    "        }],\n",
    "        \"images\": [],\n",
    "        \"annotations\": [],\n",
    "        \"categories\": [{\n",
    "            \"id\": 1,\n",
    "            \"name\": \"product\",\n",
    "            \"supercategory\": \"object\"\n",
    "        }]\n",
    "    }\n",
    "    \n",
    "    # Use first image-mask pair as reference\n",
    "    first_img, first_mask = image_mask_pairs[0]\n",
    "    print(f\"Using reference image: {os.path.basename(first_img)}\")\n",
    "    print(f\"Using reference mask: {os.path.basename(first_mask)}\")\n",
    "    \n",
    "    xmin, xmax, ymin, ymax = process_img_png_mask(first_img, first_mask)\n",
    "    print(f\"Reference bounding box: x=[{xmin},{xmax}], y=[{ymin},{ymax}]\")\n",
    "    \n",
    "    coco_dt = []\n",
    "    \n",
    "    for i, (img_path, mask_path) in enumerate(image_mask_pairs[1:]):\n",
    "        if i >= max_display:  # Only show first N outputs\n",
    "            clear_output(wait=True)\n",
    "            print(f\"Processing {len(image_mask_pairs)-1} images, showing first {max_display}...\")\n",
    "            break\n",
    "            \n",
    "        print(f\"\\nProcessing image {i+1}/{len(image_mask_pairs)-1}: {os.path.basename(img_path)}\")\n",
    "        \n",
    "        try:\n",
    "            # Process ground truth\n",
    "            gt_mask = np.array(Image.open(mask_path))\n",
    "            gt_bbox = mask_to_bbox(gt_mask)\n",
    "            print(f\"Ground truth bbox: {gt_bbox}\")\n",
    "            \n",
    "            # Add to COCO ground truth\n",
    "            image_id = i+1\n",
    "            coco_gt[\"images\"].append({\n",
    "                \"id\": image_id,\n",
    "                \"width\": gt_mask.shape[1],\n",
    "                \"height\": gt_mask.shape[0],\n",
    "                \"file_name\": img_path\n",
    "            })\n",
    "            \n",
    "            rle = cocomask.encode(np.asfortranarray(gt_mask))\n",
    "            rle['counts'] = rle['counts'].decode('ascii')\n",
    "            \n",
    "            coco_gt[\"annotations\"].append({\n",
    "                \"id\": image_id,\n",
    "                \"image_id\": image_id,\n",
    "                \"category_id\": 1,\n",
    "                \"bbox\": gt_bbox,\n",
    "                \"area\": int(gt_bbox[2] * gt_bbox[3]),\n",
    "                \"iscrowd\": 0,\n",
    "                \"segmentation\": rle\n",
    "            })\n",
    "            \n",
    "            # Get SAM2 prediction\n",
    "            best_pred = None\n",
    "            for attempt in range(2):  # Try up to 2 different parameter sets\n",
    "                video_segments = track_item_boxes(\n",
    "                    first_img, img_path, \n",
    "                    [([xmin, xmax, ymin, ymax], 1)], \n",
    "                    visualize=(attempt==0 and i<3)\n",
    "                )\n",
    "                \n",
    "                if not video_segments or 1 not in video_segments:\n",
    "                    continue\n",
    "                    \n",
    "                pred_mask = video_segments[1][1]\n",
    "                if len(pred_mask.shape) == 3:\n",
    "                    pred_mask = pred_mask[0] if pred_mask.shape[0] == 1 else pred_mask\n",
    "                \n",
    "                coverage = np.mean(pred_mask)\n",
    "                if coverage < MIN_MASK_COVERAGE:\n",
    "                    print(f\"Low coverage ({coverage:.2%}), retrying with adjusted parameters\")\n",
    "                    global TRACKING_THRESHOLD\n",
    "                    TRACKING_THRESHOLD = max(0.3, TRACKING_THRESHOLD - 0.1)  # Lower threshold\n",
    "                    continue\n",
    "                \n",
    "                best_pred = pred_mask\n",
    "                break\n",
    "            \n",
    "            if best_pred is None:\n",
    "                print(\"Warning: No valid prediction after retries\")\n",
    "                continue\n",
    "                \n",
    "            pred_bbox = mask_to_bbox(best_pred)\n",
    "            coverage = np.mean(best_pred)\n",
    "            print(f\"Predicted bbox: {pred_bbox}, Coverage: {coverage:.1%}\")\n",
    "            \n",
    "            if coverage < MIN_MASK_COVERAGE:\n",
    "                print(\"Warning: Insufficient coverage - skipping\")\n",
    "                continue\n",
    "            \n",
    "            # Skip if prediction is empty\n",
    "            if pred_bbox == [0, 0, 0, 0]:\n",
    "                print(\"Warning: Empty prediction - skipping\")\n",
    "                continue\n",
    "                \n",
    "            # Convert prediction to COCO format\n",
    "            pred_rle = cocomask.encode(np.asfortranarray(pred_mask.astype(np.uint8)))\n",
    "            pred_rle['counts'] = pred_rle['counts'].decode('ascii')\n",
    "            \n",
    "            coco_dt.append({\n",
    "                \"image_id\": image_id,\n",
    "                \"category_id\": 1,\n",
    "                \"bbox\": pred_bbox,\n",
    "                \"score\": 1.0,\n",
    "                \"segmentation\": pred_rle\n",
    "            })\n",
    "            \n",
    "            # Visual inspection for first few images\n",
    "            if i < 3:\n",
    "                plt.figure(figsize=(10,5))\n",
    "                plt.subplot(1,2,1)\n",
    "                plt.imshow(Image.open(img_path))\n",
    "                plt.title(\"Original\")\n",
    "                plt.subplot(1,2,2)\n",
    "                plt.imshow(pred_mask)\n",
    "                plt.title(\"Prediction\")\n",
    "                plt.show()\n",
    "            \n",
    "        except Exception as e:\n",
    "            print(f\"Error processing {img_path}: {str(e)}\")\n",
    "            continue\n",
    "    \n",
    "    if not coco_dt:\n",
    "        print(\"Error: No valid predictions generated!\")\n",
    "        return None\n",
    "    \n",
    "    try:\n",
    "        # Create COCO objects\n",
    "        coco_gt_obj = COCO()\n",
    "        coco_gt_obj.dataset = coco_gt\n",
    "        coco_gt_obj.createIndex()\n",
    "        \n",
    "        coco_dt_obj = coco_gt_obj.loadRes(coco_dt)\n",
    "        \n",
    "        # Initialize COCOeval\n",
    "        coco_eval = COCOeval(coco_gt_obj, coco_dt_obj, 'bbox')\n",
    "        \n",
    "        # Evaluate and accumulate results\n",
    "        coco_eval.evaluate()\n",
    "        coco_eval.accumulate()\n",
    "        \n",
    "        # Capture the summary output\n",
    "        old_stdout = sys.stdout\n",
    "        sys.stdout = mystdout = StringIO()\n",
    "        coco_eval.summarize()\n",
    "        sys.stdout = old_stdout\n",
    "        \n",
    "        # Print the summary\n",
    "        print(mystdout.getvalue())\n",
    "        \n",
    "        return coco_eval.stats\n",
    "        \n",
    "    except Exception as e:\n",
    "        print(f\"Error in COCO evaluation: {str(e)}\")\n",
    "        return None\n",
    "\n",
    "def main():\n",
    "    data_dir = r\"C:\\Users\\dell\\Desktop\\Assignment\\CMU10_3D\\data_2D\"\n",
    "    \n",
    "    # Group files by category\n",
    "    category_dict = group_files_by_category(data_dir)\n",
    "    \n",
    "    # Evaluate each category\n",
    "    results = {}\n",
    "    for category, files in category_dict.items():\n",
    "        # Create image-mask pairs\n",
    "        image_mask_pairs = []\n",
    "        for img in files['images']:\n",
    "            base_name = os.path.splitext(os.path.basename(img))[0]\n",
    "            masks = [mask for (img_path, mask) in files['masks'] \n",
    "                    if base_name in os.path.basename(mask)]\n",
    "            \n",
    "            if masks:\n",
    "                image_mask_pairs.append((img, masks[0]))  # Using first mask\n",
    "        \n",
    "        if len(image_mask_pairs) < 2:\n",
    "            print(f\"Skipping {category} - needs at least 2 images with masks\")\n",
    "            continue\n",
    "            \n",
    "        # Save output to file\n",
    "        output_file = f\"{category}_results.txt\"\n",
    "        with open(output_file, 'w') as f:\n",
    "            original_stdout = sys.stdout\n",
    "            sys.stdout = f\n",
    "            \n",
    "            stats = evaluate_product_category(category, image_mask_pairs)\n",
    "            \n",
    "            sys.stdout = original_stdout\n",
    "            print(f\"Results saved to {output_file}\")\n",
    "        \n",
    "        if stats is not None:\n",
    "            results[category] = {\n",
    "                \"AP\": stats[0],  # AP @ IoU=0.50:0.95\n",
    "                \"AP50\": stats[1],  # AP @ IoU=0.50\n",
    "                \"AP75\": stats[2],  # AP @ IoU=0.75\n",
    "                \"AR\": stats[8]     # AR @ maxDets=100\n",
    "            }\n",
    "    \n",
    "    # Print final results\n",
    "    print(\"\\n=== Final Results ===\")\n",
    "    if not results:\n",
    "        print(\"No valid results generated - check individual category logs\")\n",
    "    else:\n",
    "        for product, metrics in results.items():\n",
    "            print(f\"\\n{product}:\")\n",
    "            print(f\"  AP: {metrics['AP']:.3f}\")\n",
    "            print(f\"  AP50: {metrics['AP50']:.3f}\")\n",
    "            print(f\"  AP75: {metrics['AP75']:.3f}\")\n",
    "            print(f\"  AR: {metrics['AR']:.3f}\")\n",
    "\n",
    "if __name__ == \"__main__\":\n",
    "    main()"
   ]
  }
 ],
 "metadata": {
  "kernelspec": {
   "display_name": "Python 3",
   "language": "python",
   "name": "python3"
  },
  "language_info": {
   "codemirror_mode": {
    "name": "ipython",
    "version": 3
   },
   "file_extension": ".py",
   "mimetype": "text/x-python",
   "name": "python",
   "nbconvert_exporter": "python",
   "pygments_lexer": "ipython3",
   "version": "3.13.3"
  }
 },
 "nbformat": 4,
 "nbformat_minor": 5
}
